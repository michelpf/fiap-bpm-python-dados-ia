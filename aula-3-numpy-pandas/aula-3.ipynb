{
 "cells": [
  {
   "cell_type": "markdown",
   "metadata": {},
   "source": [
    "# Aula 3: Matrizes e introdução a dados"
   ]
  },
  {
   "cell_type": "markdown",
   "metadata": {},
   "source": [
    "## Numpy\n",
    "Arrays e matrizes."
   ]
  },
  {
   "cell_type": "markdown",
   "metadata": {},
   "source": [
    "### Criando Arrays"
   ]
  },
  {
   "cell_type": "code",
   "execution_count": 1,
   "metadata": {
    "collapsed": true
   },
   "outputs": [],
   "source": [
    "import numpy as np"
   ]
  },
  {
   "cell_type": "markdown",
   "metadata": {},
   "source": [
    "Criando arrays a partir de listas."
   ]
  },
  {
   "cell_type": "code",
   "execution_count": 2,
   "metadata": {
    "collapsed": true
   },
   "outputs": [],
   "source": [
    "lista_1 = [1, 2, 3, 4, 5]"
   ]
  },
  {
   "cell_type": "code",
   "execution_count": 3,
   "metadata": {
    "collapsed": true
   },
   "outputs": [],
   "source": [
    "lista_2 = [10, 11, 12, 13, 14]"
   ]
  },
  {
   "cell_type": "code",
   "execution_count": 4,
   "metadata": {
    "collapsed": true
   },
   "outputs": [],
   "source": [
    "np_array_1 = np.array(lista_1)"
   ]
  },
  {
   "cell_type": "code",
   "execution_count": 5,
   "metadata": {},
   "outputs": [
    {
     "data": {
      "text/plain": [
       "array([1, 2, 3, 4, 5])"
      ]
     },
     "execution_count": 5,
     "metadata": {},
     "output_type": "execute_result"
    }
   ],
   "source": [
    "np_array_1"
   ]
  },
  {
   "cell_type": "code",
   "execution_count": 6,
   "metadata": {},
   "outputs": [
    {
     "data": {
      "text/plain": [
       "(5,)"
      ]
     },
     "execution_count": 6,
     "metadata": {},
     "output_type": "execute_result"
    }
   ],
   "source": [
    "np_array_1.shape"
   ]
  },
  {
   "cell_type": "code",
   "execution_count": 7,
   "metadata": {},
   "outputs": [
    {
     "data": {
      "text/plain": [
       "dtype('int64')"
      ]
     },
     "execution_count": 7,
     "metadata": {},
     "output_type": "execute_result"
    }
   ],
   "source": [
    "np_array_1.dtype"
   ]
  },
  {
   "cell_type": "code",
   "execution_count": 8,
   "metadata": {
    "collapsed": true
   },
   "outputs": [],
   "source": [
    "lista_3 = [lista_1, lista_2]"
   ]
  },
  {
   "cell_type": "code",
   "execution_count": 9,
   "metadata": {},
   "outputs": [
    {
     "data": {
      "text/plain": [
       "[[1, 2, 3, 4, 5], [10, 11, 12, 13, 14]]"
      ]
     },
     "execution_count": 9,
     "metadata": {},
     "output_type": "execute_result"
    }
   ],
   "source": [
    "lista_3"
   ]
  },
  {
   "cell_type": "code",
   "execution_count": 10,
   "metadata": {
    "collapsed": true
   },
   "outputs": [],
   "source": [
    "np_array_2 = np.array(lista_3)"
   ]
  },
  {
   "cell_type": "code",
   "execution_count": 11,
   "metadata": {},
   "outputs": [
    {
     "data": {
      "text/plain": [
       "array([[ 1,  2,  3,  4,  5],\n",
       "       [10, 11, 12, 13, 14]])"
      ]
     },
     "execution_count": 11,
     "metadata": {},
     "output_type": "execute_result"
    }
   ],
   "source": [
    "np_array_2"
   ]
  },
  {
   "cell_type": "code",
   "execution_count": 12,
   "metadata": {},
   "outputs": [
    {
     "data": {
      "text/plain": [
       "(2, 5)"
      ]
     },
     "execution_count": 12,
     "metadata": {},
     "output_type": "execute_result"
    }
   ],
   "source": [
    "np_array_2.shape"
   ]
  },
  {
   "cell_type": "code",
   "execution_count": 13,
   "metadata": {},
   "outputs": [
    {
     "data": {
      "text/plain": [
       "dtype('int64')"
      ]
     },
     "execution_count": 13,
     "metadata": {},
     "output_type": "execute_result"
    }
   ],
   "source": [
    "np_array_2.dtype"
   ]
  },
  {
   "cell_type": "markdown",
   "metadata": {},
   "source": [
    "Criando arrays a partir de estruturas pré-definidas."
   ]
  },
  {
   "cell_type": "code",
   "execution_count": 14,
   "metadata": {
    "collapsed": true
   },
   "outputs": [],
   "source": [
    "matriz_zeros = np.zeros(10)"
   ]
  },
  {
   "cell_type": "code",
   "execution_count": 15,
   "metadata": {},
   "outputs": [
    {
     "data": {
      "text/plain": [
       "array([ 0.,  0.,  0.,  0.,  0.,  0.,  0.,  0.,  0.,  0.])"
      ]
     },
     "execution_count": 15,
     "metadata": {},
     "output_type": "execute_result"
    }
   ],
   "source": [
    "matriz_zeros"
   ]
  },
  {
   "cell_type": "code",
   "execution_count": 16,
   "metadata": {
    "collapsed": true
   },
   "outputs": [],
   "source": [
    "matriz_zeros_2 = np.zeros([4, 2])"
   ]
  },
  {
   "cell_type": "code",
   "execution_count": 17,
   "metadata": {},
   "outputs": [
    {
     "data": {
      "text/plain": [
       "array([[ 0.,  0.],\n",
       "       [ 0.,  0.],\n",
       "       [ 0.,  0.],\n",
       "       [ 0.,  0.]])"
      ]
     },
     "execution_count": 17,
     "metadata": {},
     "output_type": "execute_result"
    }
   ],
   "source": [
    "matriz_zeros_2"
   ]
  },
  {
   "cell_type": "code",
   "execution_count": 18,
   "metadata": {
    "collapsed": true
   },
   "outputs": [],
   "source": [
    "matriz_uns_1 = np.ones([2,3])"
   ]
  },
  {
   "cell_type": "code",
   "execution_count": 19,
   "metadata": {},
   "outputs": [
    {
     "data": {
      "text/plain": [
       "array([[ 1.,  1.,  1.],\n",
       "       [ 1.,  1.,  1.]])"
      ]
     },
     "execution_count": 19,
     "metadata": {},
     "output_type": "execute_result"
    }
   ],
   "source": [
    "matriz_uns_1"
   ]
  },
  {
   "cell_type": "code",
   "execution_count": 20,
   "metadata": {
    "collapsed": true
   },
   "outputs": [],
   "source": [
    "matriz_vazia = np.empty([2, 3])"
   ]
  },
  {
   "cell_type": "code",
   "execution_count": 21,
   "metadata": {},
   "outputs": [
    {
     "data": {
      "text/plain": [
       "array([[ 0.,  0.,  0.],\n",
       "       [ 0.,  0.,  0.]])"
      ]
     },
     "execution_count": 21,
     "metadata": {},
     "output_type": "execute_result"
    }
   ],
   "source": [
    "matriz_vazia"
   ]
  },
  {
   "cell_type": "markdown",
   "metadata": {},
   "source": [
    "Matriz identidade"
   ]
  },
  {
   "cell_type": "code",
   "execution_count": 22,
   "metadata": {
    "collapsed": true
   },
   "outputs": [],
   "source": [
    "matriz_id = np.eye(5)"
   ]
  },
  {
   "cell_type": "code",
   "execution_count": 23,
   "metadata": {},
   "outputs": [
    {
     "data": {
      "text/plain": [
       "array([[ 1.,  0.,  0.,  0.,  0.],\n",
       "       [ 0.,  1.,  0.,  0.,  0.],\n",
       "       [ 0.,  0.,  1.,  0.,  0.],\n",
       "       [ 0.,  0.,  0.,  1.,  0.],\n",
       "       [ 0.,  0.,  0.,  0.,  1.]])"
      ]
     },
     "execution_count": 23,
     "metadata": {},
     "output_type": "execute_result"
    }
   ],
   "source": [
    "matriz_id"
   ]
  },
  {
   "cell_type": "code",
   "execution_count": 24,
   "metadata": {},
   "outputs": [
    {
     "data": {
      "text/plain": [
       "array([0, 1, 2, 3, 4, 5, 6, 7])"
      ]
     },
     "execution_count": 24,
     "metadata": {},
     "output_type": "execute_result"
    }
   ],
   "source": [
    "np.arange(8)"
   ]
  },
  {
   "cell_type": "markdown",
   "metadata": {},
   "source": [
    "Sintaxe, primeiro parâmetro o início, depois o fim e por último o passo."
   ]
  },
  {
   "cell_type": "code",
   "execution_count": 25,
   "metadata": {},
   "outputs": [
    {
     "data": {
      "text/plain": [
       "array([10, 14, 18])"
      ]
     },
     "execution_count": 25,
     "metadata": {},
     "output_type": "execute_result"
    }
   ],
   "source": [
    "np.arange(10, 20, 4)"
   ]
  },
  {
   "cell_type": "code",
   "execution_count": 26,
   "metadata": {},
   "outputs": [
    {
     "data": {
      "text/plain": [
       "array([1, 2, 3, 4])"
      ]
     },
     "execution_count": 26,
     "metadata": {},
     "output_type": "execute_result"
    }
   ],
   "source": [
    "np.arange(1, 5)"
   ]
  },
  {
   "cell_type": "markdown",
   "metadata": {},
   "source": [
    "### Escalares"
   ]
  },
  {
   "cell_type": "code",
   "execution_count": 27,
   "metadata": {
    "collapsed": true
   },
   "outputs": [],
   "source": [
    "array_1 = np.array([[10, 20, 30, 40], [1, 2, 3, 4]])\n",
    "array_2 = np.array([[50, 60, 70, 80],[5, 6, 7, 8]])"
   ]
  },
  {
   "cell_type": "code",
   "execution_count": 28,
   "metadata": {},
   "outputs": [
    {
     "data": {
      "text/plain": [
       "array([[ 500, 1200, 2100, 3200],\n",
       "       [   5,   12,   21,   32]])"
      ]
     },
     "execution_count": 28,
     "metadata": {},
     "output_type": "execute_result"
    }
   ],
   "source": [
    "array_1 * array_2"
   ]
  },
  {
   "cell_type": "code",
   "execution_count": 29,
   "metadata": {},
   "outputs": [
    {
     "data": {
      "text/plain": [
       "array([[ 60,  80, 100, 120],\n",
       "       [  6,   8,  10,  12]])"
      ]
     },
     "execution_count": 29,
     "metadata": {},
     "output_type": "execute_result"
    }
   ],
   "source": [
    "array_1 + array_2"
   ]
  },
  {
   "cell_type": "code",
   "execution_count": 30,
   "metadata": {},
   "outputs": [
    {
     "data": {
      "text/plain": [
       "array([[-40, -40, -40, -40],\n",
       "       [ -4,  -4,  -4,  -4]])"
      ]
     },
     "execution_count": 30,
     "metadata": {},
     "output_type": "execute_result"
    }
   ],
   "source": [
    "array_1 - array_2"
   ]
  },
  {
   "cell_type": "code",
   "execution_count": 31,
   "metadata": {},
   "outputs": [
    {
     "data": {
      "text/plain": [
       "array([[ 3.16227766,  4.47213595,  5.47722558,  6.32455532],\n",
       "       [ 1.        ,  1.41421356,  1.73205081,  2.        ]])"
      ]
     },
     "execution_count": 31,
     "metadata": {},
     "output_type": "execute_result"
    }
   ],
   "source": [
    "array_1**(0.5)"
   ]
  },
  {
   "cell_type": "code",
   "execution_count": 32,
   "metadata": {},
   "outputs": [
    {
     "data": {
      "text/plain": [
       "array([[ 0.02      ,  0.01666667,  0.01428571,  0.0125    ],\n",
       "       [ 0.2       ,  0.16666667,  0.14285714,  0.125     ]])"
      ]
     },
     "execution_count": 32,
     "metadata": {},
     "output_type": "execute_result"
    }
   ],
   "source": [
    "1 / array_2"
   ]
  },
  {
   "cell_type": "markdown",
   "metadata": {},
   "source": [
    "### Índices"
   ]
  },
  {
   "cell_type": "code",
   "execution_count": 33,
   "metadata": {
    "collapsed": true
   },
   "outputs": [],
   "source": [
    "array = np.arange(0, 11)"
   ]
  },
  {
   "cell_type": "code",
   "execution_count": 34,
   "metadata": {},
   "outputs": [
    {
     "data": {
      "text/plain": [
       "array([ 0,  1,  2,  3,  4,  5,  6,  7,  8,  9, 10])"
      ]
     },
     "execution_count": 34,
     "metadata": {},
     "output_type": "execute_result"
    }
   ],
   "source": [
    "array"
   ]
  },
  {
   "cell_type": "code",
   "execution_count": 35,
   "metadata": {},
   "outputs": [
    {
     "data": {
      "text/plain": [
       "2"
      ]
     },
     "execution_count": 35,
     "metadata": {},
     "output_type": "execute_result"
    }
   ],
   "source": [
    "array[2]"
   ]
  },
  {
   "cell_type": "markdown",
   "metadata": {},
   "source": [
    "Retorna a lista do índice 1, os arrays sempre começam com o índice 0, até o índice 5."
   ]
  },
  {
   "cell_type": "code",
   "execution_count": 36,
   "metadata": {},
   "outputs": [
    {
     "data": {
      "text/plain": [
       "array([1, 2, 3, 4, 5])"
      ]
     },
     "execution_count": 36,
     "metadata": {},
     "output_type": "execute_result"
    }
   ],
   "source": [
    "array[1:6]"
   ]
  },
  {
   "cell_type": "code",
   "execution_count": 37,
   "metadata": {},
   "outputs": [
    {
     "data": {
      "text/plain": [
       "array([0, 1, 2, 3])"
      ]
     },
     "execution_count": 37,
     "metadata": {},
     "output_type": "execute_result"
    }
   ],
   "source": [
    "array[:4]"
   ]
  },
  {
   "cell_type": "markdown",
   "metadata": {},
   "source": [
    "Definindo valores por índice"
   ]
  },
  {
   "cell_type": "code",
   "execution_count": 38,
   "metadata": {
    "collapsed": true
   },
   "outputs": [],
   "source": [
    "array[1:6] = 99"
   ]
  },
  {
   "cell_type": "code",
   "execution_count": 39,
   "metadata": {},
   "outputs": [
    {
     "data": {
      "text/plain": [
       "array([ 0, 99, 99, 99, 99, 99,  6,  7,  8,  9, 10])"
      ]
     },
     "execution_count": 39,
     "metadata": {},
     "output_type": "execute_result"
    }
   ],
   "source": [
    "array"
   ]
  },
  {
   "cell_type": "markdown",
   "metadata": {},
   "source": [
    "Referências em memórias, cuidado"
   ]
  },
  {
   "cell_type": "code",
   "execution_count": 40,
   "metadata": {
    "collapsed": true
   },
   "outputs": [],
   "source": [
    "slice_array = array[6:]"
   ]
  },
  {
   "cell_type": "code",
   "execution_count": 41,
   "metadata": {},
   "outputs": [
    {
     "data": {
      "text/plain": [
       "array([ 6,  7,  8,  9, 10])"
      ]
     },
     "execution_count": 41,
     "metadata": {},
     "output_type": "execute_result"
    }
   ],
   "source": [
    "slice_array"
   ]
  },
  {
   "cell_type": "code",
   "execution_count": 42,
   "metadata": {
    "collapsed": true
   },
   "outputs": [],
   "source": [
    "slice_array[:] = 100"
   ]
  },
  {
   "cell_type": "code",
   "execution_count": 43,
   "metadata": {},
   "outputs": [
    {
     "data": {
      "text/plain": [
       "array([100, 100, 100, 100, 100])"
      ]
     },
     "execution_count": 43,
     "metadata": {},
     "output_type": "execute_result"
    }
   ],
   "source": [
    "slice_array"
   ]
  },
  {
   "cell_type": "code",
   "execution_count": 44,
   "metadata": {},
   "outputs": [
    {
     "data": {
      "text/plain": [
       "array([  0,  99,  99,  99,  99,  99, 100, 100, 100, 100, 100])"
      ]
     },
     "execution_count": 44,
     "metadata": {},
     "output_type": "execute_result"
    }
   ],
   "source": [
    "array"
   ]
  },
  {
   "cell_type": "markdown",
   "metadata": {},
   "source": [
    "O slice_array estava com a referência em memória de array, mesmo que para uma parte parcial do array."
   ]
  },
  {
   "cell_type": "markdown",
   "metadata": {},
   "source": [
    "Para evitar operações como esta, utilizar o comando copy."
   ]
  },
  {
   "cell_type": "code",
   "execution_count": 45,
   "metadata": {
    "collapsed": true
   },
   "outputs": [],
   "source": [
    "array_copy = array.copy()"
   ]
  },
  {
   "cell_type": "code",
   "execution_count": 46,
   "metadata": {
    "collapsed": true
   },
   "outputs": [],
   "source": [
    "array_copy[:] = 99"
   ]
  },
  {
   "cell_type": "code",
   "execution_count": 47,
   "metadata": {},
   "outputs": [
    {
     "data": {
      "text/plain": [
       "array([99, 99, 99, 99, 99, 99, 99, 99, 99, 99, 99])"
      ]
     },
     "execution_count": 47,
     "metadata": {},
     "output_type": "execute_result"
    }
   ],
   "source": [
    "array_copy"
   ]
  },
  {
   "cell_type": "code",
   "execution_count": 48,
   "metadata": {},
   "outputs": [
    {
     "data": {
      "text/plain": [
       "array([  0,  99,  99,  99,  99,  99, 100, 100, 100, 100, 100])"
      ]
     },
     "execution_count": 48,
     "metadata": {},
     "output_type": "execute_result"
    }
   ],
   "source": [
    "array"
   ]
  },
  {
   "cell_type": "code",
   "execution_count": 49,
   "metadata": {
    "collapsed": true
   },
   "outputs": [],
   "source": [
    "array_2d = np.array(([1,2,3,4,5], [6,7,8,9,10], [11,12,13,14,15]))"
   ]
  },
  {
   "cell_type": "code",
   "execution_count": 50,
   "metadata": {},
   "outputs": [
    {
     "data": {
      "text/plain": [
       "array([[ 1,  2,  3,  4,  5],\n",
       "       [ 6,  7,  8,  9, 10],\n",
       "       [11, 12, 13, 14, 15]])"
      ]
     },
     "execution_count": 50,
     "metadata": {},
     "output_type": "execute_result"
    }
   ],
   "source": [
    "array_2d"
   ]
  },
  {
   "cell_type": "code",
   "execution_count": 51,
   "metadata": {},
   "outputs": [
    {
     "data": {
      "text/plain": [
       "array([ 6,  7,  8,  9, 10])"
      ]
     },
     "execution_count": 51,
     "metadata": {},
     "output_type": "execute_result"
    }
   ],
   "source": [
    "array_2d[1]"
   ]
  },
  {
   "cell_type": "code",
   "execution_count": 52,
   "metadata": {},
   "outputs": [
    {
     "data": {
      "text/plain": [
       "6"
      ]
     },
     "execution_count": 52,
     "metadata": {},
     "output_type": "execute_result"
    }
   ],
   "source": [
    "array_2d[1][0]"
   ]
  },
  {
   "cell_type": "markdown",
   "metadata": {},
   "source": [
    "Obter todos as linhas até a segunda"
   ]
  },
  {
   "cell_type": "code",
   "execution_count": 53,
   "metadata": {},
   "outputs": [
    {
     "data": {
      "text/plain": [
       "array([[ 1,  2,  3,  4,  5],\n",
       "       [ 6,  7,  8,  9, 10]])"
      ]
     },
     "execution_count": 53,
     "metadata": {},
     "output_type": "execute_result"
    }
   ],
   "source": [
    "array_2d[:2]"
   ]
  },
  {
   "cell_type": "markdown",
   "metadata": {},
   "source": [
    "Obter todas as linhas até a segunda e a partir do segundo item"
   ]
  },
  {
   "cell_type": "code",
   "execution_count": 54,
   "metadata": {},
   "outputs": [
    {
     "data": {
      "text/plain": [
       "array([[ 2,  3,  4,  5],\n",
       "       [ 7,  8,  9, 10]])"
      ]
     },
     "execution_count": 54,
     "metadata": {},
     "output_type": "execute_result"
    }
   ],
   "source": [
    "array_2d[:2, 1:]"
   ]
  },
  {
   "cell_type": "markdown",
   "metadata": {},
   "source": [
    "### Transposition"
   ]
  },
  {
   "cell_type": "code",
   "execution_count": 55,
   "metadata": {
    "collapsed": true
   },
   "outputs": [],
   "source": [
    "matriz = np.arange(20).reshape((4,5))"
   ]
  },
  {
   "cell_type": "code",
   "execution_count": 56,
   "metadata": {},
   "outputs": [
    {
     "data": {
      "text/plain": [
       "array([[ 0,  1,  2,  3,  4],\n",
       "       [ 5,  6,  7,  8,  9],\n",
       "       [10, 11, 12, 13, 14],\n",
       "       [15, 16, 17, 18, 19]])"
      ]
     },
     "execution_count": 56,
     "metadata": {},
     "output_type": "execute_result"
    }
   ],
   "source": [
    "matriz"
   ]
  },
  {
   "cell_type": "code",
   "execution_count": 57,
   "metadata": {},
   "outputs": [
    {
     "data": {
      "text/plain": [
       "array([[ 0,  5, 10, 15],\n",
       "       [ 1,  6, 11, 16],\n",
       "       [ 2,  7, 12, 17],\n",
       "       [ 3,  8, 13, 18],\n",
       "       [ 4,  9, 14, 19]])"
      ]
     },
     "execution_count": 57,
     "metadata": {},
     "output_type": "execute_result"
    }
   ],
   "source": [
    "matriz.T"
   ]
  },
  {
   "cell_type": "code",
   "execution_count": 58,
   "metadata": {},
   "outputs": [
    {
     "data": {
      "text/plain": [
       "array([[350, 380, 410, 440, 470],\n",
       "       [380, 414, 448, 482, 516],\n",
       "       [410, 448, 486, 524, 562],\n",
       "       [440, 482, 524, 566, 608],\n",
       "       [470, 516, 562, 608, 654]])"
      ]
     },
     "execution_count": 58,
     "metadata": {},
     "output_type": "execute_result"
    }
   ],
   "source": [
    "np.dot(matriz.T, matriz)"
   ]
  },
  {
   "cell_type": "code",
   "execution_count": 59,
   "metadata": {
    "collapsed": true
   },
   "outputs": [],
   "source": [
    "matriz_3d = np.arange(48).reshape((4,4,3))"
   ]
  },
  {
   "cell_type": "code",
   "execution_count": 60,
   "metadata": {},
   "outputs": [
    {
     "data": {
      "text/plain": [
       "array([[[ 0,  1,  2],\n",
       "        [ 3,  4,  5],\n",
       "        [ 6,  7,  8],\n",
       "        [ 9, 10, 11]],\n",
       "\n",
       "       [[12, 13, 14],\n",
       "        [15, 16, 17],\n",
       "        [18, 19, 20],\n",
       "        [21, 22, 23]],\n",
       "\n",
       "       [[24, 25, 26],\n",
       "        [27, 28, 29],\n",
       "        [30, 31, 32],\n",
       "        [33, 34, 35]],\n",
       "\n",
       "       [[36, 37, 38],\n",
       "        [39, 40, 41],\n",
       "        [42, 43, 44],\n",
       "        [45, 46, 47]]])"
      ]
     },
     "execution_count": 60,
     "metadata": {},
     "output_type": "execute_result"
    }
   ],
   "source": [
    "matriz_3d"
   ]
  },
  {
   "cell_type": "code",
   "execution_count": 61,
   "metadata": {},
   "outputs": [
    {
     "data": {
      "text/plain": [
       "array([[[ 0, 12, 24, 36],\n",
       "        [ 3, 15, 27, 39],\n",
       "        [ 6, 18, 30, 42],\n",
       "        [ 9, 21, 33, 45]],\n",
       "\n",
       "       [[ 1, 13, 25, 37],\n",
       "        [ 4, 16, 28, 40],\n",
       "        [ 7, 19, 31, 43],\n",
       "        [10, 22, 34, 46]],\n",
       "\n",
       "       [[ 2, 14, 26, 38],\n",
       "        [ 5, 17, 29, 41],\n",
       "        [ 8, 20, 32, 44],\n",
       "        [11, 23, 35, 47]]])"
      ]
     },
     "execution_count": 61,
     "metadata": {},
     "output_type": "execute_result"
    }
   ],
   "source": [
    "matriz_3d.T"
   ]
  },
  {
   "cell_type": "code",
   "execution_count": 62,
   "metadata": {
    "collapsed": true
   },
   "outputs": [],
   "source": [
    "array = np.array([[1,2,3,4]])"
   ]
  },
  {
   "cell_type": "code",
   "execution_count": 63,
   "metadata": {},
   "outputs": [
    {
     "data": {
      "text/plain": [
       "array([[1, 2, 3, 4]])"
      ]
     },
     "execution_count": 63,
     "metadata": {},
     "output_type": "execute_result"
    }
   ],
   "source": [
    "array"
   ]
  },
  {
   "cell_type": "code",
   "execution_count": 64,
   "metadata": {},
   "outputs": [
    {
     "data": {
      "text/plain": [
       "array([[1],\n",
       "       [2],\n",
       "       [3],\n",
       "       [4]])"
      ]
     },
     "execution_count": 64,
     "metadata": {},
     "output_type": "execute_result"
    }
   ],
   "source": [
    "array.swapaxes(1,0)"
   ]
  },
  {
   "cell_type": "code",
   "execution_count": 65,
   "metadata": {},
   "outputs": [
    {
     "data": {
      "text/plain": [
       "array([[1, 2, 3, 4]])"
      ]
     },
     "execution_count": 65,
     "metadata": {},
     "output_type": "execute_result"
    }
   ],
   "source": [
    "array.swapaxes(1,1)"
   ]
  },
  {
   "cell_type": "markdown",
   "metadata": {},
   "source": [
    "### Funções Universais"
   ]
  },
  {
   "cell_type": "code",
   "execution_count": 66,
   "metadata": {},
   "outputs": [
    {
     "data": {
      "text/plain": [
       "array([ 0,  1,  2,  3,  4,  5,  6,  7,  8,  9, 10])"
      ]
     },
     "execution_count": 66,
     "metadata": {},
     "output_type": "execute_result"
    }
   ],
   "source": [
    "array = np.arange(11)\n",
    "array"
   ]
  },
  {
   "cell_type": "code",
   "execution_count": 67,
   "metadata": {},
   "outputs": [
    {
     "data": {
      "text/plain": [
       "array([ 0.        ,  1.        ,  1.41421356,  1.73205081,  2.        ,\n",
       "        2.23606798,  2.44948974,  2.64575131,  2.82842712,  3.        ,\n",
       "        3.16227766])"
      ]
     },
     "execution_count": 67,
     "metadata": {},
     "output_type": "execute_result"
    }
   ],
   "source": [
    "np.sqrt(array)"
   ]
  },
  {
   "cell_type": "code",
   "execution_count": 68,
   "metadata": {},
   "outputs": [
    {
     "data": {
      "text/plain": [
       "array([  1.00000000e+00,   2.71828183e+00,   7.38905610e+00,\n",
       "         2.00855369e+01,   5.45981500e+01,   1.48413159e+02,\n",
       "         4.03428793e+02,   1.09663316e+03,   2.98095799e+03,\n",
       "         8.10308393e+03,   2.20264658e+04])"
      ]
     },
     "execution_count": 68,
     "metadata": {},
     "output_type": "execute_result"
    }
   ],
   "source": [
    "np.exp(array)"
   ]
  },
  {
   "cell_type": "code",
   "execution_count": 69,
   "metadata": {},
   "outputs": [
    {
     "data": {
      "text/plain": [
       "array([ 1.68002653,  1.43948965,  0.65536166,  0.0313949 ])"
      ]
     },
     "execution_count": 69,
     "metadata": {},
     "output_type": "execute_result"
    }
   ],
   "source": [
    "array_random_1 = np.random.randn(4)\n",
    "array_random_1"
   ]
  },
  {
   "cell_type": "code",
   "execution_count": 70,
   "metadata": {},
   "outputs": [
    {
     "data": {
      "text/plain": [
       "array([ 0.58521877, -0.30020927,  1.03044609,  0.21939818])"
      ]
     },
     "execution_count": 70,
     "metadata": {},
     "output_type": "execute_result"
    }
   ],
   "source": [
    "array_random_2 = np.random.randn(4)\n",
    "array_random_2"
   ]
  },
  {
   "cell_type": "markdown",
   "metadata": {},
   "source": [
    "### Funções Universais Binárias"
   ]
  },
  {
   "cell_type": "code",
   "execution_count": 71,
   "metadata": {},
   "outputs": [
    {
     "data": {
      "text/plain": [
       "array([ 2.26524529,  1.13928037,  1.68580776,  0.25079309])"
      ]
     },
     "execution_count": 71,
     "metadata": {},
     "output_type": "execute_result"
    }
   ],
   "source": [
    "np.add(array_random_1, array_random_2)"
   ]
  },
  {
   "cell_type": "code",
   "execution_count": 72,
   "metadata": {},
   "outputs": [
    {
     "data": {
      "text/plain": [
       "array([ 1.68002653,  1.43948965,  1.03044609,  0.21939818])"
      ]
     },
     "execution_count": 72,
     "metadata": {},
     "output_type": "execute_result"
    }
   ],
   "source": [
    "np.maximum(array_random_1, array_random_2)"
   ]
  },
  {
   "cell_type": "markdown",
   "metadata": {},
   "source": [
    "### Operações com Arrays"
   ]
  },
  {
   "cell_type": "markdown",
   "metadata": {},
   "source": [
    "Utilizando o where."
   ]
  },
  {
   "cell_type": "code",
   "execution_count": 81,
   "metadata": {
    "collapsed": true
   },
   "outputs": [],
   "source": [
    "array_1 = np.array([1, 2, 3, 4, 5, 6])\n",
    "array_2 = np.array([31, 32, 33, 34, 35, 36])"
   ]
  },
  {
   "cell_type": "code",
   "execution_count": 82,
   "metadata": {},
   "outputs": [
    {
     "data": {
      "text/plain": [
       "array([ 1, 32,  3, 34,  5, 36])"
      ]
     },
     "execution_count": 82,
     "metadata": {},
     "output_type": "execute_result"
    }
   ],
   "source": [
    "condicao = np.array([True, False, True, False, True, False])\n",
    "array_3 = np.where(condicao, array_1, array_2)\n",
    "array_3"
   ]
  },
  {
   "cell_type": "code",
   "execution_count": 83,
   "metadata": {},
   "outputs": [
    {
     "data": {
      "text/plain": [
       "array([[-1.92406459, -1.7694122 , -0.09220327,  0.09137074, -0.4697482 ],\n",
       "       [-0.45326096, -0.49851914,  0.21828408,  0.04695309, -0.89611429],\n",
       "       [-1.62577892,  0.14696145,  0.68054414, -0.35087121, -0.50453517],\n",
       "       [-0.00273631,  1.07461361, -0.22354422,  0.96206418,  1.4241114 ],\n",
       "       [-0.50574148,  0.10605682, -0.51225597,  0.59693651,  0.87595544]])"
      ]
     },
     "execution_count": 83,
     "metadata": {},
     "output_type": "execute_result"
    }
   ],
   "source": [
    "array = np.random.randn(5,5)\n",
    "array"
   ]
  },
  {
   "cell_type": "code",
   "execution_count": 84,
   "metadata": {},
   "outputs": [
    {
     "data": {
      "text/plain": [
       "array([[ 0.        ,  0.        ,  0.        ,  0.09137074,  0.        ],\n",
       "       [ 0.        ,  0.        ,  0.21828408,  0.04695309,  0.        ],\n",
       "       [ 0.        ,  0.14696145,  0.68054414,  0.        ,  0.        ],\n",
       "       [ 0.        ,  1.07461361,  0.        ,  0.96206418,  1.4241114 ],\n",
       "       [ 0.        ,  0.10605682,  0.        ,  0.59693651,  0.87595544]])"
      ]
     },
     "execution_count": 84,
     "metadata": {},
     "output_type": "execute_result"
    }
   ],
   "source": [
    "np.where(array<0, 0, array)"
   ]
  },
  {
   "cell_type": "code",
   "execution_count": 85,
   "metadata": {},
   "outputs": [
    {
     "data": {
      "text/plain": [
       "array([[1, 2, 3],\n",
       "       [4, 5, 6],\n",
       "       [7, 8, 9]])"
      ]
     },
     "execution_count": 85,
     "metadata": {},
     "output_type": "execute_result"
    }
   ],
   "source": [
    "array = np.array([[1,2,3],[4,5,6],[7,8,9]])\n",
    "array"
   ]
  },
  {
   "cell_type": "code",
   "execution_count": 86,
   "metadata": {},
   "outputs": [
    {
     "data": {
      "text/plain": [
       "45"
      ]
     },
     "execution_count": 86,
     "metadata": {},
     "output_type": "execute_result"
    }
   ],
   "source": [
    "array.sum()"
   ]
  },
  {
   "cell_type": "markdown",
   "metadata": {},
   "source": [
    "Soma verticalmente."
   ]
  },
  {
   "cell_type": "code",
   "execution_count": 87,
   "metadata": {},
   "outputs": [
    {
     "data": {
      "text/plain": [
       "array([12, 15, 18])"
      ]
     },
     "execution_count": 87,
     "metadata": {},
     "output_type": "execute_result"
    }
   ],
   "source": [
    "    array.sum(0)"
   ]
  },
  {
   "cell_type": "markdown",
   "metadata": {},
   "source": [
    "Soma horizontalmente."
   ]
  },
  {
   "cell_type": "code",
   "execution_count": 88,
   "metadata": {},
   "outputs": [
    {
     "data": {
      "text/plain": [
       "array([ 6, 15, 24])"
      ]
     },
     "execution_count": 88,
     "metadata": {},
     "output_type": "execute_result"
    }
   ],
   "source": [
    "array.sum(1)"
   ]
  },
  {
   "cell_type": "code",
   "execution_count": 89,
   "metadata": {},
   "outputs": [
    {
     "data": {
      "text/plain": [
       "(3, 3)"
      ]
     },
     "execution_count": 89,
     "metadata": {},
     "output_type": "execute_result"
    }
   ],
   "source": [
    "array.shape"
   ]
  },
  {
   "cell_type": "code",
   "execution_count": 90,
   "metadata": {},
   "outputs": [
    {
     "data": {
      "text/plain": [
       "5.0"
      ]
     },
     "execution_count": 90,
     "metadata": {},
     "output_type": "execute_result"
    }
   ],
   "source": [
    "array.mean()"
   ]
  },
  {
   "cell_type": "code",
   "execution_count": 91,
   "metadata": {},
   "outputs": [
    {
     "data": {
      "text/plain": [
       "2.5819888974716112"
      ]
     },
     "execution_count": 91,
     "metadata": {},
     "output_type": "execute_result"
    }
   ],
   "source": [
    "array.std()"
   ]
  },
  {
   "cell_type": "code",
   "execution_count": 92,
   "metadata": {
    "collapsed": true
   },
   "outputs": [],
   "source": [
    "array_boolean = np.array([True, True, False, True, True])"
   ]
  },
  {
   "cell_type": "code",
   "execution_count": 93,
   "metadata": {},
   "outputs": [
    {
     "data": {
      "text/plain": [
       "True"
      ]
     },
     "execution_count": 93,
     "metadata": {},
     "output_type": "execute_result"
    }
   ],
   "source": [
    "array_boolean.any()"
   ]
  },
  {
   "cell_type": "code",
   "execution_count": 94,
   "metadata": {},
   "outputs": [
    {
     "data": {
      "text/plain": [
       "False"
      ]
     },
     "execution_count": 94,
     "metadata": {},
     "output_type": "execute_result"
    }
   ],
   "source": [
    "array_boolean.all()"
   ]
  },
  {
   "cell_type": "code",
   "execution_count": 95,
   "metadata": {},
   "outputs": [
    {
     "data": {
      "text/plain": [
       "array([ 0.89033759,  0.60129859,  0.0041177 ,  0.03205817,  0.47807382,\n",
       "        0.51011451, -0.0821951 ,  0.46976538])"
      ]
     },
     "execution_count": 95,
     "metadata": {},
     "output_type": "execute_result"
    }
   ],
   "source": [
    "array = np.random.randn(8)\n",
    "array"
   ]
  },
  {
   "cell_type": "code",
   "execution_count": 96,
   "metadata": {},
   "outputs": [
    {
     "data": {
      "text/plain": [
       "array([-0.0821951 ,  0.0041177 ,  0.03205817,  0.46976538,  0.47807382,\n",
       "        0.51011451,  0.60129859,  0.89033759])"
      ]
     },
     "execution_count": 96,
     "metadata": {},
     "output_type": "execute_result"
    }
   ],
   "source": [
    "array.sort()\n",
    "array"
   ]
  },
  {
   "cell_type": "code",
   "execution_count": 97,
   "metadata": {
    "collapsed": true
   },
   "outputs": [],
   "source": [
    "nomes = np.array([\"José\", \"Alice\", \"Beatriz\", \"Zacarias\", \"Yves\", \"Xavantes\", \"Yves\"])"
   ]
  },
  {
   "cell_type": "code",
   "execution_count": 98,
   "metadata": {},
   "outputs": [
    {
     "data": {
      "text/plain": [
       "array(['Alice', 'Beatriz', 'José', 'Xavantes', 'Yves', 'Zacarias'], \n",
       "      dtype='<U8')"
      ]
     },
     "execution_count": 98,
     "metadata": {},
     "output_type": "execute_result"
    }
   ],
   "source": [
    "np.unique(nomes)"
   ]
  },
  {
   "cell_type": "code",
   "execution_count": 99,
   "metadata": {},
   "outputs": [
    {
     "data": {
      "text/plain": [
       "array([ True,  True], dtype=bool)"
      ]
     },
     "execution_count": 99,
     "metadata": {},
     "output_type": "execute_result"
    }
   ],
   "source": [
    "np.in1d([\"Alice\", \"José\"], nomes)"
   ]
  },
  {
   "cell_type": "markdown",
   "metadata": {},
   "source": [
    "### Input & Output"
   ]
  },
  {
   "cell_type": "code",
   "execution_count": 100,
   "metadata": {},
   "outputs": [
    {
     "data": {
      "text/plain": [
       "array([0, 1, 2, 3, 4, 5, 6, 7])"
      ]
     },
     "execution_count": 100,
     "metadata": {},
     "output_type": "execute_result"
    }
   ],
   "source": [
    "array_1 = np.arange(8)\n",
    "array_1"
   ]
  },
  {
   "cell_type": "code",
   "execution_count": 101,
   "metadata": {
    "collapsed": true
   },
   "outputs": [],
   "source": [
    "np.save(\"array\", array_1)"
   ]
  },
  {
   "cell_type": "code",
   "execution_count": 102,
   "metadata": {},
   "outputs": [
    {
     "data": {
      "text/plain": [
       "array([0, 1, 2, 3, 4, 5, 6, 7])"
      ]
     },
     "execution_count": 102,
     "metadata": {},
     "output_type": "execute_result"
    }
   ],
   "source": [
    "np.load(\"array.npy\")"
   ]
  },
  {
   "cell_type": "code",
   "execution_count": 103,
   "metadata": {
    "collapsed": true
   },
   "outputs": [],
   "source": [
    "array_2 = np.arange(10)\n",
    "array_3 = np.arange(8)"
   ]
  },
  {
   "cell_type": "code",
   "execution_count": 104,
   "metadata": {
    "collapsed": true
   },
   "outputs": [],
   "source": [
    "np.savez(\"array.npz\", x=array_2, y=array_3, outro=array_1)"
   ]
  },
  {
   "cell_type": "code",
   "execution_count": 105,
   "metadata": {
    "collapsed": true
   },
   "outputs": [],
   "source": [
    "archive_arrays = np.load(\"array.npz\")"
   ]
  },
  {
   "cell_type": "code",
   "execution_count": 106,
   "metadata": {},
   "outputs": [
    {
     "data": {
      "text/plain": [
       "array([0, 1, 2, 3, 4, 5, 6, 7])"
      ]
     },
     "execution_count": 106,
     "metadata": {},
     "output_type": "execute_result"
    }
   ],
   "source": [
    "archive_arrays[\"outro\"]"
   ]
  },
  {
   "cell_type": "code",
   "execution_count": 107,
   "metadata": {},
   "outputs": [
    {
     "data": {
      "text/plain": [
       "(array([0, 1, 2, 3, 4, 5, 6, 7, 8, 9]), array([0, 1, 2, 3, 4, 5, 6, 7]))"
      ]
     },
     "execution_count": 107,
     "metadata": {},
     "output_type": "execute_result"
    }
   ],
   "source": [
    "archive_arrays[\"x\"], archive_arrays[\"y\"]"
   ]
  },
  {
   "cell_type": "code",
   "execution_count": 108,
   "metadata": {
    "collapsed": true
   },
   "outputs": [],
   "source": [
    "np.savetxt(\"array.txt\", array_1, delimiter=\";\")"
   ]
  },
  {
   "cell_type": "code",
   "execution_count": 109,
   "metadata": {},
   "outputs": [
    {
     "data": {
      "text/plain": [
       "array([ 0.,  1.,  2.,  3.,  4.,  5.,  6.,  7.])"
      ]
     },
     "execution_count": 109,
     "metadata": {},
     "output_type": "execute_result"
    }
   ],
   "source": [
    "np.loadtxt(\"array.txt\", delimiter=\";\")"
   ]
  },
  {
   "cell_type": "markdown",
   "metadata": {
    "collapsed": true
   },
   "source": [
    "## Pandas\n",
    "Estruturas de dados para acesso a fontes de informações e manipulações"
   ]
  },
  {
   "cell_type": "markdown",
   "metadata": {},
   "source": [
    "### Series"
   ]
  },
  {
   "cell_type": "code",
   "execution_count": 110,
   "metadata": {
    "collapsed": true
   },
   "outputs": [],
   "source": [
    "import pandas as pd\n",
    "from pandas import Series, DataFrame"
   ]
  },
  {
   "cell_type": "code",
   "execution_count": 111,
   "metadata": {},
   "outputs": [
    {
     "data": {
      "text/plain": [
       "0    1\n",
       "1    2\n",
       "2    3\n",
       "3    4\n",
       "4    5\n",
       "5    6\n",
       "dtype: int64"
      ]
     },
     "execution_count": 111,
     "metadata": {},
     "output_type": "execute_result"
    }
   ],
   "source": [
    "serie = Series([1,2,3,4,5,6])\n",
    "serie"
   ]
  },
  {
   "cell_type": "code",
   "execution_count": 112,
   "metadata": {},
   "outputs": [
    {
     "data": {
      "text/plain": [
       "array([1, 2, 3, 4, 5, 6])"
      ]
     },
     "execution_count": 112,
     "metadata": {},
     "output_type": "execute_result"
    }
   ],
   "source": [
    "serie.values"
   ]
  },
  {
   "cell_type": "code",
   "execution_count": 113,
   "metadata": {},
   "outputs": [
    {
     "data": {
      "text/plain": [
       "RangeIndex(start=0, stop=6, step=1)"
      ]
     },
     "execution_count": 113,
     "metadata": {},
     "output_type": "execute_result"
    }
   ],
   "source": [
    "serie.index"
   ]
  },
  {
   "cell_type": "code",
   "execution_count": 114,
   "metadata": {},
   "outputs": [
    {
     "data": {
      "text/plain": [
       "China             10000000\n",
       "Estados Unidos     8000000\n",
       "Canadá             7000000\n",
       "Rússia             6000000\n",
       "Brasil             5000000\n",
       "dtype: int64"
      ]
     },
     "execution_count": 114,
     "metadata": {},
     "output_type": "execute_result"
    }
   ],
   "source": [
    "pib_paises = Series([10000000, 8000000, 7000000, 6000000, 5000000], index = [\"China\", \"Estados Unidos\", \"Canadá\", \"Rússia\", \"Brasil\"] )\n",
    "pib_paises"
   ]
  },
  {
   "cell_type": "code",
   "execution_count": 115,
   "metadata": {},
   "outputs": [
    {
     "data": {
      "text/plain": [
       "5000000"
      ]
     },
     "execution_count": 115,
     "metadata": {},
     "output_type": "execute_result"
    }
   ],
   "source": [
    "pib_paises[\"Brasil\"]"
   ]
  },
  {
   "cell_type": "code",
   "execution_count": 116,
   "metadata": {},
   "outputs": [
    {
     "data": {
      "text/plain": [
       "China             10000000\n",
       "Estados Unidos     8000000\n",
       "dtype: int64"
      ]
     },
     "execution_count": 116,
     "metadata": {},
     "output_type": "execute_result"
    }
   ],
   "source": [
    "pib_paises[pib_paises > 7000000]"
   ]
  },
  {
   "cell_type": "code",
   "execution_count": 117,
   "metadata": {},
   "outputs": [
    {
     "data": {
      "text/plain": [
       "False"
      ]
     },
     "execution_count": 117,
     "metadata": {},
     "output_type": "execute_result"
    }
   ],
   "source": [
    "\"Argentina\" in pib_paises"
   ]
  },
  {
   "cell_type": "markdown",
   "metadata": {},
   "source": [
    "Conversão para dicionário"
   ]
  },
  {
   "cell_type": "code",
   "execution_count": 118,
   "metadata": {},
   "outputs": [
    {
     "data": {
      "text/plain": [
       "{'Brasil': 5000000,\n",
       " 'Canadá': 7000000,\n",
       " 'China': 10000000,\n",
       " 'Estados Unidos': 8000000,\n",
       " 'Rússia': 6000000}"
      ]
     },
     "execution_count": 118,
     "metadata": {},
     "output_type": "execute_result"
    }
   ],
   "source": [
    "pib_paises_dict = pib_paises.to_dict()\n",
    "pib_paises_dict"
   ]
  },
  {
   "cell_type": "code",
   "execution_count": 119,
   "metadata": {
    "collapsed": true
   },
   "outputs": [],
   "source": [
    "lista_paises = [\"China\", \"Estados Unidos\", \"Canadá\", \"Rússia\", \"Brasil\", \"Peru\"]"
   ]
  },
  {
   "cell_type": "code",
   "execution_count": 120,
   "metadata": {},
   "outputs": [
    {
     "data": {
      "text/plain": [
       "China             10000000.0\n",
       "Estados Unidos     8000000.0\n",
       "Canadá             7000000.0\n",
       "Rússia             6000000.0\n",
       "Brasil             5000000.0\n",
       "Peru                     NaN\n",
       "dtype: float64"
      ]
     },
     "execution_count": 120,
     "metadata": {},
     "output_type": "execute_result"
    }
   ],
   "source": [
    "serie_2 = Series(pib_paises_dict, index = lista_paises)\n",
    "serie_2"
   ]
  },
  {
   "cell_type": "markdown",
   "metadata": {},
   "source": [
    "Nulo em estruturas de dados recebe o valor NaN, Not a Natural."
   ]
  },
  {
   "cell_type": "code",
   "execution_count": 121,
   "metadata": {},
   "outputs": [
    {
     "data": {
      "text/plain": [
       "China             False\n",
       "Estados Unidos    False\n",
       "Canadá            False\n",
       "Rússia            False\n",
       "Brasil            False\n",
       "Peru               True\n",
       "dtype: bool"
      ]
     },
     "execution_count": 121,
     "metadata": {},
     "output_type": "execute_result"
    }
   ],
   "source": [
    "pd.isnull(serie_2)"
   ]
  },
  {
   "cell_type": "code",
   "execution_count": 122,
   "metadata": {},
   "outputs": [
    {
     "data": {
      "text/plain": [
       "China              True\n",
       "Estados Unidos     True\n",
       "Canadá             True\n",
       "Rússia             True\n",
       "Brasil             True\n",
       "Peru              False\n",
       "dtype: bool"
      ]
     },
     "execution_count": 122,
     "metadata": {},
     "output_type": "execute_result"
    }
   ],
   "source": [
    "pd.notnull(serie_2)"
   ]
  },
  {
   "cell_type": "code",
   "execution_count": 123,
   "metadata": {},
   "outputs": [
    {
     "data": {
      "text/plain": [
       "Brasil            10000000.0\n",
       "Canadá            14000000.0\n",
       "China             20000000.0\n",
       "Estados Unidos    16000000.0\n",
       "Peru                     NaN\n",
       "Rússia            12000000.0\n",
       "dtype: float64"
      ]
     },
     "execution_count": 123,
     "metadata": {},
     "output_type": "execute_result"
    }
   ],
   "source": [
    "pib_paises + serie_2"
   ]
  },
  {
   "cell_type": "code",
   "execution_count": 124,
   "metadata": {},
   "outputs": [
    {
     "data": {
      "text/plain": [
       "País\n",
       "China             10000000.0\n",
       "Estados Unidos     8000000.0\n",
       "Canadá             7000000.0\n",
       "Rússia             6000000.0\n",
       "Brasil             5000000.0\n",
       "Peru                     NaN\n",
       "Name: Produto interno bruto, dtype: float64"
      ]
     },
     "execution_count": 124,
     "metadata": {},
     "output_type": "execute_result"
    }
   ],
   "source": [
    "serie_2.name=\"Produto interno bruto\"\n",
    "serie_2.index.name=\"País\"\n",
    "serie_2"
   ]
  },
  {
   "cell_type": "markdown",
   "metadata": {},
   "source": [
    "### Dataframes"
   ]
  },
  {
   "cell_type": "markdown",
   "metadata": {},
   "source": [
    "Carregar o arquivo de dados da quarta temporada do seriado Breaking Bad, no formato CSV."
   ]
  },
  {
   "cell_type": "code",
   "execution_count": 129,
   "metadata": {},
   "outputs": [
    {
     "data": {
      "text/html": [
       "<div>\n",
       "<style>\n",
       "    .dataframe thead tr:only-child th {\n",
       "        text-align: right;\n",
       "    }\n",
       "\n",
       "    .dataframe thead th {\n",
       "        text-align: left;\n",
       "    }\n",
       "\n",
       "    .dataframe tbody tr th {\n",
       "        vertical-align: top;\n",
       "    }\n",
       "</style>\n",
       "<table border=\"1\" class=\"dataframe\">\n",
       "  <thead>\n",
       "    <tr style=\"text-align: right;\">\n",
       "      <th></th>\n",
       "      <th>Nº</th>\n",
       "      <th>Nº.1</th>\n",
       "      <th>Título</th>\n",
       "      <th>Dirigido por:</th>\n",
       "      <th>Escrito por:</th>\n",
       "      <th>Audiência</th>\n",
       "      <th>Exibição Original</th>\n",
       "    </tr>\n",
       "  </thead>\n",
       "  <tbody>\n",
       "    <tr>\n",
       "      <th>0</th>\n",
       "      <td>34</td>\n",
       "      <td>1</td>\n",
       "      <td>Box Cutter</td>\n",
       "      <td>Adam Bernstein</td>\n",
       "      <td>Vince Gilligan</td>\n",
       "      <td>2.58[38]</td>\n",
       "      <td>17 de julho de 2011</td>\n",
       "    </tr>\n",
       "    <tr>\n",
       "      <th>1</th>\n",
       "      <td>35</td>\n",
       "      <td>2</td>\n",
       "      <td>Thirty-Eight Snub</td>\n",
       "      <td>Michelle MacLaren</td>\n",
       "      <td>George Mastras</td>\n",
       "      <td>1.97[39]</td>\n",
       "      <td>24 de julho de 2011</td>\n",
       "    </tr>\n",
       "    <tr>\n",
       "      <th>2</th>\n",
       "      <td>36</td>\n",
       "      <td>3</td>\n",
       "      <td>Open House</td>\n",
       "      <td>David Slade</td>\n",
       "      <td>Sam Catlin</td>\n",
       "      <td>1.71[40]</td>\n",
       "      <td>31 de julho de 2011</td>\n",
       "    </tr>\n",
       "    <tr>\n",
       "      <th>3</th>\n",
       "      <td>37</td>\n",
       "      <td>4</td>\n",
       "      <td>Bullet Points</td>\n",
       "      <td>Colin Bucksey</td>\n",
       "      <td>Moira Walley-Beckett</td>\n",
       "      <td>1.83[41]</td>\n",
       "      <td>7 de agosto de 2011</td>\n",
       "    </tr>\n",
       "    <tr>\n",
       "      <th>4</th>\n",
       "      <td>38</td>\n",
       "      <td>5</td>\n",
       "      <td>Shotgun</td>\n",
       "      <td>Michelle MacLaren</td>\n",
       "      <td>Thomas Schnauz</td>\n",
       "      <td>1.75[42]</td>\n",
       "      <td>14 de agosto de 2011</td>\n",
       "    </tr>\n",
       "    <tr>\n",
       "      <th>5</th>\n",
       "      <td>39</td>\n",
       "      <td>6</td>\n",
       "      <td>Cornered</td>\n",
       "      <td>Michael Slovis</td>\n",
       "      <td>Gennifer Hutchison</td>\n",
       "      <td>1.67[43]</td>\n",
       "      <td>21 de agosto de 2011</td>\n",
       "    </tr>\n",
       "    <tr>\n",
       "      <th>6</th>\n",
       "      <td>40</td>\n",
       "      <td>7</td>\n",
       "      <td>Problem Dog</td>\n",
       "      <td>Peter Gould</td>\n",
       "      <td>Peter Gould</td>\n",
       "      <td>1.91[44]</td>\n",
       "      <td>28 de agosto de 2011</td>\n",
       "    </tr>\n",
       "    <tr>\n",
       "      <th>7</th>\n",
       "      <td>41</td>\n",
       "      <td>8</td>\n",
       "      <td>Hermanos</td>\n",
       "      <td>Johan Renck</td>\n",
       "      <td>Sam Catlin &amp; George Mastras</td>\n",
       "      <td>1.98[45]</td>\n",
       "      <td>4 de setembro de 2011</td>\n",
       "    </tr>\n",
       "    <tr>\n",
       "      <th>8</th>\n",
       "      <td>42</td>\n",
       "      <td>9</td>\n",
       "      <td>Bug</td>\n",
       "      <td>Terry McDonough</td>\n",
       "      <td>Moira Walley-Beckett &amp; Thomas Schnauz</td>\n",
       "      <td>1.89[46]</td>\n",
       "      <td>11 de setembro de 2011</td>\n",
       "    </tr>\n",
       "    <tr>\n",
       "      <th>9</th>\n",
       "      <td>43</td>\n",
       "      <td>10</td>\n",
       "      <td>Salud</td>\n",
       "      <td>Michelle MacLaren</td>\n",
       "      <td>Peter Gould &amp; Gennifer Hutchison</td>\n",
       "      <td>1.80[47]</td>\n",
       "      <td>18 de setembro de 2011</td>\n",
       "    </tr>\n",
       "    <tr>\n",
       "      <th>10</th>\n",
       "      <td>44</td>\n",
       "      <td>11</td>\n",
       "      <td>Crawl Space</td>\n",
       "      <td>Scott Winant</td>\n",
       "      <td>George Mastras &amp; Sam Catlin</td>\n",
       "      <td>1.55[48]</td>\n",
       "      <td>25 de setembro de 2011</td>\n",
       "    </tr>\n",
       "    <tr>\n",
       "      <th>11</th>\n",
       "      <td>45</td>\n",
       "      <td>12</td>\n",
       "      <td>End Times</td>\n",
       "      <td>Vince Gilligan</td>\n",
       "      <td>Thomas Schnauz &amp; Moira Walley-Beckett</td>\n",
       "      <td>1.73[49]</td>\n",
       "      <td>2 de outubro de 2011</td>\n",
       "    </tr>\n",
       "    <tr>\n",
       "      <th>12</th>\n",
       "      <td>46</td>\n",
       "      <td>13</td>\n",
       "      <td>Face Off</td>\n",
       "      <td>Vince Gilligan</td>\n",
       "      <td>Vince Gilligan</td>\n",
       "      <td>1.90[50]</td>\n",
       "      <td>9 de outubro de 2011</td>\n",
       "    </tr>\n",
       "  </tbody>\n",
       "</table>\n",
       "</div>"
      ],
      "text/plain": [
       "    Nº  Nº.1             Título      Dirigido por:  \\\n",
       "0   34     1         Box Cutter     Adam Bernstein   \n",
       "1   35     2  Thirty-Eight Snub  Michelle MacLaren   \n",
       "2   36     3         Open House        David Slade   \n",
       "3   37     4      Bullet Points      Colin Bucksey   \n",
       "4   38     5            Shotgun  Michelle MacLaren   \n",
       "5   39     6           Cornered     Michael Slovis   \n",
       "6   40     7        Problem Dog        Peter Gould   \n",
       "7   41     8           Hermanos        Johan Renck   \n",
       "8   42     9                Bug    Terry McDonough   \n",
       "9   43    10              Salud  Michelle MacLaren   \n",
       "10  44    11        Crawl Space       Scott Winant   \n",
       "11  45    12          End Times     Vince Gilligan   \n",
       "12  46    13           Face Off     Vince Gilligan   \n",
       "\n",
       "                             Escrito por: Audiência       Exibição Original  \n",
       "0                          Vince Gilligan  2.58[38]     17 de julho de 2011  \n",
       "1                          George Mastras  1.97[39]     24 de julho de 2011  \n",
       "2                              Sam Catlin  1.71[40]     31 de julho de 2011  \n",
       "3                    Moira Walley-Beckett  1.83[41]     7 de agosto de 2011  \n",
       "4                          Thomas Schnauz  1.75[42]    14 de agosto de 2011  \n",
       "5                      Gennifer Hutchison  1.67[43]    21 de agosto de 2011  \n",
       "6                             Peter Gould  1.91[44]    28 de agosto de 2011  \n",
       "7             Sam Catlin & George Mastras  1.98[45]   4 de setembro de 2011  \n",
       "8   Moira Walley-Beckett & Thomas Schnauz  1.89[46]  11 de setembro de 2011  \n",
       "9        Peter Gould & Gennifer Hutchison  1.80[47]  18 de setembro de 2011  \n",
       "10            George Mastras & Sam Catlin  1.55[48]  25 de setembro de 2011  \n",
       "11  Thomas Schnauz & Moira Walley-Beckett  1.73[49]    2 de outubro de 2011  \n",
       "12                         Vince Gilligan  1.90[50]    9 de outubro de 2011  "
      ]
     },
     "execution_count": 129,
     "metadata": {},
     "output_type": "execute_result"
    }
   ],
   "source": [
    "breaking_bad_temporada_4 = pd.read_csv(\"breaking_bad_4_temp.csv\", delimiter=\";\")\n",
    "breaking_bad_temporada_4"
   ]
  },
  {
   "cell_type": "code",
   "execution_count": 130,
   "metadata": {},
   "outputs": [
    {
     "data": {
      "text/plain": [
       "Index(['Nº', 'Nº.1', 'Título', 'Dirigido por:', 'Escrito por:', 'Audiência',\n",
       "       'Exibição Original'],\n",
       "      dtype='object')"
      ]
     },
     "execution_count": 130,
     "metadata": {},
     "output_type": "execute_result"
    }
   ],
   "source": [
    "breaking_bad_temporada_4.columns"
   ]
  },
  {
   "cell_type": "code",
   "execution_count": 131,
   "metadata": {},
   "outputs": [
    {
     "data": {
      "text/plain": [
       "0            Box Cutter\n",
       "1     Thirty-Eight Snub\n",
       "2            Open House\n",
       "3         Bullet Points\n",
       "4               Shotgun\n",
       "5              Cornered\n",
       "6           Problem Dog\n",
       "7              Hermanos\n",
       "8                   Bug\n",
       "9                 Salud\n",
       "10          Crawl Space\n",
       "11            End Times\n",
       "12             Face Off\n",
       "Name: Título, dtype: object"
      ]
     },
     "execution_count": 131,
     "metadata": {},
     "output_type": "execute_result"
    }
   ],
   "source": [
    "breaking_bad_temporada_4.titulo"
   ]
  },
  {
   "cell_type": "code",
   "execution_count": 132,
   "metadata": {},
   "outputs": [
    {
     "data": {
      "text/plain": [
       "0        Adam Bernstein\n",
       "1     Michelle MacLaren\n",
       "2           David Slade\n",
       "3         Colin Bucksey\n",
       "4     Michelle MacLaren\n",
       "5        Michael Slovis\n",
       "6           Peter Gould\n",
       "7           Johan Renck\n",
       "8       Terry McDonough\n",
       "9     Michelle MacLaren\n",
       "10         Scott Winant\n",
       "11       Vince Gilligan\n",
       "12       Vince Gilligan\n",
       "Name: Dirigido por:, dtype: object"
      ]
     },
     "execution_count": 132,
     "metadata": {},
     "output_type": "execute_result"
    }
   ],
   "source": [
    "breaking_bad_temporada_4[\"direcao\"]"
   ]
  },
  {
   "cell_type": "code",
   "execution_count": 133,
   "metadata": {},
   "outputs": [
    {
     "data": {
      "text/html": [
       "<div>\n",
       "<style>\n",
       "    .dataframe thead tr:only-child th {\n",
       "        text-align: right;\n",
       "    }\n",
       "\n",
       "    .dataframe thead th {\n",
       "        text-align: left;\n",
       "    }\n",
       "\n",
       "    .dataframe tbody tr th {\n",
       "        vertical-align: top;\n",
       "    }\n",
       "</style>\n",
       "<table border=\"1\" class=\"dataframe\">\n",
       "  <thead>\n",
       "    <tr style=\"text-align: right;\">\n",
       "      <th></th>\n",
       "      <th>Título</th>\n",
       "      <th>Audiência</th>\n",
       "    </tr>\n",
       "  </thead>\n",
       "  <tbody>\n",
       "    <tr>\n",
       "      <th>0</th>\n",
       "      <td>Box Cutter</td>\n",
       "      <td>2.58[38]</td>\n",
       "    </tr>\n",
       "    <tr>\n",
       "      <th>1</th>\n",
       "      <td>Thirty-Eight Snub</td>\n",
       "      <td>1.97[39]</td>\n",
       "    </tr>\n",
       "    <tr>\n",
       "      <th>2</th>\n",
       "      <td>Open House</td>\n",
       "      <td>1.71[40]</td>\n",
       "    </tr>\n",
       "    <tr>\n",
       "      <th>3</th>\n",
       "      <td>Bullet Points</td>\n",
       "      <td>1.83[41]</td>\n",
       "    </tr>\n",
       "    <tr>\n",
       "      <th>4</th>\n",
       "      <td>Shotgun</td>\n",
       "      <td>1.75[42]</td>\n",
       "    </tr>\n",
       "    <tr>\n",
       "      <th>5</th>\n",
       "      <td>Cornered</td>\n",
       "      <td>1.67[43]</td>\n",
       "    </tr>\n",
       "    <tr>\n",
       "      <th>6</th>\n",
       "      <td>Problem Dog</td>\n",
       "      <td>1.91[44]</td>\n",
       "    </tr>\n",
       "    <tr>\n",
       "      <th>7</th>\n",
       "      <td>Hermanos</td>\n",
       "      <td>1.98[45]</td>\n",
       "    </tr>\n",
       "    <tr>\n",
       "      <th>8</th>\n",
       "      <td>Bug</td>\n",
       "      <td>1.89[46]</td>\n",
       "    </tr>\n",
       "    <tr>\n",
       "      <th>9</th>\n",
       "      <td>Salud</td>\n",
       "      <td>1.80[47]</td>\n",
       "    </tr>\n",
       "    <tr>\n",
       "      <th>10</th>\n",
       "      <td>Crawl Space</td>\n",
       "      <td>1.55[48]</td>\n",
       "    </tr>\n",
       "    <tr>\n",
       "      <th>11</th>\n",
       "      <td>End Times</td>\n",
       "      <td>1.73[49]</td>\n",
       "    </tr>\n",
       "    <tr>\n",
       "      <th>12</th>\n",
       "      <td>Face Off</td>\n",
       "      <td>1.90[50]</td>\n",
       "    </tr>\n",
       "  </tbody>\n",
       "</table>\n",
       "</div>"
      ],
      "text/plain": [
       "               Título Audiência\n",
       "0          Box Cutter  2.58[38]\n",
       "1   Thirty-Eight Snub  1.97[39]\n",
       "2          Open House  1.71[40]\n",
       "3       Bullet Points  1.83[41]\n",
       "4             Shotgun  1.75[42]\n",
       "5            Cornered  1.67[43]\n",
       "6         Problem Dog  1.91[44]\n",
       "7            Hermanos  1.98[45]\n",
       "8                 Bug  1.89[46]\n",
       "9               Salud  1.80[47]\n",
       "10        Crawl Space  1.55[48]\n",
       "11          End Times  1.73[49]\n",
       "12           Face Off  1.90[50]"
      ]
     },
     "execution_count": 133,
     "metadata": {},
     "output_type": "execute_result"
    }
   ],
   "source": [
    "DataFrame(breaking_bad_temporada_4, columns=[\"titulo\", \"audiencia\"])"
   ]
  },
  {
   "cell_type": "code",
   "execution_count": 134,
   "metadata": {},
   "outputs": [
    {
     "data": {
      "text/html": [
       "<div>\n",
       "<style>\n",
       "    .dataframe thead tr:only-child th {\n",
       "        text-align: right;\n",
       "    }\n",
       "\n",
       "    .dataframe thead th {\n",
       "        text-align: left;\n",
       "    }\n",
       "\n",
       "    .dataframe tbody tr th {\n",
       "        vertical-align: top;\n",
       "    }\n",
       "</style>\n",
       "<table border=\"1\" class=\"dataframe\">\n",
       "  <thead>\n",
       "    <tr style=\"text-align: right;\">\n",
       "      <th></th>\n",
       "      <th>Nº</th>\n",
       "      <th>Nº.1</th>\n",
       "      <th>Título</th>\n",
       "      <th>Dirigido por:</th>\n",
       "      <th>Escrito por:</th>\n",
       "      <th>Audiência</th>\n",
       "      <th>Exibição Original</th>\n",
       "    </tr>\n",
       "  </thead>\n",
       "  <tbody>\n",
       "    <tr>\n",
       "      <th>0</th>\n",
       "      <td>34</td>\n",
       "      <td>1</td>\n",
       "      <td>Box Cutter</td>\n",
       "      <td>Adam Bernstein</td>\n",
       "      <td>Vince Gilligan</td>\n",
       "      <td>2.58[38]</td>\n",
       "      <td>17 de julho de 2011</td>\n",
       "    </tr>\n",
       "    <tr>\n",
       "      <th>1</th>\n",
       "      <td>35</td>\n",
       "      <td>2</td>\n",
       "      <td>Thirty-Eight Snub</td>\n",
       "      <td>Michelle MacLaren</td>\n",
       "      <td>George Mastras</td>\n",
       "      <td>1.97[39]</td>\n",
       "      <td>24 de julho de 2011</td>\n",
       "    </tr>\n",
       "    <tr>\n",
       "      <th>2</th>\n",
       "      <td>36</td>\n",
       "      <td>3</td>\n",
       "      <td>Open House</td>\n",
       "      <td>David Slade</td>\n",
       "      <td>Sam Catlin</td>\n",
       "      <td>1.71[40]</td>\n",
       "      <td>31 de julho de 2011</td>\n",
       "    </tr>\n",
       "  </tbody>\n",
       "</table>\n",
       "</div>"
      ],
      "text/plain": [
       "   Nº  Nº.1             Título      Dirigido por:    Escrito por: Audiência  \\\n",
       "0  34     1         Box Cutter     Adam Bernstein  Vince Gilligan  2.58[38]   \n",
       "1  35     2  Thirty-Eight Snub  Michelle MacLaren  George Mastras  1.97[39]   \n",
       "2  36     3         Open House        David Slade      Sam Catlin  1.71[40]   \n",
       "\n",
       "     Exibição Original  \n",
       "0  17 de julho de 2011  \n",
       "1  24 de julho de 2011  \n",
       "2  31 de julho de 2011  "
      ]
     },
     "execution_count": 134,
     "metadata": {},
     "output_type": "execute_result"
    }
   ],
   "source": [
    "breaking_bad_temporada_4.head(3)"
   ]
  },
  {
   "cell_type": "code",
   "execution_count": 135,
   "metadata": {},
   "outputs": [
    {
     "data": {
      "text/html": [
       "<div>\n",
       "<style>\n",
       "    .dataframe thead tr:only-child th {\n",
       "        text-align: right;\n",
       "    }\n",
       "\n",
       "    .dataframe thead th {\n",
       "        text-align: left;\n",
       "    }\n",
       "\n",
       "    .dataframe tbody tr th {\n",
       "        vertical-align: top;\n",
       "    }\n",
       "</style>\n",
       "<table border=\"1\" class=\"dataframe\">\n",
       "  <thead>\n",
       "    <tr style=\"text-align: right;\">\n",
       "      <th></th>\n",
       "      <th>Nº</th>\n",
       "      <th>Nº.1</th>\n",
       "      <th>Título</th>\n",
       "      <th>Dirigido por:</th>\n",
       "      <th>Escrito por:</th>\n",
       "      <th>Audiência</th>\n",
       "      <th>Exibição Original</th>\n",
       "    </tr>\n",
       "  </thead>\n",
       "  <tbody>\n",
       "    <tr>\n",
       "      <th>11</th>\n",
       "      <td>45</td>\n",
       "      <td>12</td>\n",
       "      <td>End Times</td>\n",
       "      <td>Vince Gilligan</td>\n",
       "      <td>Thomas Schnauz &amp; Moira Walley-Beckett</td>\n",
       "      <td>1.73[49]</td>\n",
       "      <td>2 de outubro de 2011</td>\n",
       "    </tr>\n",
       "    <tr>\n",
       "      <th>12</th>\n",
       "      <td>46</td>\n",
       "      <td>13</td>\n",
       "      <td>Face Off</td>\n",
       "      <td>Vince Gilligan</td>\n",
       "      <td>Vince Gilligan</td>\n",
       "      <td>1.90[50]</td>\n",
       "      <td>9 de outubro de 2011</td>\n",
       "    </tr>\n",
       "  </tbody>\n",
       "</table>\n",
       "</div>"
      ],
      "text/plain": [
       "    Nº  Nº.1     Título   Dirigido por:  \\\n",
       "11  45    12  End Times  Vince Gilligan   \n",
       "12  46    13   Face Off  Vince Gilligan   \n",
       "\n",
       "                             Escrito por: Audiência     Exibição Original  \n",
       "11  Thomas Schnauz & Moira Walley-Beckett  1.73[49]  2 de outubro de 2011  \n",
       "12                         Vince Gilligan  1.90[50]  9 de outubro de 2011  "
      ]
     },
     "execution_count": 135,
     "metadata": {},
     "output_type": "execute_result"
    }
   ],
   "source": [
    "breaking_bad_temporada_4.tail(2)"
   ]
  },
  {
   "cell_type": "code",
   "execution_count": 136,
   "metadata": {},
   "outputs": [
    {
     "data": {
      "text/plain": [
       "Nº                                    34\n",
       "Nº.1                                   1\n",
       "Título                        Box Cutter\n",
       "Dirigido por:             Adam Bernstein\n",
       "Escrito por:              Vince Gilligan\n",
       "Audiência                       2.58[38]\n",
       "Exibição Original    17 de julho de 2011\n",
       "Name: 0, dtype: object"
      ]
     },
     "execution_count": 136,
     "metadata": {},
     "output_type": "execute_result"
    }
   ],
   "source": [
    "breaking_bad_temporada_4.loc[0]"
   ]
  },
  {
   "cell_type": "code",
   "execution_count": 137,
   "metadata": {},
   "outputs": [
    {
     "data": {
      "text/html": [
       "<div>\n",
       "<style>\n",
       "    .dataframe thead tr:only-child th {\n",
       "        text-align: right;\n",
       "    }\n",
       "\n",
       "    .dataframe thead th {\n",
       "        text-align: left;\n",
       "    }\n",
       "\n",
       "    .dataframe tbody tr th {\n",
       "        vertical-align: top;\n",
       "    }\n",
       "</style>\n",
       "<table border=\"1\" class=\"dataframe\">\n",
       "  <thead>\n",
       "    <tr style=\"text-align: right;\">\n",
       "      <th></th>\n",
       "      <th>Nº</th>\n",
       "      <th>Nº.1</th>\n",
       "      <th>Título</th>\n",
       "      <th>Dirigido por:</th>\n",
       "      <th>Escrito por:</th>\n",
       "      <th>Audiência</th>\n",
       "      <th>Exibição Original</th>\n",
       "      <th>País</th>\n",
       "    </tr>\n",
       "  </thead>\n",
       "  <tbody>\n",
       "    <tr>\n",
       "      <th>0</th>\n",
       "      <td>34</td>\n",
       "      <td>1</td>\n",
       "      <td>Box Cutter</td>\n",
       "      <td>Adam Bernstein</td>\n",
       "      <td>Vince Gilligan</td>\n",
       "      <td>2.58[38]</td>\n",
       "      <td>17 de julho de 2011</td>\n",
       "      <td>Estados Unidos</td>\n",
       "    </tr>\n",
       "    <tr>\n",
       "      <th>1</th>\n",
       "      <td>35</td>\n",
       "      <td>2</td>\n",
       "      <td>Thirty-Eight Snub</td>\n",
       "      <td>Michelle MacLaren</td>\n",
       "      <td>George Mastras</td>\n",
       "      <td>1.97[39]</td>\n",
       "      <td>24 de julho de 2011</td>\n",
       "      <td>Estados Unidos</td>\n",
       "    </tr>\n",
       "    <tr>\n",
       "      <th>2</th>\n",
       "      <td>36</td>\n",
       "      <td>3</td>\n",
       "      <td>Open House</td>\n",
       "      <td>David Slade</td>\n",
       "      <td>Sam Catlin</td>\n",
       "      <td>1.71[40]</td>\n",
       "      <td>31 de julho de 2011</td>\n",
       "      <td>Estados Unidos</td>\n",
       "    </tr>\n",
       "    <tr>\n",
       "      <th>3</th>\n",
       "      <td>37</td>\n",
       "      <td>4</td>\n",
       "      <td>Bullet Points</td>\n",
       "      <td>Colin Bucksey</td>\n",
       "      <td>Moira Walley-Beckett</td>\n",
       "      <td>1.83[41]</td>\n",
       "      <td>7 de agosto de 2011</td>\n",
       "      <td>Estados Unidos</td>\n",
       "    </tr>\n",
       "    <tr>\n",
       "      <th>4</th>\n",
       "      <td>38</td>\n",
       "      <td>5</td>\n",
       "      <td>Shotgun</td>\n",
       "      <td>Michelle MacLaren</td>\n",
       "      <td>Thomas Schnauz</td>\n",
       "      <td>1.75[42]</td>\n",
       "      <td>14 de agosto de 2011</td>\n",
       "      <td>Estados Unidos</td>\n",
       "    </tr>\n",
       "    <tr>\n",
       "      <th>5</th>\n",
       "      <td>39</td>\n",
       "      <td>6</td>\n",
       "      <td>Cornered</td>\n",
       "      <td>Michael Slovis</td>\n",
       "      <td>Gennifer Hutchison</td>\n",
       "      <td>1.67[43]</td>\n",
       "      <td>21 de agosto de 2011</td>\n",
       "      <td>Estados Unidos</td>\n",
       "    </tr>\n",
       "    <tr>\n",
       "      <th>6</th>\n",
       "      <td>40</td>\n",
       "      <td>7</td>\n",
       "      <td>Problem Dog</td>\n",
       "      <td>Peter Gould</td>\n",
       "      <td>Peter Gould</td>\n",
       "      <td>1.91[44]</td>\n",
       "      <td>28 de agosto de 2011</td>\n",
       "      <td>Estados Unidos</td>\n",
       "    </tr>\n",
       "    <tr>\n",
       "      <th>7</th>\n",
       "      <td>41</td>\n",
       "      <td>8</td>\n",
       "      <td>Hermanos</td>\n",
       "      <td>Johan Renck</td>\n",
       "      <td>Sam Catlin &amp; George Mastras</td>\n",
       "      <td>1.98[45]</td>\n",
       "      <td>4 de setembro de 2011</td>\n",
       "      <td>Estados Unidos</td>\n",
       "    </tr>\n",
       "    <tr>\n",
       "      <th>8</th>\n",
       "      <td>42</td>\n",
       "      <td>9</td>\n",
       "      <td>Bug</td>\n",
       "      <td>Terry McDonough</td>\n",
       "      <td>Moira Walley-Beckett &amp; Thomas Schnauz</td>\n",
       "      <td>1.89[46]</td>\n",
       "      <td>11 de setembro de 2011</td>\n",
       "      <td>Estados Unidos</td>\n",
       "    </tr>\n",
       "    <tr>\n",
       "      <th>9</th>\n",
       "      <td>43</td>\n",
       "      <td>10</td>\n",
       "      <td>Salud</td>\n",
       "      <td>Michelle MacLaren</td>\n",
       "      <td>Peter Gould &amp; Gennifer Hutchison</td>\n",
       "      <td>1.80[47]</td>\n",
       "      <td>18 de setembro de 2011</td>\n",
       "      <td>Estados Unidos</td>\n",
       "    </tr>\n",
       "    <tr>\n",
       "      <th>10</th>\n",
       "      <td>44</td>\n",
       "      <td>11</td>\n",
       "      <td>Crawl Space</td>\n",
       "      <td>Scott Winant</td>\n",
       "      <td>George Mastras &amp; Sam Catlin</td>\n",
       "      <td>1.55[48]</td>\n",
       "      <td>25 de setembro de 2011</td>\n",
       "      <td>Estados Unidos</td>\n",
       "    </tr>\n",
       "    <tr>\n",
       "      <th>11</th>\n",
       "      <td>45</td>\n",
       "      <td>12</td>\n",
       "      <td>End Times</td>\n",
       "      <td>Vince Gilligan</td>\n",
       "      <td>Thomas Schnauz &amp; Moira Walley-Beckett</td>\n",
       "      <td>1.73[49]</td>\n",
       "      <td>2 de outubro de 2011</td>\n",
       "      <td>Estados Unidos</td>\n",
       "    </tr>\n",
       "    <tr>\n",
       "      <th>12</th>\n",
       "      <td>46</td>\n",
       "      <td>13</td>\n",
       "      <td>Face Off</td>\n",
       "      <td>Vince Gilligan</td>\n",
       "      <td>Vince Gilligan</td>\n",
       "      <td>1.90[50]</td>\n",
       "      <td>9 de outubro de 2011</td>\n",
       "      <td>Estados Unidos</td>\n",
       "    </tr>\n",
       "  </tbody>\n",
       "</table>\n",
       "</div>"
      ],
      "text/plain": [
       "    Nº  Nº.1             Título      Dirigido por:  \\\n",
       "0   34     1         Box Cutter     Adam Bernstein   \n",
       "1   35     2  Thirty-Eight Snub  Michelle MacLaren   \n",
       "2   36     3         Open House        David Slade   \n",
       "3   37     4      Bullet Points      Colin Bucksey   \n",
       "4   38     5            Shotgun  Michelle MacLaren   \n",
       "5   39     6           Cornered     Michael Slovis   \n",
       "6   40     7        Problem Dog        Peter Gould   \n",
       "7   41     8           Hermanos        Johan Renck   \n",
       "8   42     9                Bug    Terry McDonough   \n",
       "9   43    10              Salud  Michelle MacLaren   \n",
       "10  44    11        Crawl Space       Scott Winant   \n",
       "11  45    12          End Times     Vince Gilligan   \n",
       "12  46    13           Face Off     Vince Gilligan   \n",
       "\n",
       "                             Escrito por: Audiência       Exibição Original  \\\n",
       "0                          Vince Gilligan  2.58[38]     17 de julho de 2011   \n",
       "1                          George Mastras  1.97[39]     24 de julho de 2011   \n",
       "2                              Sam Catlin  1.71[40]     31 de julho de 2011   \n",
       "3                    Moira Walley-Beckett  1.83[41]     7 de agosto de 2011   \n",
       "4                          Thomas Schnauz  1.75[42]    14 de agosto de 2011   \n",
       "5                      Gennifer Hutchison  1.67[43]    21 de agosto de 2011   \n",
       "6                             Peter Gould  1.91[44]    28 de agosto de 2011   \n",
       "7             Sam Catlin & George Mastras  1.98[45]   4 de setembro de 2011   \n",
       "8   Moira Walley-Beckett & Thomas Schnauz  1.89[46]  11 de setembro de 2011   \n",
       "9        Peter Gould & Gennifer Hutchison  1.80[47]  18 de setembro de 2011   \n",
       "10            George Mastras & Sam Catlin  1.55[48]  25 de setembro de 2011   \n",
       "11  Thomas Schnauz & Moira Walley-Beckett  1.73[49]    2 de outubro de 2011   \n",
       "12                         Vince Gilligan  1.90[50]    9 de outubro de 2011   \n",
       "\n",
       "              País  \n",
       "0   Estados Unidos  \n",
       "1   Estados Unidos  \n",
       "2   Estados Unidos  \n",
       "3   Estados Unidos  \n",
       "4   Estados Unidos  \n",
       "5   Estados Unidos  \n",
       "6   Estados Unidos  \n",
       "7   Estados Unidos  \n",
       "8   Estados Unidos  \n",
       "9   Estados Unidos  \n",
       "10  Estados Unidos  \n",
       "11  Estados Unidos  \n",
       "12  Estados Unidos  "
      ]
     },
     "execution_count": 137,
     "metadata": {},
     "output_type": "execute_result"
    }
   ],
   "source": [
    "breaking_bad_temporada_4[\"pais\"]=\"Estados Unidos\"\n",
    "breaking_bad_temporada_4"
   ]
  },
  {
   "cell_type": "code",
   "execution_count": 138,
   "metadata": {},
   "outputs": [
    {
     "data": {
      "text/html": [
       "<div>\n",
       "<style>\n",
       "    .dataframe thead tr:only-child th {\n",
       "        text-align: right;\n",
       "    }\n",
       "\n",
       "    .dataframe thead th {\n",
       "        text-align: left;\n",
       "    }\n",
       "\n",
       "    .dataframe tbody tr th {\n",
       "        vertical-align: top;\n",
       "    }\n",
       "</style>\n",
       "<table border=\"1\" class=\"dataframe\">\n",
       "  <thead>\n",
       "    <tr style=\"text-align: right;\">\n",
       "      <th></th>\n",
       "      <th>Nº</th>\n",
       "      <th>Nº.1</th>\n",
       "      <th>Título</th>\n",
       "      <th>Dirigido por:</th>\n",
       "      <th>Escrito por:</th>\n",
       "      <th>Audiência</th>\n",
       "      <th>Exibição Original</th>\n",
       "      <th>País</th>\n",
       "      <th>Contador</th>\n",
       "    </tr>\n",
       "  </thead>\n",
       "  <tbody>\n",
       "    <tr>\n",
       "      <th>0</th>\n",
       "      <td>34</td>\n",
       "      <td>1</td>\n",
       "      <td>Box Cutter</td>\n",
       "      <td>Adam Bernstein</td>\n",
       "      <td>Vince Gilligan</td>\n",
       "      <td>2.58[38]</td>\n",
       "      <td>17 de julho de 2011</td>\n",
       "      <td>Estados Unidos</td>\n",
       "      <td>0</td>\n",
       "    </tr>\n",
       "    <tr>\n",
       "      <th>1</th>\n",
       "      <td>35</td>\n",
       "      <td>2</td>\n",
       "      <td>Thirty-Eight Snub</td>\n",
       "      <td>Michelle MacLaren</td>\n",
       "      <td>George Mastras</td>\n",
       "      <td>1.97[39]</td>\n",
       "      <td>24 de julho de 2011</td>\n",
       "      <td>Estados Unidos</td>\n",
       "      <td>1</td>\n",
       "    </tr>\n",
       "    <tr>\n",
       "      <th>2</th>\n",
       "      <td>36</td>\n",
       "      <td>3</td>\n",
       "      <td>Open House</td>\n",
       "      <td>David Slade</td>\n",
       "      <td>Sam Catlin</td>\n",
       "      <td>1.71[40]</td>\n",
       "      <td>31 de julho de 2011</td>\n",
       "      <td>Estados Unidos</td>\n",
       "      <td>2</td>\n",
       "    </tr>\n",
       "    <tr>\n",
       "      <th>3</th>\n",
       "      <td>37</td>\n",
       "      <td>4</td>\n",
       "      <td>Bullet Points</td>\n",
       "      <td>Colin Bucksey</td>\n",
       "      <td>Moira Walley-Beckett</td>\n",
       "      <td>1.83[41]</td>\n",
       "      <td>7 de agosto de 2011</td>\n",
       "      <td>Estados Unidos</td>\n",
       "      <td>3</td>\n",
       "    </tr>\n",
       "    <tr>\n",
       "      <th>4</th>\n",
       "      <td>38</td>\n",
       "      <td>5</td>\n",
       "      <td>Shotgun</td>\n",
       "      <td>Michelle MacLaren</td>\n",
       "      <td>Thomas Schnauz</td>\n",
       "      <td>1.75[42]</td>\n",
       "      <td>14 de agosto de 2011</td>\n",
       "      <td>Estados Unidos</td>\n",
       "      <td>4</td>\n",
       "    </tr>\n",
       "    <tr>\n",
       "      <th>5</th>\n",
       "      <td>39</td>\n",
       "      <td>6</td>\n",
       "      <td>Cornered</td>\n",
       "      <td>Michael Slovis</td>\n",
       "      <td>Gennifer Hutchison</td>\n",
       "      <td>1.67[43]</td>\n",
       "      <td>21 de agosto de 2011</td>\n",
       "      <td>Estados Unidos</td>\n",
       "      <td>5</td>\n",
       "    </tr>\n",
       "    <tr>\n",
       "      <th>6</th>\n",
       "      <td>40</td>\n",
       "      <td>7</td>\n",
       "      <td>Problem Dog</td>\n",
       "      <td>Peter Gould</td>\n",
       "      <td>Peter Gould</td>\n",
       "      <td>1.91[44]</td>\n",
       "      <td>28 de agosto de 2011</td>\n",
       "      <td>Estados Unidos</td>\n",
       "      <td>6</td>\n",
       "    </tr>\n",
       "    <tr>\n",
       "      <th>7</th>\n",
       "      <td>41</td>\n",
       "      <td>8</td>\n",
       "      <td>Hermanos</td>\n",
       "      <td>Johan Renck</td>\n",
       "      <td>Sam Catlin &amp; George Mastras</td>\n",
       "      <td>1.98[45]</td>\n",
       "      <td>4 de setembro de 2011</td>\n",
       "      <td>Estados Unidos</td>\n",
       "      <td>7</td>\n",
       "    </tr>\n",
       "    <tr>\n",
       "      <th>8</th>\n",
       "      <td>42</td>\n",
       "      <td>9</td>\n",
       "      <td>Bug</td>\n",
       "      <td>Terry McDonough</td>\n",
       "      <td>Moira Walley-Beckett &amp; Thomas Schnauz</td>\n",
       "      <td>1.89[46]</td>\n",
       "      <td>11 de setembro de 2011</td>\n",
       "      <td>Estados Unidos</td>\n",
       "      <td>8</td>\n",
       "    </tr>\n",
       "    <tr>\n",
       "      <th>9</th>\n",
       "      <td>43</td>\n",
       "      <td>10</td>\n",
       "      <td>Salud</td>\n",
       "      <td>Michelle MacLaren</td>\n",
       "      <td>Peter Gould &amp; Gennifer Hutchison</td>\n",
       "      <td>1.80[47]</td>\n",
       "      <td>18 de setembro de 2011</td>\n",
       "      <td>Estados Unidos</td>\n",
       "      <td>9</td>\n",
       "    </tr>\n",
       "    <tr>\n",
       "      <th>10</th>\n",
       "      <td>44</td>\n",
       "      <td>11</td>\n",
       "      <td>Crawl Space</td>\n",
       "      <td>Scott Winant</td>\n",
       "      <td>George Mastras &amp; Sam Catlin</td>\n",
       "      <td>1.55[48]</td>\n",
       "      <td>25 de setembro de 2011</td>\n",
       "      <td>Estados Unidos</td>\n",
       "      <td>10</td>\n",
       "    </tr>\n",
       "    <tr>\n",
       "      <th>11</th>\n",
       "      <td>45</td>\n",
       "      <td>12</td>\n",
       "      <td>End Times</td>\n",
       "      <td>Vince Gilligan</td>\n",
       "      <td>Thomas Schnauz &amp; Moira Walley-Beckett</td>\n",
       "      <td>1.73[49]</td>\n",
       "      <td>2 de outubro de 2011</td>\n",
       "      <td>Estados Unidos</td>\n",
       "      <td>11</td>\n",
       "    </tr>\n",
       "    <tr>\n",
       "      <th>12</th>\n",
       "      <td>46</td>\n",
       "      <td>13</td>\n",
       "      <td>Face Off</td>\n",
       "      <td>Vince Gilligan</td>\n",
       "      <td>Vince Gilligan</td>\n",
       "      <td>1.90[50]</td>\n",
       "      <td>9 de outubro de 2011</td>\n",
       "      <td>Estados Unidos</td>\n",
       "      <td>12</td>\n",
       "    </tr>\n",
       "  </tbody>\n",
       "</table>\n",
       "</div>"
      ],
      "text/plain": [
       "    Nº  Nº.1             Título      Dirigido por:  \\\n",
       "0   34     1         Box Cutter     Adam Bernstein   \n",
       "1   35     2  Thirty-Eight Snub  Michelle MacLaren   \n",
       "2   36     3         Open House        David Slade   \n",
       "3   37     4      Bullet Points      Colin Bucksey   \n",
       "4   38     5            Shotgun  Michelle MacLaren   \n",
       "5   39     6           Cornered     Michael Slovis   \n",
       "6   40     7        Problem Dog        Peter Gould   \n",
       "7   41     8           Hermanos        Johan Renck   \n",
       "8   42     9                Bug    Terry McDonough   \n",
       "9   43    10              Salud  Michelle MacLaren   \n",
       "10  44    11        Crawl Space       Scott Winant   \n",
       "11  45    12          End Times     Vince Gilligan   \n",
       "12  46    13           Face Off     Vince Gilligan   \n",
       "\n",
       "                             Escrito por: Audiência       Exibição Original  \\\n",
       "0                          Vince Gilligan  2.58[38]     17 de julho de 2011   \n",
       "1                          George Mastras  1.97[39]     24 de julho de 2011   \n",
       "2                              Sam Catlin  1.71[40]     31 de julho de 2011   \n",
       "3                    Moira Walley-Beckett  1.83[41]     7 de agosto de 2011   \n",
       "4                          Thomas Schnauz  1.75[42]    14 de agosto de 2011   \n",
       "5                      Gennifer Hutchison  1.67[43]    21 de agosto de 2011   \n",
       "6                             Peter Gould  1.91[44]    28 de agosto de 2011   \n",
       "7             Sam Catlin & George Mastras  1.98[45]   4 de setembro de 2011   \n",
       "8   Moira Walley-Beckett & Thomas Schnauz  1.89[46]  11 de setembro de 2011   \n",
       "9        Peter Gould & Gennifer Hutchison  1.80[47]  18 de setembro de 2011   \n",
       "10            George Mastras & Sam Catlin  1.55[48]  25 de setembro de 2011   \n",
       "11  Thomas Schnauz & Moira Walley-Beckett  1.73[49]    2 de outubro de 2011   \n",
       "12                         Vince Gilligan  1.90[50]    9 de outubro de 2011   \n",
       "\n",
       "              País  Contador  \n",
       "0   Estados Unidos         0  \n",
       "1   Estados Unidos         1  \n",
       "2   Estados Unidos         2  \n",
       "3   Estados Unidos         3  \n",
       "4   Estados Unidos         4  \n",
       "5   Estados Unidos         5  \n",
       "6   Estados Unidos         6  \n",
       "7   Estados Unidos         7  \n",
       "8   Estados Unidos         8  \n",
       "9   Estados Unidos         9  \n",
       "10  Estados Unidos        10  \n",
       "11  Estados Unidos        11  \n",
       "12  Estados Unidos        12  "
      ]
     },
     "execution_count": 138,
     "metadata": {},
     "output_type": "execute_result"
    }
   ],
   "source": [
    "breaking_bad_temporada_4[\"pais\"] = \"Estados Unidos\"\n",
    "breaking_bad_temporada_4[\"Contador\"] = np.arange(13)\n",
    "breaking_bad_temporada_4"
   ]
  },
  {
   "cell_type": "markdown",
   "metadata": {},
   "source": [
    "Convertendo um dicionário em Dataframe"
   ]
  },
  {
   "cell_type": "code",
   "execution_count": 139,
   "metadata": {},
   "outputs": [
    {
     "data": {
      "text/plain": [
       "{'Cidade': ['Santo André', 'São Paulo', 'São José dos Campos'],\n",
       " 'Estado': ['SP', 'SP', 'SP']}"
      ]
     },
     "execution_count": 139,
     "metadata": {},
     "output_type": "execute_result"
    }
   ],
   "source": [
    "dict_cidade = {\"Cidade\":[\"Santo André\", \"São Paulo\", \"São José dos Campos\"], \"Estado\":[\"SP\", \"SP\", \"SP\"]} \n",
    "dict_cidade"
   ]
  },
  {
   "cell_type": "code",
   "execution_count": 140,
   "metadata": {},
   "outputs": [
    {
     "data": {
      "text/html": [
       "<div>\n",
       "<style>\n",
       "    .dataframe thead tr:only-child th {\n",
       "        text-align: right;\n",
       "    }\n",
       "\n",
       "    .dataframe thead th {\n",
       "        text-align: left;\n",
       "    }\n",
       "\n",
       "    .dataframe tbody tr th {\n",
       "        vertical-align: top;\n",
       "    }\n",
       "</style>\n",
       "<table border=\"1\" class=\"dataframe\">\n",
       "  <thead>\n",
       "    <tr style=\"text-align: right;\">\n",
       "      <th></th>\n",
       "      <th>Cidade</th>\n",
       "      <th>Estado</th>\n",
       "    </tr>\n",
       "  </thead>\n",
       "  <tbody>\n",
       "    <tr>\n",
       "      <th>0</th>\n",
       "      <td>Santo André</td>\n",
       "      <td>SP</td>\n",
       "    </tr>\n",
       "    <tr>\n",
       "      <th>1</th>\n",
       "      <td>São Paulo</td>\n",
       "      <td>SP</td>\n",
       "    </tr>\n",
       "    <tr>\n",
       "      <th>2</th>\n",
       "      <td>São José dos Campos</td>\n",
       "      <td>SP</td>\n",
       "    </tr>\n",
       "  </tbody>\n",
       "</table>\n",
       "</div>"
      ],
      "text/plain": [
       "                Cidade Estado\n",
       "0          Santo André     SP\n",
       "1            São Paulo     SP\n",
       "2  São José dos Campos     SP"
      ]
     },
     "execution_count": 140,
     "metadata": {},
     "output_type": "execute_result"
    }
   ],
   "source": [
    "df_cidade = DataFrame(dict_cidade)\n",
    "df_cidade"
   ]
  },
  {
   "cell_type": "markdown",
   "metadata": {
    "collapsed": true
   },
   "source": [
    "### Reindexing"
   ]
  },
  {
   "cell_type": "code",
   "execution_count": 141,
   "metadata": {},
   "outputs": [
    {
     "data": {
      "text/plain": [
       "a    1\n",
       "b    2\n",
       "c    3\n",
       "d    4\n",
       "e    5\n",
       "dtype: int64"
      ]
     },
     "execution_count": 141,
     "metadata": {},
     "output_type": "execute_result"
    }
   ],
   "source": [
    "serie_1 = Series([1,2,3,4,5], index = [\"a\", \"b\", \"c\", \"d\", \"e\"])\n",
    "serie_1"
   ]
  },
  {
   "cell_type": "code",
   "execution_count": 142,
   "metadata": {},
   "outputs": [
    {
     "data": {
      "text/plain": [
       "a    1.0\n",
       "b    2.0\n",
       "c    3.0\n",
       "d    4.0\n",
       "e    5.0\n",
       "f    NaN\n",
       "g    NaN\n",
       "h    NaN\n",
       "dtype: float64"
      ]
     },
     "execution_count": 142,
     "metadata": {},
     "output_type": "execute_result"
    }
   ],
   "source": [
    "serie_2 = serie_1.reindex( [\"a\", \"b\", \"c\", \"d\", \"e\", \"f\", \"g\", \"h\"])\n",
    "serie_2"
   ]
  },
  {
   "cell_type": "code",
   "execution_count": 143,
   "metadata": {},
   "outputs": [
    {
     "data": {
      "text/plain": [
       "a    1\n",
       "b    2\n",
       "c    3\n",
       "d    4\n",
       "e    5\n",
       "f    0\n",
       "g    0\n",
       "h    0\n",
       "dtype: int64"
      ]
     },
     "execution_count": 143,
     "metadata": {},
     "output_type": "execute_result"
    }
   ],
   "source": [
    "serie_2 = serie_1.reindex( [\"a\", \"b\", \"c\", \"d\", \"e\", \"f\", \"g\", \"h\"], fill_value=0)\n",
    "serie_2"
   ]
  },
  {
   "cell_type": "code",
   "execution_count": 144,
   "metadata": {},
   "outputs": [
    {
     "data": {
      "text/plain": [
       "0    Santa Catarina\n",
       "5       Santo André\n",
       "8     Santo Antônio\n",
       "dtype: object"
      ]
     },
     "execution_count": 144,
     "metadata": {},
     "output_type": "execute_result"
    }
   ],
   "source": [
    "serie_3 = Series([\"Santa Catarina\", \"Santo André\", \"Santo Antônio\"], index = [0, 5, 8])\n",
    "serie_3"
   ]
  },
  {
   "cell_type": "code",
   "execution_count": 145,
   "metadata": {},
   "outputs": [
    {
     "data": {
      "text/plain": [
       "range(0, 15)"
      ]
     },
     "execution_count": 145,
     "metadata": {},
     "output_type": "execute_result"
    }
   ],
   "source": [
    "index_range = range(15)\n",
    "index_range"
   ]
  },
  {
   "cell_type": "markdown",
   "metadata": {},
   "source": [
    "Documentação do Reindex\n",
    "https://pandas.pydata.org/pandas-docs/stable/generated/pandas.DataFrame.reindex.html\n",
    "\n",
    "O method tem as seguintes possibilidades:\n",
    "\n",
    "method : {None, ‘backfill’/’bfill’, ‘pad’/’ffill’, ‘nearest’}, optional\n",
    "\n",
    "method to use for filling holes in reindexed DataFrame. Please note: this is only applicable to DataFrames/Series with a monotonically increasing/decreasing index.\n",
    "\n",
    "* default: don’t fill gaps\n",
    "* pad / ffill: propagate last valid observation forward to next valid\n",
    "* backfill / bfill: use next valid observation to fill gap\n",
    "* nearest: use nearest valid observations to fill gap"
   ]
  },
  {
   "cell_type": "code",
   "execution_count": 146,
   "metadata": {},
   "outputs": [
    {
     "data": {
      "text/plain": [
       "0     Santa Catarina\n",
       "1     Santa Catarina\n",
       "2     Santa Catarina\n",
       "3     Santa Catarina\n",
       "4     Santa Catarina\n",
       "5        Santo André\n",
       "6        Santo André\n",
       "7        Santo André\n",
       "8      Santo Antônio\n",
       "9      Santo Antônio\n",
       "10     Santo Antônio\n",
       "11     Santo Antônio\n",
       "12     Santo Antônio\n",
       "13     Santo Antônio\n",
       "14     Santo Antônio\n",
       "dtype: object"
      ]
     },
     "execution_count": 146,
     "metadata": {},
     "output_type": "execute_result"
    }
   ],
   "source": [
    "serie_4 = serie_3.reindex(index_range, method=\"ffill\")\n",
    "serie_4"
   ]
  },
  {
   "cell_type": "code",
   "execution_count": 147,
   "metadata": {},
   "outputs": [
    {
     "data": {
      "text/plain": [
       "0     Santa Catarina\n",
       "1        Santo André\n",
       "2        Santo André\n",
       "3        Santo André\n",
       "4        Santo André\n",
       "5        Santo André\n",
       "6      Santo Antônio\n",
       "7      Santo Antônio\n",
       "8      Santo Antônio\n",
       "9                NaN\n",
       "10               NaN\n",
       "11               NaN\n",
       "12               NaN\n",
       "13               NaN\n",
       "14               NaN\n",
       "dtype: object"
      ]
     },
     "execution_count": 147,
     "metadata": {},
     "output_type": "execute_result"
    }
   ],
   "source": [
    "serie_4 = serie_3.reindex(index_range, method=\"bfill\")\n",
    "serie_4"
   ]
  },
  {
   "cell_type": "code",
   "execution_count": 148,
   "metadata": {},
   "outputs": [
    {
     "data": {
      "text/plain": [
       "0     Santa Catarina\n",
       "1     Santa Catarina\n",
       "2     Santa Catarina\n",
       "3        Santo André\n",
       "4        Santo André\n",
       "5        Santo André\n",
       "6        Santo André\n",
       "7      Santo Antônio\n",
       "8      Santo Antônio\n",
       "9      Santo Antônio\n",
       "10     Santo Antônio\n",
       "11     Santo Antônio\n",
       "12     Santo Antônio\n",
       "13     Santo Antônio\n",
       "14     Santo Antônio\n",
       "dtype: object"
      ]
     },
     "execution_count": 148,
     "metadata": {},
     "output_type": "execute_result"
    }
   ],
   "source": [
    "serie_4 = serie_3.reindex(index_range, method=\"nearest\")\n",
    "serie_4"
   ]
  },
  {
   "cell_type": "markdown",
   "metadata": {},
   "source": [
    "Utilizando em Dataframes"
   ]
  },
  {
   "cell_type": "code",
   "execution_count": 152,
   "metadata": {},
   "outputs": [
    {
     "data": {
      "text/html": [
       "<div>\n",
       "<style>\n",
       "    .dataframe thead tr:only-child th {\n",
       "        text-align: right;\n",
       "    }\n",
       "\n",
       "    .dataframe thead th {\n",
       "        text-align: left;\n",
       "    }\n",
       "\n",
       "    .dataframe tbody tr th {\n",
       "        vertical-align: top;\n",
       "    }\n",
       "</style>\n",
       "<table border=\"1\" class=\"dataframe\">\n",
       "  <thead>\n",
       "    <tr style=\"text-align: right;\">\n",
       "      <th></th>\n",
       "      <th>col_1</th>\n",
       "      <th>col_2</th>\n",
       "      <th>col_3</th>\n",
       "      <th>col_4</th>\n",
       "      <th>col_5</th>\n",
       "    </tr>\n",
       "  </thead>\n",
       "  <tbody>\n",
       "    <tr>\n",
       "      <th>a</th>\n",
       "      <td>0.983838</td>\n",
       "      <td>-1.437066</td>\n",
       "      <td>1.773980</td>\n",
       "      <td>1.154571</td>\n",
       "      <td>-1.936825</td>\n",
       "    </tr>\n",
       "    <tr>\n",
       "      <th>b</th>\n",
       "      <td>1.521577</td>\n",
       "      <td>-0.445587</td>\n",
       "      <td>-1.297115</td>\n",
       "      <td>0.115884</td>\n",
       "      <td>0.025427</td>\n",
       "    </tr>\n",
       "    <tr>\n",
       "      <th>d</th>\n",
       "      <td>2.453676</td>\n",
       "      <td>-2.187166</td>\n",
       "      <td>0.521424</td>\n",
       "      <td>-1.384558</td>\n",
       "      <td>0.948770</td>\n",
       "    </tr>\n",
       "    <tr>\n",
       "      <th>e</th>\n",
       "      <td>0.052354</td>\n",
       "      <td>1.846954</td>\n",
       "      <td>0.921501</td>\n",
       "      <td>-0.035536</td>\n",
       "      <td>0.129741</td>\n",
       "    </tr>\n",
       "    <tr>\n",
       "      <th>f</th>\n",
       "      <td>1.223859</td>\n",
       "      <td>-0.879815</td>\n",
       "      <td>-0.967171</td>\n",
       "      <td>-2.257573</td>\n",
       "      <td>-0.523790</td>\n",
       "    </tr>\n",
       "  </tbody>\n",
       "</table>\n",
       "</div>"
      ],
      "text/plain": [
       "      col_1     col_2     col_3     col_4     col_5\n",
       "a  0.983838 -1.437066  1.773980  1.154571 -1.936825\n",
       "b  1.521577 -0.445587 -1.297115  0.115884  0.025427\n",
       "d  2.453676 -2.187166  0.521424 -1.384558  0.948770\n",
       "e  0.052354  1.846954  0.921501 -0.035536  0.129741\n",
       "f  1.223859 -0.879815 -0.967171 -2.257573 -0.523790"
      ]
     },
     "execution_count": 152,
     "metadata": {},
     "output_type": "execute_result"
    }
   ],
   "source": [
    "data_frame = DataFrame(np.random.randn(25).reshape((5,5)), \n",
    "          index=[\"a\", \"b\", \"d\", \"e\", \"f\"], \n",
    "          columns=[\"col_1\", \"col_2\", \"col_3\", \"col_4\", \"col_5\"])\n",
    "data_frame"
   ]
  },
  {
   "cell_type": "code",
   "execution_count": 150,
   "metadata": {},
   "outputs": [
    {
     "data": {
      "text/html": [
       "<div>\n",
       "<style>\n",
       "    .dataframe thead tr:only-child th {\n",
       "        text-align: right;\n",
       "    }\n",
       "\n",
       "    .dataframe thead th {\n",
       "        text-align: left;\n",
       "    }\n",
       "\n",
       "    .dataframe tbody tr th {\n",
       "        vertical-align: top;\n",
       "    }\n",
       "</style>\n",
       "<table border=\"1\" class=\"dataframe\">\n",
       "  <thead>\n",
       "    <tr style=\"text-align: right;\">\n",
       "      <th></th>\n",
       "      <th>col_1</th>\n",
       "      <th>col_2</th>\n",
       "      <th>col_3</th>\n",
       "      <th>col_4</th>\n",
       "      <th>col_5</th>\n",
       "    </tr>\n",
       "  </thead>\n",
       "  <tbody>\n",
       "    <tr>\n",
       "      <th>a</th>\n",
       "      <td>0.008827</td>\n",
       "      <td>-0.138637</td>\n",
       "      <td>-1.031740</td>\n",
       "      <td>-0.485992</td>\n",
       "      <td>2.490055</td>\n",
       "    </tr>\n",
       "    <tr>\n",
       "      <th>b</th>\n",
       "      <td>0.348574</td>\n",
       "      <td>-0.882852</td>\n",
       "      <td>-0.180926</td>\n",
       "      <td>0.311109</td>\n",
       "      <td>0.774995</td>\n",
       "    </tr>\n",
       "    <tr>\n",
       "      <th>c</th>\n",
       "      <td>0.348574</td>\n",
       "      <td>-0.882852</td>\n",
       "      <td>-0.180926</td>\n",
       "      <td>0.311109</td>\n",
       "      <td>0.774995</td>\n",
       "    </tr>\n",
       "    <tr>\n",
       "      <th>d</th>\n",
       "      <td>-1.341370</td>\n",
       "      <td>0.643482</td>\n",
       "      <td>1.504623</td>\n",
       "      <td>0.211559</td>\n",
       "      <td>0.141409</td>\n",
       "    </tr>\n",
       "    <tr>\n",
       "      <th>e</th>\n",
       "      <td>0.136749</td>\n",
       "      <td>0.644035</td>\n",
       "      <td>-2.363881</td>\n",
       "      <td>0.268204</td>\n",
       "      <td>-1.843185</td>\n",
       "    </tr>\n",
       "    <tr>\n",
       "      <th>f</th>\n",
       "      <td>-0.655100</td>\n",
       "      <td>-0.598666</td>\n",
       "      <td>-1.281287</td>\n",
       "      <td>-0.588305</td>\n",
       "      <td>-1.819364</td>\n",
       "    </tr>\n",
       "  </tbody>\n",
       "</table>\n",
       "</div>"
      ],
      "text/plain": [
       "      col_1     col_2     col_3     col_4     col_5\n",
       "a  0.008827 -0.138637 -1.031740 -0.485992  2.490055\n",
       "b  0.348574 -0.882852 -0.180926  0.311109  0.774995\n",
       "c  0.348574 -0.882852 -0.180926  0.311109  0.774995\n",
       "d -1.341370  0.643482  1.504623  0.211559  0.141409\n",
       "e  0.136749  0.644035 -2.363881  0.268204 -1.843185\n",
       "f -0.655100 -0.598666 -1.281287 -0.588305 -1.819364"
      ]
     },
     "execution_count": 150,
     "metadata": {},
     "output_type": "execute_result"
    }
   ],
   "source": [
    "data_frame_2 = data_frame.reindex(index=[\"a\", \"b\", \"c\", \"d\", \"e\", \"f\"], method=\"ffill\")\n",
    "data_frame_2"
   ]
  },
  {
   "cell_type": "code",
   "execution_count": 151,
   "metadata": {},
   "outputs": [
    {
     "data": {
      "text/html": [
       "<div>\n",
       "<style>\n",
       "    .dataframe thead tr:only-child th {\n",
       "        text-align: right;\n",
       "    }\n",
       "\n",
       "    .dataframe thead th {\n",
       "        text-align: left;\n",
       "    }\n",
       "\n",
       "    .dataframe tbody tr th {\n",
       "        vertical-align: top;\n",
       "    }\n",
       "</style>\n",
       "<table border=\"1\" class=\"dataframe\">\n",
       "  <thead>\n",
       "    <tr style=\"text-align: right;\">\n",
       "      <th></th>\n",
       "      <th>col_1</th>\n",
       "      <th>col_2</th>\n",
       "      <th>col_3</th>\n",
       "      <th>col_4</th>\n",
       "      <th>col_5</th>\n",
       "      <th>col_6</th>\n",
       "    </tr>\n",
       "  </thead>\n",
       "  <tbody>\n",
       "    <tr>\n",
       "      <th>a</th>\n",
       "      <td>0.008827</td>\n",
       "      <td>-0.138637</td>\n",
       "      <td>-1.031740</td>\n",
       "      <td>-0.485992</td>\n",
       "      <td>2.490055</td>\n",
       "      <td>5</td>\n",
       "    </tr>\n",
       "    <tr>\n",
       "      <th>b</th>\n",
       "      <td>0.348574</td>\n",
       "      <td>-0.882852</td>\n",
       "      <td>-0.180926</td>\n",
       "      <td>0.311109</td>\n",
       "      <td>0.774995</td>\n",
       "      <td>5</td>\n",
       "    </tr>\n",
       "    <tr>\n",
       "      <th>c</th>\n",
       "      <td>0.348574</td>\n",
       "      <td>-0.882852</td>\n",
       "      <td>-0.180926</td>\n",
       "      <td>0.311109</td>\n",
       "      <td>0.774995</td>\n",
       "      <td>5</td>\n",
       "    </tr>\n",
       "    <tr>\n",
       "      <th>d</th>\n",
       "      <td>-1.341370</td>\n",
       "      <td>0.643482</td>\n",
       "      <td>1.504623</td>\n",
       "      <td>0.211559</td>\n",
       "      <td>0.141409</td>\n",
       "      <td>5</td>\n",
       "    </tr>\n",
       "    <tr>\n",
       "      <th>e</th>\n",
       "      <td>0.136749</td>\n",
       "      <td>0.644035</td>\n",
       "      <td>-2.363881</td>\n",
       "      <td>0.268204</td>\n",
       "      <td>-1.843185</td>\n",
       "      <td>5</td>\n",
       "    </tr>\n",
       "    <tr>\n",
       "      <th>f</th>\n",
       "      <td>-0.655100</td>\n",
       "      <td>-0.598666</td>\n",
       "      <td>-1.281287</td>\n",
       "      <td>-0.588305</td>\n",
       "      <td>-1.819364</td>\n",
       "      <td>5</td>\n",
       "    </tr>\n",
       "  </tbody>\n",
       "</table>\n",
       "</div>"
      ],
      "text/plain": [
       "      col_1     col_2     col_3     col_4     col_5  col_6\n",
       "a  0.008827 -0.138637 -1.031740 -0.485992  2.490055      5\n",
       "b  0.348574 -0.882852 -0.180926  0.311109  0.774995      5\n",
       "c  0.348574 -0.882852 -0.180926  0.311109  0.774995      5\n",
       "d -1.341370  0.643482  1.504623  0.211559  0.141409      5\n",
       "e  0.136749  0.644035 -2.363881  0.268204 -1.843185      5\n",
       "f -0.655100 -0.598666 -1.281287 -0.588305 -1.819364      5"
      ]
     },
     "execution_count": 151,
     "metadata": {},
     "output_type": "execute_result"
    }
   ],
   "source": [
    "data_frame_2 = data_frame_2.reindex(columns=[\"col_1\", \"col_2\", \"col_3\", \"col_4\", \"col_5\", \"col_6\"], fill_value=5)\n",
    "data_frame_2"
   ]
  }
 ],
 "metadata": {
  "kernelspec": {
   "display_name": "Python 3",
   "language": "python",
   "name": "python3"
  },
  "language_info": {
   "codemirror_mode": {
    "name": "ipython",
    "version": 3
   },
   "file_extension": ".py",
   "mimetype": "text/x-python",
   "name": "python",
   "nbconvert_exporter": "python",
   "pygments_lexer": "ipython3",
   "version": "3.6.2"
  }
 },
 "nbformat": 4,
 "nbformat_minor": 2
}
