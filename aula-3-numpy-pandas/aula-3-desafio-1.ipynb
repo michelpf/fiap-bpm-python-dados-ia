{
 "cells": [
  {
   "cell_type": "markdown",
   "source": [
    "## Desafio 1\r\n",
    "___"
   ],
   "metadata": {}
  },
  {
   "cell_type": "markdown",
   "source": [
    "Supondo que uma imagem é composta por uma matriz 4 x 4, mapeie as letras a, d e j conforme a figura abaixo, sendo a cor cinza representada pelo bit 1 e a branca pelo bit 0.\n",
    "\n",
    "Hint: para inicializar as matrizes opte pelas estruturas np.ones e np.zeros e utilize *slice notation*."
   ],
   "metadata": {}
  },
  {
   "cell_type": "markdown",
   "source": [
    "<img src=\"challenge1.png\">"
   ],
   "metadata": {}
  },
  {
   "cell_type": "code",
   "execution_count": 2,
   "source": [
    "import numpy as np"
   ],
   "outputs": [],
   "metadata": {
    "collapsed": true
   }
  },
  {
   "cell_type": "code",
   "execution_count": 40,
   "source": [
    "def letra_a():\r\n",
    "    letra = np.zeros([4,4])\r\n",
    "    \r\n",
    "    letra[1:4, 0] = 1\r\n",
    "\r\n",
    "    letra[0,1] = 1 \r\n",
    "    letra[2,1] = 1 \r\n",
    "\r\n",
    "    letra[0,2] = 1 \r\n",
    "    letra[2,2] = 1 \r\n",
    "    \r\n",
    "    letra[1:4, 3] = 1\r\n",
    "        \r\n",
    "    return letra"
   ],
   "outputs": [],
   "metadata": {
    "collapsed": true
   }
  },
  {
   "cell_type": "code",
   "execution_count": 41,
   "source": [
    "def letra_d():\n",
    "    letra = np.zeros([4,4])\n",
    "\n",
    "    letra[:, 0] = 1\n",
    "\n",
    "    letra[0,1] = 1 \n",
    "    letra[3,1] = 1 \n",
    "\n",
    "    letra[0,2] = 1 \n",
    "    letra[3,2] = 1 \n",
    "\n",
    "    letra[1,3] = 1 \n",
    "    letra[2,3] = 1 \n",
    "    \n",
    "    return letra"
   ],
   "outputs": [],
   "metadata": {
    "collapsed": true
   }
  },
  {
   "cell_type": "code",
   "execution_count": 45,
   "source": [
    "def letra_j():\n",
    "    letra = np.zeros([4,4])\n",
    "\n",
    "    letra[0,0] = 1 \n",
    "    letra[2,0] = 1 \n",
    "    letra[3,0] = 1 \n",
    "    \n",
    "    letra[0,1] = 1 \n",
    "    letra[3,1] = 1 \n",
    "\n",
    "    letra[:, 2] = 1\n",
    "\n",
    "    letra[0,3] = 1 \n",
    "\n",
    "    return letra"
   ],
   "outputs": [],
   "metadata": {
    "collapsed": true
   }
  },
  {
   "cell_type": "code",
   "execution_count": 46,
   "source": [
    "letra_a()"
   ],
   "outputs": [
    {
     "output_type": "execute_result",
     "data": {
      "text/plain": [
       "array([[ 0.,  1.,  1.,  0.],\n",
       "       [ 1.,  0.,  0.,  1.],\n",
       "       [ 1.,  1.,  1.,  1.],\n",
       "       [ 1.,  0.,  0.,  1.]])"
      ]
     },
     "metadata": {},
     "execution_count": 46
    }
   ],
   "metadata": {}
  },
  {
   "cell_type": "code",
   "execution_count": 47,
   "source": [
    "letra_d()"
   ],
   "outputs": [
    {
     "output_type": "execute_result",
     "data": {
      "text/plain": [
       "array([[ 1.,  1.,  1.,  0.],\n",
       "       [ 1.,  0.,  0.,  1.],\n",
       "       [ 1.,  0.,  0.,  1.],\n",
       "       [ 1.,  1.,  1.,  0.]])"
      ]
     },
     "metadata": {},
     "execution_count": 47
    }
   ],
   "metadata": {}
  },
  {
   "cell_type": "code",
   "execution_count": 48,
   "source": [
    "letra_j()"
   ],
   "outputs": [
    {
     "output_type": "execute_result",
     "data": {
      "text/plain": [
       "array([[ 1.,  1.,  1.,  1.],\n",
       "       [ 0.,  0.,  1.,  0.],\n",
       "       [ 1.,  0.,  1.,  0.],\n",
       "       [ 1.,  1.,  1.,  0.]])"
      ]
     },
     "metadata": {},
     "execution_count": 48
    }
   ],
   "metadata": {}
  },
  {
   "cell_type": "code",
   "execution_count": null,
   "source": [],
   "outputs": [],
   "metadata": {
    "collapsed": true
   }
  }
 ],
 "metadata": {
  "kernelspec": {
   "display_name": "Python 3",
   "language": "python",
   "name": "python3"
  },
  "language_info": {
   "codemirror_mode": {
    "name": "ipython",
    "version": 3
   },
   "file_extension": ".py",
   "mimetype": "text/x-python",
   "name": "python",
   "nbconvert_exporter": "python",
   "pygments_lexer": "ipython3",
   "version": "3.6.2"
  }
 },
 "nbformat": 4,
 "nbformat_minor": 2
}