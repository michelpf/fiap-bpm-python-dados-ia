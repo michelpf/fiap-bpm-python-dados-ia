{
 "cells": [
  {
   "cell_type": "markdown",
   "metadata": {},
   "source": [
    "# Aula 3\n",
    "## Desafio 1\n",
    "___"
   ]
  },
  {
   "cell_type": "markdown",
   "metadata": {},
   "source": [
    "Supondo que uma imagem é composta por uma matriz 4 x 4, mapeie as letras a, d e j conforme a figura abaixo, sendo a cor cinza representada pelo bit 1 e a branca pelo bit 0.\n",
    "\n",
    "Hint: para inicializar as matrizes opte pelas estruturas np.ones e np.zeros e utilize *slice notation*."
   ]
  },
  {
   "cell_type": "markdown",
   "metadata": {},
   "source": [
    "<img src=\"challenge1.png\">"
   ]
  },
  {
   "cell_type": "code",
   "execution_count": 2,
   "metadata": {
    "collapsed": true
   },
   "outputs": [],
   "source": [
    "import numpy as np"
   ]
  },
  {
   "cell_type": "code",
   "execution_count": 40,
   "metadata": {
    "collapsed": true
   },
   "outputs": [],
   "source": [
    "def letra_a():\n",
    "    letra = np.zeros([4,4])\n",
    "    \n",
    "    letra[1:4, 0] = 1\n",
    "\n",
    "    letra[0,1] = 1 \n",
    "    letra[2,1] = 1 \n",
    "\n",
    "    letra[0,2] = 1 \n",
    "    letra[2,2] = 1 \n",
    "    \n",
    "    letra[1:4, 3] = 1\n",
    "        \n",
    "    return letra"
   ]
  },
  {
   "cell_type": "code",
   "execution_count": 41,
   "metadata": {
    "collapsed": true
   },
   "outputs": [],
   "source": [
    "def letra_d():\n",
    "    letra = np.zeros([4,4])\n",
    "\n",
    "    letra[:, 0] = 1\n",
    "\n",
    "    letra[0,1] = 1 \n",
    "    letra[3,1] = 1 \n",
    "\n",
    "    letra[0,2] = 1 \n",
    "    letra[3,2] = 1 \n",
    "\n",
    "    letra[1,3] = 1 \n",
    "    letra[2,3] = 1 \n",
    "    \n",
    "    return letra"
   ]
  },
  {
   "cell_type": "code",
   "execution_count": 45,
   "metadata": {
    "collapsed": true
   },
   "outputs": [],
   "source": [
    "def letra_j():\n",
    "    letra = np.zeros([4,4])\n",
    "\n",
    "    letra[0,0] = 1 \n",
    "    letra[2,0] = 1 \n",
    "    letra[3,0] = 1 \n",
    "    \n",
    "    letra[0,1] = 1 \n",
    "    letra[3,1] = 1 \n",
    "\n",
    "    letra[:, 2] = 1\n",
    "\n",
    "    letra[0,3] = 1 \n",
    "\n",
    "    return letra"
   ]
  },
  {
   "cell_type": "code",
   "execution_count": 46,
   "metadata": {},
   "outputs": [
    {
     "data": {
      "text/plain": [
       "array([[ 0.,  1.,  1.,  0.],\n",
       "       [ 1.,  0.,  0.,  1.],\n",
       "       [ 1.,  1.,  1.,  1.],\n",
       "       [ 1.,  0.,  0.,  1.]])"
      ]
     },
     "execution_count": 46,
     "metadata": {},
     "output_type": "execute_result"
    }
   ],
   "source": [
    "letra_a()"
   ]
  },
  {
   "cell_type": "code",
   "execution_count": 47,
   "metadata": {},
   "outputs": [
    {
     "data": {
      "text/plain": [
       "array([[ 1.,  1.,  1.,  0.],\n",
       "       [ 1.,  0.,  0.,  1.],\n",
       "       [ 1.,  0.,  0.,  1.],\n",
       "       [ 1.,  1.,  1.,  0.]])"
      ]
     },
     "execution_count": 47,
     "metadata": {},
     "output_type": "execute_result"
    }
   ],
   "source": [
    "letra_d()"
   ]
  },
  {
   "cell_type": "code",
   "execution_count": 48,
   "metadata": {},
   "outputs": [
    {
     "data": {
      "text/plain": [
       "array([[ 1.,  1.,  1.,  1.],\n",
       "       [ 0.,  0.,  1.,  0.],\n",
       "       [ 1.,  0.,  1.,  0.],\n",
       "       [ 1.,  1.,  1.,  0.]])"
      ]
     },
     "execution_count": 48,
     "metadata": {},
     "output_type": "execute_result"
    }
   ],
   "source": [
    "letra_j()"
   ]
  },
  {
   "cell_type": "code",
   "execution_count": null,
   "metadata": {
    "collapsed": true
   },
   "outputs": [],
   "source": []
  }
 ],
 "metadata": {
  "kernelspec": {
   "display_name": "Python 3",
   "language": "python",
   "name": "python3"
  },
  "language_info": {
   "codemirror_mode": {
    "name": "ipython",
    "version": 3
   },
   "file_extension": ".py",
   "mimetype": "text/x-python",
   "name": "python",
   "nbconvert_exporter": "python",
   "pygments_lexer": "ipython3",
   "version": "3.6.2"
  }
 },
 "nbformat": 4,
 "nbformat_minor": 2
}
