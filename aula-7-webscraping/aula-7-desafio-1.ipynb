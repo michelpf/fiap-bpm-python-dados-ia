{
  "cells": [
    {
      "cell_type": "markdown",
      "metadata": {
        "id": "KhOazUnY6QwA"
      },
      "source": [
        "# Aula 7\n",
        "## Desafio 1\n",
        "___\n",
        "\n",
        "Inspecione o site [Em Casa](https://emcasa.com/avaliar) e obtenha a API que serve a página principal para poder realizar novas simulações. Utilize seu endereço ou qualquer outro para simular o valor do imóvel.\n",
        "\n",
        "Utilize as chamadas de requisição pelo Requests."
      ]
    },
    {
      "cell_type": "code",
      "execution_count": 1,
      "metadata": {
        "id": "ngrOiLaO34Ti"
      },
      "outputs": [],
      "source": [
        "import requests\n",
        "import json"
      ]
    },
    {
      "cell_type": "code",
      "execution_count": 10,
      "metadata": {
        "id": "V3R91D6-4S-M"
      },
      "outputs": [],
      "source": [
        "dados = {\n",
        "    \"operationName\":\"requestPriceSuggestion\",\n",
        "    \"variables\":\n",
        "     {\"address\":\n",
        "      {\"city\":\"São Paulo\",\n",
        "       \"lat\":-23.5713016,\n",
        "       \"lng\":-46.6446458,\n",
        "       \"neighborhood\":\"Bela Vista\",\n",
        "       \"postalCode\":\"01311-000\",\n",
        "       \"street\":\"Avenida Paulista\",\n",
        "       \"streetNumber\":\"11\",\n",
        "       \"state\":\"SP\",\n",
        "       \"approximated\":False},\n",
        "      \"area\":11111,\n",
        "      \"bathrooms\":4,\n",
        "      \"garageSpots\":3,\n",
        "      \"rooms\":5,\n",
        "      \"suites\":3,\n",
        "      \"maintenanceFee\":1111,\n",
        "      \"complement\":\"1\",\n",
        "      \"type\":\"Apartamento\",\n",
        "      \"isCovered\":True},\n",
        "    \"query\":\"mutation requestPriceSuggestion($address: AddressInput!, $area: Int!, $bathrooms: Int!, $garageSpots: Int!, $rooms: Int!, $suites: Int, $maintenanceFee: Float, $type: String, $isCovered: Boolean!){\\n  requestPriceSuggestion(address: $address, area: $area, bathrooms: $bathrooms, garageSpots: $garageSpots, rooms: $rooms, suites: $suites, maintenanceFee: $maintenanceFee, type: $type, isCovered: $isCovered) {\\n    id\\n    suggestedPrice\\n    listingAveragePricePerSqrMeter\\n    listingPriceErrorQ90Max\\n    listingPriceErrorQ90Min\\n    listingPricePerSqrMeter\\n    __typename\\n  }\\n}\\n\"\n",
        "}"
      ]
    },
    {
      "cell_type": "code",
      "execution_count": 11,
      "metadata": {
        "colab": {
          "base_uri": "https://localhost:8080/",
          "height": 35
        },
        "id": "jQfptc-f76xd",
        "outputId": "3774605c-d289-4e0a-a6dd-4026766763d7"
      },
      "outputs": [
        {
          "output_type": "execute_result",
          "data": {
            "text/plain": [
              "'{\"data\":{\"requestPriceSuggestion\":{\"__typename\":\"PriceRequest\",\"id\":\"78438\",\"listingAveragePricePerSqrMeter\":1.02e4,\"listingPriceErrorQ90Max\":5.435e6,\"listingPriceErrorQ90Min\":3.95e6,\"listingPricePerSqrMeter\":400.0,\"suggestedPrice\":4.69e6}}}'"
            ],
            "application/vnd.google.colaboratory.intrinsic+json": {
              "type": "string"
            }
          },
          "metadata": {},
          "execution_count": 11
        }
      ],
      "source": [
        "url = \"https://api.emcasa.com/graphql_api\"\n",
        "r = requests.post(url, json=dados)\n",
        "\n",
        "resultado = r.text\n",
        "resultado"
      ]
    },
    {
      "cell_type": "code",
      "execution_count": 12,
      "metadata": {
        "colab": {
          "base_uri": "https://localhost:8080/"
        },
        "id": "AxpyGkPr5DAi",
        "outputId": "ddcc1f3b-1d08-4c54-e93e-4236918198ef"
      },
      "outputs": [
        {
          "output_type": "execute_result",
          "data": {
            "text/plain": [
              "{'data': {'requestPriceSuggestion': {'__typename': 'PriceRequest',\n",
              "   'id': '78438',\n",
              "   'listingAveragePricePerSqrMeter': 10200.0,\n",
              "   'listingPriceErrorQ90Max': 5435000.0,\n",
              "   'listingPriceErrorQ90Min': 3950000.0,\n",
              "   'listingPricePerSqrMeter': 400.0,\n",
              "   'suggestedPrice': 4690000.0}}}"
            ]
          },
          "metadata": {},
          "execution_count": 12
        }
      ],
      "source": [
        "resultado = json.loads(resultado)\n",
        "resultado"
      ]
    },
    {
      "cell_type": "code",
      "execution_count": 15,
      "metadata": {
        "colab": {
          "base_uri": "https://localhost:8080/"
        },
        "id": "L-bGB1Tw5IP9",
        "outputId": "cde1b827-a572-40e6-cc97-86b5f95eab11"
      },
      "outputs": [
        {
          "output_type": "execute_result",
          "data": {
            "text/plain": [
              "4690000.0"
            ]
          },
          "metadata": {},
          "execution_count": 15
        }
      ],
      "source": [
        "resultado[\"data\"][\"requestPriceSuggestion\"][\"suggestedPrice\"]"
      ]
    },
    {
      "cell_type": "code",
      "source": [],
      "metadata": {
        "id": "hWZG5j1LsQQq"
      },
      "execution_count": null,
      "outputs": []
    }
  ],
  "metadata": {
    "colab": {
      "name": "Desafio 1",
      "provenance": []
    },
    "kernelspec": {
      "display_name": "Python 3",
      "name": "python3"
    },
    "language_info": {
      "name": "python"
    }
  },
  "nbformat": 4,
  "nbformat_minor": 0
}