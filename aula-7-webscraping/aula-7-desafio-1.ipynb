{
  "cells": [
    {
      "cell_type": "markdown",
      "metadata": {
        "id": "KhOazUnY6QwA"
      },
      "source": [
        "# Aula 7\n",
        "## Desafio 1\n",
        "___\n",
        "\n",
        "Inspecione o site [ZAP Estima](https://www.zapestima.com.br/) e obtenha a API que serve a página principal para poder realizar novas simulações. Utilize seu endereço ou qualquer outro para simular o valor do imóvel.\n",
        "\n",
        "Utilize as chamadas de requisição pelo Requests."
      ]
    },
    {
      "cell_type": "code",
      "execution_count": null,
      "metadata": {
        "id": "ngrOiLaO34Ti"
      },
      "outputs": [],
      "source": [
        "import requests\n",
        "import json"
      ]
    },
    {
      "cell_type": "code",
      "execution_count": null,
      "metadata": {
        "id": "V3R91D6-4S-M"
      },
      "outputs": [],
      "source": [
        "dados = {\n",
        "    \"type\": \"HOME\",\n",
        "    \"area\": 400,\n",
        "    \"city\": \"Santo Andre\",\n",
        "    \"state\": \"Sao Paulo\",\n",
        "    \"neighborhood\": \"Santa Maria\",\n",
        "    \"bathroomsquantity\": 3,\n",
        "    \"bedroomsquantity\": 4,\n",
        "    \"parkingspacesquantity\": 4,\n",
        "    \"suitesquantity\": 1,\n",
        "    \"latitude\": -23.647172,\n",
        "    \"longitude\": -46.552238,\n",
        "    \"usagetype\": \"RESIDENTIAL\",\n",
        "    \"businesstype\": \"SALE\"\n",
        "}"
      ]
    },
    {
      "cell_type": "code",
      "execution_count": null,
      "metadata": {
        "colab": {
          "base_uri": "https://localhost:8080/",
          "height": 35
        },
        "id": "jQfptc-f76xd",
        "outputId": "ce0fe404-911e-403c-dd08-c65ec352007e"
      },
      "outputs": [
        {
          "data": {
            "application/vnd.google.colaboratory.intrinsic+json": {
              "type": "string"
            },
            "text/plain": [
              "'{\"sale_price\":{\"predicted\":1029122.8341944237}}'"
            ]
          },
          "execution_count": 40,
          "metadata": {},
          "output_type": "execute_result"
        }
      ],
      "source": [
        "url = \"https://price-estimate-api.vivareal.io/v1/price/predict\"\n",
        "r = requests.post(url, json=dados)\n",
        "\n",
        "resultado = r.text\n",
        "resultado"
      ]
    },
    {
      "cell_type": "code",
      "execution_count": null,
      "metadata": {
        "colab": {
          "base_uri": "https://localhost:8080/"
        },
        "id": "AxpyGkPr5DAi",
        "outputId": "def9ef02-5d53-4a5c-aa9c-2c1546aed6a5"
      },
      "outputs": [
        {
          "data": {
            "text/plain": [
              "{'sale_price': {'predicted': 1029122.8341944237}}"
            ]
          },
          "execution_count": 42,
          "metadata": {},
          "output_type": "execute_result"
        }
      ],
      "source": [
        "resultado = json.loads(resultado)\n",
        "resultado"
      ]
    },
    {
      "cell_type": "code",
      "execution_count": null,
      "metadata": {
        "colab": {
          "base_uri": "https://localhost:8080/"
        },
        "id": "L-bGB1Tw5IP9",
        "outputId": "48526dc1-6a4a-4a7f-c3ac-eb120d59b762"
      },
      "outputs": [
        {
          "data": {
            "text/plain": [
              "{'predicted': 1029122.8341944237}"
            ]
          },
          "execution_count": 44,
          "metadata": {},
          "output_type": "execute_result"
        }
      ],
      "source": [
        "resultado[\"sale_price\"]"
      ]
    }
  ],
  "metadata": {
    "colab": {
      "name": "Desafio 1",
      "provenance": []
    },
    "kernelspec": {
      "display_name": "Python 3",
      "name": "python3"
    },
    "language_info": {
      "name": "python"
    }
  },
  "nbformat": 4,
  "nbformat_minor": 0
}
