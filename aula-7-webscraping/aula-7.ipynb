{
  "cells": [
    {
      "cell_type": "markdown",
      "metadata": {
        "id": "lCNp_fzmRrBK"
      },
      "source": [
        "# Aula 7: Web Scrapping\n",
        "\n",
        "Web scrapping ou raspagem de telas, aplicações e páginas são processos executados para coleta de dados das quais podem serem realizadas diretamente nas APIs que servem as aplicações, nas páginas estáticas ou simulando consições específicas do navegador.\n",
        "\n",
        "Este tipo de coleta pode envolver grande complexidade se for adotado a coleta pelo navegador e diretamente pela página estática. Portanto procure identificar, com ferramentas de desenvolvedor, qual é a API utilizada e faça as chamadas diretamente delas.\n",
        "\n",
        "Caso não seja possível a coleta direta das APIs, parta para a análise de página estática e, somente por último, analise a coleta pelo navegador"
      ]
    },
    {
      "cell_type": "markdown",
      "metadata": {
        "id": "sGaEpwODRrBS"
      },
      "source": [
        "## Biblioteca Requests\n",
        "\n",
        "A biblioteca requests permite acesso direto tanto a páginas estáticas quando a métodos das APIs Restful, sendo assim a primeira opção de coleta de dados dado sua simplicidade."
      ]
    },
    {
      "cell_type": "code",
      "execution_count": null,
      "metadata": {
        "id": "nE2IcC1hDpL9"
      },
      "outputs": [],
      "source": [
        "import requests"
      ]
    },
    {
      "cell_type": "markdown",
      "metadata": {
        "id": "MYo2KTd0RrBW"
      },
      "source": [
        "Para exemplificar, vamos acessar a API do INPE para coleta de daods de metereologia. A API retorna os dados no formato XML."
      ]
    },
    {
      "cell_type": "code",
      "execution_count": null,
      "metadata": {
        "id": "5kn3AOtPD3HJ"
      },
      "outputs": [],
      "source": [
        "r = requests.get(\"http://servicos.cptec.inpe.br/XML/estacao/SBMT/condicoesAtuais.xml\")"
      ]
    },
    {
      "cell_type": "code",
      "execution_count": null,
      "metadata": {
        "colab": {
          "base_uri": "https://localhost:8080/"
        },
        "id": "rVMiqx_rEfJg",
        "outputId": "3aa7b8dc-1ef9-4593-ff8f-8d6eb6f592d2"
      },
      "outputs": [
        {
          "output_type": "execute_result",
          "data": {
            "text/plain": [
              "<Response [200]>"
            ]
          },
          "metadata": {},
          "execution_count": 3
        }
      ],
      "source": [
        "r"
      ]
    },
    {
      "cell_type": "code",
      "execution_count": null,
      "metadata": {
        "colab": {
          "base_uri": "https://localhost:8080/",
          "height": 52
        },
        "id": "tlR_aINbEfvB",
        "outputId": "bef4ffee-519a-48e1-8a6e-ac355bb81593"
      },
      "outputs": [
        {
          "output_type": "execute_result",
          "data": {
            "text/plain": [
              "\"<?xml version='1.0' encoding='ISO-8859-1'?><metar><codigo>SBMT</codigo><atualizacao>11/07/2023 08:00:00</atualizacao><pressao>1019</pressao><temperatura>18</temperatura><tempo>ps</tempo><tempo_desc>PredomÃ\\xadnio de Sol</tempo_desc><umidade>100</umidade><vento_dir>130</vento_dir><vento_int>4</vento_int><visibilidade>>10000</visibilidade></metar>\""
            ],
            "application/vnd.google.colaboratory.intrinsic+json": {
              "type": "string"
            }
          },
          "metadata": {},
          "execution_count": 8
        }
      ],
      "source": [
        "resultado = r.text\n",
        "resultado"
      ]
    },
    {
      "cell_type": "code",
      "execution_count": null,
      "metadata": {
        "id": "bOtJHkaEEh4K"
      },
      "outputs": [],
      "source": [
        "import xml.etree.ElementTree as ET"
      ]
    },
    {
      "cell_type": "code",
      "execution_count": null,
      "metadata": {
        "colab": {
          "base_uri": "https://localhost:8080/"
        },
        "id": "4jPH5BLbEyWf",
        "outputId": "3899abfc-6d6d-4cd3-e0d1-760489e90a77"
      },
      "outputs": [
        {
          "output_type": "stream",
          "name": "stdout",
          "text": [
            "nome Rio de Janeiro\n",
            "uf RJ\n",
            "atualizacao 16-07-2023\n",
            "manha None\n",
            "tarde None\n",
            "noite None\n",
            "dia 16-07-2023 12h Z\n",
            "agitacao Fraco\n",
            "altura 1.6\n",
            "direcao ESE\n",
            "vento 3.8\n",
            "vento_dir NNE\n",
            "dia 16-07-2023 18h Z\n",
            "agitacao Fraco\n",
            "altura 1.4\n",
            "direcao ESE\n",
            "vento 3.5\n",
            "vento_dir SE\n",
            "dia 16-07-2023 21h Z\n",
            "agitacao Fraco\n",
            "altura 1.4\n",
            "direcao ESE\n",
            "vento 4.5\n",
            "vento_dir E\n"
          ]
        }
      ],
      "source": [
        "xml = ET.fromstring(resultado)\n",
        "\n",
        "for table in xml.iter():\n",
        "    for child in table:\n",
        "        print(child.tag, child.text)"
      ]
    },
    {
      "cell_type": "code",
      "execution_count": null,
      "metadata": {
        "colab": {
          "base_uri": "https://localhost:8080/"
        },
        "id": "x4Va6S3KE7hr",
        "outputId": "b19237bb-993f-4108-af5b-5ee6ffa66e95"
      },
      "outputs": [
        {
          "output_type": "execute_result",
          "data": {
            "text/plain": [
              "<Response [200]>"
            ]
          },
          "metadata": {},
          "execution_count": 11
        }
      ],
      "source": [
        "r = requests.get(\"http://servicos.cptec.inpe.br/XML/cidade/241/dia/0/ondas.xml\")\n",
        "r"
      ]
    },
    {
      "cell_type": "code",
      "execution_count": null,
      "metadata": {
        "colab": {
          "base_uri": "https://localhost:8080/",
          "height": 87
        },
        "id": "6zTvRJOcFmp_",
        "outputId": "5e6d4264-1819-43b1-816c-5a1c41541e59"
      },
      "outputs": [
        {
          "output_type": "execute_result",
          "data": {
            "text/plain": [
              "\"<?xml version='1.0' encoding='ISO-8859-1'?><cidade><nome>Rio de Janeiro</nome><uf>RJ</uf><atualizacao>16-07-2023</atualizacao><manha><dia>16-07-2023 12h Z</dia><agitacao>Fraco</agitacao><altura>1.6</altura><direcao>ESE</direcao><vento>3.8</vento><vento_dir>NNE</vento_dir></manha><tarde><dia>16-07-2023 18h Z</dia><agitacao>Fraco</agitacao><altura>1.4</altura><direcao>ESE</direcao><vento>3.5</vento><vento_dir>SE</vento_dir></tarde><noite><dia>16-07-2023 21h Z</dia><agitacao>Fraco</agitacao><altura>1.4</altura><direcao>ESE</direcao><vento>4.5</vento><vento_dir>E</vento_dir></noite></cidade>\""
            ],
            "application/vnd.google.colaboratory.intrinsic+json": {
              "type": "string"
            }
          },
          "metadata": {},
          "execution_count": 12
        }
      ],
      "source": [
        "resultado = r.text\n",
        "resultado"
      ]
    },
    {
      "cell_type": "code",
      "execution_count": null,
      "metadata": {
        "colab": {
          "base_uri": "https://localhost:8080/"
        },
        "id": "0XghLsdnF74b",
        "outputId": "51554849-8e87-4abd-8c8b-fe452ff0c4a4"
      },
      "outputs": [
        {
          "output_type": "stream",
          "name": "stdout",
          "text": [
            "nome Rio de Janeiro\n",
            "uf RJ\n",
            "atualizacao 16-07-2023\n",
            "manha None\n",
            "tarde None\n",
            "noite None\n",
            "dia 16-07-2023 12h Z\n",
            "agitacao Fraco\n",
            "altura 1.6\n",
            "direcao ESE\n",
            "vento 3.8\n",
            "vento_dir NNE\n",
            "dia 16-07-2023 18h Z\n",
            "agitacao Fraco\n",
            "altura 1.4\n",
            "direcao ESE\n",
            "vento 3.5\n",
            "vento_dir SE\n",
            "dia 16-07-2023 21h Z\n",
            "agitacao Fraco\n",
            "altura 1.4\n",
            "direcao ESE\n",
            "vento 4.5\n",
            "vento_dir E\n"
          ]
        }
      ],
      "source": [
        "xml = ET.fromstring(resultado)\n",
        "\n",
        "for table in xml.iter():\n",
        "    for child in table:\n",
        "        print(child.tag, child.text)"
      ]
    },
    {
      "cell_type": "markdown",
      "metadata": {
        "id": "PB43mq5ERrBc"
      },
      "source": [
        "## Parseando e simplificando dados de apresentação com a biblioteca Beautiful Soup\n",
        "\n",
        "O Beautiful Soup nos traz maior facilidade de análise de páginas estáticas ao parsear o conteúdo HTML e permitir a busca de seus elementos.\n",
        "\n",
        "Geralmente baixamos a página estática pelo Requests e analisamos o conteúdo com o Beaultiful Soup.\n",
        "\n",
        "Vamos obter os dados de cotação de dólar a partir de uma faixa de datas, conforme abaixo.\n",
        "\n",
        "Ao analisar a página de consulta, percebemos que ela envia uma requisição do tipo post para o mesmo endpoint da página estática, com isso extraímos os parâmetros e incluímos na requisição."
      ]
    },
    {
      "cell_type": "code",
      "execution_count": null,
      "metadata": {
        "id": "GdHqBXW0Yzi9"
      },
      "outputs": [],
      "source": [
        "parametros = {\"RadOpcao\": 1,\"DATAINI\": \"25/09/2021\", \"DATAFIM\": \"24/10/2021\", \"ChkMoeda\": 61}"
      ]
    },
    {
      "cell_type": "code",
      "execution_count": null,
      "metadata": {
        "colab": {
          "base_uri": "https://localhost:8080/"
        },
        "id": "nfKzO748GEie",
        "outputId": "84f0beab-297d-4376-d6e8-7e0ec5e85c70"
      },
      "outputs": [
        {
          "output_type": "execute_result",
          "data": {
            "text/plain": [
              "<Response [200]>"
            ]
          },
          "metadata": {},
          "execution_count": 24
        }
      ],
      "source": [
        "r = requests.post(\"https://ptax.bcb.gov.br/ptax_internet/consultaBoletim.do?method=consultarBoletim\",params=parametros)\n",
        "r"
      ]
    },
    {
      "cell_type": "markdown",
      "metadata": {
        "id": "KoH6IX4wRrBd"
      },
      "source": [
        "O resultado é uma outra página renderizada, da qual possui diversos componentes HTML. Nosso objetivo é extrair somente os dados de tabela e obter seus valores."
      ]
    },
    {
      "cell_type": "code",
      "execution_count": null,
      "metadata": {
        "colab": {
          "base_uri": "https://localhost:8080/",
          "height": 122
        },
        "id": "0GybCUUMIsSQ",
        "outputId": "ad530121-ef41-491c-c3d5-269eca31d3ee"
      },
      "outputs": [
        {
          "output_type": "execute_result",
          "data": {
            "text/plain": [
              "'\\r\\n\\r\\n\\r\\n<!DOCTYPE html PUBLIC \"-//W3C//DTD HTML 4.01 Transitional//EN\" \"http://www.w3.org/TR/html4/loose.dtd\">\\r\\n<html>\\r\\n    <head>\\r\\n        <meta http-equiv=\"Content-Type\" content=\"text/html; charset=ISO-8859-1\">\\r\\n        <link rel=\"stylesheet\" type=\"text/css\" href=\"/ptax_internet/ncss/style.css\">\\r\\n        <title></title>\\r\\n    </head>\\r\\n    <body>\\r\\n\\r\\n        <div style=\"text-align: center\">\\r\\n            <br>\\r\\n            Cotações de Fechamento Ptax<sup>4/</sup> do DOLAR DOS EUA, Código da Moeda: 220, Símbolo da Moeda: USD, Tipo da Moeda: A, período de 25/09/2021 a 24/10/2021.\\r\\n            <br>\\r\\n            <br>\\r\\n\\r\\n            Clique para obter a tabela completa (\\r\\n            <a href=\"/ptax_internet/consultaBoletim.do?method=gerarCSVFechamentoMoedaNoPeriodo&ChkMoeda=61&DATAINI=25/09/2021&DATAFIM=24/10/2021\">\\r\\n                <img src=\"/img/transferirA.GIF\" border=\"0\" longdesc=\"img\">&nbsp; CSV - 2 KB\\r\\n            </a>)\\r\\n            <br>\\r\\n            <br>\\r\\n\\r\\n            <table border=\"0\" cellspacing=\"1\" cellpadding=\"3\" class=\"tabela\" width=\"850px\">\\r\\n                <tbody class=\"centralizado\">\\r\\n                    <tr class=\"fundoPadraoBEscuro3\">\\r\\n                        <th rowspan=\"2\" valign=\"TOP\">Data</th>\\r\\n                        <th rowspan=\"2\" valign=\"TOP\">Tipo</th>\\r\\n                        <th colspan=\"2\" align=\"center\">Cotações em Real<sup>1/</sup></th>\\r\\n                    </tr>\\r\\n                    <tr class=\"fundoPadraoBEscuro3\">\\r\\n                        <th>Compra</th>\\r\\n                        <th>Venda</th>\\r\\n                    </tr>\\r\\n                    \\r\\n                        \\r\\n                        <tr class=\"fundoPadraoBClaro2\">\\r\\n                            <td>27/09/2021</td>\\r\\n                            <td>A</td>\\r\\n                            <td>5,3472</td>\\r\\n                            <td>5,3478</td>\\r\\n                        </tr>\\r\\n                    \\r\\n                        \\r\\n                        <tr class=\"fundoPadraoBClaro3\">\\r\\n                            <td>28/09/2021</td>\\r\\n                            <td>A</td>\\r\\n                            <td>5,4200</td>\\r\\n                            <td>5,4206</td>\\r\\n                        </tr>\\r\\n                    \\r\\n                        \\r\\n                        <tr class=\"fundoPadraoBClaro2\">\\r\\n                            <td>29/09/2021</td>\\r\\n                            <td>A</td>\\r\\n                            <td>5,4167</td>\\r\\n                            <td>5,4173</td>\\r\\n                        </tr>\\r\\n                    \\r\\n                        \\r\\n                        <tr class=\"fundoPadraoBClaro3\">\\r\\n                            <td>30/09/2021</td>\\r\\n                            <td>A</td>\\r\\n                            <td>5,4388</td>\\r\\n                            <td>5,4394</td>\\r\\n                        </tr>\\r\\n                    \\r\\n                        \\r\\n                        <tr class=\"fundoPadraoBClaro2\">\\r\\n                            <td>01/10/2021</td>\\r\\n                            <td>A</td>\\r\\n                            <td>5,3905</td>\\r\\n                            <td>5,3911</td>\\r\\n                        </tr>\\r\\n                    \\r\\n                        \\r\\n                        <tr class=\"fundoPadraoBClaro3\">\\r\\n                            <td>04/10/2021</td>\\r\\n                            <td>A</td>\\r\\n                            <td>5,4198</td>\\r\\n                            <td>5,4204</td>\\r\\n                        </tr>\\r\\n                    \\r\\n                        \\r\\n                        <tr class=\"fundoPadraoBClaro2\">\\r\\n                            <td>05/10/2021</td>\\r\\n                            <td>A</td>\\r\\n                            <td>5,4605</td>\\r\\n                            <td>5,4611</td>\\r\\n                        </tr>\\r\\n                    \\r\\n                        \\r\\n                        <tr class=\"fundoPadraoBClaro3\">\\r\\n                            <td>06/10/2021</td>\\r\\n                            <td>A</td>\\r\\n                            <td>5,5091</td>\\r\\n                            <td>5,5097</td>\\r\\n                        </tr>\\r\\n                    \\r\\n                        \\r\\n                        <tr class=\"fundoPadraoBClaro2\">\\r\\n                            <td>07/10/2021</td>\\r\\n                            <td>A</td>\\r\\n                            <td>5,5134</td>\\r\\n                            <td>5,5140</td>\\r\\n                        </tr>\\r\\n                    \\r\\n                        \\r\\n                        <tr class=\"fundoPadraoBClaro3\">\\r\\n                            <td>08/10/2021</td>\\r\\n                            <td>A</td>\\r\\n                            <td>5,5078</td>\\r\\n                            <td>5,5084</td>\\r\\n                        </tr>\\r\\n                    \\r\\n                        \\r\\n                        <tr class=\"fundoPadraoBClaro2\">\\r\\n                            <td>11/10/2021</td>\\r\\n                            <td>A</td>\\r\\n                            <td>5,5155</td>\\r\\n                            <td>5,5161</td>\\r\\n                        </tr>\\r\\n                    \\r\\n                        \\r\\n                        <tr class=\"fundoPadraoBClaro3\">\\r\\n                            <td>13/10/2021</td>\\r\\n                            <td>A</td>\\r\\n                            <td>5,5464</td>\\r\\n                            <td>5,5471</td>\\r\\n                        </tr>\\r\\n                    \\r\\n                        \\r\\n                        <tr class=\"fundoPadraoBClaro2\">\\r\\n                            <td>14/10/2021</td>\\r\\n                            <td>A</td>\\r\\n                            <td>5,4982</td>\\r\\n                            <td>5,4988</td>\\r\\n                        </tr>\\r\\n                    \\r\\n                        \\r\\n                        <tr class=\"fundoPadraoBClaro3\">\\r\\n                            <td>15/10/2021</td>\\r\\n                            <td>A</td>\\r\\n                            <td>5,4504</td>\\r\\n                            <td>5,4510</td>\\r\\n                        </tr>\\r\\n                    \\r\\n                        \\r\\n                        <tr class=\"fundoPadraoBClaro2\">\\r\\n                            <td>18/10/2021</td>\\r\\n                            <td>A</td>\\r\\n                            <td>5,5187</td>\\r\\n                            <td>5,5193</td>\\r\\n                        </tr>\\r\\n                    \\r\\n                        \\r\\n                        <tr class=\"fundoPadraoBClaro3\">\\r\\n                            <td>19/10/2021</td>\\r\\n                            <td>A</td>\\r\\n                            <td>5,5515</td>\\r\\n                            <td>5,5521</td>\\r\\n                        </tr>\\r\\n                    \\r\\n                        \\r\\n                        <tr class=\"fundoPadraoBClaro2\">\\r\\n                            <td>20/10/2021</td>\\r\\n                            <td>A</td>\\r\\n                            <td>5,5565</td>\\r\\n                            <td>5,5571</td>\\r\\n                        </tr>\\r\\n                    \\r\\n                        \\r\\n                        <tr class=\"fundoPadraoBClaro3\">\\r\\n                            <td>21/10/2021</td>\\r\\n                            <td>A</td>\\r\\n                            <td>5,6417</td>\\r\\n                            <td>5,6423</td>\\r\\n                        </tr>\\r\\n                    \\r\\n                        \\r\\n                        <tr class=\"fundoPadraoBClaro2\">\\r\\n                            <td>22/10/2021</td>\\r\\n                            <td>A</td>\\r\\n                            <td>5,7111</td>\\r\\n                            <td>5,7117</td>\\r\\n                        </tr>\\r\\n                    \\r\\n                    <tr>\\r\\n                        <td colspan=\"7\" class=\"fundoPadraoBClaro2\" style=\"text-align: left\">\\r\\n                            <font size=\"1\">\\r\\n                                <sup>1/</sup> - Moeda contra Real<br>\\r\\n                                <sup>4/</sup> - Fechamento Ptax = A partir de 1/7/2011, é a média aritmética das taxas de compra e das taxas de venda dos boletins do dia, conforme Circulares 3506, de 23/9/10, e 3537, de 25/5/11.\\r\\n                                Até 30/6/2011, é a taxa média ponderada dos negócios realizados no mercado interbancário de câmbio com liquidação em dois dias úteis, calculada pelo Banco Central do Brasil, conforme Comunicado N. 6815/99.\\r\\n                            </font>\\r\\n                        </td>\\r\\n                    </tr>\\r\\n                </tbody>\\r\\n            </table>\\r\\n            <br>\\r\\n            <br>\\r\\n\\r\\n\\t\\t\\t<center>\\r\\n\\t<font size=\"2\"><strong>Fonte: Refinitiv.</strong></font>\\r\\n</center>\\r\\n<br>\\r\\n<p align=\"justify\">\\r\\n\\t<img src=\"https://www.bcb.gov.br/img/BulletAzul2.gif\" longdesc=\"img1\">&nbsp;\\r\\n\\t<font size=\"1\"> O Banco Central não assume qualquer\\r\\n\\t\\tresponsabilidade pela não simultaneidade ou falta das informações\\r\\n\\t\\tprestadas, assim como por eventuais erros de paridades das moedas, ou\\r\\n\\t\\tqualquer outro, salvo a paridade relativa ao dólar dos Estados Unidos\\r\\n\\t\\tda América em relação ao Real.\\r\\n\\t\\tIgualmente, não se responsabiliza pelos atrasos ou indisponibilidade\\r\\n\\t\\tde serviços de telecomunicação, interrupção, falha ou pelas\\r\\n\\t\\timprecisões no fornecimento dos serviços ou informações. Não assume,\\r\\n\\t\\ttambém, responsabilidade por qualquer perda ou dano oriundo de tais\\r\\n\\t\\tinterrupções, atrasos, falhas ou imperfeições, bem como pelo uso\\r\\n\\t\\tinadequado das informações contidas na transação.\\r\\n\\t</font>\\r\\n</p>\\r\\n\\r\\n\\r\\n        </div>\\r\\n\\r\\n    </body>\\r\\n</html>'"
            ],
            "application/vnd.google.colaboratory.intrinsic+json": {
              "type": "string"
            }
          },
          "metadata": {},
          "execution_count": 25
        }
      ],
      "source": [
        "resultado = r.text\n",
        "resultado"
      ]
    },
    {
      "cell_type": "markdown",
      "metadata": {
        "id": "hQEpKwXpRrBd"
      },
      "source": [
        "Nosso primeiro passo é parsear a página resultante com o Beautiful Soup."
      ]
    },
    {
      "cell_type": "code",
      "execution_count": null,
      "metadata": {
        "id": "PbdraPs_IvbC"
      },
      "outputs": [],
      "source": [
        "from bs4 import BeautifulSoup"
      ]
    },
    {
      "cell_type": "markdown",
      "metadata": {
        "id": "ntapVP6TRrBe"
      },
      "source": [
        "Ao analisar a página resultante, notamos que a tabela possui 2 classes de estilo de interesse, responsável por variar a cor das linhas, e que nos ajudou a filtrar os componentes que precisams."
      ]
    },
    {
      "cell_type": "code",
      "execution_count": null,
      "metadata": {
        "colab": {
          "base_uri": "https://localhost:8080/"
        },
        "id": "9nGgpuSWIxwZ",
        "outputId": "45d99fec-f7b2-429f-be79-d5f7175511b1"
      },
      "outputs": [
        {
          "output_type": "execute_result",
          "data": {
            "text/plain": [
              "[<tr class=\"fundoPadraoBClaro2\">\n",
              " <td>27/09/2021</td>\n",
              " <td>A</td>\n",
              " <td>5,3472</td>\n",
              " <td>5,3478</td>\n",
              " </tr>,\n",
              " <tr class=\"fundoPadraoBClaro3\">\n",
              " <td>28/09/2021</td>\n",
              " <td>A</td>\n",
              " <td>5,4200</td>\n",
              " <td>5,4206</td>\n",
              " </tr>,\n",
              " <tr class=\"fundoPadraoBClaro2\">\n",
              " <td>29/09/2021</td>\n",
              " <td>A</td>\n",
              " <td>5,4167</td>\n",
              " <td>5,4173</td>\n",
              " </tr>,\n",
              " <tr class=\"fundoPadraoBClaro3\">\n",
              " <td>30/09/2021</td>\n",
              " <td>A</td>\n",
              " <td>5,4388</td>\n",
              " <td>5,4394</td>\n",
              " </tr>,\n",
              " <tr class=\"fundoPadraoBClaro2\">\n",
              " <td>01/10/2021</td>\n",
              " <td>A</td>\n",
              " <td>5,3905</td>\n",
              " <td>5,3911</td>\n",
              " </tr>,\n",
              " <tr class=\"fundoPadraoBClaro3\">\n",
              " <td>04/10/2021</td>\n",
              " <td>A</td>\n",
              " <td>5,4198</td>\n",
              " <td>5,4204</td>\n",
              " </tr>,\n",
              " <tr class=\"fundoPadraoBClaro2\">\n",
              " <td>05/10/2021</td>\n",
              " <td>A</td>\n",
              " <td>5,4605</td>\n",
              " <td>5,4611</td>\n",
              " </tr>,\n",
              " <tr class=\"fundoPadraoBClaro3\">\n",
              " <td>06/10/2021</td>\n",
              " <td>A</td>\n",
              " <td>5,5091</td>\n",
              " <td>5,5097</td>\n",
              " </tr>,\n",
              " <tr class=\"fundoPadraoBClaro2\">\n",
              " <td>07/10/2021</td>\n",
              " <td>A</td>\n",
              " <td>5,5134</td>\n",
              " <td>5,5140</td>\n",
              " </tr>,\n",
              " <tr class=\"fundoPadraoBClaro3\">\n",
              " <td>08/10/2021</td>\n",
              " <td>A</td>\n",
              " <td>5,5078</td>\n",
              " <td>5,5084</td>\n",
              " </tr>,\n",
              " <tr class=\"fundoPadraoBClaro2\">\n",
              " <td>11/10/2021</td>\n",
              " <td>A</td>\n",
              " <td>5,5155</td>\n",
              " <td>5,5161</td>\n",
              " </tr>,\n",
              " <tr class=\"fundoPadraoBClaro3\">\n",
              " <td>13/10/2021</td>\n",
              " <td>A</td>\n",
              " <td>5,5464</td>\n",
              " <td>5,5471</td>\n",
              " </tr>,\n",
              " <tr class=\"fundoPadraoBClaro2\">\n",
              " <td>14/10/2021</td>\n",
              " <td>A</td>\n",
              " <td>5,4982</td>\n",
              " <td>5,4988</td>\n",
              " </tr>,\n",
              " <tr class=\"fundoPadraoBClaro3\">\n",
              " <td>15/10/2021</td>\n",
              " <td>A</td>\n",
              " <td>5,4504</td>\n",
              " <td>5,4510</td>\n",
              " </tr>,\n",
              " <tr class=\"fundoPadraoBClaro2\">\n",
              " <td>18/10/2021</td>\n",
              " <td>A</td>\n",
              " <td>5,5187</td>\n",
              " <td>5,5193</td>\n",
              " </tr>,\n",
              " <tr class=\"fundoPadraoBClaro3\">\n",
              " <td>19/10/2021</td>\n",
              " <td>A</td>\n",
              " <td>5,5515</td>\n",
              " <td>5,5521</td>\n",
              " </tr>,\n",
              " <tr class=\"fundoPadraoBClaro2\">\n",
              " <td>20/10/2021</td>\n",
              " <td>A</td>\n",
              " <td>5,5565</td>\n",
              " <td>5,5571</td>\n",
              " </tr>,\n",
              " <tr class=\"fundoPadraoBClaro3\">\n",
              " <td>21/10/2021</td>\n",
              " <td>A</td>\n",
              " <td>5,6417</td>\n",
              " <td>5,6423</td>\n",
              " </tr>,\n",
              " <tr class=\"fundoPadraoBClaro2\">\n",
              " <td>22/10/2021</td>\n",
              " <td>A</td>\n",
              " <td>5,7111</td>\n",
              " <td>5,7117</td>\n",
              " </tr>]"
            ]
          },
          "metadata": {},
          "execution_count": 27
        }
      ],
      "source": [
        "bs = BeautifulSoup(resultado, 'html.parser')\n",
        "\n",
        "items = bs.find_all('tr',{\"class\": [\"fundoPadraoBClaro2\",\"fundoPadraoBClaro3\"]})\n",
        "items"
      ]
    },
    {
      "cell_type": "code",
      "execution_count": null,
      "metadata": {
        "colab": {
          "base_uri": "https://localhost:8080/"
        },
        "id": "IW6ltk8WJFQS",
        "outputId": "54f7a2fe-be66-438e-921a-5224e4a45b79"
      },
      "outputs": [
        {
          "output_type": "execute_result",
          "data": {
            "text/plain": [
              "<tr class=\"fundoPadraoBClaro2\">\n",
              "<td>27/09/2021</td>\n",
              "<td>A</td>\n",
              "<td>5,3472</td>\n",
              "<td>5,3478</td>\n",
              "</tr>"
            ]
          },
          "metadata": {},
          "execution_count": 28
        }
      ],
      "source": [
        "items[0]"
      ]
    },
    {
      "cell_type": "code",
      "execution_count": null,
      "metadata": {
        "colab": {
          "base_uri": "https://localhost:8080/"
        },
        "id": "BC33W_6gPQ07",
        "outputId": "1fa91efb-fc3f-4793-c867-e3981b602165"
      },
      "outputs": [
        {
          "output_type": "execute_result",
          "data": {
            "text/plain": [
              "<tr class=\"fundoPadraoBClaro3\">\n",
              "<td>28/09/2021</td>\n",
              "<td>A</td>\n",
              "<td>5,4200</td>\n",
              "<td>5,4206</td>\n",
              "</tr>"
            ]
          },
          "metadata": {},
          "execution_count": 29
        }
      ],
      "source": [
        "items[1]"
      ]
    },
    {
      "cell_type": "markdown",
      "metadata": {
        "id": "ch1oOVrwRrBf"
      },
      "source": [
        "Depois de analisar cada linha, analisaremos cada coluna e assim compor nosso dataframe com a evolução da cotação do dólar."
      ]
    },
    {
      "cell_type": "code",
      "execution_count": null,
      "metadata": {
        "colab": {
          "base_uri": "https://localhost:8080/"
        },
        "id": "hZd4bjzEJaRI",
        "outputId": "9916f0a0-0dba-46cc-acae-0b2985cbdb5c"
      },
      "outputs": [
        {
          "output_type": "execute_result",
          "data": {
            "text/plain": [
              "[<td>27/09/2021</td>, <td>A</td>, <td>5,3472</td>, <td>5,3478</td>]"
            ]
          },
          "metadata": {},
          "execution_count": 30
        }
      ],
      "source": [
        "sub_item = items[0].findChildren('td')\n",
        "sub_item"
      ]
    },
    {
      "cell_type": "markdown",
      "metadata": {
        "id": "aA5E3AwBRrBf"
      },
      "source": [
        "A tabela tem uma ordem para cada coluna, sendo a data, o tipo, o valor de compra e venda."
      ]
    },
    {
      "cell_type": "code",
      "execution_count": null,
      "metadata": {
        "colab": {
          "base_uri": "https://localhost:8080/"
        },
        "id": "oh-U_JKuLmnn",
        "outputId": "00c4a027-2377-4b16-bdb0-c80a851d512d"
      },
      "outputs": [
        {
          "output_type": "stream",
          "name": "stdout",
          "text": [
            "27/09/2021\n",
            "A\n",
            "5,3472\n",
            "5,3478\n"
          ]
        }
      ],
      "source": [
        "for i in items:\n",
        "  sub_items = i.findChildren(\"td\")\n",
        "  for si in sub_items:\n",
        "    print(si.text)\n",
        "  break"
      ]
    },
    {
      "cell_type": "code",
      "execution_count": null,
      "metadata": {
        "id": "8c3YlbXNaOlZ"
      },
      "outputs": [],
      "source": [
        "data, tipo, compra, venda = [], [], [], []"
      ]
    },
    {
      "cell_type": "code",
      "execution_count": null,
      "metadata": {
        "id": "GA5cKybPag58"
      },
      "outputs": [],
      "source": [
        "campo = \"data\"\n",
        "for i in items:\n",
        "  sub_items = i.findChildren(\"td\")\n",
        "  for si in sub_items:\n",
        "    if campo == \"data\":\n",
        "      data.append(si.text)\n",
        "      campo = \"tipo\"\n",
        "    elif campo == \"tipo\":\n",
        "      campo = \"compra\"\n",
        "      tipo.append(si.text)\n",
        "    elif campo == \"compra\":\n",
        "      campo = \"venda\"\n",
        "      compra.append(si.text)\n",
        "    else:\n",
        "      campo = \"data\"\n",
        "      venda.append(si.text)"
      ]
    },
    {
      "cell_type": "code",
      "execution_count": null,
      "metadata": {
        "colab": {
          "base_uri": "https://localhost:8080/"
        },
        "id": "NH6_zEQqa6wt",
        "outputId": "957ea98a-3473-470e-a931-56d534684fab"
      },
      "outputs": [
        {
          "output_type": "execute_result",
          "data": {
            "text/plain": [
              "['27/09/2021',\n",
              " '28/09/2021',\n",
              " '29/09/2021',\n",
              " '30/09/2021',\n",
              " '01/10/2021',\n",
              " '04/10/2021',\n",
              " '05/10/2021',\n",
              " '06/10/2021',\n",
              " '07/10/2021',\n",
              " '08/10/2021',\n",
              " '11/10/2021',\n",
              " '13/10/2021',\n",
              " '14/10/2021',\n",
              " '15/10/2021',\n",
              " '18/10/2021',\n",
              " '19/10/2021',\n",
              " '20/10/2021',\n",
              " '21/10/2021',\n",
              " '22/10/2021']"
            ]
          },
          "metadata": {},
          "execution_count": 34
        }
      ],
      "source": [
        "data"
      ]
    },
    {
      "cell_type": "code",
      "execution_count": null,
      "metadata": {
        "colab": {
          "base_uri": "https://localhost:8080/"
        },
        "id": "mxdslHlabDQK",
        "outputId": "bad5098d-aad9-4a45-d134-dde3085c4ff2"
      },
      "outputs": [
        {
          "output_type": "execute_result",
          "data": {
            "text/plain": [
              "['5,3472',\n",
              " '5,4200',\n",
              " '5,4167',\n",
              " '5,4388',\n",
              " '5,3905',\n",
              " '5,4198',\n",
              " '5,4605',\n",
              " '5,5091',\n",
              " '5,5134',\n",
              " '5,5078',\n",
              " '5,5155',\n",
              " '5,5464',\n",
              " '5,4982',\n",
              " '5,4504',\n",
              " '5,5187',\n",
              " '5,5515',\n",
              " '5,5565',\n",
              " '5,6417',\n",
              " '5,7111']"
            ]
          },
          "metadata": {},
          "execution_count": 35
        }
      ],
      "source": [
        "compra"
      ]
    },
    {
      "cell_type": "code",
      "execution_count": null,
      "metadata": {
        "id": "6r3UzWB67xJT"
      },
      "outputs": [],
      "source": [
        "import pandas as pd"
      ]
    },
    {
      "cell_type": "code",
      "execution_count": null,
      "metadata": {
        "colab": {
          "base_uri": "https://localhost:8080/",
          "height": 645
        },
        "id": "iRwZCYYLbaA0",
        "outputId": "76bbbe58-19cb-4208-f024-058185ed9091"
      },
      "outputs": [
        {
          "output_type": "execute_result",
          "data": {
            "text/plain": [
              "          Data Tipo  Compra   Venda\n",
              "0   27/09/2021    A  5,3472  5,3478\n",
              "1   28/09/2021    A  5,4200  5,4206\n",
              "2   29/09/2021    A  5,4167  5,4173\n",
              "3   30/09/2021    A  5,4388  5,4394\n",
              "4   01/10/2021    A  5,3905  5,3911\n",
              "5   04/10/2021    A  5,4198  5,4204\n",
              "6   05/10/2021    A  5,4605  5,4611\n",
              "7   06/10/2021    A  5,5091  5,5097\n",
              "8   07/10/2021    A  5,5134  5,5140\n",
              "9   08/10/2021    A  5,5078  5,5084\n",
              "10  11/10/2021    A  5,5155  5,5161\n",
              "11  13/10/2021    A  5,5464  5,5471\n",
              "12  14/10/2021    A  5,4982  5,4988\n",
              "13  15/10/2021    A  5,4504  5,4510\n",
              "14  18/10/2021    A  5,5187  5,5193\n",
              "15  19/10/2021    A  5,5515  5,5521\n",
              "16  20/10/2021    A  5,5565  5,5571\n",
              "17  21/10/2021    A  5,6417  5,6423\n",
              "18  22/10/2021    A  5,7111  5,7117"
            ],
            "text/html": [
              "\n",
              "\n",
              "  <div id=\"df-6ae99a9a-5766-43cc-9880-4a4d7b14188e\">\n",
              "    <div class=\"colab-df-container\">\n",
              "      <div>\n",
              "<style scoped>\n",
              "    .dataframe tbody tr th:only-of-type {\n",
              "        vertical-align: middle;\n",
              "    }\n",
              "\n",
              "    .dataframe tbody tr th {\n",
              "        vertical-align: top;\n",
              "    }\n",
              "\n",
              "    .dataframe thead th {\n",
              "        text-align: right;\n",
              "    }\n",
              "</style>\n",
              "<table border=\"1\" class=\"dataframe\">\n",
              "  <thead>\n",
              "    <tr style=\"text-align: right;\">\n",
              "      <th></th>\n",
              "      <th>Data</th>\n",
              "      <th>Tipo</th>\n",
              "      <th>Compra</th>\n",
              "      <th>Venda</th>\n",
              "    </tr>\n",
              "  </thead>\n",
              "  <tbody>\n",
              "    <tr>\n",
              "      <th>0</th>\n",
              "      <td>27/09/2021</td>\n",
              "      <td>A</td>\n",
              "      <td>5,3472</td>\n",
              "      <td>5,3478</td>\n",
              "    </tr>\n",
              "    <tr>\n",
              "      <th>1</th>\n",
              "      <td>28/09/2021</td>\n",
              "      <td>A</td>\n",
              "      <td>5,4200</td>\n",
              "      <td>5,4206</td>\n",
              "    </tr>\n",
              "    <tr>\n",
              "      <th>2</th>\n",
              "      <td>29/09/2021</td>\n",
              "      <td>A</td>\n",
              "      <td>5,4167</td>\n",
              "      <td>5,4173</td>\n",
              "    </tr>\n",
              "    <tr>\n",
              "      <th>3</th>\n",
              "      <td>30/09/2021</td>\n",
              "      <td>A</td>\n",
              "      <td>5,4388</td>\n",
              "      <td>5,4394</td>\n",
              "    </tr>\n",
              "    <tr>\n",
              "      <th>4</th>\n",
              "      <td>01/10/2021</td>\n",
              "      <td>A</td>\n",
              "      <td>5,3905</td>\n",
              "      <td>5,3911</td>\n",
              "    </tr>\n",
              "    <tr>\n",
              "      <th>5</th>\n",
              "      <td>04/10/2021</td>\n",
              "      <td>A</td>\n",
              "      <td>5,4198</td>\n",
              "      <td>5,4204</td>\n",
              "    </tr>\n",
              "    <tr>\n",
              "      <th>6</th>\n",
              "      <td>05/10/2021</td>\n",
              "      <td>A</td>\n",
              "      <td>5,4605</td>\n",
              "      <td>5,4611</td>\n",
              "    </tr>\n",
              "    <tr>\n",
              "      <th>7</th>\n",
              "      <td>06/10/2021</td>\n",
              "      <td>A</td>\n",
              "      <td>5,5091</td>\n",
              "      <td>5,5097</td>\n",
              "    </tr>\n",
              "    <tr>\n",
              "      <th>8</th>\n",
              "      <td>07/10/2021</td>\n",
              "      <td>A</td>\n",
              "      <td>5,5134</td>\n",
              "      <td>5,5140</td>\n",
              "    </tr>\n",
              "    <tr>\n",
              "      <th>9</th>\n",
              "      <td>08/10/2021</td>\n",
              "      <td>A</td>\n",
              "      <td>5,5078</td>\n",
              "      <td>5,5084</td>\n",
              "    </tr>\n",
              "    <tr>\n",
              "      <th>10</th>\n",
              "      <td>11/10/2021</td>\n",
              "      <td>A</td>\n",
              "      <td>5,5155</td>\n",
              "      <td>5,5161</td>\n",
              "    </tr>\n",
              "    <tr>\n",
              "      <th>11</th>\n",
              "      <td>13/10/2021</td>\n",
              "      <td>A</td>\n",
              "      <td>5,5464</td>\n",
              "      <td>5,5471</td>\n",
              "    </tr>\n",
              "    <tr>\n",
              "      <th>12</th>\n",
              "      <td>14/10/2021</td>\n",
              "      <td>A</td>\n",
              "      <td>5,4982</td>\n",
              "      <td>5,4988</td>\n",
              "    </tr>\n",
              "    <tr>\n",
              "      <th>13</th>\n",
              "      <td>15/10/2021</td>\n",
              "      <td>A</td>\n",
              "      <td>5,4504</td>\n",
              "      <td>5,4510</td>\n",
              "    </tr>\n",
              "    <tr>\n",
              "      <th>14</th>\n",
              "      <td>18/10/2021</td>\n",
              "      <td>A</td>\n",
              "      <td>5,5187</td>\n",
              "      <td>5,5193</td>\n",
              "    </tr>\n",
              "    <tr>\n",
              "      <th>15</th>\n",
              "      <td>19/10/2021</td>\n",
              "      <td>A</td>\n",
              "      <td>5,5515</td>\n",
              "      <td>5,5521</td>\n",
              "    </tr>\n",
              "    <tr>\n",
              "      <th>16</th>\n",
              "      <td>20/10/2021</td>\n",
              "      <td>A</td>\n",
              "      <td>5,5565</td>\n",
              "      <td>5,5571</td>\n",
              "    </tr>\n",
              "    <tr>\n",
              "      <th>17</th>\n",
              "      <td>21/10/2021</td>\n",
              "      <td>A</td>\n",
              "      <td>5,6417</td>\n",
              "      <td>5,6423</td>\n",
              "    </tr>\n",
              "    <tr>\n",
              "      <th>18</th>\n",
              "      <td>22/10/2021</td>\n",
              "      <td>A</td>\n",
              "      <td>5,7111</td>\n",
              "      <td>5,7117</td>\n",
              "    </tr>\n",
              "  </tbody>\n",
              "</table>\n",
              "</div>\n",
              "      <button class=\"colab-df-convert\" onclick=\"convertToInteractive('df-6ae99a9a-5766-43cc-9880-4a4d7b14188e')\"\n",
              "              title=\"Convert this dataframe to an interactive table.\"\n",
              "              style=\"display:none;\">\n",
              "\n",
              "  <svg xmlns=\"http://www.w3.org/2000/svg\" height=\"24px\"viewBox=\"0 0 24 24\"\n",
              "       width=\"24px\">\n",
              "    <path d=\"M0 0h24v24H0V0z\" fill=\"none\"/>\n",
              "    <path d=\"M18.56 5.44l.94 2.06.94-2.06 2.06-.94-2.06-.94-.94-2.06-.94 2.06-2.06.94zm-11 1L8.5 8.5l.94-2.06 2.06-.94-2.06-.94L8.5 2.5l-.94 2.06-2.06.94zm10 10l.94 2.06.94-2.06 2.06-.94-2.06-.94-.94-2.06-.94 2.06-2.06.94z\"/><path d=\"M17.41 7.96l-1.37-1.37c-.4-.4-.92-.59-1.43-.59-.52 0-1.04.2-1.43.59L10.3 9.45l-7.72 7.72c-.78.78-.78 2.05 0 2.83L4 21.41c.39.39.9.59 1.41.59.51 0 1.02-.2 1.41-.59l7.78-7.78 2.81-2.81c.8-.78.8-2.07 0-2.86zM5.41 20L4 18.59l7.72-7.72 1.47 1.35L5.41 20z\"/>\n",
              "  </svg>\n",
              "      </button>\n",
              "\n",
              "\n",
              "\n",
              "    <div id=\"df-92b77cf9-c494-444e-8ec7-9a923a4e7c3d\">\n",
              "      <button class=\"colab-df-quickchart\" onclick=\"quickchart('df-92b77cf9-c494-444e-8ec7-9a923a4e7c3d')\"\n",
              "              title=\"Suggest charts.\"\n",
              "              style=\"display:none;\">\n",
              "\n",
              "<svg xmlns=\"http://www.w3.org/2000/svg\" height=\"24px\"viewBox=\"0 0 24 24\"\n",
              "     width=\"24px\">\n",
              "    <g>\n",
              "        <path d=\"M19 3H5c-1.1 0-2 .9-2 2v14c0 1.1.9 2 2 2h14c1.1 0 2-.9 2-2V5c0-1.1-.9-2-2-2zM9 17H7v-7h2v7zm4 0h-2V7h2v10zm4 0h-2v-4h2v4z\"/>\n",
              "    </g>\n",
              "</svg>\n",
              "      </button>\n",
              "    </div>\n",
              "\n",
              "<style>\n",
              "  .colab-df-quickchart {\n",
              "    background-color: #E8F0FE;\n",
              "    border: none;\n",
              "    border-radius: 50%;\n",
              "    cursor: pointer;\n",
              "    display: none;\n",
              "    fill: #1967D2;\n",
              "    height: 32px;\n",
              "    padding: 0 0 0 0;\n",
              "    width: 32px;\n",
              "  }\n",
              "\n",
              "  .colab-df-quickchart:hover {\n",
              "    background-color: #E2EBFA;\n",
              "    box-shadow: 0px 1px 2px rgba(60, 64, 67, 0.3), 0px 1px 3px 1px rgba(60, 64, 67, 0.15);\n",
              "    fill: #174EA6;\n",
              "  }\n",
              "\n",
              "  [theme=dark] .colab-df-quickchart {\n",
              "    background-color: #3B4455;\n",
              "    fill: #D2E3FC;\n",
              "  }\n",
              "\n",
              "  [theme=dark] .colab-df-quickchart:hover {\n",
              "    background-color: #434B5C;\n",
              "    box-shadow: 0px 1px 3px 1px rgba(0, 0, 0, 0.15);\n",
              "    filter: drop-shadow(0px 1px 2px rgba(0, 0, 0, 0.3));\n",
              "    fill: #FFFFFF;\n",
              "  }\n",
              "</style>\n",
              "\n",
              "    <script>\n",
              "      async function quickchart(key) {\n",
              "        const containerElement = document.querySelector('#' + key);\n",
              "        const charts = await google.colab.kernel.invokeFunction(\n",
              "            'suggestCharts', [key], {});\n",
              "      }\n",
              "    </script>\n",
              "\n",
              "      <script>\n",
              "\n",
              "function displayQuickchartButton(domScope) {\n",
              "  let quickchartButtonEl =\n",
              "    domScope.querySelector('#df-92b77cf9-c494-444e-8ec7-9a923a4e7c3d button.colab-df-quickchart');\n",
              "  quickchartButtonEl.style.display =\n",
              "    google.colab.kernel.accessAllowed ? 'block' : 'none';\n",
              "}\n",
              "\n",
              "        displayQuickchartButton(document);\n",
              "      </script>\n",
              "      <style>\n",
              "    .colab-df-container {\n",
              "      display:flex;\n",
              "      flex-wrap:wrap;\n",
              "      gap: 12px;\n",
              "    }\n",
              "\n",
              "    .colab-df-convert {\n",
              "      background-color: #E8F0FE;\n",
              "      border: none;\n",
              "      border-radius: 50%;\n",
              "      cursor: pointer;\n",
              "      display: none;\n",
              "      fill: #1967D2;\n",
              "      height: 32px;\n",
              "      padding: 0 0 0 0;\n",
              "      width: 32px;\n",
              "    }\n",
              "\n",
              "    .colab-df-convert:hover {\n",
              "      background-color: #E2EBFA;\n",
              "      box-shadow: 0px 1px 2px rgba(60, 64, 67, 0.3), 0px 1px 3px 1px rgba(60, 64, 67, 0.15);\n",
              "      fill: #174EA6;\n",
              "    }\n",
              "\n",
              "    [theme=dark] .colab-df-convert {\n",
              "      background-color: #3B4455;\n",
              "      fill: #D2E3FC;\n",
              "    }\n",
              "\n",
              "    [theme=dark] .colab-df-convert:hover {\n",
              "      background-color: #434B5C;\n",
              "      box-shadow: 0px 1px 3px 1px rgba(0, 0, 0, 0.15);\n",
              "      filter: drop-shadow(0px 1px 2px rgba(0, 0, 0, 0.3));\n",
              "      fill: #FFFFFF;\n",
              "    }\n",
              "  </style>\n",
              "\n",
              "      <script>\n",
              "        const buttonEl =\n",
              "          document.querySelector('#df-6ae99a9a-5766-43cc-9880-4a4d7b14188e button.colab-df-convert');\n",
              "        buttonEl.style.display =\n",
              "          google.colab.kernel.accessAllowed ? 'block' : 'none';\n",
              "\n",
              "        async function convertToInteractive(key) {\n",
              "          const element = document.querySelector('#df-6ae99a9a-5766-43cc-9880-4a4d7b14188e');\n",
              "          const dataTable =\n",
              "            await google.colab.kernel.invokeFunction('convertToInteractive',\n",
              "                                                     [key], {});\n",
              "          if (!dataTable) return;\n",
              "\n",
              "          const docLinkHtml = 'Like what you see? Visit the ' +\n",
              "            '<a target=\"_blank\" href=https://colab.research.google.com/notebooks/data_table.ipynb>data table notebook</a>'\n",
              "            + ' to learn more about interactive tables.';\n",
              "          element.innerHTML = '';\n",
              "          dataTable['output_type'] = 'display_data';\n",
              "          await google.colab.output.renderOutput(dataTable, element);\n",
              "          const docLink = document.createElement('div');\n",
              "          docLink.innerHTML = docLinkHtml;\n",
              "          element.appendChild(docLink);\n",
              "        }\n",
              "      </script>\n",
              "    </div>\n",
              "  </div>\n"
            ]
          },
          "metadata": {},
          "execution_count": 37
        }
      ],
      "source": [
        "\n",
        "\n",
        "df = pd.DataFrame({\"Data\": data, \"Tipo\": tipo, \"Compra\": compra, \"Venda\": venda})\n",
        "df"
      ]
    },
    {
      "cell_type": "markdown",
      "metadata": {
        "id": "Y81wMtVmbmmm"
      },
      "source": [
        "## Utilizando Selenium para coleta de dados\n",
        "\n",
        "O Selenium é uma biblioteca disponível em várias linguagens de programação cujo o principal objetivo foi de automatizar testes de interface. Utilizando essa capacidade de interação também podemos utilizar para coletar dados de sites onde a manipulação do navegador torna o processo ou obrigatório ou mais fácil, com o filtro por XPath, ausente no Beautiful Soup.\n",
        "\n",
        "A instalação do Colab requer os passos a seguir:"
      ]
    },
    {
      "cell_type": "code",
      "source": [
        "%%shell\n",
        "# Ubuntu no longer distributes chromium-browser outside of snap\n",
        "#\n",
        "# Proposed solution: https://askubuntu.com/questions/1204571/how-to-install-chromium-without-snap\n",
        "\n",
        "# Add debian buster\n",
        "cat > /etc/apt/sources.list.d/debian.list <<'EOF'\n",
        "deb [arch=amd64 signed-by=/usr/share/keyrings/debian-buster.gpg] http://deb.debian.org/debian buster main\n",
        "deb [arch=amd64 signed-by=/usr/share/keyrings/debian-buster-updates.gpg] http://deb.debian.org/debian buster-updates main\n",
        "deb [arch=amd64 signed-by=/usr/share/keyrings/debian-security-buster.gpg] http://deb.debian.org/debian-security buster/updates main\n",
        "EOF\n",
        "\n",
        "# Add keys\n",
        "apt-key adv --keyserver keyserver.ubuntu.com --recv-keys DCC9EFBF77E11517\n",
        "apt-key adv --keyserver keyserver.ubuntu.com --recv-keys 648ACFD622F3D138\n",
        "apt-key adv --keyserver keyserver.ubuntu.com --recv-keys 112695A0E562B32A\n",
        "\n",
        "apt-key export 77E11517 | gpg --dearmour -o /usr/share/keyrings/debian-buster.gpg\n",
        "apt-key export 22F3D138 | gpg --dearmour -o /usr/share/keyrings/debian-buster-updates.gpg\n",
        "apt-key export E562B32A | gpg --dearmour -o /usr/share/keyrings/debian-security-buster.gpg\n",
        "\n",
        "# Prefer debian repo for chromium* packages only\n",
        "# Note the double-blank lines between entries\n",
        "cat > /etc/apt/preferences.d/chromium.pref << 'EOF'\n",
        "Package: *\n",
        "Pin: release a=eoan\n",
        "Pin-Priority: 500\n",
        "\n",
        "\n",
        "Package: *\n",
        "Pin: origin \"deb.debian.org\"\n",
        "Pin-Priority: 300\n",
        "\n",
        "\n",
        "Package: chromium*\n",
        "Pin: origin \"deb.debian.org\"\n",
        "Pin-Priority: 700\n",
        "EOF"
      ],
      "metadata": {
        "colab": {
          "base_uri": "https://localhost:8080/"
        },
        "id": "0V2lu3y5U_sw",
        "outputId": "c88fc4db-9e31-488d-b1bb-24e1219dd5e1"
      },
      "execution_count": 1,
      "outputs": [
        {
          "output_type": "stream",
          "name": "stdout",
          "text": [
            "Executing: /tmp/apt-key-gpghome.X2XwWdQyXL/gpg.1.sh --keyserver keyserver.ubuntu.com --recv-keys DCC9EFBF77E11517\n",
            "gpg: key DCC9EFBF77E11517: public key \"Debian Stable Release Key (10/buster) <debian-release@lists.debian.org>\" imported\n",
            "gpg: Total number processed: 1\n",
            "gpg:               imported: 1\n",
            "Executing: /tmp/apt-key-gpghome.8cBOvmy8xi/gpg.1.sh --keyserver keyserver.ubuntu.com --recv-keys 648ACFD622F3D138\n",
            "gpg: key DC30D7C23CBBABEE: public key \"Debian Archive Automatic Signing Key (10/buster) <ftpmaster@debian.org>\" imported\n",
            "gpg: Total number processed: 1\n",
            "gpg:               imported: 1\n",
            "Executing: /tmp/apt-key-gpghome.ROdPmkGvIK/gpg.1.sh --keyserver keyserver.ubuntu.com --recv-keys 112695A0E562B32A\n",
            "gpg: key 4DFAB270CAA96DFA: public key \"Debian Security Archive Automatic Signing Key (10/buster) <ftpmaster@debian.org>\" imported\n",
            "gpg: Total number processed: 1\n",
            "gpg:               imported: 1\n",
            "Warning: apt-key output should not be parsed (stdout is not a terminal)\n",
            "Warning: apt-key output should not be parsed (stdout is not a terminal)\n",
            "Warning: apt-key output should not be parsed (stdout is not a terminal)\n"
          ]
        },
        {
          "output_type": "execute_result",
          "data": {
            "text/plain": []
          },
          "metadata": {},
          "execution_count": 1
        }
      ]
    },
    {
      "cell_type": "code",
      "source": [
        "!apt-get update\n",
        "!apt-get install chromium chromium-driver\n",
        "!pip install selenium"
      ],
      "metadata": {
        "id": "QV78R13cXYMK"
      },
      "execution_count": null,
      "outputs": []
    },
    {
      "cell_type": "markdown",
      "source": [
        "Vamos testar se deu tudo certo com as instalações. Se recebermos o retorno \"Example Domain\" é que estamos prontos com o Selenium."
      ],
      "metadata": {
        "id": "KCTLmCwYigBo"
      }
    },
    {
      "cell_type": "code",
      "source": [
        "from selenium import webdriver\n",
        "from selenium.webdriver.chrome.options import Options\n",
        "\n",
        "url = \"http://example.com/\"\n",
        "options = Options()\n",
        "options.add_argument(\"--headless\")\n",
        "options.add_argument(\"--no-sandbox\")\n",
        "driver = webdriver.Chrome(options=options)\n",
        "driver.get(url)\n",
        "print(driver.title)\n",
        "driver.quit()"
      ],
      "metadata": {
        "colab": {
          "base_uri": "https://localhost:8080/"
        },
        "id": "1hEfBHxGVG1_",
        "outputId": "a9a9bf7f-5f97-4306-a3c9-07555cb798b0"
      },
      "execution_count": 4,
      "outputs": [
        {
          "output_type": "stream",
          "name": "stdout",
          "text": [
            "Example Domain\n"
          ]
        }
      ]
    },
    {
      "cell_type": "markdown",
      "metadata": {
        "id": "JfpflBk8RrBi"
      },
      "source": [
        "Somente no Colab, precisamos configurar de forma especial o driver (navegador) utilizado."
      ]
    },
    {
      "cell_type": "code",
      "execution_count": 8,
      "metadata": {
        "id": "2thNPRbw8wTn"
      },
      "outputs": [],
      "source": [
        "from selenium.webdriver.common.by import By\n",
        "import time"
      ]
    },
    {
      "cell_type": "markdown",
      "source": [
        "Toda vez que a inicialização do Selenium demorar muito, iremos fechar o driver e abrir novamente."
      ],
      "metadata": {
        "id": "NAx5kyIxipcO"
      }
    },
    {
      "cell_type": "code",
      "source": [
        "driver.close()"
      ],
      "metadata": {
        "id": "QF_ClZp0bqYL"
      },
      "execution_count": null,
      "outputs": []
    },
    {
      "cell_type": "code",
      "source": [
        "driver = webdriver.Chrome(options=options)"
      ],
      "metadata": {
        "id": "Lxr8DdilYbuG"
      },
      "execution_count": 85,
      "outputs": []
    },
    {
      "cell_type": "markdown",
      "metadata": {
        "id": "GrYzOLHMRrBj"
      },
      "source": [
        "Vamos coletar as notícias do portal do governo do CARF, que é o Conselho Administrativo de Recursos Fiscais.\n",
        "\n",
        "Esse portal reúne diversas informações sobre recursos em casos de processos tributários."
      ]
    },
    {
      "cell_type": "code",
      "source": [
        "url_root = 'http://idg.carf.fazenda.gov.br/noticias/ultimas-noticias'\n",
        "\n",
        "driver = webdriver.Chrome(options=options)\n",
        "driver.get(url_root)\n",
        "time.sleep(5)\n",
        "\n",
        "driver"
      ],
      "metadata": {
        "id": "S_GPSYJ7dbnK",
        "outputId": "7d030633-9072-42ed-dd3d-f676b95cc0a9",
        "colab": {
          "base_uri": "https://localhost:8080/"
        }
      },
      "execution_count": 87,
      "outputs": [
        {
          "output_type": "execute_result",
          "data": {
            "text/plain": [
              "<selenium.webdriver.chrome.webdriver.WebDriver (session=\"28cf22f80d1620c133005ee5a2574bcd\")>"
            ]
          },
          "metadata": {},
          "execution_count": 87
        }
      ]
    },
    {
      "cell_type": "markdown",
      "source": [
        "Para ter certeza de que estamos coletando o que precisamos, vamos tirar um screenshot."
      ],
      "metadata": {
        "id": "BecLm2tvjA2s"
      }
    },
    {
      "cell_type": "code",
      "source": [
        "driver.save_screenshot(\"pagina_1.png\")"
      ],
      "metadata": {
        "colab": {
          "base_uri": "https://localhost:8080/"
        },
        "id": "Xuxs0q1rbwnT",
        "outputId": "8d733ddc-6677-4a05-9dcd-81331176dd4c"
      },
      "execution_count": 88,
      "outputs": [
        {
          "output_type": "execute_result",
          "data": {
            "text/plain": [
              "True"
            ]
          },
          "metadata": {},
          "execution_count": 88
        }
      ]
    },
    {
      "cell_type": "markdown",
      "source": [
        "Agora vamos usar o lcoalizador XPATH (não o XPATH completo) para obter o elemento da página.\n",
        "Conseguimos obter o localizador diretamente no Chrome ao clicar no elemento, depois inspecionar, depois com o botão direito \"Copiar\">\"Copiar XPATH\"."
      ],
      "metadata": {
        "id": "8dCoN2JHjHnR"
      }
    },
    {
      "cell_type": "code",
      "source": [
        "item_1 = driver.find_element(By.XPATH,'//*[@id=\"content-core\"]/div[1]/div/h2/a')\n",
        "item_1.text"
      ],
      "metadata": {
        "id": "E487-2D0dfYx",
        "outputId": "7f94ef40-249c-4a34-f22f-62651f8dfffc",
        "colab": {
          "base_uri": "https://localhost:8080/",
          "height": 35
        }
      },
      "execution_count": 89,
      "outputs": [
        {
          "output_type": "execute_result",
          "data": {
            "text/plain": [
              "'Plataforma de pesquisa de Acórdãos e Resoluções do CARF – VER, completa dois anos com mais de meio milhão de documentos'"
            ],
            "application/vnd.google.colaboratory.intrinsic+json": {
              "type": "string"
            }
          },
          "metadata": {},
          "execution_count": 89
        }
      ]
    },
    {
      "cell_type": "code",
      "source": [
        "link_1 = item_1.get_attribute(\"href\")\n",
        "link_1"
      ],
      "metadata": {
        "colab": {
          "base_uri": "https://localhost:8080/",
          "height": 52
        },
        "id": "TEJJiBbCjmqM",
        "outputId": "0eeb3f4a-683b-42ef-8f82-73ccb1ec6c21"
      },
      "execution_count": 94,
      "outputs": [
        {
          "output_type": "execute_result",
          "data": {
            "text/plain": [
              "'http://idg.carf.fazenda.gov.br/noticias/2022-1/plataforma-de-pesquisa-de-acordaos-e-resolucoes-do-carf-2013-ver-completa-dois-anos-com-meio-mais-de-meio-milhao-de-documentos'"
            ],
            "application/vnd.google.colaboratory.intrinsic+json": {
              "type": "string"
            }
          },
          "metadata": {},
          "execution_count": 94
        }
      ]
    },
    {
      "cell_type": "code",
      "source": [
        "item_2 = driver.find_element(By.XPATH,'//*[@id=\"content-core\"]/div[2]/div/h2/a')\n",
        "item_2.text"
      ],
      "metadata": {
        "id": "hiNlYZSbe9Ul",
        "outputId": "c165b453-5fcd-456e-ca54-11fc7c09e6fd",
        "colab": {
          "base_uri": "https://localhost:8080/",
          "height": 52
        }
      },
      "execution_count": 96,
      "outputs": [
        {
          "output_type": "execute_result",
          "data": {
            "text/plain": [
              "'Estão suspensas todas as sessões de julgamento de Turmas Ordinárias, Extraordinárias e da Câmara Superior de Recursos Fiscais da semana de 22 a 25 de maio'"
            ],
            "application/vnd.google.colaboratory.intrinsic+json": {
              "type": "string"
            }
          },
          "metadata": {},
          "execution_count": 96
        }
      ]
    },
    {
      "cell_type": "code",
      "source": [
        "link_2 = item_2.get_attribute(\"href\")\n",
        "link_2"
      ],
      "metadata": {
        "colab": {
          "base_uri": "https://localhost:8080/",
          "height": 52
        },
        "id": "iJ-7HJGEjvJ2",
        "outputId": "eb8c46ef-40cf-465e-ea39-58e3bac36d06"
      },
      "execution_count": 97,
      "outputs": [
        {
          "output_type": "execute_result",
          "data": {
            "text/plain": [
              "'http://idg.carf.fazenda.gov.br/noticias/2022-1/estao-suspensas-todas-as-sessoes-de-julgamento-de-turmas-ordinarias-extraordinarias-e-da-camara-superior-de-recursos-fiscais-da-semana-de-23-a-25-de-maio'"
            ],
            "application/vnd.google.colaboratory.intrinsic+json": {
              "type": "string"
            }
          },
          "metadata": {},
          "execution_count": 97
        }
      ]
    },
    {
      "cell_type": "markdown",
      "source": [
        "Ao inspecionar a página, verificamos 30 entradas do elemento \"div\". Portanto podemos fazer um laço para obter cada uma das notícias desta página."
      ],
      "metadata": {
        "id": "9KDJz3Nuj1LZ"
      }
    },
    {
      "cell_type": "code",
      "source": [
        "for idx in range(1,31):\n",
        "  item = driver.find_element(By.XPATH,'//*[@id=\"content-core\"]/div[' + str(idx) + ']/div/h2/a')\n",
        "  link = item.get_attribute(\"href\")\n",
        "  print(item.text)\n",
        "  print(link)"
      ],
      "metadata": {
        "colab": {
          "base_uri": "https://localhost:8080/"
        },
        "id": "JRohoUbyfWz0",
        "outputId": "a919f674-02bd-411e-eb36-7f4a45ff0dee"
      },
      "execution_count": 100,
      "outputs": [
        {
          "output_type": "stream",
          "name": "stdout",
          "text": [
            "Plataforma de pesquisa de Acórdãos e Resoluções do CARF – VER, completa dois anos com mais de meio milhão de documentos\n",
            "http://idg.carf.fazenda.gov.br/noticias/2022-1/plataforma-de-pesquisa-de-acordaos-e-resolucoes-do-carf-2013-ver-completa-dois-anos-com-meio-mais-de-meio-milhao-de-documentos\n",
            "Estão suspensas todas as sessões de julgamento de Turmas Ordinárias, Extraordinárias e da Câmara Superior de Recursos Fiscais da semana de 22 a 25 de maio\n",
            "http://idg.carf.fazenda.gov.br/noticias/2022-1/estao-suspensas-todas-as-sessoes-de-julgamento-de-turmas-ordinarias-extraordinarias-e-da-camara-superior-de-recursos-fiscais-da-semana-de-23-a-25-de-maio\n",
            "Estão suspensas todas as sessões de julgamento de Turmas Ordinárias, Extraordinárias e da Câmara Superior de Recursos Fiscais da semana de 16 a 18 de maio\n",
            "http://idg.carf.fazenda.gov.br/noticias/2022-1/estao-suspensas-todas-as-sessoes-de-julgamento-de-turmas-ordinarias-extraordinarias-e-da-camara-superior-de-recursos-fiscais-da-semana-de-16-a-18-de-maio\n",
            "Seminário de Direito Tributário: Caminhos para redução da litigiosidade\n",
            "http://idg.carf.fazenda.gov.br/noticias/2022-1/seminario-de-direito-tributario-caminhos-para-reducao-da-litigiosidade-1\n",
            "Falecimento do professor Hugo de Brito Machado\n",
            "http://idg.carf.fazenda.gov.br/noticias/2022-1/falecimento-do-professor-hugo-de-brito-machado\n",
            "Ministério da Fazenda publica portaria que disciplina a retirada de pauta de processos no âmbito do CARF\n",
            "http://idg.carf.fazenda.gov.br/noticias/2022-1/ministerio-da-fazenda-publica-portaria-que-disciplina-a-retirada-de-pauta-de-processos-no-ambito-do-carf\n",
            "Seminário de Direito Tributário: Caminhos para redução da litigiosidade\n",
            "http://idg.carf.fazenda.gov.br/noticias/2022-1/seminario-de-direito-tributario-caminhos-para-reducao-da-litigiosidade\n",
            "CARF suspende sessões de julgamento da semana de 14 a 16 de fevereiro\n",
            "http://idg.carf.fazenda.gov.br/noticias/2022-1/carf-suspende-sessoes-de-julgamento-da-semana-de-14-a-16-de-fevereiro\n",
            "CARF suspende sessões de julgamento da semana de 07 a 09 de fevereiro\n",
            "http://idg.carf.fazenda.gov.br/noticias/2022-1/carf-suspende-sessoes-de-julgamento-da-semana-de-07-a-09-de-fevereiro\n",
            "CARF Comunica suspensão de todas as sessões de julgamento agendadas para o mês de janeiro de 2023\n",
            "http://idg.carf.fazenda.gov.br/noticias/2022-1/carf-comunica-suspensao-de-todas-as-sessoes-de-julgamento-agendadas-para-o-mes-de-janeiro-de-2023\n",
            "Conheça a nova funcionalidade que traz mais agilidade na pesquisa processual\n",
            "http://idg.carf.fazenda.gov.br/noticias/2022/conheca-a-nova-funcionalidade-que-traz-mais-agilidade-na-pesquisa-processual\n",
            "Alunos do curso de Direito da PUC Minas visitam o CARF\n",
            "http://idg.carf.fazenda.gov.br/noticias/2022/alunos-do-curso-de-direito-da-puc-minas-visitam-o-carf\n",
            "VIII Seminário CARF de Direito Tributário e Aduaneiro\n",
            "http://idg.carf.fazenda.gov.br/noticias/2022/viii-seminario-carf-de-direito-tributario-e-aduaneiro-1\n",
            "VIII Seminário Carf de Direito Tributário e Aduaneiro\n",
            "http://idg.carf.fazenda.gov.br/noticias/2022/viii-seminario-carf-de-direito-tributario-e-aduaneiro\n",
            "CARF revoga súmula 125\n",
            "http://idg.carf.fazenda.gov.br/noticias/2022/carf-revoga-sumula-125\n",
            "Veja onde entregar petições e recursos de Processos Administrativos Fiscais\n",
            "http://idg.carf.fazenda.gov.br/noticias/2022/veja-onde-entregar-peticoes-e-recursos-de-processos-administrativos-em-tramite-no-carf\n",
            "CARF publica o calendário das sessões de julgamento para 2023\n",
            "http://idg.carf.fazenda.gov.br/noticias/2022/carf-publica-o-calendario-das-sessoes-de-julgamento-para-2023\n",
            "Estão suspensas sessões de julgamento da 1ª Turma Extraordinária da 1ª Seção da semana de 13 a 15 de setembro\n",
            "http://idg.carf.fazenda.gov.br/noticias/2022/estao-suspensas-sessoes-de-julgamento-da-1a-turma-extraordinaria-da-1a-secao-da-semana-de-13-a-15-de-setembro\n",
            "Suspensas sessões de julgamento do dia 19/9\n",
            "http://idg.carf.fazenda.gov.br/noticias/2022/suspensas-sessoes-de-julgamento-do-dia-19-9\n",
            "Estão suspensas sessões de julgamento de Turmas Ordinárias e Extraordinárias da semana de 22 a 26 de agosto\n",
            "http://idg.carf.fazenda.gov.br/noticias/2022/estao-suspensas-sessoes-de-julgamento-de-turmas-ordinarias-e-extraordinarias-da-semana-de-22-a-26-de-agosto\n",
            "Estão suspensas sessões de julgamento de Turmas Ordinárias e Extraordinárias da semana de 15 a 19 de agosto\n",
            "http://idg.carf.fazenda.gov.br/noticias/2022/estao-suspensas-sessoes-de-julgamento-de-turmas-ordinarias-e-extraordinarias-da-semana-de-15-a-18-de-agosto\n",
            "Estão suspensas sessões de julgamento de Turmas Ordinárias e Extraordinárias da semana de 08 a 12 de agosto\n",
            "http://idg.carf.fazenda.gov.br/noticias/2022/estao-suspensas-sessoes-de-julgamento-de-turmas-ordinarias-e-extraordinarias-da-semana-de-08-a-12-de-agosto\n",
            "Estão suspensas sessões de julgamento de Turmas Ordinárias, Extraordinárias e da Câmara Superior de Recursos Fiscais da semana de 25 a 29 de julho\n",
            "http://idg.carf.fazenda.gov.br/noticias/2022/estao-suspensas-sessoes-de-julgamento-de-turmas-ordinarias-extraordinarias-e-da-camara-superior-de-recursos-fiscais-da-semana-de-25-a-29-de-julho\n",
            "Estão suspensas sessões de julgamento de Turmas Ordinárias, Extraordinárias e Câmara Superior da semana de 18 a 22 de julho\n",
            "http://idg.carf.fazenda.gov.br/noticias/2022/estao-suspensas-sessoes-de-julgamento-de-turmas-ordinarias-extraordinarias-e-camara-superior-da-semana-de-18-a-21-de-julho\n",
            "Estão suspensas sessões de julgamento de Turmas Ordinárias e Extraordinárias da semana de 11 a 15 de julho\n",
            "http://idg.carf.fazenda.gov.br/noticias/2022/estao-suspensas-sessoes-de-julgamento-de-turmas-ordinarias-e-extraordinarias-da-semana-de-11-a-15-de-julho\n",
            "Estão suspensas sessões de julgamento de Turmas Ordinárias, Extraordinárias e da Câmara Superior de Recursos Fiscais da semana de 20 a 24 de junho\n",
            "http://idg.carf.fazenda.gov.br/noticias/2022/a-portaria-carf-me-no-5484-2022-de-15-de-junho-de-2022-suspendeu-as-sessoes-de-julgamento-da-semana-de-20-a-24-de-junho-das-seguintes-turmas\n",
            "Estão suspensas sessões de julgamento de Turmas Ordinárias, Extraordinárias e de Câmara Superior da semana de 13 a 17 de junho\n",
            "http://idg.carf.fazenda.gov.br/noticias/2022/estao-suspensas-sessoes-de-julgamento-de-turmas-ordinarias-extraordinarias-e-de-camara-superior-da-semana-de-13-a-17-de-junho\n",
            "Estão suspensas sessões de julgamento de Turmas Ordinárias e Extraordinárias da semana de 6 a 10 de junho\n",
            "http://idg.carf.fazenda.gov.br/noticias/2022/estao-suspensas-sessoes-de-julgamento-de-turmas-ordinarias-e-extraordinarias-da-semana-de-6-a-10-de-junho\n",
            "Estão suspensas sessões de julgamento de Turmas Ordinárias, Extraordinárias e da Câmara Superior da semana de 23 a 27 de maio\n",
            "http://idg.carf.fazenda.gov.br/noticias/2022/estao-suspensas-sessoes-de-julgamento-de-turmas-ordinarias-extraordinarias-e-da-camara-superior-da-semana-de-23-a-27-de-maio\n",
            "CARF comunica o lançamento da nova versão do Sistema Cognitivo de Gestão do Acervo – CRIO\n",
            "http://idg.carf.fazenda.gov.br/noticias/2022/carf-comunica-o-lancamento-da-nova-versao-do-sistema-cognitivo-de-gestao-do-acervo-2013-crio\n"
          ]
        }
      ]
    },
    {
      "cell_type": "markdown",
      "source": [
        "Verificamos também que há 12 páginas de notícias disponíveis.\n",
        "Podemos juntar os 2 laços em um mesmo para percorrer cada página.\n",
        "\n",
        "Para não tornar lento o processamento, vamos percorrer 3 páginas.\n",
        "\n",
        "Note que cada sistema possui um incrementador próprio. Nesse o paginador é o número de notícias, sendo um múltiplo de 30. Começamos com 0 na primeira página, 30 na segunda (+30), 60 na terceira (+30) e assim por diante."
      ],
      "metadata": {
        "id": "B4NStWUnj9VM"
      }
    },
    {
      "cell_type": "code",
      "source": [
        "paginas = 3\n",
        "\n",
        "for pagina in range(1, paginas+1):\n",
        "  print(\"Página \" + str(pagina))\n",
        "  num = 0\n",
        "  url_root = 'http://idg.carf.fazenda.gov.br/noticias/ultimas-noticias?b_start:int=' + str(num)\n",
        "\n",
        "  driver = webdriver.Chrome(options=options)\n",
        "  driver.get(url_root)\n",
        "  time.sleep(5)\n",
        "\n",
        "  for idx in range(1,31):\n",
        "    item = driver.find_element(By.XPATH,'//*[@id=\"content-core\"]/div[' + str(idx) + ']/div/h2/a')\n",
        "    link = item_2.get_attribute(\"href\")\n",
        "    print(item.text)\n",
        "    print(link)\n",
        "\n",
        "\n",
        "  num =+ 30"
      ],
      "metadata": {
        "id": "YUDDS3BkfE1k",
        "outputId": "cacbebae-9aa7-4d14-b6ee-78c6f27dfedc",
        "colab": {
          "base_uri": "https://localhost:8080/"
        }
      },
      "execution_count": 101,
      "outputs": [
        {
          "output_type": "stream",
          "name": "stdout",
          "text": [
            "Página 1\n",
            "Plataforma de pesquisa de Acórdãos e Resoluções do CARF – VER, completa dois anos com mais de meio milhão de documentos\n",
            "http://idg.carf.fazenda.gov.br/noticias/2022-1/estao-suspensas-todas-as-sessoes-de-julgamento-de-turmas-ordinarias-extraordinarias-e-da-camara-superior-de-recursos-fiscais-da-semana-de-23-a-25-de-maio\n",
            "Estão suspensas todas as sessões de julgamento de Turmas Ordinárias, Extraordinárias e da Câmara Superior de Recursos Fiscais da semana de 22 a 25 de maio\n",
            "http://idg.carf.fazenda.gov.br/noticias/2022-1/estao-suspensas-todas-as-sessoes-de-julgamento-de-turmas-ordinarias-extraordinarias-e-da-camara-superior-de-recursos-fiscais-da-semana-de-23-a-25-de-maio\n",
            "Estão suspensas todas as sessões de julgamento de Turmas Ordinárias, Extraordinárias e da Câmara Superior de Recursos Fiscais da semana de 16 a 18 de maio\n",
            "http://idg.carf.fazenda.gov.br/noticias/2022-1/estao-suspensas-todas-as-sessoes-de-julgamento-de-turmas-ordinarias-extraordinarias-e-da-camara-superior-de-recursos-fiscais-da-semana-de-23-a-25-de-maio\n",
            "Seminário de Direito Tributário: Caminhos para redução da litigiosidade\n",
            "http://idg.carf.fazenda.gov.br/noticias/2022-1/estao-suspensas-todas-as-sessoes-de-julgamento-de-turmas-ordinarias-extraordinarias-e-da-camara-superior-de-recursos-fiscais-da-semana-de-23-a-25-de-maio\n",
            "Falecimento do professor Hugo de Brito Machado\n",
            "http://idg.carf.fazenda.gov.br/noticias/2022-1/estao-suspensas-todas-as-sessoes-de-julgamento-de-turmas-ordinarias-extraordinarias-e-da-camara-superior-de-recursos-fiscais-da-semana-de-23-a-25-de-maio\n",
            "Ministério da Fazenda publica portaria que disciplina a retirada de pauta de processos no âmbito do CARF\n",
            "http://idg.carf.fazenda.gov.br/noticias/2022-1/estao-suspensas-todas-as-sessoes-de-julgamento-de-turmas-ordinarias-extraordinarias-e-da-camara-superior-de-recursos-fiscais-da-semana-de-23-a-25-de-maio\n",
            "Seminário de Direito Tributário: Caminhos para redução da litigiosidade\n",
            "http://idg.carf.fazenda.gov.br/noticias/2022-1/estao-suspensas-todas-as-sessoes-de-julgamento-de-turmas-ordinarias-extraordinarias-e-da-camara-superior-de-recursos-fiscais-da-semana-de-23-a-25-de-maio\n",
            "CARF suspende sessões de julgamento da semana de 14 a 16 de fevereiro\n",
            "http://idg.carf.fazenda.gov.br/noticias/2022-1/estao-suspensas-todas-as-sessoes-de-julgamento-de-turmas-ordinarias-extraordinarias-e-da-camara-superior-de-recursos-fiscais-da-semana-de-23-a-25-de-maio\n",
            "CARF suspende sessões de julgamento da semana de 07 a 09 de fevereiro\n",
            "http://idg.carf.fazenda.gov.br/noticias/2022-1/estao-suspensas-todas-as-sessoes-de-julgamento-de-turmas-ordinarias-extraordinarias-e-da-camara-superior-de-recursos-fiscais-da-semana-de-23-a-25-de-maio\n",
            "CARF Comunica suspensão de todas as sessões de julgamento agendadas para o mês de janeiro de 2023\n",
            "http://idg.carf.fazenda.gov.br/noticias/2022-1/estao-suspensas-todas-as-sessoes-de-julgamento-de-turmas-ordinarias-extraordinarias-e-da-camara-superior-de-recursos-fiscais-da-semana-de-23-a-25-de-maio\n",
            "Conheça a nova funcionalidade que traz mais agilidade na pesquisa processual\n",
            "http://idg.carf.fazenda.gov.br/noticias/2022-1/estao-suspensas-todas-as-sessoes-de-julgamento-de-turmas-ordinarias-extraordinarias-e-da-camara-superior-de-recursos-fiscais-da-semana-de-23-a-25-de-maio\n",
            "Alunos do curso de Direito da PUC Minas visitam o CARF\n",
            "http://idg.carf.fazenda.gov.br/noticias/2022-1/estao-suspensas-todas-as-sessoes-de-julgamento-de-turmas-ordinarias-extraordinarias-e-da-camara-superior-de-recursos-fiscais-da-semana-de-23-a-25-de-maio\n",
            "VIII Seminário CARF de Direito Tributário e Aduaneiro\n",
            "http://idg.carf.fazenda.gov.br/noticias/2022-1/estao-suspensas-todas-as-sessoes-de-julgamento-de-turmas-ordinarias-extraordinarias-e-da-camara-superior-de-recursos-fiscais-da-semana-de-23-a-25-de-maio\n",
            "VIII Seminário Carf de Direito Tributário e Aduaneiro\n",
            "http://idg.carf.fazenda.gov.br/noticias/2022-1/estao-suspensas-todas-as-sessoes-de-julgamento-de-turmas-ordinarias-extraordinarias-e-da-camara-superior-de-recursos-fiscais-da-semana-de-23-a-25-de-maio\n",
            "CARF revoga súmula 125\n",
            "http://idg.carf.fazenda.gov.br/noticias/2022-1/estao-suspensas-todas-as-sessoes-de-julgamento-de-turmas-ordinarias-extraordinarias-e-da-camara-superior-de-recursos-fiscais-da-semana-de-23-a-25-de-maio\n",
            "Veja onde entregar petições e recursos de Processos Administrativos Fiscais\n",
            "http://idg.carf.fazenda.gov.br/noticias/2022-1/estao-suspensas-todas-as-sessoes-de-julgamento-de-turmas-ordinarias-extraordinarias-e-da-camara-superior-de-recursos-fiscais-da-semana-de-23-a-25-de-maio\n",
            "CARF publica o calendário das sessões de julgamento para 2023\n",
            "http://idg.carf.fazenda.gov.br/noticias/2022-1/estao-suspensas-todas-as-sessoes-de-julgamento-de-turmas-ordinarias-extraordinarias-e-da-camara-superior-de-recursos-fiscais-da-semana-de-23-a-25-de-maio\n",
            "Estão suspensas sessões de julgamento da 1ª Turma Extraordinária da 1ª Seção da semana de 13 a 15 de setembro\n",
            "http://idg.carf.fazenda.gov.br/noticias/2022-1/estao-suspensas-todas-as-sessoes-de-julgamento-de-turmas-ordinarias-extraordinarias-e-da-camara-superior-de-recursos-fiscais-da-semana-de-23-a-25-de-maio\n",
            "Suspensas sessões de julgamento do dia 19/9\n",
            "http://idg.carf.fazenda.gov.br/noticias/2022-1/estao-suspensas-todas-as-sessoes-de-julgamento-de-turmas-ordinarias-extraordinarias-e-da-camara-superior-de-recursos-fiscais-da-semana-de-23-a-25-de-maio\n",
            "Estão suspensas sessões de julgamento de Turmas Ordinárias e Extraordinárias da semana de 22 a 26 de agosto\n",
            "http://idg.carf.fazenda.gov.br/noticias/2022-1/estao-suspensas-todas-as-sessoes-de-julgamento-de-turmas-ordinarias-extraordinarias-e-da-camara-superior-de-recursos-fiscais-da-semana-de-23-a-25-de-maio\n",
            "Estão suspensas sessões de julgamento de Turmas Ordinárias e Extraordinárias da semana de 15 a 19 de agosto\n",
            "http://idg.carf.fazenda.gov.br/noticias/2022-1/estao-suspensas-todas-as-sessoes-de-julgamento-de-turmas-ordinarias-extraordinarias-e-da-camara-superior-de-recursos-fiscais-da-semana-de-23-a-25-de-maio\n",
            "Estão suspensas sessões de julgamento de Turmas Ordinárias e Extraordinárias da semana de 08 a 12 de agosto\n",
            "http://idg.carf.fazenda.gov.br/noticias/2022-1/estao-suspensas-todas-as-sessoes-de-julgamento-de-turmas-ordinarias-extraordinarias-e-da-camara-superior-de-recursos-fiscais-da-semana-de-23-a-25-de-maio\n",
            "Estão suspensas sessões de julgamento de Turmas Ordinárias, Extraordinárias e da Câmara Superior de Recursos Fiscais da semana de 25 a 29 de julho\n",
            "http://idg.carf.fazenda.gov.br/noticias/2022-1/estao-suspensas-todas-as-sessoes-de-julgamento-de-turmas-ordinarias-extraordinarias-e-da-camara-superior-de-recursos-fiscais-da-semana-de-23-a-25-de-maio\n",
            "Estão suspensas sessões de julgamento de Turmas Ordinárias, Extraordinárias e Câmara Superior da semana de 18 a 22 de julho\n",
            "http://idg.carf.fazenda.gov.br/noticias/2022-1/estao-suspensas-todas-as-sessoes-de-julgamento-de-turmas-ordinarias-extraordinarias-e-da-camara-superior-de-recursos-fiscais-da-semana-de-23-a-25-de-maio\n",
            "Estão suspensas sessões de julgamento de Turmas Ordinárias e Extraordinárias da semana de 11 a 15 de julho\n",
            "http://idg.carf.fazenda.gov.br/noticias/2022-1/estao-suspensas-todas-as-sessoes-de-julgamento-de-turmas-ordinarias-extraordinarias-e-da-camara-superior-de-recursos-fiscais-da-semana-de-23-a-25-de-maio\n",
            "Estão suspensas sessões de julgamento de Turmas Ordinárias, Extraordinárias e da Câmara Superior de Recursos Fiscais da semana de 20 a 24 de junho\n",
            "http://idg.carf.fazenda.gov.br/noticias/2022-1/estao-suspensas-todas-as-sessoes-de-julgamento-de-turmas-ordinarias-extraordinarias-e-da-camara-superior-de-recursos-fiscais-da-semana-de-23-a-25-de-maio\n",
            "Estão suspensas sessões de julgamento de Turmas Ordinárias, Extraordinárias e de Câmara Superior da semana de 13 a 17 de junho\n",
            "http://idg.carf.fazenda.gov.br/noticias/2022-1/estao-suspensas-todas-as-sessoes-de-julgamento-de-turmas-ordinarias-extraordinarias-e-da-camara-superior-de-recursos-fiscais-da-semana-de-23-a-25-de-maio\n",
            "Estão suspensas sessões de julgamento de Turmas Ordinárias e Extraordinárias da semana de 6 a 10 de junho\n",
            "http://idg.carf.fazenda.gov.br/noticias/2022-1/estao-suspensas-todas-as-sessoes-de-julgamento-de-turmas-ordinarias-extraordinarias-e-da-camara-superior-de-recursos-fiscais-da-semana-de-23-a-25-de-maio\n",
            "Estão suspensas sessões de julgamento de Turmas Ordinárias, Extraordinárias e da Câmara Superior da semana de 23 a 27 de maio\n",
            "http://idg.carf.fazenda.gov.br/noticias/2022-1/estao-suspensas-todas-as-sessoes-de-julgamento-de-turmas-ordinarias-extraordinarias-e-da-camara-superior-de-recursos-fiscais-da-semana-de-23-a-25-de-maio\n",
            "CARF comunica o lançamento da nova versão do Sistema Cognitivo de Gestão do Acervo – CRIO\n",
            "http://idg.carf.fazenda.gov.br/noticias/2022-1/estao-suspensas-todas-as-sessoes-de-julgamento-de-turmas-ordinarias-extraordinarias-e-da-camara-superior-de-recursos-fiscais-da-semana-de-23-a-25-de-maio\n",
            "Página 2\n",
            "Plataforma de pesquisa de Acórdãos e Resoluções do CARF – VER, completa dois anos com mais de meio milhão de documentos\n",
            "http://idg.carf.fazenda.gov.br/noticias/2022-1/estao-suspensas-todas-as-sessoes-de-julgamento-de-turmas-ordinarias-extraordinarias-e-da-camara-superior-de-recursos-fiscais-da-semana-de-23-a-25-de-maio\n",
            "Estão suspensas todas as sessões de julgamento de Turmas Ordinárias, Extraordinárias e da Câmara Superior de Recursos Fiscais da semana de 22 a 25 de maio\n",
            "http://idg.carf.fazenda.gov.br/noticias/2022-1/estao-suspensas-todas-as-sessoes-de-julgamento-de-turmas-ordinarias-extraordinarias-e-da-camara-superior-de-recursos-fiscais-da-semana-de-23-a-25-de-maio\n",
            "Estão suspensas todas as sessões de julgamento de Turmas Ordinárias, Extraordinárias e da Câmara Superior de Recursos Fiscais da semana de 16 a 18 de maio\n",
            "http://idg.carf.fazenda.gov.br/noticias/2022-1/estao-suspensas-todas-as-sessoes-de-julgamento-de-turmas-ordinarias-extraordinarias-e-da-camara-superior-de-recursos-fiscais-da-semana-de-23-a-25-de-maio\n",
            "Seminário de Direito Tributário: Caminhos para redução da litigiosidade\n",
            "http://idg.carf.fazenda.gov.br/noticias/2022-1/estao-suspensas-todas-as-sessoes-de-julgamento-de-turmas-ordinarias-extraordinarias-e-da-camara-superior-de-recursos-fiscais-da-semana-de-23-a-25-de-maio\n",
            "Falecimento do professor Hugo de Brito Machado\n",
            "http://idg.carf.fazenda.gov.br/noticias/2022-1/estao-suspensas-todas-as-sessoes-de-julgamento-de-turmas-ordinarias-extraordinarias-e-da-camara-superior-de-recursos-fiscais-da-semana-de-23-a-25-de-maio\n",
            "Ministério da Fazenda publica portaria que disciplina a retirada de pauta de processos no âmbito do CARF\n",
            "http://idg.carf.fazenda.gov.br/noticias/2022-1/estao-suspensas-todas-as-sessoes-de-julgamento-de-turmas-ordinarias-extraordinarias-e-da-camara-superior-de-recursos-fiscais-da-semana-de-23-a-25-de-maio\n",
            "Seminário de Direito Tributário: Caminhos para redução da litigiosidade\n",
            "http://idg.carf.fazenda.gov.br/noticias/2022-1/estao-suspensas-todas-as-sessoes-de-julgamento-de-turmas-ordinarias-extraordinarias-e-da-camara-superior-de-recursos-fiscais-da-semana-de-23-a-25-de-maio\n",
            "CARF suspende sessões de julgamento da semana de 14 a 16 de fevereiro\n",
            "http://idg.carf.fazenda.gov.br/noticias/2022-1/estao-suspensas-todas-as-sessoes-de-julgamento-de-turmas-ordinarias-extraordinarias-e-da-camara-superior-de-recursos-fiscais-da-semana-de-23-a-25-de-maio\n",
            "CARF suspende sessões de julgamento da semana de 07 a 09 de fevereiro\n",
            "http://idg.carf.fazenda.gov.br/noticias/2022-1/estao-suspensas-todas-as-sessoes-de-julgamento-de-turmas-ordinarias-extraordinarias-e-da-camara-superior-de-recursos-fiscais-da-semana-de-23-a-25-de-maio\n",
            "CARF Comunica suspensão de todas as sessões de julgamento agendadas para o mês de janeiro de 2023\n",
            "http://idg.carf.fazenda.gov.br/noticias/2022-1/estao-suspensas-todas-as-sessoes-de-julgamento-de-turmas-ordinarias-extraordinarias-e-da-camara-superior-de-recursos-fiscais-da-semana-de-23-a-25-de-maio\n",
            "Conheça a nova funcionalidade que traz mais agilidade na pesquisa processual\n",
            "http://idg.carf.fazenda.gov.br/noticias/2022-1/estao-suspensas-todas-as-sessoes-de-julgamento-de-turmas-ordinarias-extraordinarias-e-da-camara-superior-de-recursos-fiscais-da-semana-de-23-a-25-de-maio\n",
            "Alunos do curso de Direito da PUC Minas visitam o CARF\n",
            "http://idg.carf.fazenda.gov.br/noticias/2022-1/estao-suspensas-todas-as-sessoes-de-julgamento-de-turmas-ordinarias-extraordinarias-e-da-camara-superior-de-recursos-fiscais-da-semana-de-23-a-25-de-maio\n",
            "VIII Seminário CARF de Direito Tributário e Aduaneiro\n",
            "http://idg.carf.fazenda.gov.br/noticias/2022-1/estao-suspensas-todas-as-sessoes-de-julgamento-de-turmas-ordinarias-extraordinarias-e-da-camara-superior-de-recursos-fiscais-da-semana-de-23-a-25-de-maio\n",
            "VIII Seminário Carf de Direito Tributário e Aduaneiro\n",
            "http://idg.carf.fazenda.gov.br/noticias/2022-1/estao-suspensas-todas-as-sessoes-de-julgamento-de-turmas-ordinarias-extraordinarias-e-da-camara-superior-de-recursos-fiscais-da-semana-de-23-a-25-de-maio\n",
            "CARF revoga súmula 125\n",
            "http://idg.carf.fazenda.gov.br/noticias/2022-1/estao-suspensas-todas-as-sessoes-de-julgamento-de-turmas-ordinarias-extraordinarias-e-da-camara-superior-de-recursos-fiscais-da-semana-de-23-a-25-de-maio\n",
            "Veja onde entregar petições e recursos de Processos Administrativos Fiscais\n",
            "http://idg.carf.fazenda.gov.br/noticias/2022-1/estao-suspensas-todas-as-sessoes-de-julgamento-de-turmas-ordinarias-extraordinarias-e-da-camara-superior-de-recursos-fiscais-da-semana-de-23-a-25-de-maio\n",
            "CARF publica o calendário das sessões de julgamento para 2023\n",
            "http://idg.carf.fazenda.gov.br/noticias/2022-1/estao-suspensas-todas-as-sessoes-de-julgamento-de-turmas-ordinarias-extraordinarias-e-da-camara-superior-de-recursos-fiscais-da-semana-de-23-a-25-de-maio\n",
            "Estão suspensas sessões de julgamento da 1ª Turma Extraordinária da 1ª Seção da semana de 13 a 15 de setembro\n",
            "http://idg.carf.fazenda.gov.br/noticias/2022-1/estao-suspensas-todas-as-sessoes-de-julgamento-de-turmas-ordinarias-extraordinarias-e-da-camara-superior-de-recursos-fiscais-da-semana-de-23-a-25-de-maio\n",
            "Suspensas sessões de julgamento do dia 19/9\n",
            "http://idg.carf.fazenda.gov.br/noticias/2022-1/estao-suspensas-todas-as-sessoes-de-julgamento-de-turmas-ordinarias-extraordinarias-e-da-camara-superior-de-recursos-fiscais-da-semana-de-23-a-25-de-maio\n",
            "Estão suspensas sessões de julgamento de Turmas Ordinárias e Extraordinárias da semana de 22 a 26 de agosto\n",
            "http://idg.carf.fazenda.gov.br/noticias/2022-1/estao-suspensas-todas-as-sessoes-de-julgamento-de-turmas-ordinarias-extraordinarias-e-da-camara-superior-de-recursos-fiscais-da-semana-de-23-a-25-de-maio\n",
            "Estão suspensas sessões de julgamento de Turmas Ordinárias e Extraordinárias da semana de 15 a 19 de agosto\n",
            "http://idg.carf.fazenda.gov.br/noticias/2022-1/estao-suspensas-todas-as-sessoes-de-julgamento-de-turmas-ordinarias-extraordinarias-e-da-camara-superior-de-recursos-fiscais-da-semana-de-23-a-25-de-maio\n",
            "Estão suspensas sessões de julgamento de Turmas Ordinárias e Extraordinárias da semana de 08 a 12 de agosto\n",
            "http://idg.carf.fazenda.gov.br/noticias/2022-1/estao-suspensas-todas-as-sessoes-de-julgamento-de-turmas-ordinarias-extraordinarias-e-da-camara-superior-de-recursos-fiscais-da-semana-de-23-a-25-de-maio\n",
            "Estão suspensas sessões de julgamento de Turmas Ordinárias, Extraordinárias e da Câmara Superior de Recursos Fiscais da semana de 25 a 29 de julho\n",
            "http://idg.carf.fazenda.gov.br/noticias/2022-1/estao-suspensas-todas-as-sessoes-de-julgamento-de-turmas-ordinarias-extraordinarias-e-da-camara-superior-de-recursos-fiscais-da-semana-de-23-a-25-de-maio\n",
            "Estão suspensas sessões de julgamento de Turmas Ordinárias, Extraordinárias e Câmara Superior da semana de 18 a 22 de julho\n",
            "http://idg.carf.fazenda.gov.br/noticias/2022-1/estao-suspensas-todas-as-sessoes-de-julgamento-de-turmas-ordinarias-extraordinarias-e-da-camara-superior-de-recursos-fiscais-da-semana-de-23-a-25-de-maio\n",
            "Estão suspensas sessões de julgamento de Turmas Ordinárias e Extraordinárias da semana de 11 a 15 de julho\n",
            "http://idg.carf.fazenda.gov.br/noticias/2022-1/estao-suspensas-todas-as-sessoes-de-julgamento-de-turmas-ordinarias-extraordinarias-e-da-camara-superior-de-recursos-fiscais-da-semana-de-23-a-25-de-maio\n",
            "Estão suspensas sessões de julgamento de Turmas Ordinárias, Extraordinárias e da Câmara Superior de Recursos Fiscais da semana de 20 a 24 de junho\n",
            "http://idg.carf.fazenda.gov.br/noticias/2022-1/estao-suspensas-todas-as-sessoes-de-julgamento-de-turmas-ordinarias-extraordinarias-e-da-camara-superior-de-recursos-fiscais-da-semana-de-23-a-25-de-maio\n",
            "Estão suspensas sessões de julgamento de Turmas Ordinárias, Extraordinárias e de Câmara Superior da semana de 13 a 17 de junho\n",
            "http://idg.carf.fazenda.gov.br/noticias/2022-1/estao-suspensas-todas-as-sessoes-de-julgamento-de-turmas-ordinarias-extraordinarias-e-da-camara-superior-de-recursos-fiscais-da-semana-de-23-a-25-de-maio\n",
            "Estão suspensas sessões de julgamento de Turmas Ordinárias e Extraordinárias da semana de 6 a 10 de junho\n",
            "http://idg.carf.fazenda.gov.br/noticias/2022-1/estao-suspensas-todas-as-sessoes-de-julgamento-de-turmas-ordinarias-extraordinarias-e-da-camara-superior-de-recursos-fiscais-da-semana-de-23-a-25-de-maio\n",
            "Estão suspensas sessões de julgamento de Turmas Ordinárias, Extraordinárias e da Câmara Superior da semana de 23 a 27 de maio\n",
            "http://idg.carf.fazenda.gov.br/noticias/2022-1/estao-suspensas-todas-as-sessoes-de-julgamento-de-turmas-ordinarias-extraordinarias-e-da-camara-superior-de-recursos-fiscais-da-semana-de-23-a-25-de-maio\n",
            "CARF comunica o lançamento da nova versão do Sistema Cognitivo de Gestão do Acervo – CRIO\n",
            "http://idg.carf.fazenda.gov.br/noticias/2022-1/estao-suspensas-todas-as-sessoes-de-julgamento-de-turmas-ordinarias-extraordinarias-e-da-camara-superior-de-recursos-fiscais-da-semana-de-23-a-25-de-maio\n",
            "Página 3\n",
            "Plataforma de pesquisa de Acórdãos e Resoluções do CARF – VER, completa dois anos com mais de meio milhão de documentos\n",
            "http://idg.carf.fazenda.gov.br/noticias/2022-1/estao-suspensas-todas-as-sessoes-de-julgamento-de-turmas-ordinarias-extraordinarias-e-da-camara-superior-de-recursos-fiscais-da-semana-de-23-a-25-de-maio\n",
            "Estão suspensas todas as sessões de julgamento de Turmas Ordinárias, Extraordinárias e da Câmara Superior de Recursos Fiscais da semana de 22 a 25 de maio\n",
            "http://idg.carf.fazenda.gov.br/noticias/2022-1/estao-suspensas-todas-as-sessoes-de-julgamento-de-turmas-ordinarias-extraordinarias-e-da-camara-superior-de-recursos-fiscais-da-semana-de-23-a-25-de-maio\n",
            "Estão suspensas todas as sessões de julgamento de Turmas Ordinárias, Extraordinárias e da Câmara Superior de Recursos Fiscais da semana de 16 a 18 de maio\n",
            "http://idg.carf.fazenda.gov.br/noticias/2022-1/estao-suspensas-todas-as-sessoes-de-julgamento-de-turmas-ordinarias-extraordinarias-e-da-camara-superior-de-recursos-fiscais-da-semana-de-23-a-25-de-maio\n",
            "Seminário de Direito Tributário: Caminhos para redução da litigiosidade\n",
            "http://idg.carf.fazenda.gov.br/noticias/2022-1/estao-suspensas-todas-as-sessoes-de-julgamento-de-turmas-ordinarias-extraordinarias-e-da-camara-superior-de-recursos-fiscais-da-semana-de-23-a-25-de-maio\n",
            "Falecimento do professor Hugo de Brito Machado\n",
            "http://idg.carf.fazenda.gov.br/noticias/2022-1/estao-suspensas-todas-as-sessoes-de-julgamento-de-turmas-ordinarias-extraordinarias-e-da-camara-superior-de-recursos-fiscais-da-semana-de-23-a-25-de-maio\n",
            "Ministério da Fazenda publica portaria que disciplina a retirada de pauta de processos no âmbito do CARF\n",
            "http://idg.carf.fazenda.gov.br/noticias/2022-1/estao-suspensas-todas-as-sessoes-de-julgamento-de-turmas-ordinarias-extraordinarias-e-da-camara-superior-de-recursos-fiscais-da-semana-de-23-a-25-de-maio\n",
            "Seminário de Direito Tributário: Caminhos para redução da litigiosidade\n",
            "http://idg.carf.fazenda.gov.br/noticias/2022-1/estao-suspensas-todas-as-sessoes-de-julgamento-de-turmas-ordinarias-extraordinarias-e-da-camara-superior-de-recursos-fiscais-da-semana-de-23-a-25-de-maio\n",
            "CARF suspende sessões de julgamento da semana de 14 a 16 de fevereiro\n",
            "http://idg.carf.fazenda.gov.br/noticias/2022-1/estao-suspensas-todas-as-sessoes-de-julgamento-de-turmas-ordinarias-extraordinarias-e-da-camara-superior-de-recursos-fiscais-da-semana-de-23-a-25-de-maio\n",
            "CARF suspende sessões de julgamento da semana de 07 a 09 de fevereiro\n",
            "http://idg.carf.fazenda.gov.br/noticias/2022-1/estao-suspensas-todas-as-sessoes-de-julgamento-de-turmas-ordinarias-extraordinarias-e-da-camara-superior-de-recursos-fiscais-da-semana-de-23-a-25-de-maio\n",
            "CARF Comunica suspensão de todas as sessões de julgamento agendadas para o mês de janeiro de 2023\n",
            "http://idg.carf.fazenda.gov.br/noticias/2022-1/estao-suspensas-todas-as-sessoes-de-julgamento-de-turmas-ordinarias-extraordinarias-e-da-camara-superior-de-recursos-fiscais-da-semana-de-23-a-25-de-maio\n",
            "Conheça a nova funcionalidade que traz mais agilidade na pesquisa processual\n",
            "http://idg.carf.fazenda.gov.br/noticias/2022-1/estao-suspensas-todas-as-sessoes-de-julgamento-de-turmas-ordinarias-extraordinarias-e-da-camara-superior-de-recursos-fiscais-da-semana-de-23-a-25-de-maio\n",
            "Alunos do curso de Direito da PUC Minas visitam o CARF\n",
            "http://idg.carf.fazenda.gov.br/noticias/2022-1/estao-suspensas-todas-as-sessoes-de-julgamento-de-turmas-ordinarias-extraordinarias-e-da-camara-superior-de-recursos-fiscais-da-semana-de-23-a-25-de-maio\n",
            "VIII Seminário CARF de Direito Tributário e Aduaneiro\n",
            "http://idg.carf.fazenda.gov.br/noticias/2022-1/estao-suspensas-todas-as-sessoes-de-julgamento-de-turmas-ordinarias-extraordinarias-e-da-camara-superior-de-recursos-fiscais-da-semana-de-23-a-25-de-maio\n",
            "VIII Seminário Carf de Direito Tributário e Aduaneiro\n",
            "http://idg.carf.fazenda.gov.br/noticias/2022-1/estao-suspensas-todas-as-sessoes-de-julgamento-de-turmas-ordinarias-extraordinarias-e-da-camara-superior-de-recursos-fiscais-da-semana-de-23-a-25-de-maio\n",
            "CARF revoga súmula 125\n",
            "http://idg.carf.fazenda.gov.br/noticias/2022-1/estao-suspensas-todas-as-sessoes-de-julgamento-de-turmas-ordinarias-extraordinarias-e-da-camara-superior-de-recursos-fiscais-da-semana-de-23-a-25-de-maio\n",
            "Veja onde entregar petições e recursos de Processos Administrativos Fiscais\n",
            "http://idg.carf.fazenda.gov.br/noticias/2022-1/estao-suspensas-todas-as-sessoes-de-julgamento-de-turmas-ordinarias-extraordinarias-e-da-camara-superior-de-recursos-fiscais-da-semana-de-23-a-25-de-maio\n",
            "CARF publica o calendário das sessões de julgamento para 2023\n",
            "http://idg.carf.fazenda.gov.br/noticias/2022-1/estao-suspensas-todas-as-sessoes-de-julgamento-de-turmas-ordinarias-extraordinarias-e-da-camara-superior-de-recursos-fiscais-da-semana-de-23-a-25-de-maio\n",
            "Estão suspensas sessões de julgamento da 1ª Turma Extraordinária da 1ª Seção da semana de 13 a 15 de setembro\n",
            "http://idg.carf.fazenda.gov.br/noticias/2022-1/estao-suspensas-todas-as-sessoes-de-julgamento-de-turmas-ordinarias-extraordinarias-e-da-camara-superior-de-recursos-fiscais-da-semana-de-23-a-25-de-maio\n",
            "Suspensas sessões de julgamento do dia 19/9\n",
            "http://idg.carf.fazenda.gov.br/noticias/2022-1/estao-suspensas-todas-as-sessoes-de-julgamento-de-turmas-ordinarias-extraordinarias-e-da-camara-superior-de-recursos-fiscais-da-semana-de-23-a-25-de-maio\n",
            "Estão suspensas sessões de julgamento de Turmas Ordinárias e Extraordinárias da semana de 22 a 26 de agosto\n",
            "http://idg.carf.fazenda.gov.br/noticias/2022-1/estao-suspensas-todas-as-sessoes-de-julgamento-de-turmas-ordinarias-extraordinarias-e-da-camara-superior-de-recursos-fiscais-da-semana-de-23-a-25-de-maio\n",
            "Estão suspensas sessões de julgamento de Turmas Ordinárias e Extraordinárias da semana de 15 a 19 de agosto\n",
            "http://idg.carf.fazenda.gov.br/noticias/2022-1/estao-suspensas-todas-as-sessoes-de-julgamento-de-turmas-ordinarias-extraordinarias-e-da-camara-superior-de-recursos-fiscais-da-semana-de-23-a-25-de-maio\n",
            "Estão suspensas sessões de julgamento de Turmas Ordinárias e Extraordinárias da semana de 08 a 12 de agosto\n",
            "http://idg.carf.fazenda.gov.br/noticias/2022-1/estao-suspensas-todas-as-sessoes-de-julgamento-de-turmas-ordinarias-extraordinarias-e-da-camara-superior-de-recursos-fiscais-da-semana-de-23-a-25-de-maio\n",
            "Estão suspensas sessões de julgamento de Turmas Ordinárias, Extraordinárias e da Câmara Superior de Recursos Fiscais da semana de 25 a 29 de julho\n",
            "http://idg.carf.fazenda.gov.br/noticias/2022-1/estao-suspensas-todas-as-sessoes-de-julgamento-de-turmas-ordinarias-extraordinarias-e-da-camara-superior-de-recursos-fiscais-da-semana-de-23-a-25-de-maio\n",
            "Estão suspensas sessões de julgamento de Turmas Ordinárias, Extraordinárias e Câmara Superior da semana de 18 a 22 de julho\n",
            "http://idg.carf.fazenda.gov.br/noticias/2022-1/estao-suspensas-todas-as-sessoes-de-julgamento-de-turmas-ordinarias-extraordinarias-e-da-camara-superior-de-recursos-fiscais-da-semana-de-23-a-25-de-maio\n",
            "Estão suspensas sessões de julgamento de Turmas Ordinárias e Extraordinárias da semana de 11 a 15 de julho\n",
            "http://idg.carf.fazenda.gov.br/noticias/2022-1/estao-suspensas-todas-as-sessoes-de-julgamento-de-turmas-ordinarias-extraordinarias-e-da-camara-superior-de-recursos-fiscais-da-semana-de-23-a-25-de-maio\n",
            "Estão suspensas sessões de julgamento de Turmas Ordinárias, Extraordinárias e da Câmara Superior de Recursos Fiscais da semana de 20 a 24 de junho\n",
            "http://idg.carf.fazenda.gov.br/noticias/2022-1/estao-suspensas-todas-as-sessoes-de-julgamento-de-turmas-ordinarias-extraordinarias-e-da-camara-superior-de-recursos-fiscais-da-semana-de-23-a-25-de-maio\n",
            "Estão suspensas sessões de julgamento de Turmas Ordinárias, Extraordinárias e de Câmara Superior da semana de 13 a 17 de junho\n",
            "http://idg.carf.fazenda.gov.br/noticias/2022-1/estao-suspensas-todas-as-sessoes-de-julgamento-de-turmas-ordinarias-extraordinarias-e-da-camara-superior-de-recursos-fiscais-da-semana-de-23-a-25-de-maio\n",
            "Estão suspensas sessões de julgamento de Turmas Ordinárias e Extraordinárias da semana de 6 a 10 de junho\n",
            "http://idg.carf.fazenda.gov.br/noticias/2022-1/estao-suspensas-todas-as-sessoes-de-julgamento-de-turmas-ordinarias-extraordinarias-e-da-camara-superior-de-recursos-fiscais-da-semana-de-23-a-25-de-maio\n",
            "Estão suspensas sessões de julgamento de Turmas Ordinárias, Extraordinárias e da Câmara Superior da semana de 23 a 27 de maio\n",
            "http://idg.carf.fazenda.gov.br/noticias/2022-1/estao-suspensas-todas-as-sessoes-de-julgamento-de-turmas-ordinarias-extraordinarias-e-da-camara-superior-de-recursos-fiscais-da-semana-de-23-a-25-de-maio\n",
            "CARF comunica o lançamento da nova versão do Sistema Cognitivo de Gestão do Acervo – CRIO\n",
            "http://idg.carf.fazenda.gov.br/noticias/2022-1/estao-suspensas-todas-as-sessoes-de-julgamento-de-turmas-ordinarias-extraordinarias-e-da-camara-superior-de-recursos-fiscais-da-semana-de-23-a-25-de-maio\n"
          ]
        }
      ]
    },
    {
      "cell_type": "code",
      "source": [],
      "metadata": {
        "id": "22Xu7F6xoinE"
      },
      "execution_count": null,
      "outputs": []
    }
  ],
  "metadata": {
    "colab": {
      "provenance": []
    },
    "kernelspec": {
      "display_name": "Python 3",
      "name": "python3"
    },
    "language_info": {
      "name": "python"
    }
  },
  "nbformat": 4,
  "nbformat_minor": 0
}