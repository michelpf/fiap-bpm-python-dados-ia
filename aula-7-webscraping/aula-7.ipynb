{
  "cells": [
    {
      "cell_type": "markdown",
      "metadata": {},
      "source": [
        "# Aula 7: Web Scrapping\n",
        "\n",
        "Web scrapping ou raspagem de telas, aplicações e páginas são processos executados para coleta de dados das quais podem serem realizadas diretamente nas APIs que servem as aplicações, nas páginas estáticas ou simulando consições específicas do navegador.\n",
        "\n",
        "Este tipo de coleta pode envolver grande complexidade se for adotado a coleta pelo navegador e diretamente pela página estática. Portanto procure identificar, com ferramentas de desenvolvedor, qual é a API utilizada e faça as chamadas diretamente delas.\n",
        "\n",
        "Caso não seja possível a coleta direta das APIs, parta para a análise de página estática e, somente por último, analise a coleta pelo navegador"
      ]
    },
    {
      "cell_type": "markdown",
      "metadata": {},
      "source": [
        "## Biblioteca Requests\n",
        "\n",
        "A biblioteca requests permite acesso direto tanto a páginas estáticas quando a métodos das APIs Restful, sendo assim a primeira opção de coleta de dados dado sua simplicidade."
      ]
    },
    {
      "cell_type": "code",
      "execution_count": null,
      "metadata": {
        "id": "nE2IcC1hDpL9"
      },
      "outputs": [],
      "source": [
        "import requests"
      ]
    },
    {
      "cell_type": "markdown",
      "metadata": {},
      "source": [
        "Para exemplificar, vamos acessar a API do INPE para coleta de daods de metereologia. A API retorna os dados no formato XML."
      ]
    },
    {
      "cell_type": "code",
      "execution_count": null,
      "metadata": {
        "id": "5kn3AOtPD3HJ"
      },
      "outputs": [],
      "source": [
        "r = requests.get(\"http://servicos.cptec.inpe.br/XML/estacao/SBMT/condicoesAtuais.xml\")"
      ]
    },
    {
      "cell_type": "code",
      "execution_count": null,
      "metadata": {
        "colab": {
          "base_uri": "https://localhost:8080/"
        },
        "id": "rVMiqx_rEfJg",
        "outputId": "09cb9443-50ee-497d-9402-55e69b398689"
      },
      "outputs": [
        {
          "data": {
            "text/plain": [
              "<Response [200]>"
            ]
          },
          "execution_count": 3,
          "metadata": {},
          "output_type": "execute_result"
        }
      ],
      "source": [
        "r"
      ]
    },
    {
      "cell_type": "code",
      "execution_count": null,
      "metadata": {
        "colab": {
          "base_uri": "https://localhost:8080/",
          "height": 70
        },
        "id": "tlR_aINbEfvB",
        "outputId": "8a6d6735-c5ed-4cfa-e163-0a560c68dc4d"
      },
      "outputs": [
        {
          "data": {
            "application/vnd.google.colaboratory.intrinsic+json": {
              "type": "string"
            },
            "text/plain": [
              "\"<?xml version='1.0' encoding='ISO-8859-1'?><metar><codigo>SBMT</codigo><atualizacao>24/10/2021 12:00:00</atualizacao><pressao>1012</pressao><temperatura>23</temperatura><tempo>ps</tempo><tempo_desc>PredomÃ\\xadnio de Sol</tempo_desc><umidade>61</umidade><vento_dir>260</vento_dir><vento_int>29</vento_int><visibilidade>>10000</visibilidade></metar>\""
            ]
          },
          "execution_count": 6,
          "metadata": {},
          "output_type": "execute_result"
        }
      ],
      "source": [
        "resultado = r.text\n",
        "resultado"
      ]
    },
    {
      "cell_type": "code",
      "execution_count": null,
      "metadata": {
        "id": "bOtJHkaEEh4K"
      },
      "outputs": [],
      "source": [
        "import xml.etree.ElementTree as ET"
      ]
    },
    {
      "cell_type": "code",
      "execution_count": null,
      "metadata": {
        "colab": {
          "base_uri": "https://localhost:8080/"
        },
        "id": "4jPH5BLbEyWf",
        "outputId": "6244a2b6-ed3a-443f-ae66-2e53a4402403"
      },
      "outputs": [
        {
          "name": "stdout",
          "output_type": "stream",
          "text": [
            "codigo SBMT\n",
            "atualizacao 24/10/2021 12:00:00\n",
            "pressao 1012\n",
            "temperatura 23\n",
            "tempo ps\n",
            "tempo_desc PredomÃ­nio de Sol\n",
            "umidade 61\n",
            "vento_dir 260\n",
            "vento_int 29\n",
            "visibilidade >10000\n"
          ]
        }
      ],
      "source": [
        "xml = ET.fromstring(resultado)\n",
        "\n",
        "for table in xml.getiterator('metar'):\n",
        "    for child in table:\n",
        "        print(child.tag, child.text)"
      ]
    },
    {
      "cell_type": "code",
      "execution_count": null,
      "metadata": {
        "colab": {
          "base_uri": "https://localhost:8080/"
        },
        "id": "x4Va6S3KE7hr",
        "outputId": "35399690-9278-44ae-cca2-1a784c8984fb"
      },
      "outputs": [
        {
          "data": {
            "text/plain": [
              "<Response [200]>"
            ]
          },
          "execution_count": 14,
          "metadata": {},
          "output_type": "execute_result"
        }
      ],
      "source": [
        "r = requests.get(\"http://servicos.cptec.inpe.br/XML/cidade/241/dia/0/ondas.xml\")\n",
        "r"
      ]
    },
    {
      "cell_type": "code",
      "execution_count": null,
      "metadata": {
        "colab": {
          "base_uri": "https://localhost:8080/",
          "height": 105
        },
        "id": "6zTvRJOcFmp_",
        "outputId": "ec6a9ce5-051b-4c47-80c1-5584e12e0bac"
      },
      "outputs": [
        {
          "data": {
            "application/vnd.google.colaboratory.intrinsic+json": {
              "type": "string"
            },
            "text/plain": [
              "\"<?xml version='1.0' encoding='ISO-8859-1'?><cidade><nome>Rio de Janeiro</nome><uf>RJ</uf><atualizacao>24-10-2021</atualizacao><manha><dia>24-10-2021 12h Z</dia><agitacao>Fraco</agitacao><altura>0.9</altura><direcao>S</direcao><vento>3.9</vento><vento_dir>W</vento_dir></manha><tarde><dia>24-10-2021 18h Z</dia><agitacao>Fraco</agitacao><altura>0.7</altura><direcao>SSE</direcao><vento>4.1</vento><vento_dir>ENE</vento_dir></tarde><noite><dia>24-10-2021 21h Z</dia><agitacao>Fraco</agitacao><altura>0.7</altura><direcao>SSE</direcao><vento>7.8</vento><vento_dir>SSW</vento_dir></noite></cidade>\""
            ]
          },
          "execution_count": 15,
          "metadata": {},
          "output_type": "execute_result"
        }
      ],
      "source": [
        "resultado = r.text\n",
        "resultado"
      ]
    },
    {
      "cell_type": "code",
      "execution_count": null,
      "metadata": {
        "colab": {
          "base_uri": "https://localhost:8080/"
        },
        "id": "0XghLsdnF74b",
        "outputId": "8a9f565b-6107-48bf-f5bb-c0bc040985d7"
      },
      "outputs": [
        {
          "name": "stdout",
          "output_type": "stream",
          "text": [
            "nome Rio de Janeiro\n",
            "uf RJ\n",
            "atualizacao 24-10-2021\n",
            "manha None\n",
            "tarde None\n",
            "noite None\n"
          ]
        }
      ],
      "source": [
        "xml = ET.fromstring(resultado)\n",
        "\n",
        "for table in xml.getiterator('cidade'):\n",
        "    for child in table:\n",
        "        print(child.tag, child.text)"
      ]
    },
    {
      "cell_type": "markdown",
      "metadata": {},
      "source": [
        "## Parseando e simplificando dados de apresentação com a biblioteca Beautiful Soup\n",
        "\n",
        "O Beautiful Soup nos traz maior facilidade de análise de páginas estáticas ao parsear o conteúdo HTML e permitir a busca de seus elementos.\n",
        "\n",
        "Geralmente baixamos a página estática pelo Requests e analisamos o conteúdo com o Beaultiful Soup.\n",
        "\n",
        "Vamos obter os dados de cotação de dólar a partir de uma faixa de datas, conforme abaixo.\n",
        "\n",
        "Ao analisar a página de consulta, percebemos que ela envia uma requisição do tipo post para o mesmo endpoint da página estática, com isso extraímos os parâmetros e incluímos na requisição."
      ]
    },
    {
      "cell_type": "code",
      "execution_count": null,
      "metadata": {
        "id": "GdHqBXW0Yzi9"
      },
      "outputs": [],
      "source": [
        "parametros = {\"RadOpcao\": 1,\"DATAINI\": \"25/09/2021\", \"DATAFIM\": \"24/10/2021\", \"ChkMoeda\": 61}"
      ]
    },
    {
      "cell_type": "code",
      "execution_count": null,
      "metadata": {
        "colab": {
          "base_uri": "https://localhost:8080/"
        },
        "id": "nfKzO748GEie",
        "outputId": "378675f8-7bc1-47b0-ab35-da295a9270c1"
      },
      "outputs": [
        {
          "data": {
            "text/plain": [
              "<Response [200]>"
            ]
          },
          "execution_count": 146,
          "metadata": {},
          "output_type": "execute_result"
        }
      ],
      "source": [
        "r = requests.post(\"https://ptax.bcb.gov.br/ptax_internet/consultaBoletim.do?method=consultarBoletim\",params=parametros)\n",
        "r"
      ]
    },
    {
      "cell_type": "markdown",
      "metadata": {},
      "source": [
        "O resultado é uma outra página renderizada, da qual possui diversos componentes HTML. Nosso objetivo é extrair somente os dados de tabela e obter seus valores."
      ]
    },
    {
      "cell_type": "code",
      "execution_count": null,
      "metadata": {
        "colab": {
          "base_uri": "https://localhost:8080/",
          "height": 158
        },
        "id": "0GybCUUMIsSQ",
        "outputId": "79d228e6-6ec7-4735-8f33-b101cbc7b226"
      },
      "outputs": [
        {
          "data": {
            "application/vnd.google.colaboratory.intrinsic+json": {
              "type": "string"
            },
            "text/plain": [
              "'\\r\\n\\r\\n\\r\\n<!DOCTYPE html PUBLIC \"-//W3C//DTD HTML 4.01 Transitional//EN\" \"http://www.w3.org/TR/html4/loose.dtd\">\\r\\n<html>\\r\\n    <head>\\r\\n        <meta http-equiv=\"Content-Type\" content=\"text/html; charset=ISO-8859-1\">\\r\\n        <link rel=\"stylesheet\" type=\"text/css\" href=\"/ptax_internet/ncss/style.css\">\\r\\n        <title></title>\\r\\n    </head>\\r\\n    <body>\\r\\n\\r\\n        <div style=\"text-align: center\">\\r\\n            <br>\\r\\n            Cotações de Fechamento Ptax<sup>4/</sup> do DOLAR DOS EUA, Código da Moeda: 220, Símbolo da Moeda: USD, Tipo da Moeda: A, período de 25/09/2021 a 24/10/2021.\\r\\n            <br>\\r\\n            <br>\\r\\n\\r\\n            Clique para obter a tabela completa (\\r\\n            <a href=\"/ptax_internet/consultaBoletim.do?method=gerarCSVFechamentoMoedaNoPeriodo&ChkMoeda=61&DATAINI=25/09/2021&DATAFIM=24/10/2021\">\\r\\n                <img src=\"/img/transferirA.GIF\" border=\"0\" longdesc=\"img\">&nbsp; CSV - 2 KB\\r\\n            </a>)\\r\\n            <br>\\r\\n            <br>\\r\\n\\r\\n            <table border=\"0\" cellspacing=\"1\" cellpadding=\"3\" class=\"tabela\" width=\"850px\">\\r\\n                <tbody class=\"centralizado\">\\r\\n                    <tr class=\"fundoPadraoBEscuro3\">\\r\\n                        <th rowspan=\"2\" valign=\"TOP\">Data</th>\\r\\n                        <th rowspan=\"2\" valign=\"TOP\">Tipo</th>\\r\\n                        <th colspan=\"2\" align=\"center\">Cotações em Real<sup>1/</sup></th>\\r\\n                    </tr>\\r\\n                    <tr class=\"fundoPadraoBEscuro3\">\\r\\n                        <th>Compra</th>\\r\\n                        <th>Venda</th>\\r\\n                    </tr>\\r\\n                    \\r\\n                        \\r\\n                        <tr class=\"fundoPadraoBClaro2\">\\r\\n                            <td>27/09/2021</td>\\r\\n                            <td>A</td>\\r\\n                            <td>5,3472</td>\\r\\n                            <td>5,3478</td>\\r\\n                        </tr>\\r\\n                    \\r\\n                        \\r\\n                        <tr class=\"fundoPadraoBClaro3\">\\r\\n                            <td>28/09/2021</td>\\r\\n                            <td>A</td>\\r\\n                            <td>5,4200</td>\\r\\n                            <td>5,4206</td>\\r\\n                        </tr>\\r\\n                    \\r\\n                        \\r\\n                        <tr class=\"fundoPadraoBClaro2\">\\r\\n                            <td>29/09/2021</td>\\r\\n                            <td>A</td>\\r\\n                            <td>5,4167</td>\\r\\n                            <td>5,4173</td>\\r\\n                        </tr>\\r\\n                    \\r\\n                        \\r\\n                        <tr class=\"fundoPadraoBClaro3\">\\r\\n                            <td>30/09/2021</td>\\r\\n                            <td>A</td>\\r\\n                            <td>5,4388</td>\\r\\n                            <td>5,4394</td>\\r\\n                        </tr>\\r\\n                    \\r\\n                        \\r\\n                        <tr class=\"fundoPadraoBClaro2\">\\r\\n                            <td>01/10/2021</td>\\r\\n                            <td>A</td>\\r\\n                            <td>5,3905</td>\\r\\n                            <td>5,3911</td>\\r\\n                        </tr>\\r\\n                    \\r\\n                        \\r\\n                        <tr class=\"fundoPadraoBClaro3\">\\r\\n                            <td>04/10/2021</td>\\r\\n                            <td>A</td>\\r\\n                            <td>5,4198</td>\\r\\n                            <td>5,4204</td>\\r\\n                        </tr>\\r\\n                    \\r\\n                        \\r\\n                        <tr class=\"fundoPadraoBClaro2\">\\r\\n                            <td>05/10/2021</td>\\r\\n                            <td>A</td>\\r\\n                            <td>5,4605</td>\\r\\n                            <td>5,4611</td>\\r\\n                        </tr>\\r\\n                    \\r\\n                        \\r\\n                        <tr class=\"fundoPadraoBClaro3\">\\r\\n                            <td>06/10/2021</td>\\r\\n                            <td>A</td>\\r\\n                            <td>5,5091</td>\\r\\n                            <td>5,5097</td>\\r\\n                        </tr>\\r\\n                    \\r\\n                        \\r\\n                        <tr class=\"fundoPadraoBClaro2\">\\r\\n                            <td>07/10/2021</td>\\r\\n                            <td>A</td>\\r\\n                            <td>5,5134</td>\\r\\n                            <td>5,5140</td>\\r\\n                        </tr>\\r\\n                    \\r\\n                        \\r\\n                        <tr class=\"fundoPadraoBClaro3\">\\r\\n                            <td>08/10/2021</td>\\r\\n                            <td>A</td>\\r\\n                            <td>5,5078</td>\\r\\n                            <td>5,5084</td>\\r\\n                        </tr>\\r\\n                    \\r\\n                        \\r\\n                        <tr class=\"fundoPadraoBClaro2\">\\r\\n                            <td>11/10/2021</td>\\r\\n                            <td>A</td>\\r\\n                            <td>5,5155</td>\\r\\n                            <td>5,5161</td>\\r\\n                        </tr>\\r\\n                    \\r\\n                        \\r\\n                        <tr class=\"fundoPadraoBClaro3\">\\r\\n                            <td>13/10/2021</td>\\r\\n                            <td>A</td>\\r\\n                            <td>5,5464</td>\\r\\n                            <td>5,5471</td>\\r\\n                        </tr>\\r\\n                    \\r\\n                        \\r\\n                        <tr class=\"fundoPadraoBClaro2\">\\r\\n                            <td>14/10/2021</td>\\r\\n                            <td>A</td>\\r\\n                            <td>5,4982</td>\\r\\n                            <td>5,4988</td>\\r\\n                        </tr>\\r\\n                    \\r\\n                        \\r\\n                        <tr class=\"fundoPadraoBClaro3\">\\r\\n                            <td>15/10/2021</td>\\r\\n                            <td>A</td>\\r\\n                            <td>5,4504</td>\\r\\n                            <td>5,4510</td>\\r\\n                        </tr>\\r\\n                    \\r\\n                        \\r\\n                        <tr class=\"fundoPadraoBClaro2\">\\r\\n                            <td>18/10/2021</td>\\r\\n                            <td>A</td>\\r\\n                            <td>5,5187</td>\\r\\n                            <td>5,5193</td>\\r\\n                        </tr>\\r\\n                    \\r\\n                        \\r\\n                        <tr class=\"fundoPadraoBClaro3\">\\r\\n                            <td>19/10/2021</td>\\r\\n                            <td>A</td>\\r\\n                            <td>5,5515</td>\\r\\n                            <td>5,5521</td>\\r\\n                        </tr>\\r\\n                    \\r\\n                        \\r\\n                        <tr class=\"fundoPadraoBClaro2\">\\r\\n                            <td>20/10/2021</td>\\r\\n                            <td>A</td>\\r\\n                            <td>5,5565</td>\\r\\n                            <td>5,5571</td>\\r\\n                        </tr>\\r\\n                    \\r\\n                        \\r\\n                        <tr class=\"fundoPadraoBClaro3\">\\r\\n                            <td>21/10/2021</td>\\r\\n                            <td>A</td>\\r\\n                            <td>5,6417</td>\\r\\n                            <td>5,6423</td>\\r\\n                        </tr>\\r\\n                    \\r\\n                        \\r\\n                        <tr class=\"fundoPadraoBClaro2\">\\r\\n                            <td>22/10/2021</td>\\r\\n                            <td>A</td>\\r\\n                            <td>5,7111</td>\\r\\n                            <td>5,7117</td>\\r\\n                        </tr>\\r\\n                    \\r\\n                    <tr>\\r\\n                        <td colspan=\"7\" class=\"fundoPadraoBClaro2\" style=\"text-align: left\">\\r\\n                            <font size=\"1\">\\r\\n                                <sup>1/</sup> - Moeda contra Real<br>\\r\\n                                <sup>4/</sup> - Fechamento Ptax = A partir de 1/7/2011, é a média aritmética das taxas de compra e das taxas de venda dos boletins do dia, conforme Circulares 3506, de 23/9/10, e 3537, de 25/5/11.\\r\\n                                Até 30/6/2011, é a taxa média ponderada dos negócios realizados no mercado interbancário de câmbio com liquidação em dois dias úteis, calculada pelo Banco Central do Brasil, conforme Comunicado N. 6815/99.\\r\\n                            </font>\\r\\n                        </td>\\r\\n                    </tr>\\r\\n                </tbody>\\r\\n            </table>\\r\\n            <br>\\r\\n            <br>\\r\\n\\r\\n\\t\\t\\t<center>\\r\\n\\t<font size=\"2\"><strong>Fonte: Refinitiv.</strong></font>\\r\\n</center>\\r\\n<br>\\r\\n<p align=\"justify\">\\r\\n\\t<img src=\"https://www.bcb.gov.br/img/BulletAzul2.gif\" longdesc=\"img1\">&nbsp;\\r\\n\\t<font size=\"1\"> O Banco Central não assume qualquer\\r\\n\\t\\tresponsabilidade pela não simultaneidade ou falta das informações\\r\\n\\t\\tprestadas, assim como por eventuais erros de paridades das moedas, ou\\r\\n\\t\\tqualquer outro, salvo a paridade relativa ao dólar dos Estados Unidos\\r\\n\\t\\tda América em relação ao Real.\\r\\n\\t\\tIgualmente, não se responsabiliza pelos atrasos ou indisponibilidade\\r\\n\\t\\tde serviços de telecomunicação, interrupção, falha ou pelas\\r\\n\\t\\timprecisões no fornecimento dos serviços ou informações. Não assume,\\r\\n\\t\\ttambém, responsabilidade por qualquer perda ou dano oriundo de tais\\r\\n\\t\\tinterrupções, atrasos, falhas ou imperfeições, bem como pelo uso\\r\\n\\t\\tinadequado das informações contidas na transação.\\r\\n\\t</font>\\r\\n</p>\\r\\n\\r\\n\\r\\n        </div>\\r\\n\\r\\n    </body>\\r\\n</html>'"
            ]
          },
          "execution_count": 147,
          "metadata": {},
          "output_type": "execute_result"
        }
      ],
      "source": [
        "resultado = r.text\n",
        "resultado"
      ]
    },
    {
      "cell_type": "markdown",
      "metadata": {},
      "source": [
        "Nosso primeiro passo é parsear a página resultante com o Beautiful Soup."
      ]
    },
    {
      "cell_type": "code",
      "execution_count": null,
      "metadata": {
        "id": "PbdraPs_IvbC"
      },
      "outputs": [],
      "source": [
        "from bs4 import BeautifulSoup"
      ]
    },
    {
      "cell_type": "markdown",
      "metadata": {},
      "source": [
        "Ao analisar a página resultante, notamos que a tabela possui 2 classes de estilo de interesse, responsável por variar a cor das linhas, e que nos ajudou a filtrar os componentes que precisams."
      ]
    },
    {
      "cell_type": "code",
      "execution_count": null,
      "metadata": {
        "colab": {
          "base_uri": "https://localhost:8080/"
        },
        "id": "9nGgpuSWIxwZ",
        "outputId": "5900bf61-65bb-4a93-9075-ca02bfe625a9"
      },
      "outputs": [
        {
          "data": {
            "text/plain": [
              "[<tr class=\"fundoPadraoBClaro2\">\n",
              " <td>27/09/2021</td>\n",
              " <td>A</td>\n",
              " <td>5,3472</td>\n",
              " <td>5,3478</td>\n",
              " </tr>, <tr class=\"fundoPadraoBClaro3\">\n",
              " <td>28/09/2021</td>\n",
              " <td>A</td>\n",
              " <td>5,4200</td>\n",
              " <td>5,4206</td>\n",
              " </tr>, <tr class=\"fundoPadraoBClaro2\">\n",
              " <td>29/09/2021</td>\n",
              " <td>A</td>\n",
              " <td>5,4167</td>\n",
              " <td>5,4173</td>\n",
              " </tr>, <tr class=\"fundoPadraoBClaro3\">\n",
              " <td>30/09/2021</td>\n",
              " <td>A</td>\n",
              " <td>5,4388</td>\n",
              " <td>5,4394</td>\n",
              " </tr>, <tr class=\"fundoPadraoBClaro2\">\n",
              " <td>01/10/2021</td>\n",
              " <td>A</td>\n",
              " <td>5,3905</td>\n",
              " <td>5,3911</td>\n",
              " </tr>, <tr class=\"fundoPadraoBClaro3\">\n",
              " <td>04/10/2021</td>\n",
              " <td>A</td>\n",
              " <td>5,4198</td>\n",
              " <td>5,4204</td>\n",
              " </tr>, <tr class=\"fundoPadraoBClaro2\">\n",
              " <td>05/10/2021</td>\n",
              " <td>A</td>\n",
              " <td>5,4605</td>\n",
              " <td>5,4611</td>\n",
              " </tr>, <tr class=\"fundoPadraoBClaro3\">\n",
              " <td>06/10/2021</td>\n",
              " <td>A</td>\n",
              " <td>5,5091</td>\n",
              " <td>5,5097</td>\n",
              " </tr>, <tr class=\"fundoPadraoBClaro2\">\n",
              " <td>07/10/2021</td>\n",
              " <td>A</td>\n",
              " <td>5,5134</td>\n",
              " <td>5,5140</td>\n",
              " </tr>, <tr class=\"fundoPadraoBClaro3\">\n",
              " <td>08/10/2021</td>\n",
              " <td>A</td>\n",
              " <td>5,5078</td>\n",
              " <td>5,5084</td>\n",
              " </tr>, <tr class=\"fundoPadraoBClaro2\">\n",
              " <td>11/10/2021</td>\n",
              " <td>A</td>\n",
              " <td>5,5155</td>\n",
              " <td>5,5161</td>\n",
              " </tr>, <tr class=\"fundoPadraoBClaro3\">\n",
              " <td>13/10/2021</td>\n",
              " <td>A</td>\n",
              " <td>5,5464</td>\n",
              " <td>5,5471</td>\n",
              " </tr>, <tr class=\"fundoPadraoBClaro2\">\n",
              " <td>14/10/2021</td>\n",
              " <td>A</td>\n",
              " <td>5,4982</td>\n",
              " <td>5,4988</td>\n",
              " </tr>, <tr class=\"fundoPadraoBClaro3\">\n",
              " <td>15/10/2021</td>\n",
              " <td>A</td>\n",
              " <td>5,4504</td>\n",
              " <td>5,4510</td>\n",
              " </tr>, <tr class=\"fundoPadraoBClaro2\">\n",
              " <td>18/10/2021</td>\n",
              " <td>A</td>\n",
              " <td>5,5187</td>\n",
              " <td>5,5193</td>\n",
              " </tr>, <tr class=\"fundoPadraoBClaro3\">\n",
              " <td>19/10/2021</td>\n",
              " <td>A</td>\n",
              " <td>5,5515</td>\n",
              " <td>5,5521</td>\n",
              " </tr>, <tr class=\"fundoPadraoBClaro2\">\n",
              " <td>20/10/2021</td>\n",
              " <td>A</td>\n",
              " <td>5,5565</td>\n",
              " <td>5,5571</td>\n",
              " </tr>, <tr class=\"fundoPadraoBClaro3\">\n",
              " <td>21/10/2021</td>\n",
              " <td>A</td>\n",
              " <td>5,6417</td>\n",
              " <td>5,6423</td>\n",
              " </tr>, <tr class=\"fundoPadraoBClaro2\">\n",
              " <td>22/10/2021</td>\n",
              " <td>A</td>\n",
              " <td>5,7111</td>\n",
              " <td>5,7117</td>\n",
              " </tr>]"
            ]
          },
          "execution_count": 158,
          "metadata": {},
          "output_type": "execute_result"
        }
      ],
      "source": [
        "bs = BeautifulSoup(resultado, 'html.parser')\n",
        "\n",
        "items = bs.find_all('tr',{\"class\": [\"fundoPadraoBClaro2\",\"fundoPadraoBClaro3\"]})\n",
        "items"
      ]
    },
    {
      "cell_type": "code",
      "execution_count": null,
      "metadata": {
        "colab": {
          "base_uri": "https://localhost:8080/"
        },
        "id": "IW6ltk8WJFQS",
        "outputId": "10d363cd-4d1d-4302-dede-7b193e2180be"
      },
      "outputs": [
        {
          "data": {
            "text/plain": [
              "<tr class=\"fundoPadraoBClaro2\">\n",
              "<td>27/09/2021</td>\n",
              "<td>A</td>\n",
              "<td>5,3472</td>\n",
              "<td>5,3478</td>\n",
              "</tr>"
            ]
          },
          "execution_count": 160,
          "metadata": {},
          "output_type": "execute_result"
        }
      ],
      "source": [
        "items[0]"
      ]
    },
    {
      "cell_type": "code",
      "execution_count": null,
      "metadata": {
        "colab": {
          "base_uri": "https://localhost:8080/"
        },
        "id": "BC33W_6gPQ07",
        "outputId": "767536c6-b7f0-4e2e-cc2f-462022e548d3"
      },
      "outputs": [
        {
          "data": {
            "text/plain": [
              "<tr class=\"fundoPadraoBClaro3\">\n",
              "<td>28/09/2021</td>\n",
              "<td>A</td>\n",
              "<td>5,4200</td>\n",
              "<td>5,4206</td>\n",
              "</tr>"
            ]
          },
          "execution_count": 156,
          "metadata": {},
          "output_type": "execute_result"
        }
      ],
      "source": [
        "items[1]"
      ]
    },
    {
      "cell_type": "markdown",
      "metadata": {},
      "source": [
        "Depois de analisar cada linha, analisaremos cada coluna e assim compor nosso dataframe com a evolução da cotação do dólar."
      ]
    },
    {
      "cell_type": "code",
      "execution_count": null,
      "metadata": {
        "colab": {
          "base_uri": "https://localhost:8080/"
        },
        "id": "hZd4bjzEJaRI",
        "outputId": "4ba62ded-abfa-49f8-8c87-d8ad84a8baf0"
      },
      "outputs": [
        {
          "data": {
            "text/plain": [
              "[<td>27/09/2021</td>, <td>A</td>, <td>5,3472</td>, <td>5,3478</td>]"
            ]
          },
          "execution_count": 161,
          "metadata": {},
          "output_type": "execute_result"
        }
      ],
      "source": [
        "sub_item = items[0].findChildren('td')\n",
        "sub_item"
      ]
    },
    {
      "cell_type": "markdown",
      "metadata": {},
      "source": [
        "A tabela tem uma ordem para cada coluna, sendo a data, o tipo, o valor de compra e venda."
      ]
    },
    {
      "cell_type": "code",
      "execution_count": null,
      "metadata": {
        "colab": {
          "base_uri": "https://localhost:8080/"
        },
        "id": "oh-U_JKuLmnn",
        "outputId": "3b96b865-ff98-431c-dbf5-1ee064c0ecd6"
      },
      "outputs": [
        {
          "name": "stdout",
          "output_type": "stream",
          "text": [
            "27/09/2021\n",
            "A\n",
            "5,3472\n",
            "5,3478\n"
          ]
        }
      ],
      "source": [
        "for i in items:\n",
        "  sub_items = i.findChildren(\"td\")\n",
        "  for si in sub_items:\n",
        "    print(si.text)\n",
        "  break"
      ]
    },
    {
      "cell_type": "code",
      "execution_count": null,
      "metadata": {
        "id": "8c3YlbXNaOlZ"
      },
      "outputs": [],
      "source": [
        "data, tipo, compra, venda = [], [], [], []"
      ]
    },
    {
      "cell_type": "code",
      "execution_count": null,
      "metadata": {
        "id": "GA5cKybPag58"
      },
      "outputs": [],
      "source": [
        "campo = \"data\"\n",
        "for i in items:\n",
        "  sub_items = i.findChildren(\"td\")\n",
        "  for si in sub_items:\n",
        "    if campo == \"data\":\n",
        "      data.append(si.text)\n",
        "      campo = \"tipo\"\n",
        "    elif campo == \"tipo\":\n",
        "      campo = \"compra\"\n",
        "      tipo.append(si.text)\n",
        "    elif campo == \"compra\":\n",
        "      campo = \"venda\"\n",
        "      compra.append(si.text)\n",
        "    else:\n",
        "      campo = \"data\"\n",
        "      venda.append(si.text)"
      ]
    },
    {
      "cell_type": "code",
      "execution_count": null,
      "metadata": {
        "colab": {
          "base_uri": "https://localhost:8080/"
        },
        "id": "NH6_zEQqa6wt",
        "outputId": "08b70c3c-fcf5-434f-8907-d670601d155e"
      },
      "outputs": [
        {
          "data": {
            "text/plain": [
              "['27/09/2021',\n",
              " '28/09/2021',\n",
              " '29/09/2021',\n",
              " '30/09/2021',\n",
              " '01/10/2021',\n",
              " '04/10/2021',\n",
              " '05/10/2021',\n",
              " '06/10/2021',\n",
              " '07/10/2021',\n",
              " '08/10/2021',\n",
              " '11/10/2021',\n",
              " '13/10/2021',\n",
              " '14/10/2021',\n",
              " '15/10/2021',\n",
              " '18/10/2021',\n",
              " '19/10/2021',\n",
              " '20/10/2021',\n",
              " '21/10/2021',\n",
              " '22/10/2021']"
            ]
          },
          "execution_count": 178,
          "metadata": {},
          "output_type": "execute_result"
        }
      ],
      "source": [
        "data"
      ]
    },
    {
      "cell_type": "code",
      "execution_count": null,
      "metadata": {
        "colab": {
          "base_uri": "https://localhost:8080/"
        },
        "id": "mxdslHlabDQK",
        "outputId": "ab89f6ed-7c04-4e80-a8eb-eea1e264204f"
      },
      "outputs": [
        {
          "data": {
            "text/plain": [
              "['5,3472',\n",
              " '5,4200',\n",
              " '5,4167',\n",
              " '5,4388',\n",
              " '5,3905',\n",
              " '5,4198',\n",
              " '5,4605',\n",
              " '5,5091',\n",
              " '5,5134',\n",
              " '5,5078',\n",
              " '5,5155',\n",
              " '5,5464',\n",
              " '5,4982',\n",
              " '5,4504',\n",
              " '5,5187',\n",
              " '5,5515',\n",
              " '5,5565',\n",
              " '5,6417',\n",
              " '5,7111']"
            ]
          },
          "execution_count": 179,
          "metadata": {},
          "output_type": "execute_result"
        }
      ],
      "source": [
        "compra"
      ]
    },
    {
      "cell_type": "code",
      "execution_count": null,
      "metadata": {
        "id": "6r3UzWB67xJT"
      },
      "outputs": [],
      "source": [
        "import pandas as pd"
      ]
    },
    {
      "cell_type": "code",
      "execution_count": null,
      "metadata": {
        "colab": {
          "base_uri": "https://localhost:8080/",
          "height": 642
        },
        "id": "iRwZCYYLbaA0",
        "outputId": "a0be9463-0c85-480c-c62e-bbad0f1232e2"
      },
      "outputs": [
        {
          "data": {
            "text/html": [
              "<div>\n",
              "<style scoped>\n",
              "    .dataframe tbody tr th:only-of-type {\n",
              "        vertical-align: middle;\n",
              "    }\n",
              "\n",
              "    .dataframe tbody tr th {\n",
              "        vertical-align: top;\n",
              "    }\n",
              "\n",
              "    .dataframe thead th {\n",
              "        text-align: right;\n",
              "    }\n",
              "</style>\n",
              "<table border=\"1\" class=\"dataframe\">\n",
              "  <thead>\n",
              "    <tr style=\"text-align: right;\">\n",
              "      <th></th>\n",
              "      <th>Data</th>\n",
              "      <th>Tipo</th>\n",
              "      <th>Compra</th>\n",
              "      <th>Venda</th>\n",
              "    </tr>\n",
              "  </thead>\n",
              "  <tbody>\n",
              "    <tr>\n",
              "      <th>0</th>\n",
              "      <td>27/09/2021</td>\n",
              "      <td>A</td>\n",
              "      <td>5,3472</td>\n",
              "      <td>5,3478</td>\n",
              "    </tr>\n",
              "    <tr>\n",
              "      <th>1</th>\n",
              "      <td>28/09/2021</td>\n",
              "      <td>A</td>\n",
              "      <td>5,4200</td>\n",
              "      <td>5,4206</td>\n",
              "    </tr>\n",
              "    <tr>\n",
              "      <th>2</th>\n",
              "      <td>29/09/2021</td>\n",
              "      <td>A</td>\n",
              "      <td>5,4167</td>\n",
              "      <td>5,4173</td>\n",
              "    </tr>\n",
              "    <tr>\n",
              "      <th>3</th>\n",
              "      <td>30/09/2021</td>\n",
              "      <td>A</td>\n",
              "      <td>5,4388</td>\n",
              "      <td>5,4394</td>\n",
              "    </tr>\n",
              "    <tr>\n",
              "      <th>4</th>\n",
              "      <td>01/10/2021</td>\n",
              "      <td>A</td>\n",
              "      <td>5,3905</td>\n",
              "      <td>5,3911</td>\n",
              "    </tr>\n",
              "    <tr>\n",
              "      <th>5</th>\n",
              "      <td>04/10/2021</td>\n",
              "      <td>A</td>\n",
              "      <td>5,4198</td>\n",
              "      <td>5,4204</td>\n",
              "    </tr>\n",
              "    <tr>\n",
              "      <th>6</th>\n",
              "      <td>05/10/2021</td>\n",
              "      <td>A</td>\n",
              "      <td>5,4605</td>\n",
              "      <td>5,4611</td>\n",
              "    </tr>\n",
              "    <tr>\n",
              "      <th>7</th>\n",
              "      <td>06/10/2021</td>\n",
              "      <td>A</td>\n",
              "      <td>5,5091</td>\n",
              "      <td>5,5097</td>\n",
              "    </tr>\n",
              "    <tr>\n",
              "      <th>8</th>\n",
              "      <td>07/10/2021</td>\n",
              "      <td>A</td>\n",
              "      <td>5,5134</td>\n",
              "      <td>5,5140</td>\n",
              "    </tr>\n",
              "    <tr>\n",
              "      <th>9</th>\n",
              "      <td>08/10/2021</td>\n",
              "      <td>A</td>\n",
              "      <td>5,5078</td>\n",
              "      <td>5,5084</td>\n",
              "    </tr>\n",
              "    <tr>\n",
              "      <th>10</th>\n",
              "      <td>11/10/2021</td>\n",
              "      <td>A</td>\n",
              "      <td>5,5155</td>\n",
              "      <td>5,5161</td>\n",
              "    </tr>\n",
              "    <tr>\n",
              "      <th>11</th>\n",
              "      <td>13/10/2021</td>\n",
              "      <td>A</td>\n",
              "      <td>5,5464</td>\n",
              "      <td>5,5471</td>\n",
              "    </tr>\n",
              "    <tr>\n",
              "      <th>12</th>\n",
              "      <td>14/10/2021</td>\n",
              "      <td>A</td>\n",
              "      <td>5,4982</td>\n",
              "      <td>5,4988</td>\n",
              "    </tr>\n",
              "    <tr>\n",
              "      <th>13</th>\n",
              "      <td>15/10/2021</td>\n",
              "      <td>A</td>\n",
              "      <td>5,4504</td>\n",
              "      <td>5,4510</td>\n",
              "    </tr>\n",
              "    <tr>\n",
              "      <th>14</th>\n",
              "      <td>18/10/2021</td>\n",
              "      <td>A</td>\n",
              "      <td>5,5187</td>\n",
              "      <td>5,5193</td>\n",
              "    </tr>\n",
              "    <tr>\n",
              "      <th>15</th>\n",
              "      <td>19/10/2021</td>\n",
              "      <td>A</td>\n",
              "      <td>5,5515</td>\n",
              "      <td>5,5521</td>\n",
              "    </tr>\n",
              "    <tr>\n",
              "      <th>16</th>\n",
              "      <td>20/10/2021</td>\n",
              "      <td>A</td>\n",
              "      <td>5,5565</td>\n",
              "      <td>5,5571</td>\n",
              "    </tr>\n",
              "    <tr>\n",
              "      <th>17</th>\n",
              "      <td>21/10/2021</td>\n",
              "      <td>A</td>\n",
              "      <td>5,6417</td>\n",
              "      <td>5,6423</td>\n",
              "    </tr>\n",
              "    <tr>\n",
              "      <th>18</th>\n",
              "      <td>22/10/2021</td>\n",
              "      <td>A</td>\n",
              "      <td>5,7111</td>\n",
              "      <td>5,7117</td>\n",
              "    </tr>\n",
              "  </tbody>\n",
              "</table>\n",
              "</div>"
            ],
            "text/plain": [
              "          Data Tipo  Compra   Venda\n",
              "0   27/09/2021    A  5,3472  5,3478\n",
              "1   28/09/2021    A  5,4200  5,4206\n",
              "2   29/09/2021    A  5,4167  5,4173\n",
              "3   30/09/2021    A  5,4388  5,4394\n",
              "4   01/10/2021    A  5,3905  5,3911\n",
              "5   04/10/2021    A  5,4198  5,4204\n",
              "6   05/10/2021    A  5,4605  5,4611\n",
              "7   06/10/2021    A  5,5091  5,5097\n",
              "8   07/10/2021    A  5,5134  5,5140\n",
              "9   08/10/2021    A  5,5078  5,5084\n",
              "10  11/10/2021    A  5,5155  5,5161\n",
              "11  13/10/2021    A  5,5464  5,5471\n",
              "12  14/10/2021    A  5,4982  5,4988\n",
              "13  15/10/2021    A  5,4504  5,4510\n",
              "14  18/10/2021    A  5,5187  5,5193\n",
              "15  19/10/2021    A  5,5515  5,5521\n",
              "16  20/10/2021    A  5,5565  5,5571\n",
              "17  21/10/2021    A  5,6417  5,6423\n",
              "18  22/10/2021    A  5,7111  5,7117"
            ]
          },
          "execution_count": 180,
          "metadata": {},
          "output_type": "execute_result"
        }
      ],
      "source": [
        "\n",
        "\n",
        "df = pd.DataFrame({\"Data\": data, \"Tipo\": tipo, \"Compra\": compra, \"Venda\": venda})\n",
        "df"
      ]
    },
    {
      "cell_type": "markdown",
      "metadata": {
        "id": "Y81wMtVmbmmm"
      },
      "source": [
        "## Utilizando Selenium para coleta de dados\n",
        "\n",
        "O Selenium é uma biblioteca disponível em várias linguagens de programação cujo o principal objetivo foi de automatizar testes de interface. Utilizando essa capacidade de interação também podemos utilizar para coletar dados de sites onde a manipulação do navegador torna o processo ou obrigatório ou mais fácil, com o filtro por XPath, ausente no Beautiful Soup.\n",
        "\n",
        "A instalação do Colab requer os passos a seguir:"
      ]
    },
    {
      "cell_type": "code",
      "execution_count": null,
      "metadata": {
        "colab": {
          "base_uri": "https://localhost:8080/"
        },
        "id": "dCyU6cVdhI50",
        "outputId": "8fd8d485-fb65-4e4e-cc3f-8c035ab6aabe"
      },
      "outputs": [
        {
          "name": "stdout",
          "output_type": "stream",
          "text": [
            "Collecting selenium\n",
            "  Downloading selenium-4.0.0-py3-none-any.whl (954 kB)\n",
            "\u001b[K     |████████████████████████████████| 954 kB 5.3 MB/s \n",
            "\u001b[?25hCollecting urllib3[secure]~=1.26\n",
            "  Downloading urllib3-1.26.7-py2.py3-none-any.whl (138 kB)\n",
            "\u001b[K     |████████████████████████████████| 138 kB 55.8 MB/s \n",
            "\u001b[?25hCollecting trio-websocket~=0.9\n",
            "  Downloading trio_websocket-0.9.2-py3-none-any.whl (16 kB)\n",
            "Collecting trio~=0.17\n",
            "  Downloading trio-0.19.0-py3-none-any.whl (356 kB)\n",
            "\u001b[K     |████████████████████████████████| 356 kB 59.2 MB/s \n",
            "\u001b[?25hRequirement already satisfied: attrs>=19.2.0 in /usr/local/lib/python3.7/dist-packages (from trio~=0.17->selenium) (21.2.0)\n",
            "Collecting sniffio\n",
            "  Downloading sniffio-1.2.0-py3-none-any.whl (10 kB)\n",
            "Requirement already satisfied: idna in /usr/local/lib/python3.7/dist-packages (from trio~=0.17->selenium) (2.10)\n",
            "Requirement already satisfied: sortedcontainers in /usr/local/lib/python3.7/dist-packages (from trio~=0.17->selenium) (2.4.0)\n",
            "Collecting async-generator>=1.9\n",
            "  Downloading async_generator-1.10-py3-none-any.whl (18 kB)\n",
            "Collecting outcome\n",
            "  Downloading outcome-1.1.0-py2.py3-none-any.whl (9.7 kB)\n",
            "Collecting wsproto>=0.14\n",
            "  Downloading wsproto-1.0.0-py3-none-any.whl (24 kB)\n",
            "Collecting pyOpenSSL>=0.14\n",
            "  Downloading pyOpenSSL-21.0.0-py2.py3-none-any.whl (55 kB)\n",
            "\u001b[K     |████████████████████████████████| 55 kB 3.2 MB/s \n",
            "\u001b[?25hRequirement already satisfied: certifi in /usr/local/lib/python3.7/dist-packages (from urllib3[secure]~=1.26->selenium) (2021.5.30)\n",
            "Collecting cryptography>=1.3.4\n",
            "  Downloading cryptography-35.0.0-cp36-abi3-manylinux_2_24_x86_64.whl (3.5 MB)\n",
            "\u001b[K     |████████████████████████████████| 3.5 MB 44.1 MB/s \n",
            "\u001b[?25hRequirement already satisfied: cffi>=1.12 in /usr/local/lib/python3.7/dist-packages (from cryptography>=1.3.4->urllib3[secure]~=1.26->selenium) (1.14.6)\n",
            "Requirement already satisfied: pycparser in /usr/local/lib/python3.7/dist-packages (from cffi>=1.12->cryptography>=1.3.4->urllib3[secure]~=1.26->selenium) (2.20)\n",
            "Requirement already satisfied: six>=1.5.2 in /usr/local/lib/python3.7/dist-packages (from pyOpenSSL>=0.14->urllib3[secure]~=1.26->selenium) (1.15.0)\n",
            "Collecting h11<1,>=0.9.0\n",
            "  Downloading h11-0.12.0-py3-none-any.whl (54 kB)\n",
            "\u001b[K     |████████████████████████████████| 54 kB 2.8 MB/s \n",
            "\u001b[?25hInstalling collected packages: sniffio, outcome, h11, cryptography, async-generator, wsproto, urllib3, trio, pyOpenSSL, trio-websocket, selenium\n",
            "  Attempting uninstall: urllib3\n",
            "    Found existing installation: urllib3 1.24.3\n",
            "    Uninstalling urllib3-1.24.3:\n",
            "      Successfully uninstalled urllib3-1.24.3\n",
            "\u001b[31mERROR: pip's dependency resolver does not currently take into account all the packages that are installed. This behaviour is the source of the following dependency conflicts.\n",
            "requests 2.23.0 requires urllib3!=1.25.0,!=1.25.1,<1.26,>=1.21.1, but you have urllib3 1.26.7 which is incompatible.\n",
            "datascience 0.10.6 requires folium==0.2.1, but you have folium 0.8.3 which is incompatible.\u001b[0m\n",
            "Successfully installed async-generator-1.10 cryptography-35.0.0 h11-0.12.0 outcome-1.1.0 pyOpenSSL-21.0.0 selenium-4.0.0 sniffio-1.2.0 trio-0.19.0 trio-websocket-0.9.2 urllib3-1.26.7 wsproto-1.0.0\n",
            "Get:1 https://cloud.r-project.org/bin/linux/ubuntu bionic-cran40/ InRelease [3,626 B]\n",
            "Ign:2 https://developer.download.nvidia.com/compute/cuda/repos/ubuntu1804/x86_64  InRelease\n",
            "Get:3 http://security.ubuntu.com/ubuntu bionic-security InRelease [88.7 kB]\n",
            "Ign:4 https://developer.download.nvidia.com/compute/machine-learning/repos/ubuntu1804/x86_64  InRelease\n",
            "Get:5 http://ppa.launchpad.net/c2d4u.team/c2d4u4.0+/ubuntu bionic InRelease [15.9 kB]\n",
            "Get:6 https://developer.download.nvidia.com/compute/cuda/repos/ubuntu1804/x86_64  Release [696 B]\n",
            "Hit:7 http://archive.ubuntu.com/ubuntu bionic InRelease\n",
            "Hit:8 https://developer.download.nvidia.com/compute/machine-learning/repos/ubuntu1804/x86_64  Release\n",
            "Get:9 https://developer.download.nvidia.com/compute/cuda/repos/ubuntu1804/x86_64  Release.gpg [836 B]\n",
            "Get:10 http://archive.ubuntu.com/ubuntu bionic-updates InRelease [88.7 kB]\n",
            "Get:11 https://cloud.r-project.org/bin/linux/ubuntu bionic-cran40/ Packages [73.0 kB]\n",
            "Hit:12 http://ppa.launchpad.net/cran/libgit2/ubuntu bionic InRelease\n",
            "Get:13 http://archive.ubuntu.com/ubuntu bionic-backports InRelease [74.6 kB]\n",
            "Hit:14 http://ppa.launchpad.net/deadsnakes/ppa/ubuntu bionic InRelease\n",
            "Hit:16 http://ppa.launchpad.net/graphics-drivers/ppa/ubuntu bionic InRelease\n",
            "Get:17 https://developer.download.nvidia.com/compute/cuda/repos/ubuntu1804/x86_64  Packages [808 kB]\n",
            "Get:18 http://ppa.launchpad.net/c2d4u.team/c2d4u4.0+/ubuntu bionic/main Sources [1,813 kB]\n",
            "Get:19 http://security.ubuntu.com/ubuntu bionic-security/main amd64 Packages [2,400 kB]\n",
            "Get:20 http://archive.ubuntu.com/ubuntu bionic-updates/universe amd64 Packages [2,217 kB]\n",
            "Get:21 http://security.ubuntu.com/ubuntu bionic-security/restricted amd64 Packages [633 kB]\n",
            "Get:22 http://security.ubuntu.com/ubuntu bionic-security/universe amd64 Packages [1,437 kB]\n",
            "Get:23 http://ppa.launchpad.net/c2d4u.team/c2d4u4.0+/ubuntu bionic/main amd64 Packages [928 kB]\n",
            "Get:24 http://archive.ubuntu.com/ubuntu bionic-updates/main amd64 Packages [2,837 kB]\n",
            "Fetched 13.4 MB in 3s (3,977 kB/s)\n",
            "Reading package lists... Done\n",
            "Reading package lists... Done\n",
            "Building dependency tree       \n",
            "Reading state information... Done\n",
            "The following additional packages will be installed:\n",
            "  chromium-browser chromium-browser-l10n chromium-codecs-ffmpeg-extra\n",
            "Suggested packages:\n",
            "  webaccounts-chromium-extension unity-chromium-extension\n",
            "The following NEW packages will be installed:\n",
            "  chromium-browser chromium-browser-l10n chromium-chromedriver\n",
            "  chromium-codecs-ffmpeg-extra\n",
            "0 upgraded, 4 newly installed, 0 to remove and 54 not upgraded.\n",
            "Need to get 94.0 MB of archives.\n",
            "After this operation, 324 MB of additional disk space will be used.\n",
            "Get:1 http://archive.ubuntu.com/ubuntu bionic-updates/universe amd64 chromium-codecs-ffmpeg-extra amd64 95.0.4638.69-0ubuntu0.18.04.1 [1,135 kB]\n",
            "Get:2 http://archive.ubuntu.com/ubuntu bionic-updates/universe amd64 chromium-browser amd64 95.0.4638.69-0ubuntu0.18.04.1 [83.6 MB]\n",
            "Get:3 http://archive.ubuntu.com/ubuntu bionic-updates/universe amd64 chromium-browser-l10n all 95.0.4638.69-0ubuntu0.18.04.1 [4,249 kB]\n",
            "Get:4 http://archive.ubuntu.com/ubuntu bionic-updates/universe amd64 chromium-chromedriver amd64 95.0.4638.69-0ubuntu0.18.04.1 [4,986 kB]\n",
            "Fetched 94.0 MB in 4s (21.4 MB/s)\n",
            "Selecting previously unselected package chromium-codecs-ffmpeg-extra.\n",
            "(Reading database ... 155219 files and directories currently installed.)\n",
            "Preparing to unpack .../chromium-codecs-ffmpeg-extra_95.0.4638.69-0ubuntu0.18.04.1_amd64.deb ...\n",
            "Unpacking chromium-codecs-ffmpeg-extra (95.0.4638.69-0ubuntu0.18.04.1) ...\n",
            "Selecting previously unselected package chromium-browser.\n",
            "Preparing to unpack .../chromium-browser_95.0.4638.69-0ubuntu0.18.04.1_amd64.deb ...\n",
            "Unpacking chromium-browser (95.0.4638.69-0ubuntu0.18.04.1) ...\n",
            "Selecting previously unselected package chromium-browser-l10n.\n",
            "Preparing to unpack .../chromium-browser-l10n_95.0.4638.69-0ubuntu0.18.04.1_all.deb ...\n",
            "Unpacking chromium-browser-l10n (95.0.4638.69-0ubuntu0.18.04.1) ...\n",
            "Selecting previously unselected package chromium-chromedriver.\n",
            "Preparing to unpack .../chromium-chromedriver_95.0.4638.69-0ubuntu0.18.04.1_amd64.deb ...\n",
            "Unpacking chromium-chromedriver (95.0.4638.69-0ubuntu0.18.04.1) ...\n",
            "Setting up chromium-codecs-ffmpeg-extra (95.0.4638.69-0ubuntu0.18.04.1) ...\n",
            "Setting up chromium-browser (95.0.4638.69-0ubuntu0.18.04.1) ...\n",
            "update-alternatives: using /usr/bin/chromium-browser to provide /usr/bin/x-www-browser (x-www-browser) in auto mode\n",
            "update-alternatives: using /usr/bin/chromium-browser to provide /usr/bin/gnome-www-browser (gnome-www-browser) in auto mode\n",
            "Setting up chromium-chromedriver (95.0.4638.69-0ubuntu0.18.04.1) ...\n",
            "Setting up chromium-browser-l10n (95.0.4638.69-0ubuntu0.18.04.1) ...\n",
            "Processing triggers for man-db (2.8.3-2ubuntu0.1) ...\n",
            "Processing triggers for hicolor-icon-theme (0.17-2) ...\n",
            "Processing triggers for mime-support (3.60ubuntu1) ...\n",
            "Processing triggers for libc-bin (2.27-3ubuntu1.3) ...\n",
            "/sbin/ldconfig.real: /usr/local/lib/python3.7/dist-packages/ideep4py/lib/libmkldnn.so.0 is not a symbolic link\n",
            "\n"
          ]
        }
      ],
      "source": [
        "!pip install selenium\n",
        "!apt-get update \n",
        "!apt install chromium-chromedriver"
      ]
    },
    {
      "cell_type": "markdown",
      "metadata": {},
      "source": [
        "Somente no Colab, precisamos configurar de forma especial o driver (navegador) utilizado."
      ]
    },
    {
      "cell_type": "code",
      "execution_count": null,
      "metadata": {
        "id": "grenuY_G4CCi"
      },
      "outputs": [],
      "source": [
        "from selenium import webdriver\n",
        "chrome_options = webdriver.ChromeOptions()\n",
        "chrome_options.add_argument('--headless')\n",
        "chrome_options.add_argument('--no-sandbox')\n",
        "chrome_options.add_argument('--disable-dev-shm-usage')\n",
        "driver = webdriver.Chrome('chromedriver',options=chrome_options)"
      ]
    },
    {
      "cell_type": "code",
      "execution_count": null,
      "metadata": {
        "id": "2thNPRbw8wTn"
      },
      "outputs": [],
      "source": [
        "from selenium.webdriver.common.by import By\n",
        "import time "
      ]
    },
    {
      "cell_type": "markdown",
      "metadata": {},
      "source": [
        "Esta função coleta os dados de um determinado produto no e-commerce Kabum."
      ]
    },
    {
      "cell_type": "code",
      "execution_count": null,
      "metadata": {
        "id": "L6YsbTXWgBqz"
      },
      "outputs": [],
      "source": [
        "def scraping_pages():\n",
        "\n",
        "    url_root = 'https://www.kabum.com.br/produto/109633/teclado-sem-fio-logitech-mx-keys-bluetooth-tecnologia-flow-us-cinza-920-009297'\n",
        "\n",
        "    driver.get(url_root)\n",
        "    time.sleep(10)\n",
        "      \n",
        "    produto = driver.find_element(By.XPATH,'//*[@id=\"__next\"]/main/article/section/div[2]/h1')\n",
        "    preco = driver.find_element(By.XPATH,'//*[@id=\"blocoValores\"]/div[2]/div/h4')             \n",
        "    avaliacao = driver.find_element(By.XPATH,'//*[@id=\"__next\"]/main/article/section/div[2]/div/div[1]/div[1]/div[3]/div[2]')\n",
        "    \n",
        "    print(produto.text)\n",
        "    print(preco.text)\n",
        "    print(avaliacao.text)\n"
      ]
    },
    {
      "cell_type": "code",
      "execution_count": null,
      "metadata": {
        "colab": {
          "base_uri": "https://localhost:8080/"
        },
        "id": "eKgFYB9agYJV",
        "outputId": "b66be314-0069-4462-e3d2-5aa7ef7e3d0d"
      },
      "outputs": [
        {
          "name": "stdout",
          "output_type": "stream",
          "text": [
            "Teclado Sem Fio Logitech MX Keys, Bluetooth, Tecnologia Flow, US, Cinza - 920-009297\n",
            "R$ 649,90\n",
            "(71)\n"
          ]
        }
      ],
      "source": [
        "scraping_pages()"
      ]
    },
    {
      "cell_type": "markdown",
      "metadata": {},
      "source": [
        "Podemos explorar a paginação dos anúncios em busca de mais dados."
      ]
    },
    {
      "cell_type": "code",
      "execution_count": null,
      "metadata": {
        "id": "bRjUhxQBga4f"
      },
      "outputs": [],
      "source": [
        "def get_anuncios_kabum(link):\n",
        "  url_root = link\n",
        "  driver.get(url_root)\n",
        "  time.sleep(5)\n",
        "  \n",
        "  existing_items = False\n",
        "\n",
        "  produtos_div = driver.find_element(By.XPATH,'//*[@id=\"listing\"]/article/section/div[2]/div/main')\n",
        "  lista_items = produtos_div.find_elements(By.XPATH, '//div/h2')\n",
        "  \n",
        "  for item in lista_items:\n",
        "    print(item.text)\n",
        "\n",
        "    if item.text != '':\n",
        "      existing_items = True\n",
        "  \n",
        "  return existing_items"
      ]
    },
    {
      "cell_type": "markdown",
      "metadata": {},
      "source": [
        "Teste de coleta de uma página individual."
      ]
    },
    {
      "cell_type": "code",
      "execution_count": null,
      "metadata": {
        "colab": {
          "base_uri": "https://localhost:8080/"
        },
        "id": "QEh0HXNvS9Rr",
        "outputId": "d26d7740-0c5c-46f9-c69e-b83c60a9eefe"
      },
      "outputs": [
        {
          "name": "stdout",
          "output_type": "stream",
          "text": [
            "Vídeo Porteiro KaBuM! Smart, Wi-Fi, Campainha, Áudio Bidirecional, 1080p, Alexa, Google Assistant\n",
            "<selenium.webdriver.remote.webelement.WebElement (session=\"f90a86ffd85642720c13ff3af2caeaca\", element=\"09b27112-ad9f-4e37-bd41-a786fd024d1f\")>\n",
            "Soundbar LG 440W RMS, 3.1.2 Ch, Google Assistente, DTs X, Dolby Atmos, Bluetooth - SN8YG\n",
            "<selenium.webdriver.remote.webelement.WebElement (session=\"f90a86ffd85642720c13ff3af2caeaca\", element=\"216c2341-5628-4cfb-82a7-2c0a47e7b9d5\")>\n",
            "Roteador TP-Link Wireless (Sistema Mesh) AC1300 1300Mbps - DECO M5\n",
            "<selenium.webdriver.remote.webelement.WebElement (session=\"f90a86ffd85642720c13ff3af2caeaca\", element=\"44236dbe-a3f3-42ce-aaf7-edde32692865\")>\n",
            "Smart TV LG 75 4K UHD 75UP8050, com WiFi e Bluetooth, HDR, Inteligência Artificial, ThinQ Smart Magic, Google Alexa - 75UP8050PSB\n",
            "<selenium.webdriver.remote.webelement.WebElement (session=\"f90a86ffd85642720c13ff3af2caeaca\", element=\"0aebc59f-fd07-4868-8e51-870b81da604b\")>\n",
            "Smartwatch Samsung Galaxy Watch 3 45mm LTE, Aço Inoxidável, Preto - SM-R845FZKPZTO\n",
            "<selenium.webdriver.remote.webelement.WebElement (session=\"f90a86ffd85642720c13ff3af2caeaca\", element=\"0ed653f0-0623-459b-92a4-402e36f62bf6\")>\n",
            "Fone de Ouvido JBL Club 950 NC, Bluetooth, Cancelamento de Ruído, com Microfone, Preto - JBLCLUB950NCBLK\n",
            "<selenium.webdriver.remote.webelement.WebElement (session=\"f90a86ffd85642720c13ff3af2caeaca\", element=\"222fdc0a-7b97-41a5-ac72-b61335382381\")>\n",
            "Smartphone Samsung Galaxy S21 Ultra 5G, 256GB, RAM 12GB, Octa-Core, Câmera Quádrupla, Prata - SM-G998BZSSZTO\n",
            "<selenium.webdriver.remote.webelement.WebElement (session=\"f90a86ffd85642720c13ff3af2caeaca\", element=\"0b78e01d-ba20-4e06-98ae-821232ee7ade\")>\n",
            "Smartphone Samsung Galaxy Note20, 256GB, 64MP, Tela 6.7´, Mystic Green - SM-N981BZGSZTO\n",
            "<selenium.webdriver.remote.webelement.WebElement (session=\"f90a86ffd85642720c13ff3af2caeaca\", element=\"0ad35597-0b5b-440d-80c2-ae5fe24fc90a\")>\n",
            "Smart TV LG 55´ 4K UHD, Conexão WiFi e Bluetooth, HDR, Inteligência Artificial, ThinQ, Smart Magic, Google Assistente e Alexa - 55UN7310PSC\n",
            "<selenium.webdriver.remote.webelement.WebElement (session=\"f90a86ffd85642720c13ff3af2caeaca\", element=\"128a48cc-6eb1-466f-ba66-4e23c22cb7cb\")>\n",
            "Smart TV LG 50´ 4K UHD, Conexão WiFi e Bluetooth, HDR, Inteligência Artificial, ThinQ, Smart Magic, Google Assistente e Alexa - 50UN7310PSC\n",
            "<selenium.webdriver.remote.webelement.WebElement (session=\"f90a86ffd85642720c13ff3af2caeaca\", element=\"f8581d61-9b7d-477b-83c2-2007d0162c15\")>\n",
            "iPhone 12 128GB Vermelho, 5G, Tela de 6.1, Câmera Dupla 12MP + Selfie 12MP - MGJD3BZ/A\n",
            "<selenium.webdriver.remote.webelement.WebElement (session=\"f90a86ffd85642720c13ff3af2caeaca\", element=\"5d74bd64-bf93-4ad1-a02b-7cd1455bf7ad\")>\n",
            "Echo Show 8 (1ª Geração) com Alexa, Tela HD 8 e Câmera de 13 MP, Preto - B07SG8F1QF\n",
            "<selenium.webdriver.remote.webelement.WebElement (session=\"f90a86ffd85642720c13ff3af2caeaca\", element=\"5280c6e4-8bac-4b05-9f22-a4799cba3856\")>\n",
            "Kit Comedouro Pet Automático KaBuM! Smart, Câmera 1080p, 6 litros + Bebedouro Pet Automático KaBuM! Smart, 2,5 litros\n",
            "<selenium.webdriver.remote.webelement.WebElement (session=\"f90a86ffd85642720c13ff3af2caeaca\", element=\"8df886ad-4b03-4fbc-9040-15aec52c6b74\")>\n",
            "\n",
            "<selenium.webdriver.remote.webelement.WebElement (session=\"f90a86ffd85642720c13ff3af2caeaca\", element=\"4e09244b-cd61-433c-86c9-e08287869c81\")>\n"
          ]
        },
        {
          "data": {
            "text/plain": [
              "True"
            ]
          },
          "execution_count": 14,
          "metadata": {},
          "output_type": "execute_result"
        }
      ],
      "source": [
        "get_anuncios_kabum('https://www.kabum.com.br/promocao/MENU_ELETRONICOS?page_number=2&page_size=20&facet_filters=&sort=most_searched')"
      ]
    },
    {
      "cell_type": "markdown",
      "metadata": {},
      "source": [
        "Incluindo o algortimo para busca e paginação automática."
      ]
    },
    {
      "cell_type": "code",
      "execution_count": null,
      "metadata": {
        "colab": {
          "base_uri": "https://localhost:8080/"
        },
        "id": "Ou-mqImmJWcz",
        "outputId": "4651e416-05e9-469c-99eb-42202757315b"
      },
      "outputs": [
        {
          "name": "stdout",
          "output_type": "stream",
          "text": [
            "Página 1\n",
            "https://www.kabum.com.br/promocao/MENU_ELETRONICOS?page_number=1&page_size=20&facet_filters=&sort=most_searched\n",
            "Smartwatch Samsung Galaxy Watch Active 2, 44mm, Wi-Fi, Touchscreen, Monitor Cardíaco, Preto - SM-R820NZKPZTO\n",
            "Tablet Samsung Galaxy Tab A7, Wi-Fi, Android 10, 64GB, 8MP, Tela 10.4´, Grafite - SM-T500NZAQZTO\n",
            "Fone de Ouvido Bluetooth Samsung Galaxy Buds Live, com Microfone, Recarregável, Preto - SM-R180NZKPZTO\n",
            "Smart TV Samsung 50´ 4K QLED 50Q60A, Tela Infinita, Processador IA, HDR10+, Design Slim, Alexa Built In - QN50Q60AAGXZD\n",
            "Roteador Wireless D-Link MU-MIMO Gigabit AC1200, 1200Mbps, 6 Antenas - DIR-846\n",
            "Echo Dot (4ª Geração) com Alexa, Amazon Smart Speaker Azul - B084KV8YRR\n",
            "AirPods com Estojo de Recarga, Branco - MV7N2AM/A\n",
            "Fone de Ouvido Samsung Galaxy Buds Pro, Cancelamento de Ruído, Preto - SM-R190NZKPZTO\n",
            "Smart TV TCL 55\" P715 LED 4K UHD, WiFi, Bluetooth, 3x HDMI, 2x USB, HDR, Google Assistant, Android TV, Borda Ultrafina - 55P715\n",
            "Samsung Smart TV 70´´ UHD 4K 70AU7700, Processador Crystal 4K, Tela sem limites, Visual Livre de Cabos, Alexa Built In - UN70AU7700GXZD\n",
            "Fone de Ouvido Edifier TWS X5, Bluetooth, Microfone Duplo, Estojo Recarregável, Ergonômico, Resistente à Água, Preto - X5\n",
            "Smartphone Motorola Moto G100 5G, 256GB, RAM 12GB, Octa Core, Camera Quádrupla 64MP, 5000mAh, Luminious Ocean - PAM80052BR\n",
            "Roteador Gamer Asus RT-AX82U, 5400Mbps, WiFi6, Aura RGB, AiMesh - 90IG05G0-MY8R10\n",
            "Kit de Segurança Inteligente KaBuM! Smart 500\n",
            "Fone de Ouvido Sem Fio JBL In Ear True Wireless Free II TWS, Bluetooth 5.0, Fast Pair, à Prova de Respingos, Preto - JBLFREEIITWSBLK\n",
            "Samsung Smart TV 85´´ Crystal UHD 4K 85AU8000, Dynamic Crystal Color, Borda Infinita, Visual Livre de Cabos, Alexa Built In - UN85AU8000GXZD\n",
            "Volante Logitech G923 para PS5, PS4 e PC com Force Feedback TRUEFORCE, Pedais Responsivos, Launch Control, Acabamento em Couro - 941-000148\n",
            "Smartphone Samsung Galaxy S20 FE 256GB, 8GB RAM, Octa-Core, Câmera Tripla, Carregamento Super Rápido, Cloud White - SM-G780GZWSZTO\n",
            "Soundbar JBL Cinema SB160, Bluetooth, 110W, Subwoofer Wireless, 2.1 Canais - JBLSB160BLKBR\n",
            "Smartphone Samsung Galaxy Note20 Ultra, 256GB, 108MP, Tela 6.9´, Mystic White - SM-N986BZWSZTO\n",
            "\n",
            "Página 2\n",
            "https://www.kabum.com.br/promocao/MENU_ELETRONICOS?page_number=2&page_size=20&facet_filters=&sort=most_searched\n",
            "Vídeo Porteiro KaBuM! Smart, Wi-Fi, Campainha, Áudio Bidirecional, 1080p, Alexa, Google Assistant\n",
            "Soundbar LG 440W RMS, 3.1.2 Ch, Google Assistente, DTs X, Dolby Atmos, Bluetooth - SN8YG\n",
            "Roteador TP-Link Wireless (Sistema Mesh) AC1300 1300Mbps - DECO M5\n",
            "Smart TV LG 75 4K UHD 75UP8050, com WiFi e Bluetooth, HDR, Inteligência Artificial, ThinQ Smart Magic, Google Alexa - 75UP8050PSB\n",
            "Smartwatch Samsung Galaxy Watch 3 45mm LTE, Aço Inoxidável, Preto - SM-R845FZKPZTO\n",
            "Fone de Ouvido JBL Club 950 NC, Bluetooth, Cancelamento de Ruído, com Microfone, Preto - JBLCLUB950NCBLK\n",
            "Smartphone Samsung Galaxy S21 Ultra 5G, 256GB, RAM 12GB, Octa-Core, Câmera Quádrupla, Prata - SM-G998BZSSZTO\n",
            "Smartphone Samsung Galaxy Note20, 256GB, 64MP, Tela 6.7´, Mystic Green - SM-N981BZGSZTO\n",
            "Smart TV LG 55´ 4K UHD, Conexão WiFi e Bluetooth, HDR, Inteligência Artificial, ThinQ, Smart Magic, Google Assistente e Alexa - 55UN7310PSC\n",
            "Smart TV LG 50´ 4K UHD, Conexão WiFi e Bluetooth, HDR, Inteligência Artificial, ThinQ, Smart Magic, Google Assistente e Alexa - 50UN7310PSC\n",
            "iPhone 12 128GB Vermelho, 5G, Tela de 6.1, Câmera Dupla 12MP + Selfie 12MP - MGJD3BZ/A\n",
            "Echo Show 8 (1ª Geração) com Alexa, Tela HD 8 e Câmera de 13 MP, Preto - B07SG8F1QF\n",
            "Kit Comedouro Pet Automático KaBuM! Smart, Câmera 1080p, 6 litros + Bebedouro Pet Automático KaBuM! Smart, 2,5 litros\n",
            "\n",
            "Página 3\n",
            "https://www.kabum.com.br/promocao/MENU_ELETRONICOS?page_number=3&page_size=20&facet_filters=&sort=most_searched\n",
            "\n"
          ]
        }
      ],
      "source": [
        "page_nr = 0\n",
        "items = True\n",
        "\n",
        "while items:\n",
        "  page_nr += 1\n",
        "  url = \"https://www.kabum.com.br/promocao/MENU_ELETRONICOS?page_number=\"+str(page_nr) + \"&page_size=20&facet_filters=&sort=most_searched\"\n",
        "  print(\"Página \" + str(page_nr))\n",
        "  print(url)\n",
        "  items = get_anuncios_kabum(url)"
      ]
    }
  ],
  "metadata": {
    "colab": {
      "collapsed_sections": [],
      "name": "Aula 7",
      "provenance": []
    },
    "kernelspec": {
      "display_name": "Python 3",
      "name": "python3"
    },
    "language_info": {
      "name": "python"
    }
  },
  "nbformat": 4,
  "nbformat_minor": 0
}
