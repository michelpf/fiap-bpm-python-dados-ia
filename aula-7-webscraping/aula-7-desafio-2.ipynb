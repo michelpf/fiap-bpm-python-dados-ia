{
  "cells": [
    {
      "cell_type": "markdown",
      "metadata": {
        "id": "K5U3wRHK84wo"
      },
      "source": [
        "\n",
        "# Aula 7\n",
        "## Desafio 2\n",
        "___\n",
        "\n",
        "Acesse a seguinte [página de um produto](https://www.magazineluiza.com.br/monitor-gamer-ultrawide-lg-26wq500-b-257-full-hd-75hz-ips-1ms-hdmi-freesync/p/235672100/in/mnpc/) do Magalu e colete o nome da loja, o preço original e o preço com desconto, então calcule a diferença percentual entre os preços.\n"
      ]
    },
    {
      "cell_type": "code",
      "execution_count": 1,
      "metadata": {
        "id": "K1DGqBwHAoJP"
      },
      "outputs": [],
      "source": [
        "import requests\n",
        "from bs4 import BeautifulSoup\n",
        "import re"
      ]
    },
    {
      "cell_type": "code",
      "execution_count": 2,
      "metadata": {
        "colab": {
          "base_uri": "https://localhost:8080/"
        },
        "id": "t0zKzexKAr-b",
        "outputId": "ee656171-fd63-4df6-c6a5-675851770b9f"
      },
      "outputs": [
        {
          "output_type": "execute_result",
          "data": {
            "text/plain": [
              "<Response [200]>"
            ]
          },
          "metadata": {},
          "execution_count": 2
        }
      ],
      "source": [
        "url = \"https://www.magazineluiza.com.br/monitor-gamer-ultrawide-lg-26wq500-b-257-full-hd-75hz-ips-1ms-hdmi-freesync/p/235672100/in/mnpc/\"\n",
        "r = requests.get(url)\n",
        "r"
      ]
    },
    {
      "cell_type": "code",
      "execution_count": 3,
      "metadata": {
        "id": "Zn0SgJYICWJk"
      },
      "outputs": [],
      "source": [
        "resultado = r.text\n",
        "bs = BeautifulSoup(resultado, 'html.parser')"
      ]
    },
    {
      "cell_type": "code",
      "execution_count": 10,
      "metadata": {
        "colab": {
          "base_uri": "https://localhost:8080/"
        },
        "id": "1U-MAxLwFt94",
        "outputId": "172c8f88-e99e-49b4-bf88-6e20770bbed0"
      },
      "outputs": [
        {
          "output_type": "execute_result",
          "data": {
            "text/plain": [
              "<div data-testid=\"product-price\"><div class=\"sc-fqkvVR hlqElk sc-bfhvDw cbLrxG\"><div class=\"sc-fqkvVR fDkgrD sc-kgOKUu giXSKQ\" data-testid=\"price-default\" font-size=\"5,5\"><p class=\"sc-kpDqfm gBEKKZ sc-fUBkdm dognPX\" color=\"text.light\" data-testid=\"price-original\" font-size=\"1,1\" font-weight=\"regular\">R$ 1.399,00</p><div class=\"sc-dhKdcB ryZxx\"><p class=\"sc-kpDqfm eCPtRw sc-hYmls gMDrLP\" color=\"#404040\" data-testid=\"price-value\">R$ 818,31</p><span class=\"sc-hBtRBD huKYlo\" data-testid=\"in-cash\">no Pix<!-- --> </span></div><span class=\"sc-cMa-dbN eIBuVV\">(<!-- -->7% de desconto<!-- -->)</span><p class=\"sc-kpDqfm hOlNvE sc-eulNck feolwe\" color=\"#404040\" data-testid=\"installment\" font-size=\"1,1\" font-weight=\"regular\">ou <!-- -->R$ 879,90<!-- --> em <!-- -->7<!-- -->x de<!-- --> <!-- -->R$ 125,70<!-- --> <!-- -->sem juros</p></div></div></div>"
            ]
          },
          "metadata": {},
          "execution_count": 10
        }
      ],
      "source": [
        "item = bs.find('div', {\"data-testid\": \"product-price\"})\n",
        "item"
      ]
    },
    {
      "cell_type": "code",
      "execution_count": 11,
      "metadata": {
        "colab": {
          "base_uri": "https://localhost:8080/"
        },
        "id": "4RjdsLB5Fzeh",
        "outputId": "5de73a7d-259d-46b8-92dd-5aac44dbe2cd"
      },
      "outputs": [
        {
          "output_type": "execute_result",
          "data": {
            "text/plain": [
              "('R$\\xa01.399,00R$\\xa0818,31no Pix (7% de desconto)ou R$\\xa0879,90 em 7x de R$\\xa0125,70 sem juros',\n",
              " 'R$\\xa01.399,00R$\\xa0818,31no Pix (7% de desconto)ou R$\\xa0879,90 em 7x de R$\\xa0125,70 sem juros')"
            ]
          },
          "metadata": {},
          "execution_count": 11
        }
      ],
      "source": [
        "item.text, item.text.strip()"
      ]
    },
    {
      "cell_type": "code",
      "execution_count": 33,
      "metadata": {
        "colab": {
          "base_uri": "https://localhost:8080/"
        },
        "id": "mu5INZ3_DD56",
        "outputId": "a74f6541-56e8-4d03-bb1c-33cdd4fe5234"
      },
      "outputs": [
        {
          "output_type": "execute_result",
          "data": {
            "text/plain": [
              "<p class=\"sc-kpDqfm gBEKKZ sc-fUBkdm dognPX\" color=\"text.light\" data-testid=\"price-original\" font-size=\"1,1\" font-weight=\"regular\">R$ 1.399,00</p>"
            ]
          },
          "metadata": {},
          "execution_count": 33
        }
      ],
      "source": [
        "item_preco_original = bs.find('p', {\"data-testid\": \"price-original\"})\n",
        "item_preco_original"
      ]
    },
    {
      "cell_type": "code",
      "execution_count": 34,
      "metadata": {
        "colab": {
          "base_uri": "https://localhost:8080/",
          "height": 35
        },
        "id": "M3ppIaBhDWpb",
        "outputId": "d7f541e8-d3c2-4c53-cbb3-c8e82bddd885"
      },
      "outputs": [
        {
          "output_type": "execute_result",
          "data": {
            "text/plain": [
              "'R$\\xa01.399,00'"
            ],
            "application/vnd.google.colaboratory.intrinsic+json": {
              "type": "string"
            }
          },
          "metadata": {},
          "execution_count": 34
        }
      ],
      "source": [
        "item_preco_original.text"
      ]
    },
    {
      "cell_type": "code",
      "source": [
        "preco_original = item_preco_original.text.replace(\"R$\\xa0\", \"\")\n",
        "preco_original"
      ],
      "metadata": {
        "colab": {
          "base_uri": "https://localhost:8080/",
          "height": 35
        },
        "id": "eu9DqShlufT0",
        "outputId": "4bab9e55-8aea-4f8d-cb0f-cde6614b18a8"
      },
      "execution_count": 35,
      "outputs": [
        {
          "output_type": "execute_result",
          "data": {
            "text/plain": [
              "'1.399,00'"
            ],
            "application/vnd.google.colaboratory.intrinsic+json": {
              "type": "string"
            }
          },
          "metadata": {},
          "execution_count": 35
        }
      ]
    },
    {
      "cell_type": "code",
      "execution_count": 36,
      "metadata": {
        "colab": {
          "base_uri": "https://localhost:8080/"
        },
        "id": "K8qGxVsGCwWj",
        "outputId": "c83d7ddc-c831-4295-f133-63489821aae4"
      },
      "outputs": [
        {
          "output_type": "execute_result",
          "data": {
            "text/plain": [
              "<p class=\"sc-kpDqfm eCPtRw sc-hYmls gMDrLP\" color=\"#404040\" data-testid=\"price-value\">R$ 818,31</p>"
            ]
          },
          "metadata": {},
          "execution_count": 36
        }
      ],
      "source": [
        "item_preco_desconto = bs.find('p', {\"data-testid\": \"price-value\"})\n",
        "item_preco_desconto"
      ]
    },
    {
      "cell_type": "code",
      "execution_count": 37,
      "metadata": {
        "colab": {
          "base_uri": "https://localhost:8080/",
          "height": 35
        },
        "id": "L2vsgAFUDAQ2",
        "outputId": "8ac8c5e9-8626-439f-bfaf-75abf8c34c9b"
      },
      "outputs": [
        {
          "output_type": "execute_result",
          "data": {
            "text/plain": [
              "'R$\\xa0818,31'"
            ],
            "application/vnd.google.colaboratory.intrinsic+json": {
              "type": "string"
            }
          },
          "metadata": {},
          "execution_count": 37
        }
      ],
      "source": [
        "item_preco_desconto.text"
      ]
    },
    {
      "cell_type": "code",
      "execution_count": 38,
      "metadata": {
        "colab": {
          "base_uri": "https://localhost:8080/",
          "height": 35
        },
        "id": "5o5Jj_F5EuFQ",
        "outputId": "e5c9343b-ec31-4d8d-b830-9f7a551a5f34"
      },
      "outputs": [
        {
          "output_type": "execute_result",
          "data": {
            "text/plain": [
              "'818,31'"
            ],
            "application/vnd.google.colaboratory.intrinsic+json": {
              "type": "string"
            }
          },
          "metadata": {},
          "execution_count": 38
        }
      ],
      "source": [
        "preco_desconto = item_preco_desconto.text.replace(\"R$\\xa0\", \"\")\n",
        "preco_desconto"
      ]
    },
    {
      "cell_type": "code",
      "execution_count": null,
      "metadata": {
        "colab": {
          "base_uri": "https://localhost:8080/"
        },
        "id": "5CTuepgEEwgZ",
        "outputId": "6b6711a6-3707-4688-9a72-a1da32e7e555"
      },
      "outputs": [
        {
          "data": {
            "text/plain": [
              "11.504424778761058"
            ]
          },
          "execution_count": 34,
          "metadata": {},
          "output_type": "execute_result"
        }
      ],
      "source": [
        "desconto_per = (preco_de - preco_para) * 100/preco_de\n",
        "desconto_per"
      ]
    },
    {
      "cell_type": "code",
      "source": [
        "preco_desconto = float(preco_desconto.replace(\",\", \".\"))\n",
        "preco_original = preco_original.replace(\".\", \"\")\n",
        "preco_original = float(preco_original.replace(\",\", \".\"))"
      ],
      "metadata": {
        "id": "FF6wvhqFvCer"
      },
      "execution_count": 39,
      "outputs": []
    },
    {
      "cell_type": "code",
      "source": [
        "desconto = preco_original - preco_desconto\n",
        "desconto"
      ],
      "metadata": {
        "colab": {
          "base_uri": "https://localhost:8080/"
        },
        "id": "xNWLIRmqvIL7",
        "outputId": "ee4b9263-5d00-472c-93bb-9b22fa399241"
      },
      "execution_count": 41,
      "outputs": [
        {
          "output_type": "execute_result",
          "data": {
            "text/plain": [
              "580.69"
            ]
          },
          "metadata": {},
          "execution_count": 41
        }
      ]
    },
    {
      "cell_type": "code",
      "source": [
        "porc_desconto = 100*desconto/preco_original"
      ],
      "metadata": {
        "id": "Q0nuTWwsvctr"
      },
      "execution_count": 44,
      "outputs": []
    },
    {
      "cell_type": "code",
      "source": [
        "round(porc_desconto, 3)"
      ],
      "metadata": {
        "colab": {
          "base_uri": "https://localhost:8080/"
        },
        "id": "hfMBygBFvl-f",
        "outputId": "a09464c0-36a5-46d0-f2cb-ccd022ee847d"
      },
      "execution_count": 45,
      "outputs": [
        {
          "output_type": "execute_result",
          "data": {
            "text/plain": [
              "41.508"
            ]
          },
          "metadata": {},
          "execution_count": 45
        }
      ]
    },
    {
      "cell_type": "code",
      "source": [],
      "metadata": {
        "id": "m-DMvwdkv4hX"
      },
      "execution_count": null,
      "outputs": []
    }
  ],
  "metadata": {
    "colab": {
      "provenance": []
    },
    "kernelspec": {
      "display_name": "Python 3",
      "name": "python3"
    },
    "language_info": {
      "name": "python"
    }
  },
  "nbformat": 4,
  "nbformat_minor": 0
}