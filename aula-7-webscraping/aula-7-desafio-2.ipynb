{
  "cells": [
    {
      "cell_type": "markdown",
      "metadata": {
        "id": "K5U3wRHK84wo"
      },
      "source": [
        "\n",
        "# Aula 7\n",
        "## Desafio 2\n",
        "___\n",
        "\n",
        "Acesse a seguinte [página de um produto](https://www.magazineluiza.com.br/monitor-315-lg-uhd-4k-com-hdr10-e-amd-freesync-alto-falantes-maxx-audio-e-design-com-borda-infinita-32un500/p/hbca5ad538/in/mnpc/?partner_id=974) do Magalu e colete o nome da loja, o preço original e o preço com desconto, então calcule a diferença percentual entre os preços.\n"
      ]
    },
    {
      "cell_type": "code",
      "execution_count": null,
      "metadata": {
        "id": "K1DGqBwHAoJP"
      },
      "outputs": [],
      "source": [
        "import requests\n",
        "from bs4 import BeautifulSoup\n",
        "import re"
      ]
    },
    {
      "cell_type": "code",
      "execution_count": null,
      "metadata": {
        "colab": {
          "base_uri": "https://localhost:8080/"
        },
        "id": "t0zKzexKAr-b",
        "outputId": "fa564e78-4746-4bd0-85d4-29e21a33315d"
      },
      "outputs": [
        {
          "data": {
            "text/plain": [
              "<Response [200]>"
            ]
          },
          "execution_count": 7,
          "metadata": {},
          "output_type": "execute_result"
        }
      ],
      "source": [
        "url = \"https://www.magazineluiza.com.br/monitor-315-lg-uhd-4k-com-hdr10-e-amd-freesync-alto-falantes-maxx-audio-e-design-com-borda-infinita-32un500/p/hbca5ad538/in/mnpc/?partner_id=974\"\n",
        "r = requests.get(url)\n",
        "r"
      ]
    },
    {
      "cell_type": "code",
      "execution_count": null,
      "metadata": {
        "id": "Zn0SgJYICWJk"
      },
      "outputs": [],
      "source": [
        "resultado = r.text\n",
        "bs = BeautifulSoup(resultado, 'html.parser')"
      ]
    },
    {
      "cell_type": "code",
      "execution_count": null,
      "metadata": {
        "colab": {
          "base_uri": "https://localhost:8080/"
        },
        "id": "1U-MAxLwFt94",
        "outputId": "9777c9e7-7396-4baf-89c2-d7e7929e721a"
      },
      "outputs": [
        {
          "data": {
            "text/plain": [
              "<button aria-label=\"Abrir modal de informações do vendedor\" class=\"seller-info-button js-seller-modal-button\" data-seller-city=\"SAO PAULO\" data-seller-cnpj=\"43708379000100\" data-seller-description=\"Fast Shop\" data-seller-id=\"fastshop2\" data-seller-neighborhood=\"AGUA BRANCA\" data-seller-number=\"30\" data-seller-page=\"https://www.magazineluiza.com.br/lojista/fastshop2/\" data-seller-razao-social=\"FAST SHOP S A\" data-seller-state=\"SP\" data-seller-street=\"R ENG STEVENSON\" data-seller-zipcode=\"05003110\"> Fast Shop </button>"
            ]
          },
          "execution_count": 37,
          "metadata": {},
          "output_type": "execute_result"
        }
      ],
      "source": [
        "item = bs.find('button', {\"class\": \"seller-info-button js-seller-modal-button\"})\n",
        "item"
      ]
    },
    {
      "cell_type": "code",
      "execution_count": null,
      "metadata": {
        "colab": {
          "base_uri": "https://localhost:8080/"
        },
        "id": "4RjdsLB5Fzeh",
        "outputId": "22e44d41-7af4-448b-8e8c-8fd61e6ddf18"
      },
      "outputs": [
        {
          "data": {
            "text/plain": [
              "(' Fast Shop ', 'Fast Shop')"
            ]
          },
          "execution_count": 39,
          "metadata": {},
          "output_type": "execute_result"
        }
      ],
      "source": [
        "item.text, item.text.strip()"
      ]
    },
    {
      "cell_type": "code",
      "execution_count": null,
      "metadata": {
        "colab": {
          "base_uri": "https://localhost:8080/"
        },
        "id": "mu5INZ3_DD56",
        "outputId": "2770b36c-a72a-4be6-ece8-b98990c61ecc"
      },
      "outputs": [
        {
          "data": {
            "text/plain": [
              "<div class=\"price-template__from\">de R$ 2.936,87</div>"
            ]
          },
          "execution_count": 31,
          "metadata": {},
          "output_type": "execute_result"
        }
      ],
      "source": [
        "item = bs.find('div', {\"class\": \"price-template__from\"})\n",
        "item"
      ]
    },
    {
      "cell_type": "code",
      "execution_count": null,
      "metadata": {
        "colab": {
          "base_uri": "https://localhost:8080/",
          "height": 35
        },
        "id": "M3ppIaBhDWpb",
        "outputId": "57ace60b-25bc-4fb7-9732-ece31e819be6"
      },
      "outputs": [
        {
          "data": {
            "application/vnd.google.colaboratory.intrinsic+json": {
              "type": "string"
            },
            "text/plain": [
              "'de R$ 2.936,87'"
            ]
          },
          "execution_count": 16,
          "metadata": {},
          "output_type": "execute_result"
        }
      ],
      "source": [
        "item.text"
      ]
    },
    {
      "cell_type": "code",
      "execution_count": null,
      "metadata": {
        "colab": {
          "base_uri": "https://localhost:8080/"
        },
        "id": "fetnrBLPETOb",
        "outputId": "ca5bcd43-d977-4cf0-c156-ac38134d71d0"
      },
      "outputs": [
        {
          "name": "stdout",
          "output_type": "stream",
          "text": [
            " 2.936,87\n",
            "2936.87\n"
          ]
        }
      ],
      "source": [
        "padrao = r\".(\\d*.\\d*,\\d*)\"\n",
        "padrao = re.search(padrao, item.text)\n",
        "if padrao is not None:\n",
        "    preco = padrao.group(0)\n",
        "    print(preco)\n",
        "\n",
        "    preco_de = float(preco.replace(\".\", \"\").replace(\",\",\".\"))\n",
        "    print(preco_de)"
      ]
    },
    {
      "cell_type": "code",
      "execution_count": null,
      "metadata": {
        "colab": {
          "base_uri": "https://localhost:8080/"
        },
        "id": "K8qGxVsGCwWj",
        "outputId": "ec2da63f-89ed-4c41-bf23-1bafa06abe1d"
      },
      "outputs": [
        {
          "data": {
            "text/plain": [
              "<div class=\"price-template-price-block\"> por <span class=\"price-template__bold\">R$</span> <span class=\"price-template__text\">2.599,00</span> </div>"
            ]
          },
          "execution_count": 24,
          "metadata": {},
          "output_type": "execute_result"
        }
      ],
      "source": [
        "item = bs.find('div', {\"class\": \"price-template-price-block\"})\n",
        "item"
      ]
    },
    {
      "cell_type": "code",
      "execution_count": null,
      "metadata": {
        "colab": {
          "base_uri": "https://localhost:8080/",
          "height": 35
        },
        "id": "L2vsgAFUDAQ2",
        "outputId": "6f8e1299-a544-4c92-9b4d-80b053a065d1"
      },
      "outputs": [
        {
          "data": {
            "application/vnd.google.colaboratory.intrinsic+json": {
              "type": "string"
            },
            "text/plain": [
              "' por R$ 2.599,00 '"
            ]
          },
          "execution_count": 25,
          "metadata": {},
          "output_type": "execute_result"
        }
      ],
      "source": [
        "item.text"
      ]
    },
    {
      "cell_type": "code",
      "execution_count": null,
      "metadata": {
        "colab": {
          "base_uri": "https://localhost:8080/"
        },
        "id": "5o5Jj_F5EuFQ",
        "outputId": "bb51b85c-99d5-4d44-85d3-d71b6cf6609a"
      },
      "outputs": [
        {
          "name": "stdout",
          "output_type": "stream",
          "text": [
            " 2.599,00\n",
            "2599.0\n"
          ]
        }
      ],
      "source": [
        "padrao = r\".(\\d*.\\d*,\\d*)\"\n",
        "padrao = re.search(padrao, item.text)\n",
        "if padrao is not None:\n",
        "    preco = padrao.group(0)\n",
        "    print(preco)\n",
        "\n",
        "    preco_para = float(preco.replace(\".\", \"\").replace(\",\",\".\"))\n",
        "    print(preco_para)"
      ]
    },
    {
      "cell_type": "code",
      "execution_count": null,
      "metadata": {
        "colab": {
          "base_uri": "https://localhost:8080/"
        },
        "id": "5CTuepgEEwgZ",
        "outputId": "6b6711a6-3707-4688-9a72-a1da32e7e555"
      },
      "outputs": [
        {
          "data": {
            "text/plain": [
              "11.504424778761058"
            ]
          },
          "execution_count": 34,
          "metadata": {},
          "output_type": "execute_result"
        }
      ],
      "source": [
        "desconto_per = (preco_de - preco_para) * 100/preco_de\n",
        "desconto_per"
      ]
    }
  ],
  "metadata": {
    "colab": {
      "name": "Desafio 2",
      "provenance": []
    },
    "kernelspec": {
      "display_name": "Python 3",
      "name": "python3"
    },
    "language_info": {
      "name": "python"
    }
  },
  "nbformat": 4,
  "nbformat_minor": 0
}
