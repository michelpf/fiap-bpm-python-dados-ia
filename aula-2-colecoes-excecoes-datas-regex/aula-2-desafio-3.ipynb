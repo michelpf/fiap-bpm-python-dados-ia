{
 "cells": [
  {
   "cell_type": "markdown",
   "source": [
    "## Desafio 3\r\n",
    "___"
   ],
   "metadata": {}
  },
  {
   "cell_type": "markdown",
   "source": [
    "Crie uma função que retorne em uma lista o tamanho de cada palavra do texto abaixo:\n",
    "\n",
    "Python é uma linguagem de propósito geral de alto nível, multi paradigma, suporta o paradigma orientado a objetos, imperativo, funcional e procedural. Possui tipagem dinâmica e uma de suas principais características é permitir a fácil leitura do código e exigir poucas linhas de código se comparado ao mesmo programa em outras linguagens. Devido às suas características, ela é principalmente utilizada para processamento de textos, dados científicos e criação de cgis para páginas dinâmicas para a web. Foi considerada pelo público a 6ª linguagem mais amada, de acordo com uma pesquisa conduzida pelo site stack overflow em 2017, e está entre as 5 linguagens mais populares, de acordo com uma pesquisa conduzida pela redmonk.\n",
    "\n",
    "Hint: split(<separador>) para criar uma lista a partir do caractere ou token de separação."
   ],
   "metadata": {}
  },
  {
   "cell_type": "code",
   "execution_count": 4,
   "source": [
    "texto = \"Python é uma linguagem de propósito geral de alto nível, multi paradigma, suporta o paradigma orientado a objetos, imperativo, funcional e procedural. Possui tipagem dinâmica e uma de suas principais características é permitir a fácil leitura do código e exigir poucas linhas de código se comparado ao mesmo programa em outras linguagens. Devido às suas características, ela é principalmente utilizada para processamento de textos, dados científicos e criação de cgis para páginas dinâmicas para a web. Foi considerada pelo público a 6ª linguagem mais amada, de acordo com uma pesquisa conduzida pelo site stack overflow em 2017, e está entre as 5 linguagens mais populares, de acordo com uma pesquisa conduzida pela redmonk.\""
   ],
   "outputs": [],
   "metadata": {
    "collapsed": true
   }
  },
  {
   "cell_type": "code",
   "execution_count": 5,
   "source": [
    "palavras = texto.split(\" \")"
   ],
   "outputs": [],
   "metadata": {
    "collapsed": true
   }
  },
  {
   "cell_type": "code",
   "execution_count": 6,
   "source": [
    "from collections import Counter\r\n",
    "\r\n",
    "count = Counter(palavras)"
   ],
   "outputs": [],
   "metadata": {
    "collapsed": true
   }
  },
  {
   "cell_type": "code",
   "execution_count": 8,
   "source": [
    "count.most_common(10)"
   ],
   "outputs": [
    {
     "output_type": "execute_result",
     "data": {
      "text/plain": [
       "[('de', 8),\n",
       " ('e', 5),\n",
       " ('uma', 4),\n",
       " ('a', 4),\n",
       " ('é', 3),\n",
       " ('para', 3),\n",
       " ('linguagem', 2),\n",
       " ('suas', 2),\n",
       " ('código', 2),\n",
       " ('em', 2)]"
      ]
     },
     "metadata": {},
     "execution_count": 8
    }
   ],
   "metadata": {}
  },
  {
   "cell_type": "code",
   "execution_count": null,
   "source": [],
   "outputs": [],
   "metadata": {
    "collapsed": true
   }
  }
 ],
 "metadata": {
  "kernelspec": {
   "display_name": "Python 3",
   "language": "python",
   "name": "python3"
  },
  "language_info": {
   "codemirror_mode": {
    "name": "ipython",
    "version": 3
   },
   "file_extension": ".py",
   "mimetype": "text/x-python",
   "name": "python",
   "nbconvert_exporter": "python",
   "pygments_lexer": "ipython3",
   "version": "3.6.2"
  }
 },
 "nbformat": 4,
 "nbformat_minor": 2
}