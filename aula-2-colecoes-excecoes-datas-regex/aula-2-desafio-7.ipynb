{
 "cells": [
  {
   "cell_type": "markdown",
   "source": [
    "## Desafio 7\r\n",
    "___"
   ],
   "metadata": {}
  },
  {
   "cell_type": "markdown",
   "source": [
    "Crie um estimador de sentimentos baseado em conjunto de palavras positivas e negativas para as frases abaixo. Utilize regex para validar sua presença.\n",
    "\n",
    "* “O filme foi ótimo.”\n",
    "* “Não gostei, muito confuso.”\n",
    "* “Foi excelente, mas no começo não achei legal.”\n",
    "* “Poderia ser melhor.”\n",
    "\n",
    "Hint: para cada palavra positiva some 1, para cada palavra negativa subtraia 1."
   ],
   "metadata": {},
   "attachments": {}
  },
  {
   "cell_type": "code",
   "execution_count": 6,
   "source": [
    "import re\r\n",
    "\r\n",
    "padroes_positivos = []\r\n",
    "padroes_positivos.append(\"ótimo\")\r\n",
    "padroes_positivos.append(\"gostei\")\r\n",
    "padroes_positivos.append(\"excelente\")\r\n",
    "padroes_positivos.append(\"legal\")\r\n",
    "padroes_positivos.append(\"melhor\")\r\n",
    "padroes_positivos.append(\"adorei\")\r\n",
    "\r\n",
    "padroes_negativos = []\r\n",
    "padroes_negativos.append(\"não\")\r\n",
    "padroes_negativos.append(\"confuso\")\r\n",
    "padroes_negativos.append(\"ruins\")"
   ],
   "outputs": [],
   "metadata": {}
  },
  {
   "cell_type": "code",
   "execution_count": 7,
   "source": [
    "frases = []\r\n",
    "frases.append(\"O filme foi ótimo, adorei muito.\")\r\n",
    "frases.append(\"Não gostei, muito confuso e os atores estavam ruins.\")\r\n",
    "frases.append(\"Foi excelente, mas no começo não achei legal.\")\r\n",
    "frases.append(\"Poderia ser melhor.\")"
   ],
   "outputs": [],
   "metadata": {
    "collapsed": true
   }
  },
  {
   "cell_type": "code",
   "execution_count": 9,
   "source": [
    "for frase in frases:\n",
    "    score = 0\n",
    "    for padrao in padroes_positivos:\n",
    "        if re.search(padrao, frase):\n",
    "            score += 1\n",
    "    for padrao in padroes_negativos:\n",
    "        if re.search(padrao, frase):\n",
    "            score -= 1\n",
    "    print(\"%s: análise sentimento %s\"%(frase, score))"
   ],
   "outputs": [
    {
     "output_type": "stream",
     "name": "stdout",
     "text": [
      "O filme foi ótimo, adorei muito.: análise sentimento 2\n",
      "Não gostei, muito confuso e os atores estavam ruins.: análise sentimento -1\n",
      "Foi excelente, mas no começo não achei legal.: análise sentimento 1\n",
      "Poderia ser melhor.: análise sentimento 1\n"
     ]
    }
   ],
   "metadata": {}
  },
  {
   "cell_type": "code",
   "execution_count": null,
   "source": [],
   "outputs": [],
   "metadata": {
    "collapsed": true
   }
  }
 ],
 "metadata": {
  "kernelspec": {
   "display_name": "Python 3",
   "language": "python",
   "name": "python3"
  },
  "language_info": {
   "codemirror_mode": {
    "name": "ipython",
    "version": 3
   },
   "file_extension": ".py",
   "mimetype": "text/x-python",
   "name": "python",
   "nbconvert_exporter": "python",
   "pygments_lexer": "ipython3",
   "version": "3.6.2"
  }
 },
 "nbformat": 4,
 "nbformat_minor": 2
}