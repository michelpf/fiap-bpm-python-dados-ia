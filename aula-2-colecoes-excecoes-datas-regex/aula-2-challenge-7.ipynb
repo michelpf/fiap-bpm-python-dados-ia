{
 "cells": [
  {
   "cell_type": "markdown",
   "metadata": {},
   "source": [
    "# Aula 3 \n",
    "## Challenge 7\n",
    "___"
   ]
  },
  {
   "attachments": {},
   "cell_type": "markdown",
   "metadata": {},
   "source": [
    "Crie um estimador de sentimentos baseado em conjunto de palavras positivas e negativas para as frases abaixo. Utilize regex para validar sua presença.\n",
    "\n",
    "* “O filme foi ótimo.”\n",
    "* “Não gostei, muito confuso.”\n",
    "* “Foi excelente, mas no começo não achei legal.”\n",
    "* “Poderia ser melhor.”\n",
    "\n",
    "Hint: para cada palavra positiva some 1, para cada palavra negativa subtraia 1."
   ]
  },
  {
   "cell_type": "code",
   "execution_count": 6,
   "metadata": {},
   "outputs": [],
   "source": [
    "import re\n",
    "\n",
    "padroes_positivos = []\n",
    "padroes_positivos.append(\"ótimo\")\n",
    "padroes_positivos.append(\"gostei\")\n",
    "padroes_positivos.append(\"excelente\")\n",
    "padroes_positivos.append(\"legal\")\n",
    "padroes_positivos.append(\"melhor\")\n",
    "padroes_positivos.append(\"adorei\")\n",
    "\n",
    "padroes_negativos = []\n",
    "padroes_negativos.append(\"não\")\n",
    "padroes_negativos.append(\"confuso\")\n",
    "padroes_negativos.append(\"ruins\")"
   ]
  },
  {
   "cell_type": "code",
   "execution_count": 7,
   "metadata": {
    "collapsed": true
   },
   "outputs": [],
   "source": [
    "frases = []\n",
    "frases.append(\"O filme foi ótimo, adorei muito.\")\n",
    "frases.append(\"Não gostei, muito confuso e os atores estavam ruins.\")\n",
    "frases.append(\"Foi excelente, mas no começo não achei legal.\")\n",
    "frases.append(\"Poderia ser melhor.\")"
   ]
  },
  {
   "cell_type": "code",
   "execution_count": 9,
   "metadata": {},
   "outputs": [
    {
     "name": "stdout",
     "output_type": "stream",
     "text": [
      "O filme foi ótimo, adorei muito.: análise sentimento 2\n",
      "Não gostei, muito confuso e os atores estavam ruins.: análise sentimento -1\n",
      "Foi excelente, mas no começo não achei legal.: análise sentimento 1\n",
      "Poderia ser melhor.: análise sentimento 1\n"
     ]
    }
   ],
   "source": [
    "for frase in frases:\n",
    "    score = 0\n",
    "    for padrao in padroes_positivos:\n",
    "        if re.search(padrao, frase):\n",
    "            score += 1\n",
    "    for padrao in padroes_negativos:\n",
    "        if re.search(padrao, frase):\n",
    "            score -= 1\n",
    "    print(\"%s: análise sentimento %s\"%(frase, score))"
   ]
  },
  {
   "cell_type": "code",
   "execution_count": null,
   "metadata": {
    "collapsed": true
   },
   "outputs": [],
   "source": []
  }
 ],
 "metadata": {
  "kernelspec": {
   "display_name": "Python 3",
   "language": "python",
   "name": "python3"
  },
  "language_info": {
   "codemirror_mode": {
    "name": "ipython",
    "version": 3
   },
   "file_extension": ".py",
   "mimetype": "text/x-python",
   "name": "python",
   "nbconvert_exporter": "python",
   "pygments_lexer": "ipython3",
   "version": "3.6.2"
  }
 },
 "nbformat": 4,
 "nbformat_minor": 2
}
