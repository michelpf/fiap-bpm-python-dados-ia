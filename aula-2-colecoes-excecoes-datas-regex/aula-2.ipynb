{
 "cells": [
  {
   "cell_type": "markdown",
   "source": [
    "# Aula 2: Coleções e Funções"
   ],
   "metadata": {}
  },
  {
   "cell_type": "markdown",
   "source": [
    "## Lambda Expressions\n",
    "São expressões de uma única linha que tem o objetivo de substituirem funções completas que são criadas apenas para uma mesma finalidade. As expressões lambda também são conhecidas por serem funções anônimas."
   ],
   "metadata": {
    "collapsed": true
   }
  },
  {
   "cell_type": "code",
   "execution_count": 1,
   "source": [
    "def quadrado(numero):\r\n",
    "    resultado = numero**2\r\n",
    "    return resultado"
   ],
   "outputs": [],
   "metadata": {
    "collapsed": true
   }
  },
  {
   "cell_type": "code",
   "execution_count": 2,
   "source": [
    "quadrado(5)"
   ],
   "outputs": [
    {
     "output_type": "execute_result",
     "data": {
      "text/plain": [
       "25"
      ]
     },
     "metadata": {},
     "execution_count": 2
    }
   ],
   "metadata": {}
  },
  {
   "cell_type": "code",
   "execution_count": 3,
   "source": [
    "def quadrado(numero):\r\n",
    "    return numero**2"
   ],
   "outputs": [],
   "metadata": {
    "collapsed": true
   }
  },
  {
   "cell_type": "code",
   "execution_count": 4,
   "source": [
    "quadrado(4)"
   ],
   "outputs": [
    {
     "output_type": "execute_result",
     "data": {
      "text/plain": [
       "16"
      ]
     },
     "metadata": {},
     "execution_count": 4
    }
   ],
   "metadata": {}
  },
  {
   "cell_type": "code",
   "execution_count": 5,
   "source": [
    "def quadrado(numero): return numero**2"
   ],
   "outputs": [],
   "metadata": {
    "collapsed": true
   }
  },
  {
   "cell_type": "code",
   "execution_count": 6,
   "source": [
    "quadrado(3)"
   ],
   "outputs": [
    {
     "output_type": "execute_result",
     "data": {
      "text/plain": [
       "9"
      ]
     },
     "metadata": {},
     "execution_count": 6
    }
   ],
   "metadata": {}
  },
  {
   "cell_type": "code",
   "execution_count": 7,
   "source": [
    "quadrado = lambda numero: numero**2"
   ],
   "outputs": [],
   "metadata": {
    "collapsed": true
   }
  },
  {
   "cell_type": "code",
   "execution_count": 8,
   "source": [
    "quadrado(2)"
   ],
   "outputs": [
    {
     "output_type": "execute_result",
     "data": {
      "text/plain": [
       "4"
      ]
     },
     "metadata": {},
     "execution_count": 8
    }
   ],
   "metadata": {}
  },
  {
   "cell_type": "code",
   "execution_count": 9,
   "source": [
    "is_even = lambda num: num%2 == 0"
   ],
   "outputs": [],
   "metadata": {
    "collapsed": true
   }
  },
  {
   "cell_type": "code",
   "execution_count": 10,
   "source": [
    "is_even(5)"
   ],
   "outputs": [
    {
     "output_type": "execute_result",
     "data": {
      "text/plain": [
       "False"
      ]
     },
     "metadata": {},
     "execution_count": 10
    }
   ],
   "metadata": {}
  },
  {
   "cell_type": "code",
   "execution_count": 11,
   "source": [
    "is_even(0)"
   ],
   "outputs": [
    {
     "output_type": "execute_result",
     "data": {
      "text/plain": [
       "True"
      ]
     },
     "metadata": {},
     "execution_count": 11
    }
   ],
   "metadata": {}
  },
  {
   "cell_type": "code",
   "execution_count": 12,
   "source": [
    "is_even(2)"
   ],
   "outputs": [
    {
     "output_type": "execute_result",
     "data": {
      "text/plain": [
       "True"
      ]
     },
     "metadata": {},
     "execution_count": 12
    }
   ],
   "metadata": {}
  },
  {
   "cell_type": "markdown",
   "source": [
    "Utilizando dois operadores"
   ],
   "metadata": {}
  },
  {
   "cell_type": "code",
   "execution_count": 17,
   "source": [
    "def soma(num1, num2):\r\n",
    "    return num1 + num2"
   ],
   "outputs": [],
   "metadata": {
    "collapsed": true
   }
  },
  {
   "cell_type": "code",
   "execution_count": 18,
   "source": [
    "soma(1,2)"
   ],
   "outputs": [
    {
     "output_type": "execute_result",
     "data": {
      "text/plain": [
       "3"
      ]
     },
     "metadata": {},
     "execution_count": 18
    }
   ],
   "metadata": {}
  },
  {
   "cell_type": "code",
   "execution_count": 19,
   "source": [
    "soma = lambda num1, num2: num1 + num2"
   ],
   "outputs": [],
   "metadata": {
    "collapsed": true
   }
  },
  {
   "cell_type": "code",
   "execution_count": 20,
   "source": [
    "soma(3,1)"
   ],
   "outputs": [
    {
     "output_type": "execute_result",
     "data": {
      "text/plain": [
       "4"
      ]
     },
     "metadata": {},
     "execution_count": 20
    }
   ],
   "metadata": {}
  },
  {
   "cell_type": "code",
   "execution_count": 21,
   "source": [
    "def multiplicacao(num1, num2, num3):\r\n",
    "    return num1*num2*num3"
   ],
   "outputs": [],
   "metadata": {
    "collapsed": true
   }
  },
  {
   "cell_type": "code",
   "execution_count": 22,
   "source": [
    "multiplicacao(1,2,3)"
   ],
   "outputs": [
    {
     "output_type": "execute_result",
     "data": {
      "text/plain": [
       "6"
      ]
     },
     "metadata": {},
     "execution_count": 22
    }
   ],
   "metadata": {}
  },
  {
   "cell_type": "code",
   "execution_count": 23,
   "source": [
    "multiplicacao = lambda x1,x2,x3: x1*x2*x3"
   ],
   "outputs": [],
   "metadata": {
    "collapsed": true
   }
  },
  {
   "cell_type": "code",
   "execution_count": 24,
   "source": [
    "multiplicacao(1,2,3)"
   ],
   "outputs": [
    {
     "output_type": "execute_result",
     "data": {
      "text/plain": [
       "6"
      ]
     },
     "metadata": {},
     "execution_count": 24
    }
   ],
   "metadata": {}
  },
  {
   "cell_type": "code",
   "execution_count": 25,
   "source": [
    "string_len = lambda s: len(s)"
   ],
   "outputs": [],
   "metadata": {
    "collapsed": true
   }
  },
  {
   "cell_type": "code",
   "execution_count": 26,
   "source": [
    "string_len(\"Hoje o dia de aula foi bem interessante\")"
   ],
   "outputs": [
    {
     "output_type": "execute_result",
     "data": {
      "text/plain": [
       "39"
      ]
     },
     "metadata": {},
     "execution_count": 26
    }
   ],
   "metadata": {}
  },
  {
   "cell_type": "markdown",
   "source": [
    "## Built-In Functions (Collections)\r\n",
    "Funções built-in indicadas para uso em coleções para tratamento similar a tabelas."
   ],
   "metadata": {}
  },
  {
   "cell_type": "markdown",
   "source": [
    "### Counter\n",
    "Conta o número de ocorrências de objetos hash, ou objetos únicos em uma lista."
   ],
   "metadata": {}
  },
  {
   "cell_type": "code",
   "execution_count": 58,
   "source": [
    "from collections import Counter\r\n",
    "\r\n",
    "lista = [1,1,1,1,2,2,22,2,2,2,4,5,65,3,3,3]\r\n",
    "Counter(lista)"
   ],
   "outputs": [
    {
     "output_type": "execute_result",
     "data": {
      "text/plain": [
       "Counter({1: 4, 2: 5, 3: 3, 4: 1, 5: 1, 22: 1, 65: 1})"
      ]
     },
     "metadata": {},
     "execution_count": 58
    }
   ],
   "metadata": {}
  },
  {
   "cell_type": "code",
   "execution_count": 63,
   "source": [
    "lista = \"kljlkqjqj321;k3;kkdla\"\r\n",
    "Counter(lista)"
   ],
   "outputs": [
    {
     "output_type": "execute_result",
     "data": {
      "text/plain": [
       "Counter({'1': 1,\n",
       "         '2': 1,\n",
       "         '3': 2,\n",
       "         ';': 2,\n",
       "         'a': 1,\n",
       "         'd': 1,\n",
       "         'j': 3,\n",
       "         'k': 5,\n",
       "         'l': 3,\n",
       "         'q': 2})"
      ]
     },
     "metadata": {},
     "execution_count": 63
    }
   ],
   "metadata": {}
  },
  {
   "cell_type": "markdown",
   "source": [
    "Contagem do número de palavras de uma frase"
   ],
   "metadata": {}
  },
  {
   "cell_type": "code",
   "execution_count": 67,
   "source": [
    "frase = \"Os trabalhadores fizeram um reparo de emergência naquele poço de água do prédio de trás.\"\r\n",
    "palavras = frase.split(\" \")\r\n",
    "contador = Counter(palavras)\r\n",
    "contador"
   ],
   "outputs": [
    {
     "output_type": "execute_result",
     "data": {
      "text/plain": [
       "Counter({'Os': 1,\n",
       "         'de': 3,\n",
       "         'do': 1,\n",
       "         'emergência': 1,\n",
       "         'fizeram': 1,\n",
       "         'naquele': 1,\n",
       "         'poço': 1,\n",
       "         'prédio': 1,\n",
       "         'reparo': 1,\n",
       "         'trabalhadores': 1,\n",
       "         'trás.': 1,\n",
       "         'um': 1,\n",
       "         'água': 1})"
      ]
     },
     "metadata": {},
     "execution_count": 67
    }
   ],
   "metadata": {}
  },
  {
   "cell_type": "code",
   "execution_count": 68,
   "source": [
    "contador.most_common(3)"
   ],
   "outputs": [
    {
     "output_type": "execute_result",
     "data": {
      "text/plain": [
       "[('de', 3), ('Os', 1), ('trabalhadores', 1)]"
      ]
     },
     "metadata": {},
     "execution_count": 68
    }
   ],
   "metadata": {}
  },
  {
   "cell_type": "code",
   "execution_count": 70,
   "source": [
    "sum(contador.values())"
   ],
   "outputs": [
    {
     "output_type": "execute_result",
     "data": {
      "text/plain": [
       "15"
      ]
     },
     "metadata": {},
     "execution_count": 70
    }
   ],
   "metadata": {}
  },
  {
   "cell_type": "code",
   "execution_count": 73,
   "source": [
    "lista = [1,1,1,2,3,4,4]\r\n",
    "set(lista)"
   ],
   "outputs": [
    {
     "output_type": "execute_result",
     "data": {
      "text/plain": [
       "{1, 2, 3, 4}"
      ]
     },
     "metadata": {},
     "execution_count": 73
    }
   ],
   "metadata": {}
  },
  {
   "cell_type": "markdown",
   "source": [
    "### Default Dicitionary"
   ],
   "metadata": {}
  },
  {
   "cell_type": "code",
   "execution_count": 76,
   "source": [
    "d = {}\r\n",
    "d[\"chave\"]"
   ],
   "outputs": [
    {
     "output_type": "error",
     "ename": "KeyError",
     "evalue": "'chave'",
     "traceback": [
      "\u001b[0;31m---------------------------------------------------------------------------\u001b[0m",
      "\u001b[0;31mKeyError\u001b[0m                                  Traceback (most recent call last)",
      "\u001b[0;32m<ipython-input-76-360ce50c0ec0>\u001b[0m in \u001b[0;36m<module>\u001b[0;34m()\u001b[0m\n\u001b[1;32m      1\u001b[0m \u001b[0md\u001b[0m \u001b[0;34m=\u001b[0m \u001b[0;34m{\u001b[0m\u001b[0;34m}\u001b[0m\u001b[0;34m\u001b[0m\u001b[0m\n\u001b[0;32m----> 2\u001b[0;31m \u001b[0md\u001b[0m\u001b[0;34m[\u001b[0m\u001b[0;34m\"chave\"\u001b[0m\u001b[0;34m]\u001b[0m\u001b[0;34m\u001b[0m\u001b[0m\n\u001b[0m",
      "\u001b[0;31mKeyError\u001b[0m: 'chave'"
     ]
    }
   ],
   "metadata": {}
  },
  {
   "cell_type": "code",
   "execution_count": 77,
   "source": [
    "from collections import defaultdict"
   ],
   "outputs": [],
   "metadata": {
    "collapsed": true
   }
  },
  {
   "cell_type": "code",
   "execution_count": 78,
   "source": [
    "dd = defaultdict(object)"
   ],
   "outputs": [],
   "metadata": {
    "collapsed": true
   }
  },
  {
   "cell_type": "code",
   "execution_count": 79,
   "source": [
    "dd[\"chave\"]"
   ],
   "outputs": [
    {
     "output_type": "execute_result",
     "data": {
      "text/plain": [
       "<object at 0x1038bdb30>"
      ]
     },
     "metadata": {},
     "execution_count": 79
    }
   ],
   "metadata": {}
  },
  {
   "cell_type": "code",
   "execution_count": 80,
   "source": [
    "for item in dd:\r\n",
    "    print(item)"
   ],
   "outputs": [
    {
     "output_type": "stream",
     "name": "stdout",
     "text": [
      "chave\n"
     ]
    }
   ],
   "metadata": {}
  },
  {
   "cell_type": "code",
   "execution_count": 81,
   "source": [
    "dd_2 = defaultdict(lambda : 0)"
   ],
   "outputs": [],
   "metadata": {
    "collapsed": true
   }
  },
  {
   "cell_type": "code",
   "execution_count": 82,
   "source": [
    "dd_2[\"chave\"]"
   ],
   "outputs": [
    {
     "output_type": "execute_result",
     "data": {
      "text/plain": [
       "0"
      ]
     },
     "metadata": {},
     "execution_count": 82
    }
   ],
   "metadata": {}
  },
  {
   "cell_type": "code",
   "execution_count": 84,
   "source": [
    "for item in dd_2:\r\n",
    "    print(item)\r\n",
    "    print(dd_2[item])"
   ],
   "outputs": [
    {
     "output_type": "stream",
     "name": "stdout",
     "text": [
      "chave\n",
      "0\n"
     ]
    }
   ],
   "metadata": {}
  },
  {
   "cell_type": "markdown",
   "source": [
    "### Named Tuples\n",
    "Forma simplificada de se criar classes."
   ],
   "metadata": {}
  },
  {
   "cell_type": "code",
   "execution_count": 1,
   "source": [
    "tupla = (1, 2, 3)"
   ],
   "outputs": [],
   "metadata": {
    "collapsed": true
   }
  },
  {
   "cell_type": "code",
   "execution_count": 3,
   "source": [
    "tupla[0]"
   ],
   "outputs": [
    {
     "output_type": "execute_result",
     "data": {
      "text/plain": [
       "1"
      ]
     },
     "metadata": {},
     "execution_count": 3
    }
   ],
   "metadata": {}
  },
  {
   "cell_type": "code",
   "execution_count": 4,
   "source": [
    "tupla[0] = 2"
   ],
   "outputs": [
    {
     "output_type": "error",
     "ename": "TypeError",
     "evalue": "'tuple' object does not support item assignment",
     "traceback": [
      "\u001b[0;31m---------------------------------------------------------------------------\u001b[0m",
      "\u001b[0;31mTypeError\u001b[0m                                 Traceback (most recent call last)",
      "\u001b[0;32m<ipython-input-4-b67976cd99bc>\u001b[0m in \u001b[0;36m<module>\u001b[0;34m()\u001b[0m\n\u001b[0;32m----> 1\u001b[0;31m \u001b[0mtupla\u001b[0m\u001b[0;34m[\u001b[0m\u001b[0;36m0\u001b[0m\u001b[0;34m]\u001b[0m \u001b[0;34m=\u001b[0m \u001b[0;36m2\u001b[0m\u001b[0;34m\u001b[0m\u001b[0m\n\u001b[0m",
      "\u001b[0;31mTypeError\u001b[0m: 'tuple' object does not support item assignment"
     ]
    }
   ],
   "metadata": {}
  },
  {
   "cell_type": "code",
   "execution_count": 6,
   "source": [
    "from collections import namedtuple\r\n",
    "\r\n",
    "Cachorro = namedtuple(\"Cachorro\", \"nome raca peso cor\")"
   ],
   "outputs": [],
   "metadata": {
    "collapsed": true
   }
  },
  {
   "cell_type": "code",
   "execution_count": 7,
   "source": [
    "cachorro_1 = Cachorro(nome=\"Totó\", raca=\"Pastor Alemão\", peso=80, cor=\"Azul\")"
   ],
   "outputs": [],
   "metadata": {
    "collapsed": true
   }
  },
  {
   "cell_type": "code",
   "execution_count": 8,
   "source": [
    "cachorro_1"
   ],
   "outputs": [
    {
     "output_type": "execute_result",
     "data": {
      "text/plain": [
       "Cachorro(nome='Totó', raca='Pastor Alemão', peso=80, cor='Azul')"
      ]
     },
     "metadata": {},
     "execution_count": 8
    }
   ],
   "metadata": {}
  },
  {
   "cell_type": "code",
   "execution_count": 9,
   "source": [
    "cachorro_1.raca=\"Vira Lata\""
   ],
   "outputs": [
    {
     "output_type": "error",
     "ename": "AttributeError",
     "evalue": "can't set attribute",
     "traceback": [
      "\u001b[0;31m---------------------------------------------------------------------------\u001b[0m",
      "\u001b[0;31mAttributeError\u001b[0m                            Traceback (most recent call last)",
      "\u001b[0;32m<ipython-input-9-2c067fd7472d>\u001b[0m in \u001b[0;36m<module>\u001b[0;34m()\u001b[0m\n\u001b[0;32m----> 1\u001b[0;31m \u001b[0mcachorro_1\u001b[0m\u001b[0;34m.\u001b[0m\u001b[0mraca\u001b[0m\u001b[0;34m=\u001b[0m\u001b[0;34m\"Vira Lata\"\u001b[0m\u001b[0;34m\u001b[0m\u001b[0m\n\u001b[0m",
      "\u001b[0;31mAttributeError\u001b[0m: can't set attribute"
     ]
    }
   ],
   "metadata": {}
  },
  {
   "cell_type": "code",
   "execution_count": null,
   "source": [],
   "outputs": [],
   "metadata": {
    "collapsed": true
   }
  },
  {
   "cell_type": "markdown",
   "source": [
    "### Map"
   ],
   "metadata": {}
  },
  {
   "cell_type": "code",
   "execution_count": 1,
   "source": [
    "def kph_to_mph(kmh):\r\n",
    "    mph =  0.6214 * kmh\r\n",
    "    return mph"
   ],
   "outputs": [],
   "metadata": {
    "collapsed": true
   }
  },
  {
   "cell_type": "code",
   "execution_count": 2,
   "source": [
    "def mph_to_kph(mph):\r\n",
    "    kmh =  mph / 0.6214\r\n",
    "    return kmh"
   ],
   "outputs": [],
   "metadata": {
    "collapsed": true
   }
  },
  {
   "cell_type": "code",
   "execution_count": 3,
   "source": [
    "kph_to_mph(88)"
   ],
   "outputs": [
    {
     "output_type": "execute_result",
     "data": {
      "text/plain": [
       "54.6832"
      ]
     },
     "metadata": {},
     "execution_count": 3
    }
   ],
   "metadata": {}
  },
  {
   "cell_type": "code",
   "execution_count": 4,
   "source": [
    "mph_to_kph(54.6832)"
   ],
   "outputs": [
    {
     "output_type": "execute_result",
     "data": {
      "text/plain": [
       "88.0"
      ]
     },
     "metadata": {},
     "execution_count": 4
    }
   ],
   "metadata": {}
  },
  {
   "cell_type": "code",
   "execution_count": 5,
   "source": [
    "velocidades_kph = [100, 124, 200, 150, 178, 182]\r\n",
    "velocidades_mph = list(map(kph_to_mph, velocidades_kph))"
   ],
   "outputs": [],
   "metadata": {
    "collapsed": true
   }
  },
  {
   "cell_type": "code",
   "execution_count": 6,
   "source": [
    "velocidades_mph"
   ],
   "outputs": [
    {
     "output_type": "execute_result",
     "data": {
      "text/plain": [
       "[62.13999999999999,\n",
       " 77.05359999999999,\n",
       " 124.27999999999999,\n",
       " 93.21,\n",
       " 110.60919999999999,\n",
       " 113.09479999999999]"
      ]
     },
     "metadata": {},
     "execution_count": 6
    }
   ],
   "metadata": {}
  },
  {
   "cell_type": "markdown",
   "source": [
    "Utilizando uma expressão _lambda_"
   ],
   "metadata": {}
  },
  {
   "cell_type": "code",
   "execution_count": 7,
   "source": [
    "velocidades_mph = list(map(lambda v: (0.6214)*v, velocidades_kph))"
   ],
   "outputs": [],
   "metadata": {
    "collapsed": true
   }
  },
  {
   "cell_type": "code",
   "execution_count": 8,
   "source": [
    "velocidades_mph"
   ],
   "outputs": [
    {
     "output_type": "execute_result",
     "data": {
      "text/plain": [
       "[62.13999999999999,\n",
       " 77.05359999999999,\n",
       " 124.27999999999999,\n",
       " 93.21,\n",
       " 110.60919999999999,\n",
       " 113.09479999999999]"
      ]
     },
     "metadata": {},
     "execution_count": 8
    }
   ],
   "metadata": {}
  },
  {
   "cell_type": "code",
   "execution_count": 9,
   "source": [
    "lista_1 = [1, 2, 3, 4]\r\n",
    "lista_2 = [1, 2, 3, 4]\r\n",
    "lista_3 = [1, 2, 3, 4]\r\n",
    "\r\n",
    "lista_soma = list(map(lambda a, b, c: (a + b + c), lista_1, lista_2, lista_3))\r\n",
    "lista_soma"
   ],
   "outputs": [
    {
     "output_type": "execute_result",
     "data": {
      "text/plain": [
       "[3, 6, 9, 12]"
      ]
     },
     "metadata": {},
     "execution_count": 9
    }
   ],
   "metadata": {}
  },
  {
   "cell_type": "markdown",
   "source": [
    "### Reduce"
   ],
   "metadata": {}
  },
  {
   "cell_type": "code",
   "execution_count": 10,
   "source": [
    "import functools\r\n",
    "\r\n",
    "lista = [1, 2, 3, 4, 5, 6]\r\n",
    "lista_soma = functools.reduce(lambda x, y: (x + y), lista)\r\n",
    "lista_soma"
   ],
   "outputs": [
    {
     "output_type": "execute_result",
     "data": {
      "text/plain": [
       "21"
      ]
     },
     "metadata": {},
     "execution_count": 10
    }
   ],
   "metadata": {}
  },
  {
   "cell_type": "code",
   "execution_count": 11,
   "source": [
    "lista = range(100)\r\n",
    "max_value = functools.reduce(lambda x, y: x if x > y else y, lista)\r\n",
    "max_value"
   ],
   "outputs": [
    {
     "output_type": "execute_result",
     "data": {
      "text/plain": [
       "99"
      ]
     },
     "metadata": {},
     "execution_count": 11
    }
   ],
   "metadata": {}
  },
  {
   "cell_type": "markdown",
   "source": [
    "### Filter"
   ],
   "metadata": {}
  },
  {
   "cell_type": "code",
   "execution_count": 12,
   "source": [
    "def is_par(num):\r\n",
    "    resto = num % 2\r\n",
    "    if resto == 0:\r\n",
    "        return True\r\n",
    "    else:\r\n",
    "        return False"
   ],
   "outputs": [],
   "metadata": {
    "collapsed": true
   }
  },
  {
   "cell_type": "code",
   "execution_count": 13,
   "source": [
    "lista_num = range(10)\r\n",
    "lista_par = list(filter(is_par, lista_num))\r\n",
    "lista_par"
   ],
   "outputs": [
    {
     "output_type": "execute_result",
     "data": {
      "text/plain": [
       "[0, 2, 4, 6, 8]"
      ]
     },
     "metadata": {},
     "execution_count": 13
    }
   ],
   "metadata": {}
  },
  {
   "cell_type": "code",
   "execution_count": 14,
   "source": [
    "lista_impar = list(filter(lambda x: x%2 !=0, lista_num))\r\n",
    "lista_impar"
   ],
   "outputs": [
    {
     "output_type": "execute_result",
     "data": {
      "text/plain": [
       "[1, 3, 5, 7, 9]"
      ]
     },
     "metadata": {},
     "execution_count": 14
    }
   ],
   "metadata": {}
  },
  {
   "cell_type": "markdown",
   "source": [
    "### Zip"
   ],
   "metadata": {}
  },
  {
   "cell_type": "code",
   "execution_count": 15,
   "source": [
    "lista_1 = [1, 2, 3]\r\n",
    "lista_2 = [4, 5, 6]\r\n",
    "\r\n",
    "list(zip(lista_1, lista_2))"
   ],
   "outputs": [
    {
     "output_type": "execute_result",
     "data": {
      "text/plain": [
       "[(1, 4), (2, 5), (3, 6)]"
      ]
     },
     "metadata": {},
     "execution_count": 15
    }
   ],
   "metadata": {}
  },
  {
   "cell_type": "code",
   "execution_count": 22,
   "source": [
    "maior_numero_lista = map(lambda par: max(par), list(zip(lista_1, lista_2)))\r\n",
    "list(maior_numero_lista)"
   ],
   "outputs": [
    {
     "output_type": "execute_result",
     "data": {
      "text/plain": [
       "[4, 5, 6]"
      ]
     },
     "metadata": {},
     "execution_count": 22
    }
   ],
   "metadata": {}
  },
  {
   "cell_type": "markdown",
   "source": [
    "### Enumerate"
   ],
   "metadata": {}
  },
  {
   "cell_type": "code",
   "execution_count": 33,
   "source": [
    "lista = range(1, 6)\r\n",
    "\r\n",
    "for item in lista:\r\n",
    "    print(item)"
   ],
   "outputs": [
    {
     "output_type": "stream",
     "name": "stdout",
     "text": [
      "1\n",
      "2\n",
      "3\n",
      "4\n",
      "5\n"
     ]
    }
   ],
   "metadata": {}
  },
  {
   "cell_type": "code",
   "execution_count": 34,
   "source": [
    "for indice, item in enumerate(lista):\r\n",
    "    print(\"%s - %s\" %(indice, item))"
   ],
   "outputs": [
    {
     "output_type": "stream",
     "name": "stdout",
     "text": [
      "0 - 1\n",
      "1 - 2\n",
      "2 - 3\n",
      "3 - 4\n",
      "4 - 5\n"
     ]
    }
   ],
   "metadata": {}
  },
  {
   "cell_type": "markdown",
   "source": [
    "### All e Any"
   ],
   "metadata": {}
  },
  {
   "cell_type": "code",
   "execution_count": 39,
   "source": [
    "lista = [True, True, True, True]\r\n",
    "all(lista)"
   ],
   "outputs": [
    {
     "output_type": "execute_result",
     "data": {
      "text/plain": [
       "True"
      ]
     },
     "metadata": {},
     "execution_count": 39
    }
   ],
   "metadata": {}
  },
  {
   "cell_type": "code",
   "execution_count": 40,
   "source": [
    "lista_alt_1 = [True, False, True, True]\r\n",
    "any(lista_alt_1)"
   ],
   "outputs": [
    {
     "output_type": "execute_result",
     "data": {
      "text/plain": [
       "True"
      ]
     },
     "metadata": {},
     "execution_count": 40
    }
   ],
   "metadata": {}
  },
  {
   "cell_type": "code",
   "execution_count": 41,
   "source": [
    "lista_alt_2 = [False, False, False, False]\r\n",
    "any(lista_alt_2)"
   ],
   "outputs": [
    {
     "output_type": "execute_result",
     "data": {
      "text/plain": [
       "False"
      ]
     },
     "metadata": {},
     "execution_count": 41
    }
   ],
   "metadata": {}
  },
  {
   "cell_type": "markdown",
   "source": [
    "### Set e List"
   ],
   "metadata": {}
  },
  {
   "cell_type": "code",
   "execution_count": 10,
   "source": [
    "palavra = \"Paralelepípedo\""
   ],
   "outputs": [],
   "metadata": {
    "collapsed": true
   }
  },
  {
   "cell_type": "code",
   "execution_count": 12,
   "source": [
    "list(palavra)"
   ],
   "outputs": [
    {
     "output_type": "execute_result",
     "data": {
      "text/plain": [
       "['P', 'a', 'r', 'a', 'l', 'e', 'l', 'e', 'p', 'í', 'p', 'e', 'd', 'o']"
      ]
     },
     "metadata": {},
     "execution_count": 12
    }
   ],
   "metadata": {}
  },
  {
   "cell_type": "code",
   "execution_count": 13,
   "source": [
    "set(palavra)"
   ],
   "outputs": [
    {
     "output_type": "execute_result",
     "data": {
      "text/plain": [
       "{'P', 'a', 'd', 'e', 'l', 'o', 'p', 'r', 'í'}"
      ]
     },
     "metadata": {},
     "execution_count": 13
    }
   ],
   "metadata": {}
  },
  {
   "cell_type": "markdown",
   "source": [
    "## Geradores e Iteradores\n",
    "Geradores são estruturas parecidas com funções, mas se diferem por não ter que retornar um valor final definitivo, mas parcelas desta resultado sem precisar armazenar todo o seu valor.\n",
    "Iteradores são interfaces que permitem navegar seu conteúdo sem precisar utilizar um laço."
   ],
   "metadata": {}
  },
  {
   "cell_type": "code",
   "execution_count": 31,
   "source": [
    "def gerar_quadrados(num):\r\n",
    "    for n in range(num):\r\n",
    "        yield n**2"
   ],
   "outputs": [],
   "metadata": {
    "collapsed": true
   }
  },
  {
   "cell_type": "code",
   "execution_count": 34,
   "source": [
    "for x in gerar_quadrados(5):\r\n",
    "    print(x)"
   ],
   "outputs": [
    {
     "output_type": "stream",
     "name": "stdout",
     "text": [
      "0\n",
      "1\n",
      "4\n",
      "9\n",
      "16\n"
     ]
    }
   ],
   "metadata": {}
  },
  {
   "cell_type": "code",
   "execution_count": 37,
   "source": [
    "g = gerar_quadrados(3)"
   ],
   "outputs": [],
   "metadata": {
    "collapsed": true
   }
  },
  {
   "cell_type": "code",
   "execution_count": 38,
   "source": [
    "next(g)"
   ],
   "outputs": [
    {
     "output_type": "execute_result",
     "data": {
      "text/plain": [
       "0"
      ]
     },
     "metadata": {},
     "execution_count": 38
    }
   ],
   "metadata": {}
  },
  {
   "cell_type": "code",
   "execution_count": 39,
   "source": [
    "next(g)"
   ],
   "outputs": [
    {
     "output_type": "execute_result",
     "data": {
      "text/plain": [
       "1"
      ]
     },
     "metadata": {},
     "execution_count": 39
    }
   ],
   "metadata": {}
  },
  {
   "cell_type": "code",
   "execution_count": 40,
   "source": [
    "next(g)"
   ],
   "outputs": [
    {
     "output_type": "execute_result",
     "data": {
      "text/plain": [
       "4"
      ]
     },
     "metadata": {},
     "execution_count": 40
    }
   ],
   "metadata": {}
  },
  {
   "cell_type": "code",
   "execution_count": 43,
   "source": [
    "x = range(10)"
   ],
   "outputs": [],
   "metadata": {
    "collapsed": true
   }
  },
  {
   "cell_type": "code",
   "execution_count": 45,
   "source": [
    "def seq_fibonacci(max_num):\r\n",
    "    a, b = 1, 1\r\n",
    "    for i in range(max_num):\r\n",
    "        yield a\r\n",
    "        a, b = b, a+b"
   ],
   "outputs": [],
   "metadata": {
    "collapsed": true
   }
  },
  {
   "cell_type": "code",
   "execution_count": 46,
   "source": [
    "for x in seq_fibonacci(5):\r\n",
    "    print(x)"
   ],
   "outputs": [
    {
     "output_type": "stream",
     "name": "stdout",
     "text": [
      "1\n",
      "1\n",
      "2\n",
      "3\n",
      "5\n"
     ]
    }
   ],
   "metadata": {}
  },
  {
   "cell_type": "markdown",
   "source": [
    "## Exceções\n",
    "Controle e fluxo de execução para situações onde pode haver erros em tempo de execução."
   ],
   "metadata": {
    "collapsed": true
   }
  },
  {
   "cell_type": "code",
   "execution_count": 1,
   "source": [
    "'a' + 10"
   ],
   "outputs": [
    {
     "output_type": "error",
     "ename": "TypeError",
     "evalue": "must be str, not int",
     "traceback": [
      "\u001b[0;31m---------------------------------------------------------------------------\u001b[0m",
      "\u001b[0;31mTypeError\u001b[0m                                 Traceback (most recent call last)",
      "\u001b[0;32m<ipython-input-1-73933538115c>\u001b[0m in \u001b[0;36m<module>\u001b[0;34m()\u001b[0m\n\u001b[0;32m----> 1\u001b[0;31m \u001b[0;34m'a'\u001b[0m \u001b[0;34m+\u001b[0m \u001b[0;36m10\u001b[0m\u001b[0;34m\u001b[0m\u001b[0m\n\u001b[0m",
      "\u001b[0;31mTypeError\u001b[0m: must be str, not int"
     ]
    }
   ],
   "metadata": {}
  },
  {
   "cell_type": "code",
   "execution_count": 2,
   "source": [
    "try:\r\n",
    "    'a' + 10\r\n",
    "except TypeError:\r\n",
    "    print(\"Erro de tipo\")\r\n",
    "else:\r\n",
    "    print(\"Outro erro\")\r\n",
    "finally:\r\n",
    "    print(\"Operação realizada\")"
   ],
   "outputs": [
    {
     "output_type": "stream",
     "name": "stdout",
     "text": [
      "Erro de tipo\n",
      "Operação realizada\n"
     ]
    }
   ],
   "metadata": {}
  },
  {
   "cell_type": "code",
   "execution_count": 7,
   "source": [
    "try:\r\n",
    "    b = 'a' + 'a'\r\n",
    "except TypeError:\r\n",
    "    print(\"Erro de tipo\")\r\n",
    "except:\r\n",
    "    print(\"Outro erro\")\r\n",
    "finally:\r\n",
    "    print(\"Operação realizada\")"
   ],
   "outputs": [
    {
     "output_type": "stream",
     "name": "stdout",
     "text": [
      "Operação realizada\n"
     ]
    }
   ],
   "metadata": {}
  },
  {
   "cell_type": "code",
   "execution_count": 10,
   "source": [
    "try:\r\n",
    "    f = open(\"arquivo.txt\", \"w\")\r\n",
    "    f.write(\"Teste\")\r\n",
    "except:\r\n",
    "    print(\"Falha ao escrever arquivo\")\r\n",
    "else:\r\n",
    "    print(\"Arquivo escrito com sucesso\")"
   ],
   "outputs": [
    {
     "output_type": "stream",
     "name": "stdout",
     "text": [
      "Arquivo escrito com sucesso\n"
     ]
    }
   ],
   "metadata": {}
  },
  {
   "cell_type": "code",
   "execution_count": 11,
   "source": [
    "try:\r\n",
    "    f = open(\"arquivo.txt\", \"r\")\r\n",
    "    f.write(\"Teste\")\r\n",
    "except:\r\n",
    "    print(\"Falha ao escrever arquivo\")\r\n",
    "else:\r\n",
    "    print(\"Arquivo escrito com sucesso\")"
   ],
   "outputs": [
    {
     "output_type": "stream",
     "name": "stdout",
     "text": [
      "Falha ao escrever arquivo\n"
     ]
    }
   ],
   "metadata": {}
  },
  {
   "cell_type": "code",
   "execution_count": 14,
   "source": [
    "def perguntar_idade():\r\n",
    "    try:\r\n",
    "        nome = int(input(\"Entre com sua idade\"))\r\n",
    "    except:\r\n",
    "        print(\"Idade em formato inválido\")\r\n",
    "    else:\r\n",
    "        print(\"Sua idade é de %s\"%(nome))"
   ],
   "outputs": [],
   "metadata": {
    "collapsed": true
   }
  },
  {
   "cell_type": "code",
   "execution_count": 16,
   "source": [
    "perguntar_idade()"
   ],
   "outputs": [
    {
     "output_type": "stream",
     "name": "stdout",
     "text": [
      "Entre com sua idadedez\n",
      "Idade em formato inválido\n"
     ]
    }
   ],
   "metadata": {}
  },
  {
   "cell_type": "code",
   "execution_count": 17,
   "source": [
    "perguntar_idade()"
   ],
   "outputs": [
    {
     "output_type": "stream",
     "name": "stdout",
     "text": [
      "Entre com sua idade10\n",
      "Sua idade é de 10\n"
     ]
    }
   ],
   "metadata": {}
  },
  {
   "cell_type": "code",
   "execution_count": 18,
   "source": [
    "def perguntar_idade():\r\n",
    "    check = True\r\n",
    "    while check:\r\n",
    "        try:\r\n",
    "            nome = int(input(\"Entre com sua idade\"))\r\n",
    "        except:\r\n",
    "            print(\"Idade em formato inválido\")\r\n",
    "        else:\r\n",
    "            print(\"Sua idade é de %s\"%(nome))\r\n",
    "            check = False"
   ],
   "outputs": [],
   "metadata": {
    "collapsed": true
   }
  },
  {
   "cell_type": "code",
   "execution_count": 19,
   "source": [
    "perguntar_idade()"
   ],
   "outputs": [
    {
     "output_type": "stream",
     "name": "stdout",
     "text": [
      "Entre com sua idadedez\n",
      "Idade em formato inválido\n",
      "Entre com sua idadeqoq\n",
      "Idade em formato inválido\n",
      "Entre com sua idade10\n",
      "Sua idade é de 10\n"
     ]
    }
   ],
   "metadata": {}
  },
  {
   "cell_type": "markdown",
   "source": [
    "## Datetime\n",
    "Trabalhando com estruturas de data e hora."
   ],
   "metadata": {}
  },
  {
   "cell_type": "code",
   "execution_count": 20,
   "source": [
    "import datetime"
   ],
   "outputs": [],
   "metadata": {
    "collapsed": true
   }
  },
  {
   "cell_type": "code",
   "execution_count": 23,
   "source": [
    "time = datetime.time(23,35,0)\r\n",
    "print(time)"
   ],
   "outputs": [
    {
     "output_type": "stream",
     "name": "stdout",
     "text": [
      "23:35:00\n"
     ]
    }
   ],
   "metadata": {}
  },
  {
   "cell_type": "markdown",
   "source": [
    "> Documentação : Shift + Tab"
   ],
   "metadata": {}
  },
  {
   "cell_type": "code",
   "execution_count": 46,
   "source": [
    "date = datetime.date(2018, 4, 25)\r\n",
    "print(date)"
   ],
   "outputs": [
    {
     "output_type": "stream",
     "name": "stdout",
     "text": [
      "2018-04-25\n"
     ]
    }
   ],
   "metadata": {}
  },
  {
   "cell_type": "code",
   "execution_count": 30,
   "source": [
    "date_time = datetime.datetime(2018, 4, 20, 23, 34)\r\n",
    "print(date_time)"
   ],
   "outputs": [
    {
     "output_type": "stream",
     "name": "stdout",
     "text": [
      "2018-04-20 23:34:00\n"
     ]
    }
   ],
   "metadata": {}
  },
  {
   "cell_type": "code",
   "execution_count": 53,
   "source": [
    "hoje = datetime.date.today()\r\n",
    "print(hoje)"
   ],
   "outputs": [
    {
     "output_type": "stream",
     "name": "stdout",
     "text": [
      "2018-04-07\n"
     ]
    }
   ],
   "metadata": {}
  },
  {
   "cell_type": "markdown",
   "source": [
    "Resoluções"
   ],
   "metadata": {}
  },
  {
   "cell_type": "code",
   "execution_count": 25,
   "source": [
    "datetime.time.min"
   ],
   "outputs": [
    {
     "output_type": "execute_result",
     "data": {
      "text/plain": [
       "datetime.time(0, 0)"
      ]
     },
     "metadata": {},
     "execution_count": 25
    }
   ],
   "metadata": {}
  },
  {
   "cell_type": "code",
   "execution_count": 26,
   "source": [
    "datetime.time.max"
   ],
   "outputs": [
    {
     "output_type": "execute_result",
     "data": {
      "text/plain": [
       "datetime.time(23, 59, 59, 999999)"
      ]
     },
     "metadata": {},
     "execution_count": 26
    }
   ],
   "metadata": {}
  },
  {
   "cell_type": "code",
   "execution_count": 27,
   "source": [
    "datetime.time.resolution"
   ],
   "outputs": [
    {
     "output_type": "execute_result",
     "data": {
      "text/plain": [
       "datetime.timedelta(0, 0, 1)"
      ]
     },
     "metadata": {},
     "execution_count": 27
    }
   ],
   "metadata": {}
  },
  {
   "cell_type": "code",
   "execution_count": 31,
   "source": [
    "datetime.date.max"
   ],
   "outputs": [
    {
     "output_type": "execute_result",
     "data": {
      "text/plain": [
       "datetime.date(9999, 12, 31)"
      ]
     },
     "metadata": {},
     "execution_count": 31
    }
   ],
   "metadata": {}
  },
  {
   "cell_type": "code",
   "execution_count": 32,
   "source": [
    "datetime.date.min"
   ],
   "outputs": [
    {
     "output_type": "execute_result",
     "data": {
      "text/plain": [
       "datetime.date(1, 1, 1)"
      ]
     },
     "metadata": {},
     "execution_count": 32
    }
   ],
   "metadata": {}
  },
  {
   "cell_type": "code",
   "execution_count": 33,
   "source": [
    "datetime.date.resolution"
   ],
   "outputs": [
    {
     "output_type": "execute_result",
     "data": {
      "text/plain": [
       "datetime.timedelta(1)"
      ]
     },
     "metadata": {},
     "execution_count": 33
    }
   ],
   "metadata": {}
  },
  {
   "cell_type": "code",
   "execution_count": 34,
   "source": [
    "datetime.datetime.min"
   ],
   "outputs": [
    {
     "output_type": "execute_result",
     "data": {
      "text/plain": [
       "datetime.datetime(1, 1, 1, 0, 0)"
      ]
     },
     "metadata": {},
     "execution_count": 34
    }
   ],
   "metadata": {}
  },
  {
   "cell_type": "code",
   "execution_count": 35,
   "source": [
    "datetime.datetime.max"
   ],
   "outputs": [
    {
     "output_type": "execute_result",
     "data": {
      "text/plain": [
       "datetime.datetime(9999, 12, 31, 23, 59, 59, 999999)"
      ]
     },
     "metadata": {},
     "execution_count": 35
    }
   ],
   "metadata": {}
  },
  {
   "cell_type": "code",
   "execution_count": 36,
   "source": [
    "datetime.datetime.resolution"
   ],
   "outputs": [
    {
     "output_type": "execute_result",
     "data": {
      "text/plain": [
       "datetime.timedelta(0, 0, 1)"
      ]
     },
     "metadata": {},
     "execution_count": 36
    }
   ],
   "metadata": {}
  },
  {
   "cell_type": "code",
   "execution_count": 40,
   "source": [
    "data1 = datetime.date(2018, 4, 25)\r\n",
    "data2 = datetime.date(2017, 3, 25)\r\n",
    "data1 - data2"
   ],
   "outputs": [
    {
     "output_type": "execute_result",
     "data": {
      "text/plain": [
       "datetime.timedelta(396)"
      ]
     },
     "metadata": {},
     "execution_count": 40
    }
   ],
   "metadata": {}
  },
  {
   "cell_type": "code",
   "execution_count": 44,
   "source": [
    "data_hora1 = datetime.datetime(2018, 4, 25, 20, 0)\r\n",
    "data_hora2 = datetime.datetime(2018, 4, 25, 15, 0)\r\n",
    "data_hora1 - data_hora2"
   ],
   "outputs": [
    {
     "output_type": "execute_result",
     "data": {
      "text/plain": [
       "datetime.timedelta(0, 18000)"
      ]
     },
     "metadata": {},
     "execution_count": 44
    }
   ],
   "metadata": {}
  },
  {
   "cell_type": "code",
   "execution_count": 45,
   "source": [
    "5 * 60 * 60"
   ],
   "outputs": [
    {
     "output_type": "execute_result",
     "data": {
      "text/plain": [
       "18000"
      ]
     },
     "metadata": {},
     "execution_count": 45
    }
   ],
   "metadata": {}
  },
  {
   "cell_type": "code",
   "execution_count": 56,
   "source": [
    "agora = datetime.datetime.now()\r\n",
    "print(agora)"
   ],
   "outputs": [
    {
     "output_type": "stream",
     "name": "stdout",
     "text": [
      "2018-04-07 23:16:59.868254\n"
     ]
    }
   ],
   "metadata": {}
  },
  {
   "cell_type": "markdown",
   "source": [
    "## Expressões Regulares\n",
    "Estruturas para validação de strings e extração de dados."
   ],
   "metadata": {}
  },
  {
   "cell_type": "code",
   "execution_count": 6,
   "source": [
    "import re\r\n",
    "\r\n",
    "padroes = [\"prédio\", \"rua\"]\r\n",
    "texto = \"O prédio que trabalharam ficava na rua de cima.\"\r\n",
    "\r\n",
    "for padrao in padroes:\r\n",
    "    if re.search(padrao, texto):\r\n",
    "        print(\"Encontrado correspondência para %s.\"%padrao)\r\n",
    "    else:\r\n",
    "        print(\"Não encontrado correspondência para %s.\"%padrao)"
   ],
   "outputs": [
    {
     "output_type": "stream",
     "name": "stdout",
     "text": [
      "Encontrado correspondência para prédio.\n",
      "Encontrado correspondência para rua.\n"
     ]
    }
   ],
   "metadata": {}
  },
  {
   "cell_type": "code",
   "execution_count": 7,
   "source": [
    "match = re.search(padrao[0], texto)"
   ],
   "outputs": [],
   "metadata": {
    "collapsed": true
   }
  },
  {
   "cell_type": "code",
   "execution_count": 9,
   "source": [
    "match.start(), match.end()"
   ],
   "outputs": [
    {
     "output_type": "execute_result",
     "data": {
      "text/plain": [
       "(3, 4)"
      ]
     },
     "metadata": {},
     "execution_count": 9
    }
   ],
   "metadata": {}
  },
  {
   "cell_type": "markdown",
   "source": [
    "### Metacaracteres\n",
    "No exemplo abaixo:\n",
    "1. sd*: s seguido de NENHUM OU mais ds\n",
    "2. sd+: s seguido de UM OU mais ds\n",
    "3. sd?: s seguido de ZERO OU UM  ds\n",
    "4. sd{3}: s seguido de TRÊS ds\n",
    "5. sd{2,3}: s seguido de DOIS até TRÊS ds\n",
    "6. [sd]: s ou d\n",
    "7. s[sd]+: s seguido de UM OU MAIS s ou d"
   ],
   "metadata": {}
  },
  {
   "cell_type": "code",
   "execution_count": 19,
   "source": [
    "padroes = [\"sd*\", \"sd+\", \"sd?\", \"sd{3}\", \"sd{2,3}\", \"[sd]\", \"s[sd]+\"]\r\n",
    "frase_teste = \"sdsd..sssddd...sdddsddd...dsds...dsssss...sdddd\"\r\n",
    "\r\n",
    "for padrao in padroes:\r\n",
    "    \r\n",
    "    print(\"Analisando padrao \" + padrao + \" \" + str(re.findall(padrao, frase_teste)))"
   ],
   "outputs": [
    {
     "output_type": "stream",
     "name": "stdout",
     "text": [
      "Analisando padrao sd* ['sd', 'sd', 's', 's', 'sddd', 'sddd', 'sddd', 'sd', 's', 's', 's', 's', 's', 's', 'sdddd']\n",
      "Analisando padrao sd+ ['sd', 'sd', 'sddd', 'sddd', 'sddd', 'sd', 'sdddd']\n",
      "Analisando padrao sd? ['sd', 'sd', 's', 's', 'sd', 'sd', 'sd', 'sd', 's', 's', 's', 's', 's', 's', 'sd']\n",
      "Analisando padrao sd{3} ['sddd', 'sddd', 'sddd', 'sddd']\n",
      "Analisando padrao sd{2,3} ['sddd', 'sddd', 'sddd', 'sddd']\n",
      "Analisando padrao [sd] ['s', 'd', 's', 'd', 's', 's', 's', 'd', 'd', 'd', 's', 'd', 'd', 'd', 's', 'd', 'd', 'd', 'd', 's', 'd', 's', 'd', 's', 's', 's', 's', 's', 's', 'd', 'd', 'd', 'd']\n",
      "Analisando padrao s[sd]+ ['sdsd', 'sssddd', 'sdddsddd', 'sds', 'sssss', 'sdddd']\n"
     ]
    }
   ],
   "metadata": {}
  },
  {
   "cell_type": "markdown",
   "source": [
    "Removendo pontuação de frases"
   ],
   "metadata": {}
  },
  {
   "cell_type": "code",
   "execution_count": 16,
   "source": [
    "frase = \"Não havia sentido! Aqui que conversaram, sobre o tal assunto, era importante? Imagino que sim; nem todos sabiam.\""
   ],
   "outputs": [],
   "metadata": {
    "collapsed": true
   }
  },
  {
   "cell_type": "markdown",
   "source": [
    "O metacaractere ^ significa exclusão. Assim podemos criar um padrão para remover acentos. Quando incluídos entre colchetes, indicam combinação OU, ! ou . ou ? ou , ou ; ou _espaço_"
   ],
   "metadata": {}
  },
  {
   "cell_type": "code",
   "execution_count": 21,
   "source": [
    "padrao = \"[^!.?,; ]+\""
   ],
   "outputs": [],
   "metadata": {
    "collapsed": true
   }
  },
  {
   "cell_type": "code",
   "execution_count": 22,
   "source": [
    "re.findall(padrao, frase)"
   ],
   "outputs": [
    {
     "output_type": "execute_result",
     "data": {
      "text/plain": [
       "['Não',\n",
       " 'havia',\n",
       " 'sentido',\n",
       " 'Aqui',\n",
       " 'que',\n",
       " 'conversaram',\n",
       " 'sobre',\n",
       " 'o',\n",
       " 'tal',\n",
       " 'assunto',\n",
       " 'era',\n",
       " 'importante',\n",
       " 'Imagino',\n",
       " 'que',\n",
       " 'sim',\n",
       " 'nem',\n",
       " 'todos',\n",
       " 'sabiam']"
      ]
     },
     "metadata": {},
     "execution_count": 22
    }
   ],
   "metadata": {}
  },
  {
   "cell_type": "markdown",
   "source": [
    "No exemplo abaixo:\n",
    "1. [a-z]+: sequência de letras em minúsculo\n",
    "2. [A-Z]+: sequência de letras em maiúsculo\n",
    "3. [a-zA-Z]+: sequência de letras em minúsculo ou maiúsculo\n",
    "4. [A-Z][a-z]+: sequência de letras em maiúsculo seguido por minúsculo"
   ],
   "metadata": {}
  },
  {
   "cell_type": "code",
   "execution_count": 55,
   "source": [
    "padroes = [\"[a-z]+\", \"[A-Z]+\", \"[A-zA-Z]+\", \"[A-Z][a-z]+\"]\r\n",
    "frase_teste = \"Ontem houve algum problema. Todos vieram resolver. Mas nem todos foram capazes.\"\r\n",
    "\r\n",
    "for padrao in padroes:\r\n",
    "    \r\n",
    "    print(\"Analisando padrao \" + padrao + \" \" + str(re.findall(padrao, frase_teste)))"
   ],
   "outputs": [
    {
     "output_type": "stream",
     "name": "stdout",
     "text": [
      "Analisando padrao [a-z]+ ['ntem', 'houve', 'algum', 'problema', 'odos', 'vieram', 'resolver', 'as', 'nem', 'todos', 'foram', 'capazes']\n",
      "Analisando padrao [A-Z]+ ['O', 'T', 'M']\n",
      "Analisando padrao [A-zA-Z]+ ['Ontem', 'houve', 'algum', 'problema', 'Todos', 'vieram', 'resolver', 'Mas', 'nem', 'todos', 'foram', 'capazes']\n",
      "Analisando padrao [A-Z][a-z]+ ['Ontem', 'Todos', 'Mas']\n"
     ]
    }
   ],
   "metadata": {}
  },
  {
   "cell_type": "markdown",
   "source": [
    "### Escape Codes\n",
    "| Código | Significado | \n",
    "|--------|-------------|\n",
    "|  \\d    | dígido            |\n",
    "|  \\D    | não dígito            |\n",
    "|  \\s    | espaço em branco (tab, espaço, nova linha, etc.)            |\n",
    "|  \\S    | não espaço em branco            |\n",
    "|  \\w    | alfanumérico            |\n",
    "|  \\W    | não alfanumérico            |"
   ],
   "metadata": {}
  },
  {
   "cell_type": "code",
   "execution_count": 28,
   "source": [
    "padroes = [r\"\\d+\", r\"\\D+\", r\"\\s+\", r\"\\S+\", r\"\\w+\", r\"\\W+\"]\r\n",
    "frase_teste = \"O número de carros é de 100 unidades. Nesse caso será utilizado a hashtag #100unidades.\"\r\n",
    "\r\n",
    "for padrao in padroes:\r\n",
    "    \r\n",
    "    print(\"Analisando padrao \" + padrao + \" \" + str(re.findall(padrao, frase_teste)))"
   ],
   "outputs": [
    {
     "output_type": "stream",
     "name": "stdout",
     "text": [
      "Analisando padrao \\d+ ['100', '100']\n",
      "Analisando padrao \\D+ ['O número de carros é de ', ' unidades. Nesse caso será utilizado a hashtag #', 'unidades.']\n",
      "Analisando padrao \\s+ [' ', ' ', ' ', ' ', ' ', ' ', ' ', ' ', ' ', ' ', ' ', ' ', ' ', ' ']\n",
      "Analisando padrao \\S+ ['O', 'número', 'de', 'carros', 'é', 'de', '100', 'unidades.', 'Nesse', 'caso', 'será', 'utilizado', 'a', 'hashtag', '#100unidades.']\n",
      "Analisando padrao \\w+ ['O', 'número', 'de', 'carros', 'é', 'de', '100', 'unidades', 'Nesse', 'caso', 'será', 'utilizado', 'a', 'hashtag', '100unidades']\n",
      "Analisando padrao \\W+ [' ', ' ', ' ', ' ', ' ', ' ', ' ', '. ', ' ', ' ', ' ', ' ', ' ', ' #', '.']\n"
     ]
    }
   ],
   "metadata": {}
  },
  {
   "cell_type": "markdown",
   "source": [
    "### Extraindo dados"
   ],
   "metadata": {}
  },
  {
   "cell_type": "code",
   "execution_count": 52,
   "source": [
    "padrao = r\"\\d{2}/\\d{2}/\\d{4}\"\r\n",
    "texto = \"10/04/2018\"\r\n",
    "print(\"Analisando padrao \" + padrao + \" \" + str(re.findall(padrao, texto)))"
   ],
   "outputs": [
    {
     "output_type": "stream",
     "name": "stdout",
     "text": [
      "Analisando padrao \\d{2}/\\d{2}/\\d{4} ['10/04/2018']\n"
     ]
    }
   ],
   "metadata": {}
  },
  {
   "cell_type": "code",
   "execution_count": 56,
   "source": [
    "padrao = r\"(\\d{2})/(\\d{2})/(\\d{4})\"\r\n",
    "padrao = re.search(padrao, texto)\r\n",
    "if padrao is not None:\r\n",
    "    print(\"Match %s, dia %s, mês %s e ano %s\"%(padrao.group(0), padrao.group(1), \r\n",
    "                                                         padrao.group(2), padrao.group(3)))"
   ],
   "outputs": [
    {
     "output_type": "stream",
     "name": "stdout",
     "text": [
      "Match 10/04/2018, dia 10, mês 04 e ano 2018\n"
     ]
    }
   ],
   "metadata": {}
  }
 ],
 "metadata": {
  "kernelspec": {
   "display_name": "Python 3",
   "language": "python",
   "name": "python3"
  },
  "language_info": {
   "codemirror_mode": {
    "name": "ipython",
    "version": 3
   },
   "file_extension": ".py",
   "mimetype": "text/x-python",
   "name": "python",
   "nbconvert_exporter": "python",
   "pygments_lexer": "ipython3",
   "version": "3.6.2"
  }
 },
 "nbformat": 4,
 "nbformat_minor": 2
}