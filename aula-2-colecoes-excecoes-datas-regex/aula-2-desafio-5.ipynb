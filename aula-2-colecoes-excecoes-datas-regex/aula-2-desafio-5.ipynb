{
 "cells": [
  {
   "cell_type": "markdown",
   "source": [
    "## Desafio 5\r\n",
    "___"
   ],
   "metadata": {}
  },
  {
   "cell_type": "markdown",
   "source": [
    "Crie uma aplicação que dado um número randômico entre 1 e 10 pergunte para um jogar advinhar o número. A cada palpite deve ser informado se o número é maior ou menor que o número a ser advinhado.\n",
    "Atenção para números inválidos.\n",
    "\n",
    "Hint: use a função randrange(número_inicial, número_final) do pacote random para obter um número randômico a partir de um intervalo."
   ],
   "metadata": {}
  },
  {
   "cell_type": "code",
   "execution_count": 6,
   "source": [
    "from random import randrange\r\n",
    "\r\n",
    "numero_secreto = randrange(0,11)"
   ],
   "outputs": [],
   "metadata": {
    "collapsed": true
   }
  },
  {
   "cell_type": "code",
   "execution_count": 7,
   "source": [
    "def check_hunt(num, num_secreto):\r\n",
    "    if num == num_secreto:\r\n",
    "        print(\"Parabéns, o número secreto é %s\"%num_secreto)\r\n",
    "        return True\r\n",
    "    elif num > num_secreto:\r\n",
    "        print(\"O número secreto é menor\")\r\n",
    "    else:\r\n",
    "        print(\"O número secreto é maior\")\r\n",
    "    return False"
   ],
   "outputs": [],
   "metadata": {
    "collapsed": true
   }
  },
  {
   "cell_type": "code",
   "execution_count": 8,
   "source": [
    "acertou = False\r\n",
    "\r\n",
    "while acertou == False:\r\n",
    "    try:\r\n",
    "        hunch = int(input(\"Entre com seu palpite\"))\r\n",
    "        acertou = check_hunt(hunch, numero_secreto)\r\n",
    "    except:\r\n",
    "        print(\"Entre com um número válido\")"
   ],
   "outputs": [
    {
     "output_type": "stream",
     "name": "stdout",
     "text": [
      "Entre com seu palpite10\n",
      "O número secreto é menor\n",
      "Entre com seu palpite4\n",
      "O número secreto é menor\n",
      "Entre com seu palpite2\n",
      "Parabéns, o número secreto é 2\n"
     ]
    }
   ],
   "metadata": {}
  }
 ],
 "metadata": {
  "kernelspec": {
   "display_name": "Python 3",
   "language": "python",
   "name": "python3"
  },
  "language_info": {
   "codemirror_mode": {
    "name": "ipython",
    "version": 3
   },
   "file_extension": ".py",
   "mimetype": "text/x-python",
   "name": "python",
   "nbconvert_exporter": "python",
   "pygments_lexer": "ipython3",
   "version": "3.6.2"
  }
 },
 "nbformat": 4,
 "nbformat_minor": 2
}