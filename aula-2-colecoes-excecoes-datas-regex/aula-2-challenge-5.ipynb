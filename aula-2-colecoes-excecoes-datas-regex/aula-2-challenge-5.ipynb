{
 "cells": [
  {
   "cell_type": "markdown",
   "metadata": {},
   "source": [
    "# Aula 3\n",
    "## Challenge 5\n",
    "___"
   ]
  },
  {
   "cell_type": "markdown",
   "metadata": {},
   "source": [
    "Crie uma aplicação que dado um número randômico entre 1 e 10 pergunte para um jogar advinhar o número. A cada palpite deve ser informado se o número é maior ou menor que o número a ser advinhado.\n",
    "Atenção para números inválidos.\n",
    "\n",
    "Hint: use a função randrange(número_inicial, número_final) do pacote random para obter um número randômico a partir de um intervalo."
   ]
  },
  {
   "cell_type": "code",
   "execution_count": 6,
   "metadata": {
    "collapsed": true
   },
   "outputs": [],
   "source": [
    "from random import randrange\n",
    "\n",
    "numero_secreto = randrange(0,11)"
   ]
  },
  {
   "cell_type": "code",
   "execution_count": 7,
   "metadata": {
    "collapsed": true
   },
   "outputs": [],
   "source": [
    "def check_hunt(num, num_secreto):\n",
    "    if num == num_secreto:\n",
    "        print(\"Parabéns, o número secreto é %s\"%num_secreto)\n",
    "        return True\n",
    "    elif num > num_secreto:\n",
    "        print(\"O número secreto é menor\")\n",
    "    else:\n",
    "        print(\"O número secreto é maior\")\n",
    "    return False"
   ]
  },
  {
   "cell_type": "code",
   "execution_count": 8,
   "metadata": {},
   "outputs": [
    {
     "name": "stdout",
     "output_type": "stream",
     "text": [
      "Entre com seu palpite10\n",
      "O número secreto é menor\n",
      "Entre com seu palpite4\n",
      "O número secreto é menor\n",
      "Entre com seu palpite2\n",
      "Parabéns, o número secreto é 2\n"
     ]
    }
   ],
   "source": [
    "acertou = False\n",
    "\n",
    "while acertou == False:\n",
    "    try:\n",
    "        hunch = int(input(\"Entre com seu palpite\"))\n",
    "        acertou = check_hunt(hunch, numero_secreto)\n",
    "    except:\n",
    "        print(\"Entre com um número válido\")"
   ]
  }
 ],
 "metadata": {
  "kernelspec": {
   "display_name": "Python 3",
   "language": "python",
   "name": "python3"
  },
  "language_info": {
   "codemirror_mode": {
    "name": "ipython",
    "version": 3
   },
   "file_extension": ".py",
   "mimetype": "text/x-python",
   "name": "python",
   "nbconvert_exporter": "python",
   "pygments_lexer": "ipython3",
   "version": "3.6.2"
  }
 },
 "nbformat": 4,
 "nbformat_minor": 2
}
