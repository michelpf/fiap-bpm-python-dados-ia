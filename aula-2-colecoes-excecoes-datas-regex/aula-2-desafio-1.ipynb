{
 "cells": [
  {
   "cell_type": "markdown",
   "source": [
    "## Desafio 1\r\n",
    "___"
   ],
   "metadata": {}
  },
  {
   "cell_type": "markdown",
   "source": [
    "Crie uma lista com 500 items de valores inteiros randômicos (entre 0 e 5k) e obtenha por meio de uma função reduce o maior e o menor número da lista.\n",
    "\n",
    "Hint: use a função randrange(número_inicial, número_final) do pacote random para obter um número randômico a partir de um intervalo."
   ],
   "metadata": {}
  },
  {
   "cell_type": "markdown",
   "source": [
    "> Estruturas de iteração podem ser percorridas apenas uma vez."
   ],
   "metadata": {}
  },
  {
   "cell_type": "code",
   "execution_count": 54,
   "source": [
    "from random import randrange\r\n",
    "\r\n",
    "lista = range(1,501)\r\n",
    "list(lista)[0], list(lista)[-1]\r\n",
    "lista_rand = list(map(lambda x: randrange(0,50001), lista))"
   ],
   "outputs": [],
   "metadata": {
    "collapsed": true
   }
  },
  {
   "cell_type": "code",
   "execution_count": 55,
   "source": [
    "import functools\r\n",
    "\r\n",
    "max_value = functools.reduce(lambda x, y: x if x > y else y, lista_rand)\r\n",
    "max_value"
   ],
   "outputs": [
    {
     "output_type": "execute_result",
     "data": {
      "text/plain": [
       "49980"
      ]
     },
     "metadata": {},
     "execution_count": 55
    }
   ],
   "metadata": {}
  },
  {
   "cell_type": "code",
   "execution_count": 56,
   "source": [
    "min_value = functools.reduce(lambda x, y: x if x < y else y, lista_rand)\r\n",
    "min_value"
   ],
   "outputs": [
    {
     "output_type": "execute_result",
     "data": {
      "text/plain": [
       "94"
      ]
     },
     "metadata": {},
     "execution_count": 56
    }
   ],
   "metadata": {}
  },
  {
   "cell_type": "code",
   "execution_count": 59,
   "source": [
    "menor = lista_rand[0]\n",
    "maior = lista_rand[0]\n",
    "\n",
    "for item in lista_rand:\n",
    "    if item < menor:\n",
    "        menor = item\n",
    "    if item > maior:\n",
    "        maior = item\n",
    "maior, menor"
   ],
   "outputs": [
    {
     "output_type": "execute_result",
     "data": {
      "text/plain": [
       "(49980, 94)"
      ]
     },
     "metadata": {},
     "execution_count": 59
    }
   ],
   "metadata": {}
  },
  {
   "cell_type": "code",
   "execution_count": null,
   "source": [],
   "outputs": [],
   "metadata": {
    "collapsed": true
   }
  }
 ],
 "metadata": {
  "kernelspec": {
   "display_name": "Python 3",
   "language": "python",
   "name": "python3"
  },
  "language_info": {
   "codemirror_mode": {
    "name": "ipython",
    "version": 3
   },
   "file_extension": ".py",
   "mimetype": "text/x-python",
   "name": "python",
   "nbconvert_exporter": "python",
   "pygments_lexer": "ipython3",
   "version": "3.6.2"
  }
 },
 "nbformat": 4,
 "nbformat_minor": 2
}