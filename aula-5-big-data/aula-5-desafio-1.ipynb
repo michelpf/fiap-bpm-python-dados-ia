{
  "cells": [
    {
      "attachments": {},
      "cell_type": "markdown",
      "metadata": {
        "id": "epWkqCScelsl"
      },
      "source": [
        "# Aula 5\n",
        "## Desafio 1\n",
        "___"
      ]
    },
    {
      "attachments": {},
      "cell_type": "markdown",
      "metadata": {
        "id": "HJScE-NAelsq"
      },
      "source": [
        "Dado o dataset de resultados das eleições de 2020, obtenha a lista de candidatos (nome) que obtiveram a menor votação em cada cidade do país.\n",
        "\n",
        "* A tabela resultante deve conter:\n",
        "* Estado\n",
        "* Município\n",
        "* Nome do candidato\n",
        "* Quantidade de votos\n"
      ]
    },
    {
      "cell_type": "code",
      "execution_count": 1,
      "metadata": {
        "colab": {
          "base_uri": "https://localhost:8080/"
        },
        "id": "yDoHxqhrelsr",
        "outputId": "f591d55f-448a-41b2-cc5e-fa1a9aff5c76"
      },
      "outputs": [
        {
          "name": "stdout",
          "output_type": "stream",
          "text": [
            "Collecting pyspark\n",
            "  Downloading pyspark-3.4.1.tar.gz (310.8 MB)\n",
            "\u001b[2K     \u001b[90m━━━━━━━━━━━━━━━━━━━━━━━━━━━━━━━━━━━━━━━\u001b[0m \u001b[32m310.8/310.8 MB\u001b[0m \u001b[31m2.7 MB/s\u001b[0m eta \u001b[36m0:00:00\u001b[0m\n",
            "\u001b[?25h  Preparing metadata (setup.py) ... \u001b[?25l\u001b[?25hdone\n",
            "Requirement already satisfied: py4j==0.10.9.7 in /usr/local/lib/python3.10/dist-packages (from pyspark) (0.10.9.7)\n",
            "Building wheels for collected packages: pyspark\n",
            "  Building wheel for pyspark (setup.py) ... \u001b[?25l\u001b[?25hdone\n",
            "  Created wheel for pyspark: filename=pyspark-3.4.1-py2.py3-none-any.whl size=311285398 sha256=6d3bb9883659ac0ffd966c6e78e3a56f61bccb6677bcd2f3c943d1a5d38d1041\n",
            "  Stored in directory: /root/.cache/pip/wheels/0d/77/a3/ff2f74cc9ab41f8f594dabf0579c2a7c6de920d584206e0834\n",
            "Successfully built pyspark\n",
            "Installing collected packages: pyspark\n",
            "Successfully installed pyspark-3.4.1\n"
          ]
        }
      ],
      "source": [
        "!pip install pyspark"
      ]
    },
    {
      "cell_type": "code",
      "execution_count": 2,
      "metadata": {
        "collapsed": true,
        "id": "pZyIr_m4elst"
      },
      "outputs": [],
      "source": [
        "from pyspark.sql import SparkSession\n",
        "\n",
        "spark = SparkSession.builder \\\n",
        "  .master('local[*]') \\\n",
        "  .appName(\"Analise de dados de eleições\") \\\n",
        "  .config('spark.ui.port', '4050') \\\n",
        "  .getOrCreate()"
      ]
    },
    {
      "cell_type": "code",
      "execution_count": 3,
      "metadata": {
        "colab": {
          "base_uri": "https://localhost:8080/"
        },
        "id": "Ro0WZ_Agelsu",
        "outputId": "dba93651-a2a9-4689-969e-6581ceb220df"
      },
      "outputs": [
        {
          "name": "stdout",
          "output_type": "stream",
          "text": [
            "Cloning into 'dataset-brazil-elections-2020-mayor-1st-round'...\n",
            "remote: Enumerating objects: 326, done.\u001b[K\n",
            "remote: Counting objects: 100% (3/3), done.\u001b[K\n",
            "remote: Compressing objects: 100% (3/3), done.\u001b[K\n",
            "remote: Total 326 (delta 0), reused 3 (delta 0), pack-reused 323\u001b[K\n",
            "Receiving objects: 100% (326/326), 127.02 MiB | 15.58 MiB/s, done.\n",
            "Resolving deltas: 100% (262/262), done.\n",
            "Updating files: 100% (151/151), done.\n"
          ]
        }
      ],
      "source": [
        "!git clone https://github.com/michelpf/dataset-brazil-elections-2020-mayor-1st-round"
      ]
    },
    {
      "cell_type": "code",
      "execution_count": 4,
      "metadata": {
        "id": "jr7R3P_ofIkc"
      },
      "outputs": [],
      "source": [
        "dados = spark.read.option(\"encoding\", \"iso-8859-1\").option(\"recursiveFileLookup\",\"true\").csv('dataset-brazil-elections-2020-mayor-1st-round/dataset', sep=';', header=True, inferSchema=True)"
      ]
    },
    {
      "cell_type": "code",
      "execution_count": 6,
      "metadata": {
        "id": "WSMAU8UlgMrX"
      },
      "outputs": [],
      "source": [
        "from pyspark.sql import functions as f"
      ]
    },
    {
      "cell_type": "code",
      "execution_count": 7,
      "metadata": {
        "colab": {
          "base_uri": "https://localhost:8080/"
        },
        "collapsed": true,
        "id": "HZmBPa5selsw",
        "outputId": "2a87450c-61e1-476b-da6b-9982de36f874"
      },
      "outputs": [
        {
          "name": "stdout",
          "output_type": "stream",
          "text": [
            "+-----+-------------------+-------------------+----------+\n",
            "|SG_UF|       NM_MUNICIPIO|         NM_VOTAVEL|SOMA_VOTOS|\n",
            "+-----+-------------------+-------------------+----------+\n",
            "|   GO|    ABADIA DE GOIÁS|ITAMAR MARKA DA PAZ|       532|\n",
            "|   GO|    ABADIA DE GOIÁS|      ZÉ DA PATROLA|      2226|\n",
            "|   GO|    ABADIA DE GOIÁS|        IVAN JARDIM|        56|\n",
            "|   GO|    ABADIA DE GOIÁS|     WANDER SARAIVA|      5053|\n",
            "|   MG|ABADIA DOS DOURADOS|    WANDERLEI LEMES|      2642|\n",
            "|   MG|ABADIA DOS DOURADOS| VAGNER DA ABAPEVEL|      2044|\n",
            "|   GO|          ABADIÂNIA|           ZÉ DINIZ|      4503|\n",
            "|   GO|          ABADIÂNIA|      PAULO PAULADA|        36|\n",
            "|   GO|          ABADIÂNIA|      WENDER CHAVES|       631|\n",
            "|   GO|          ABADIÂNIA| TENENTE ALESSANDRO|      2994|\n",
            "|   PA|         ABAETETUBA|              CHITA|     20615|\n",
            "|   PA|         ABAETETUBA|  ADAMOR BITENCOURT|     12867|\n",
            "|   PA|         ABAETETUBA|     EVERSON CARLOS|     13995|\n",
            "|   PA|         ABAETETUBA|     PEDRO HENRIQUE|     17683|\n",
            "|   PA|         ABAETETUBA|FRANCINETI CARVALHO|     26153|\n",
            "|   MG|             ABAETÉ|  FERNANDO PEIXINHO|       286|\n",
            "|   MG|             ABAETÉ|       MARCELO TECO|      4900|\n",
            "|   MG|             ABAETÉ|              PRETO|      3132|\n",
            "|   MG|             ABAETÉ|    IVANIR DELADIER|      5014|\n",
            "|   MG|             ABAETÉ|     ROSA PSICOLOGA|       470|\n",
            "+-----+-------------------+-------------------+----------+\n",
            "only showing top 20 rows\n",
            "\n"
          ]
        }
      ],
      "source": [
        "dados_mun_votacao = dados\\\n",
        "  .select(\"SG_UF\", \"NM_MUNICIPIO\", \"NM_VOTAVEL\", \"QT_VOTOS\")\\\n",
        "  .where(~f.col(\"NM_VOTAVEL\").isin('Nulo','Branco'))\\\n",
        "  .groupBy(\"SG_UF\", \"NM_MUNICIPIO\", \"NM_VOTAVEL\")\\\n",
        "  .agg(\n",
        "      f.sum(\"QT_VOTOS\").alias(\"SOMA_VOTOS\")\n",
        "  )\\\n",
        "  .orderBy(\"NM_MUNICIPIO\")\n",
        "\n",
        "dados_mun_votacao.show()"
      ]
    },
    {
      "cell_type": "code",
      "execution_count": 8,
      "metadata": {
        "colab": {
          "base_uri": "https://localhost:8080/"
        },
        "id": "CMbq4AvwgV_V",
        "outputId": "52973a54-aafa-4ca3-f71f-fa2967937d81"
      },
      "outputs": [
        {
          "name": "stdout",
          "output_type": "stream",
          "text": [
            "+-----+-------------------+----------+\n",
            "|SG_UF|       NM_MUNICIPIO|SOMA_VOTOS|\n",
            "+-----+-------------------+----------+\n",
            "|   GO|    ABADIA DE GOIÁS|        56|\n",
            "|   MG|ABADIA DOS DOURADOS|      2044|\n",
            "|   GO|          ABADIÂNIA|        36|\n",
            "|   PA|         ABAETETUBA|     12867|\n",
            "|   MG|             ABAETÉ|       286|\n",
            "|   CE|            ABAIARA|      2584|\n",
            "|   BA|              ABARÉ|      4521|\n",
            "|   PR|             ABATIÁ|       393|\n",
            "|   BA|             ABAÍRA|      2284|\n",
            "|   SC|      ABDON BATISTA|      1093|\n",
            "|   PA|    ABEL FIGUEIREDO|      2248|\n",
            "|   SC|       ABELARDO LUZ|       654|\n",
            "|   MG|         ABRE CAMPO|      2722|\n",
            "|   PE|       ABREU E LIMA|       176|\n",
            "|   TO|        ABREULÂNDIA|       894|\n",
            "|   MG|            ACAIACA|        46|\n",
            "|   BA|          ACAJUTIBA|      3602|\n",
            "|   CE|            ACARAPE|        16|\n",
            "|   CE|             ACARAÚ|        33|\n",
            "|   RN|              ACARI|      3143|\n",
            "+-----+-------------------+----------+\n",
            "only showing top 20 rows\n",
            "\n"
          ]
        }
      ],
      "source": [
        "dados_mun_min_votacao = dados_mun_votacao\\\n",
        "  .select(\"SG_UF\", \"NM_MUNICIPIO\", \"SOMA_VOTOS\")\\\n",
        "  .groupBy(\"SG_UF\", \"NM_MUNICIPIO\")\\\n",
        "  .agg(\n",
        "      f.min(\"SOMA_VOTOS\").alias(\"SOMA_VOTOS\")\\\n",
        "  )\\\n",
        "  .orderBy(\"NM_MUNICIPIO\")\n",
        "\n",
        "dados_mun_min_votacao.show()"
      ]
    },
    {
      "cell_type": "code",
      "execution_count": 9,
      "metadata": {
        "colab": {
          "base_uri": "https://localhost:8080/"
        },
        "id": "CB0V0QHCgYiO",
        "outputId": "b70b8f5d-35c6-44d0-ff3a-5736e970a7d6"
      },
      "outputs": [
        {
          "name": "stdout",
          "output_type": "stream",
          "text": [
            "+-----+-------------------+-----------------------------+----------+\n",
            "|SG_UF|NM_MUNICIPIO       |NM_VOTAVEL                   |SOMA_VOTOS|\n",
            "+-----+-------------------+-----------------------------+----------+\n",
            "|GO   |ABADIA DE GOIÁS    |IVAN JARDIM                  |56        |\n",
            "|MG   |ABADIA DOS DOURADOS|VAGNER DA ABAPEVEL           |2044      |\n",
            "|GO   |ABADIÂNIA          |PAULO PAULADA                |36        |\n",
            "|PA   |ABAETETUBA         |ADAMOR BITENCOURT            |12867     |\n",
            "|MG   |ABAETÉ             |FERNANDO PEIXINHO            |286       |\n",
            "|CE   |ABAIARA            |PEDRO MARCOS                 |2584      |\n",
            "|BA   |ABARÉ              |TATI OLIVEIRA                |4521      |\n",
            "|PR   |ABATIÁ             |TONINHO ROSA                 |393       |\n",
            "|BA   |ABAÍRA             |JOÃO HIPÓLITO RODRIGUES FILHO|2284      |\n",
            "|SC   |ABDON BATISTA      |ABELHA FILHO                 |1093      |\n",
            "|PA   |ABEL FIGUEIREDO    |HIDELFONSO                   |2248      |\n",
            "|SC   |ABELARDO LUZ       |TIAGO KOSINSKI               |654       |\n",
            "|MG   |ABRE CAMPO         |JOSE CLAUDIO                 |2722      |\n",
            "|PE   |ABREU E LIMA       |MARCOS CHACON                |176       |\n",
            "|TO   |ABREULÂNDIA        |DEDE                         |894       |\n",
            "|MG   |ACAIACA            |TENENTE CASTRO               |46        |\n",
            "|BA   |ACAJUTIBA          |TOINHO                       |3602      |\n",
            "|CE   |ACARAPE            |TIÃO  ACARAPE                |16        |\n",
            "|CE   |ACARAÚ             |SERGIO CELIO SILVA           |33        |\n",
            "|RN   |ACARI              |GILSON DA FARMÁCIA           |3143      |\n",
            "+-----+-------------------+-----------------------------+----------+\n",
            "only showing top 20 rows\n",
            "\n"
          ]
        }
      ],
      "source": [
        "dados_mun_min_votacao_cand =  dados_mun_votacao.alias(\"a\") \\\n",
        "  .join(\n",
        "      dados_mun_min_votacao.alias(\"b\"),\n",
        "      (dados_mun_votacao.SG_UF == dados_mun_min_votacao.SG_UF) &\n",
        "      (dados_mun_votacao.NM_MUNICIPIO == dados_mun_min_votacao.NM_MUNICIPIO) &\n",
        "      (dados_mun_votacao.SOMA_VOTOS == dados_mun_min_votacao.SOMA_VOTOS),\n",
        "      how=\"INNER\") \\\n",
        "  .orderBy(f.col(\"b.NM_MUNICIPIO\"), f.col(\"a.SG_UF\")) \\\n",
        "  .select(f.col(\"a.SG_UF\"), f.col(\"a.NM_MUNICIPIO\"), f.col(\"a.NM_VOTAVEL\"), f.col(\"b.SOMA_VOTOS\"))\n",
        "dados_mun_min_votacao_cand.show(truncate=False)"
      ]
    }
  ],
  "metadata": {
    "colab": {
      "provenance": []
    },
    "kernelspec": {
      "display_name": "Python 3",
      "language": "python",
      "name": "python3"
    },
    "language_info": {
      "codemirror_mode": {
        "name": "ipython",
        "version": 3
      },
      "file_extension": ".py",
      "mimetype": "text/x-python",
      "name": "python",
      "nbconvert_exporter": "python",
      "pygments_lexer": "ipython3",
      "version": "3.6.2"
    }
  },
  "nbformat": 4,
  "nbformat_minor": 0
}
