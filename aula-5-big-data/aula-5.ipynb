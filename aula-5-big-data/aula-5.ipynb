{
  "nbformat": 4,
  "nbformat_minor": 0,
  "metadata": {
    "colab": {
      "provenance": [],
      "gpuType": "T4"
    },
    "kernelspec": {
      "name": "python3",
      "display_name": "Python 3"
    },
    "language_info": {
      "name": "python"
    }
  },
  "cells": [
    {
      "cell_type": "markdown",
      "source": [
        "# Aula 5: PySpark, utilizando Python em aplicações de Big Data"
      ],
      "metadata": {
        "id": "_H7ZlfcgjYXN"
      }
    },
    {
      "cell_type": "markdown",
      "source": [
        "## Instalação do PySpark"
      ],
      "metadata": {
        "id": "4y-GRBMlkmoN"
      }
    },
    {
      "cell_type": "code",
      "source": [
        "!pip install pyspark"
      ],
      "metadata": {
        "colab": {
          "base_uri": "https://localhost:8080/"
        },
        "id": "DEhwFAfyxzXL",
        "outputId": "4956cf63-ac88-46cb-a479-3a8cfb65a581"
      },
      "execution_count": 1,
      "outputs": [
        {
          "output_type": "stream",
          "name": "stdout",
          "text": [
            "Collecting pyspark\n",
            "  Downloading pyspark-3.4.1.tar.gz (310.8 MB)\n",
            "\u001b[2K     \u001b[90m━━━━━━━━━━━━━━━━━━━━━━━━━━━━━━━━━━━━━━━\u001b[0m \u001b[32m310.8/310.8 MB\u001b[0m \u001b[31m4.6 MB/s\u001b[0m eta \u001b[36m0:00:00\u001b[0m\n",
            "\u001b[?25h  Preparing metadata (setup.py) ... \u001b[?25l\u001b[?25hdone\n",
            "Requirement already satisfied: py4j==0.10.9.7 in /usr/local/lib/python3.10/dist-packages (from pyspark) (0.10.9.7)\n",
            "Building wheels for collected packages: pyspark\n",
            "  Building wheel for pyspark (setup.py) ... \u001b[?25l\u001b[?25hdone\n",
            "  Created wheel for pyspark: filename=pyspark-3.4.1-py2.py3-none-any.whl size=311285398 sha256=1aa8b909d8820b246de9e8abec20efdc7bde0ff8a7cce0dacaba3635a37ac826\n",
            "  Stored in directory: /root/.cache/pip/wheels/0d/77/a3/ff2f74cc9ab41f8f594dabf0579c2a7c6de920d584206e0834\n",
            "Successfully built pyspark\n",
            "Installing collected packages: pyspark\n",
            "Successfully installed pyspark-3.4.1\n"
          ]
        }
      ]
    },
    {
      "cell_type": "markdown",
      "source": [
        "Opcionamente, podemos utilizar o Ngrok para ter acesso a console do Spark para acompanhar a execução dos Jobs.\n",
        "\n",
        "Para instalar, primeiro precisamos ter uma conta no [Ngrok](ngrok.com) e obter uma chave (authtoken) que fica no [Dashboard](https://dashboard.ngrok.com/get-started/your-authtoken)\n",
        "\n",
        "Logo depois, instalar o Ngrok direto na instância do Colab."
      ],
      "metadata": {
        "id": "nR-unH2rkrkt"
      }
    },
    {
      "cell_type": "code",
      "source": [
        "!wget -q https://bin.equinox.io/c/4VmDzA7iaHb/ngrok-stable-linux-amd64.zip\n",
        "!unzip ngrok-stable-linux-amd64.zip"
      ],
      "metadata": {
        "colab": {
          "base_uri": "https://localhost:8080/"
        },
        "id": "4Nyr2VIwoe7Q",
        "outputId": "095649bf-cc67-4a43-c709-abc276a994cf"
      },
      "execution_count": null,
      "outputs": [
        {
          "output_type": "stream",
          "name": "stdout",
          "text": [
            "Archive:  ngrok-stable-linux-amd64.zip\n",
            "  inflating: ngrok                   \n"
          ]
        }
      ]
    },
    {
      "cell_type": "markdown",
      "source": [
        "Enviar os comandos abaixo para garantir que o Ngrok está utilizando o authtoken obtido do Dashboard e também assegurar que o tunelamento (do localhost) para a internet utilizará a porta 4050."
      ],
      "metadata": {
        "id": "BvwDbe9ylSJg"
      }
    },
    {
      "cell_type": "code",
      "source": [
        "get_ipython().system_raw('./ngrok authtoken 3ivcC43VHTzC3XaFmS8iA_tpuzgfajEQ5WkBobes7E')\n",
        "get_ipython().system_raw('./ngrok http 4050 &')"
      ],
      "metadata": {
        "id": "vrMl_HNioiA7"
      },
      "execution_count": null,
      "outputs": []
    },
    {
      "cell_type": "markdown",
      "source": [
        "Abrir uma sessão do Spark, configurando a mesma porta do tunelamento do Ngrok."
      ],
      "metadata": {
        "id": "AoSLWVTSlwDB"
      }
    },
    {
      "cell_type": "code",
      "source": [
        "from pyspark.sql import SparkSession\n",
        "\n",
        "spark = SparkSession.builder \\\n",
        "  .master('local[*]') \\\n",
        "  .appName(\"Analise de dados de eleições\") \\\n",
        "  .config('spark.ui.port', '4050') \\\n",
        "  .getOrCreate()"
      ],
      "metadata": {
        "id": "scvJpQMyugIu"
      },
      "execution_count": 2,
      "outputs": []
    },
    {
      "cell_type": "code",
      "source": [
        "spark"
      ],
      "metadata": {
        "colab": {
          "base_uri": "https://localhost:8080/",
          "height": 219
        },
        "id": "KHHz32AAxXLV",
        "outputId": "a8cada7c-7323-4e7f-cfe4-220da90c2d1b"
      },
      "execution_count": null,
      "outputs": [
        {
          "output_type": "execute_result",
          "data": {
            "text/plain": [
              "<pyspark.sql.session.SparkSession at 0x7fc81c0ebca0>"
            ],
            "text/html": [
              "\n",
              "            <div>\n",
              "                <p><b>SparkSession - in-memory</b></p>\n",
              "                \n",
              "        <div>\n",
              "            <p><b>SparkContext</b></p>\n",
              "\n",
              "            <p><a href=\"http://0441fe6269de:4050\">Spark UI</a></p>\n",
              "\n",
              "            <dl>\n",
              "              <dt>Version</dt>\n",
              "                <dd><code>v3.4.1</code></dd>\n",
              "              <dt>Master</dt>\n",
              "                <dd><code>local[*]</code></dd>\n",
              "              <dt>AppName</dt>\n",
              "                <dd><code>Analise de dados de eleições</code></dd>\n",
              "            </dl>\n",
              "        </div>\n",
              "        \n",
              "            </div>\n",
              "        "
            ]
          },
          "metadata": {},
          "execution_count": 3
        }
      ]
    },
    {
      "cell_type": "markdown",
      "source": [
        "Obter a URL do tunelamento para acessar a console do Spark (Spark UI)."
      ],
      "metadata": {
        "id": "80DIn8VOl5DB"
      }
    },
    {
      "cell_type": "code",
      "source": [
        "!curl -s http://localhost:4040/api/tunnels"
      ],
      "metadata": {
        "colab": {
          "base_uri": "https://localhost:8080/"
        },
        "id": "0Kz76GNrokFj",
        "outputId": "aaa4f715-c0fd-409d-f3d4-e90f3412db99"
      },
      "execution_count": null,
      "outputs": [
        {
          "output_type": "stream",
          "name": "stdout",
          "text": [
            "{\"tunnels\":[{\"name\":\"command_line\",\"uri\":\"/api/tunnels/command_line\",\"public_url\":\"https://1dbc-35-230-173-5.ngrok-free.app\",\"proto\":\"https\",\"config\":{\"addr\":\"http://localhost:4050\",\"inspect\":true},\"metrics\":{\"conns\":{\"count\":0,\"gauge\":0,\"rate1\":0,\"rate5\":0,\"rate15\":0,\"p50\":0,\"p90\":0,\"p95\":0,\"p99\":0},\"http\":{\"count\":0,\"rate1\":0,\"rate5\":0,\"rate15\":0,\"p50\":0,\"p90\":0,\"p95\":0,\"p99\":0}}},{\"name\":\"command_line (http)\",\"uri\":\"/api/tunnels/command_line%20%28http%29\",\"public_url\":\"http://1dbc-35-230-173-5.ngrok-free.app\",\"proto\":\"http\",\"config\":{\"addr\":\"http://localhost:4050\",\"inspect\":true},\"metrics\":{\"conns\":{\"count\":0,\"gauge\":0,\"rate1\":0,\"rate5\":0,\"rate15\":0,\"p50\":0,\"p90\":0,\"p95\":0,\"p99\":0},\"http\":{\"count\":0,\"rate1\":0,\"rate5\":0,\"rate15\":0,\"p50\":0,\"p90\":0,\"p95\":0,\"p99\":0}}}],\"uri\":\"/api/tunnels\"}\n"
          ]
        }
      ]
    },
    {
      "cell_type": "markdown",
      "source": [
        "## Spark Dataframe"
      ],
      "metadata": {
        "id": "WeNeL0kxmDcT"
      }
    },
    {
      "cell_type": "markdown",
      "source": [
        "Para as atividades vamos utilizar o dataset das eleições de 2020 no Brasil para prefeito.\n",
        "\n",
        "Os dados foram ajustados para serem utilizados no ambiente do Colab. Eles podem ser baixados diretamente o site to [TSE](https://dadosabertos.tse.jus.br/dataset/resultados-2020-boletim-de-urna) para consulta, caso seja necessário."
      ],
      "metadata": {
        "id": "SRcNCMhXjsDE"
      }
    },
    {
      "cell_type": "code",
      "source": [
        "!git clone https://github.com/michelpf/dataset-brazil-elections-2020-mayor-1st-round"
      ],
      "metadata": {
        "colab": {
          "base_uri": "https://localhost:8080/"
        },
        "id": "lKEa5qbQeScW",
        "outputId": "760b4305-8b8f-47a8-b0fa-27ab9a9294f4"
      },
      "execution_count": 3,
      "outputs": [
        {
          "output_type": "stream",
          "name": "stdout",
          "text": [
            "Cloning into 'dataset-brazil-elections-2020-mayor-1st-round'...\n",
            "remote: Enumerating objects: 326, done.\u001b[K\n",
            "remote: Counting objects: 100% (3/3), done.\u001b[K\n",
            "remote: Compressing objects: 100% (3/3), done.\u001b[K\n",
            "remote: Total 326 (delta 0), reused 3 (delta 0), pack-reused 323\u001b[K\n",
            "Receiving objects: 100% (326/326), 127.02 MiB | 23.40 MiB/s, done.\n",
            "Resolving deltas: 100% (262/262), done.\n",
            "Updating files: 100% (151/151), done.\n"
          ]
        }
      ]
    },
    {
      "cell_type": "markdown",
      "source": [
        "Os dados estão dispostos (ou partionados) por Estado. Isto é, existem vários arquivos dentro de cada pasta representado por um Estado do país.\n",
        "\n",
        "O PySpark, por padrão, é capaz de ler vários arquivos externos (CSV, Parquet, etc.) dentro de uma mesma pasta e concatená-los num mesmo dataframe.\n",
        "\n",
        "Os parâmetros de leitura podem variar de arquivo para arquivo. Neste exemplos, para cobrir nosso conjunto de caracteres, vamos utilizar o encoding ISO-8859-1. Por padrão os arquivos são abertos utilizando o UTF-8."
      ],
      "metadata": {
        "id": "1D2UyJTkj8az"
      }
    },
    {
      "cell_type": "code",
      "source": [
        "dados = spark.read.option(\"encoding\", \"iso-8859-1\").option(\"recursiveFileLookup\",\"true\").csv('dataset-brazil-elections-2020-mayor-1st-round/dataset', sep=';', header=True, inferSchema=True)"
      ],
      "metadata": {
        "id": "5rBywXM0yDd9"
      },
      "execution_count": 4,
      "outputs": []
    },
    {
      "cell_type": "markdown",
      "source": [
        "Exibição das colunas carregadas."
      ],
      "metadata": {
        "id": "lDuzfkoJnbxf"
      }
    },
    {
      "cell_type": "code",
      "source": [
        "dados"
      ],
      "metadata": {
        "colab": {
          "base_uri": "https://localhost:8080/"
        },
        "id": "bx1z5LBCyIqM",
        "outputId": "d8f13cd3-d5dd-46b1-dd3a-2ce6646d9895"
      },
      "execution_count": null,
      "outputs": [
        {
          "output_type": "execute_result",
          "data": {
            "text/plain": [
              "DataFrame[DT_GERACAO: string, HH_GERACAO: timestamp, ANO_ELEICAO: int, CD_TIPO_ELEICAO: int, NM_TIPO_ELEICAO: string, CD_PLEITO: int, DT_PLEITO: string, NR_TURNO: int, CD_ELEICAO: int, DS_ELEICAO: string, SG_UF: string, CD_MUNICIPIO: int, NM_MUNICIPIO: string, NR_ZONA: int, NR_SECAO: int, NR_LOCAL_VOTACAO: int, CD_CARGO_PERGUNTA: int, DS_CARGO_PERGUNTA: string, NR_PARTIDO: int, SG_PARTIDO: string, NM_PARTIDO: string, DT_BU_RECEBIDO: string, QT_APTOS: int, QT_COMPARECIMENTO: int, QT_ABSTENCOES: int, CD_TIPO_URNA: int, DS_TIPO_URNA: string, CD_TIPO_VOTAVEL: int, DS_TIPO_VOTAVEL: string, NR_VOTAVEL: int, NM_VOTAVEL: string, QT_VOTOS: int, NR_URNA_EFETIVADA: int, CD_CARGA_1_URNA_EFETIVADA: string, CD_CARGA_2_URNA_EFETIVADA: string, CD_FLASHCARD_URNA_EFETIVADA: string, DT_CARGA_URNA_EFETIVADA: string, DS_CARGO_PERGUNTA_SECAO: string, DS_AGREGADAS: string, DT_ABERTURA: string, DT_ENCERRAMENTO: string, QT_ELEITORES_BIOMETRIA_NH: int, DT_EMISSAO_BU: string, NR_JUNTA_APURADORA: int, NR_TURMA_APURADORA: int]"
            ]
          },
          "metadata": {},
          "execution_count": 6
        }
      ]
    },
    {
      "cell_type": "markdown",
      "source": [
        "Podemos exibir o schema detectado de outra forma."
      ],
      "metadata": {
        "id": "Zv7GS-hkMZ5L"
      }
    },
    {
      "cell_type": "code",
      "source": [
        "dados.printSchema()"
      ],
      "metadata": {
        "colab": {
          "base_uri": "https://localhost:8080/"
        },
        "id": "JjLGTQVKN_QH",
        "outputId": "90b2e057-7835-4ca5-cffd-626cb1cbe585"
      },
      "execution_count": null,
      "outputs": [
        {
          "output_type": "stream",
          "name": "stdout",
          "text": [
            "root\n",
            " |-- DT_GERACAO: string (nullable = true)\n",
            " |-- HH_GERACAO: timestamp (nullable = true)\n",
            " |-- ANO_ELEICAO: integer (nullable = true)\n",
            " |-- CD_TIPO_ELEICAO: integer (nullable = true)\n",
            " |-- NM_TIPO_ELEICAO: string (nullable = true)\n",
            " |-- CD_PLEITO: integer (nullable = true)\n",
            " |-- DT_PLEITO: string (nullable = true)\n",
            " |-- NR_TURNO: integer (nullable = true)\n",
            " |-- CD_ELEICAO: integer (nullable = true)\n",
            " |-- DS_ELEICAO: string (nullable = true)\n",
            " |-- SG_UF: string (nullable = true)\n",
            " |-- CD_MUNICIPIO: integer (nullable = true)\n",
            " |-- NM_MUNICIPIO: string (nullable = true)\n",
            " |-- NR_ZONA: integer (nullable = true)\n",
            " |-- NR_SECAO: integer (nullable = true)\n",
            " |-- NR_LOCAL_VOTACAO: integer (nullable = true)\n",
            " |-- CD_CARGO_PERGUNTA: integer (nullable = true)\n",
            " |-- DS_CARGO_PERGUNTA: string (nullable = true)\n",
            " |-- NR_PARTIDO: integer (nullable = true)\n",
            " |-- SG_PARTIDO: string (nullable = true)\n",
            " |-- NM_PARTIDO: string (nullable = true)\n",
            " |-- DT_BU_RECEBIDO: string (nullable = true)\n",
            " |-- QT_APTOS: integer (nullable = true)\n",
            " |-- QT_COMPARECIMENTO: integer (nullable = true)\n",
            " |-- QT_ABSTENCOES: integer (nullable = true)\n",
            " |-- CD_TIPO_URNA: integer (nullable = true)\n",
            " |-- DS_TIPO_URNA: string (nullable = true)\n",
            " |-- CD_TIPO_VOTAVEL: integer (nullable = true)\n",
            " |-- DS_TIPO_VOTAVEL: string (nullable = true)\n",
            " |-- NR_VOTAVEL: integer (nullable = true)\n",
            " |-- NM_VOTAVEL: string (nullable = true)\n",
            " |-- QT_VOTOS: integer (nullable = true)\n",
            " |-- NR_URNA_EFETIVADA: integer (nullable = true)\n",
            " |-- CD_CARGA_1_URNA_EFETIVADA: string (nullable = true)\n",
            " |-- CD_CARGA_2_URNA_EFETIVADA: string (nullable = true)\n",
            " |-- CD_FLASHCARD_URNA_EFETIVADA: string (nullable = true)\n",
            " |-- DT_CARGA_URNA_EFETIVADA: string (nullable = true)\n",
            " |-- DS_CARGO_PERGUNTA_SECAO: string (nullable = true)\n",
            " |-- DS_AGREGADAS: string (nullable = true)\n",
            " |-- DT_ABERTURA: string (nullable = true)\n",
            " |-- DT_ENCERRAMENTO: string (nullable = true)\n",
            " |-- QT_ELEITORES_BIOMETRIA_NH: integer (nullable = true)\n",
            " |-- DT_EMISSAO_BU: string (nullable = true)\n",
            " |-- NR_JUNTA_APURADORA: integer (nullable = true)\n",
            " |-- NR_TURMA_APURADORA: integer (nullable = true)\n",
            "\n"
          ]
        }
      ]
    },
    {
      "cell_type": "markdown",
      "source": [
        "Amostra das 20 primeiras linhas.\n",
        "Para especificar o número de linhas a ser exibido, inclua o número dentro do comando ```show(#linhas)```."
      ],
      "metadata": {
        "id": "xoAf8pMMnes1"
      }
    },
    {
      "cell_type": "code",
      "source": [
        "dados.show()"
      ],
      "metadata": {
        "colab": {
          "base_uri": "https://localhost:8080/"
        },
        "id": "OZh5PbQT0u-5",
        "outputId": "3b2bd035-8a3a-4c10-c863-70afd11f5792"
      },
      "execution_count": null,
      "outputs": [
        {
          "output_type": "stream",
          "name": "stdout",
          "text": [
            "+----------+-------------------+-----------+---------------+-----------------+---------+----------+--------+----------+--------------------+-----+------------+--------------+-------+--------+----------------+-----------------+-----------------+----------+------------+--------------------+-------------------+--------+-----------------+-------------+------------+------------+---------------+---------------+----------+--------------------+--------+-----------------+-------------------------+-------------------------+---------------------------+-----------------------+-----------------------+------------+-------------------+-------------------+-------------------------+-------------------+------------------+------------------+\n",
            "|DT_GERACAO|         HH_GERACAO|ANO_ELEICAO|CD_TIPO_ELEICAO|  NM_TIPO_ELEICAO|CD_PLEITO| DT_PLEITO|NR_TURNO|CD_ELEICAO|          DS_ELEICAO|SG_UF|CD_MUNICIPIO|  NM_MUNICIPIO|NR_ZONA|NR_SECAO|NR_LOCAL_VOTACAO|CD_CARGO_PERGUNTA|DS_CARGO_PERGUNTA|NR_PARTIDO|  SG_PARTIDO|          NM_PARTIDO|     DT_BU_RECEBIDO|QT_APTOS|QT_COMPARECIMENTO|QT_ABSTENCOES|CD_TIPO_URNA|DS_TIPO_URNA|CD_TIPO_VOTAVEL|DS_TIPO_VOTAVEL|NR_VOTAVEL|          NM_VOTAVEL|QT_VOTOS|NR_URNA_EFETIVADA|CD_CARGA_1_URNA_EFETIVADA|CD_CARGA_2_URNA_EFETIVADA|CD_FLASHCARD_URNA_EFETIVADA|DT_CARGA_URNA_EFETIVADA|DS_CARGO_PERGUNTA_SECAO|DS_AGREGADAS|        DT_ABERTURA|    DT_ENCERRAMENTO|QT_ELEITORES_BIOMETRIA_NH|      DT_EMISSAO_BU|NR_JUNTA_APURADORA|NR_TURMA_APURADORA|\n",
            "+----------+-------------------+-----------+---------------+-----------------+---------+----------+--------+----------+--------------------+-----+------------+--------------+-------+--------+----------------+-----------------+-----------------+----------+------------+--------------------+-------------------+--------+-----------------+-------------+------------+------------+---------------+---------------+----------+--------------------+--------+-----------------+-------------------------+-------------------------+---------------------------+-----------------------+-----------------------+------------+-------------------+-------------------+-------------------------+-------------------+------------------+------------------+\n",
            "|18/11/2020|2023-07-01 15:49:53|       2020|              0|Eleição Ordinária|      304|15/11/2020|       1|       426|Eleições Municipa...|   RJ|       60011|RIO DE JANEIRO|     17|     366|            1716|               11|         Prefeito|        13|          PT|Partido dos Traba...|15/11/2020 20:04:01|     413|              229|          184|           1|     APURADA|              1|        Nominal|        13|   BENEDITA DA SILVA|      17|          1033316|     715.755.062.632.2...|                  854.013|                   4F8FD6B9|    03/11/2020 10:35:00|               11 - 366|      #NULO#|15/11/2020 07:00:00|15/11/2020 17:03:43|                        0|15/11/2020 17:06:12|                -1|                -1|\n",
            "|18/11/2020|2023-07-01 15:49:53|       2020|              0|Eleição Ordinária|      304|15/11/2020|       1|       426|Eleições Municipa...|   RJ|       60011|RIO DE JANEIRO|     17|     366|            1716|               11|         Prefeito|        12|         PDT|Partido Democráti...|15/11/2020 20:04:01|     413|              229|          184|           1|     APURADA|              1|        Nominal|        12|DELEGADA MARTHA R...|      21|          1033316|     715.755.062.632.2...|                  854.013|                   4F8FD6B9|    03/11/2020 10:35:00|               11 - 366|      #NULO#|15/11/2020 07:00:00|15/11/2020 17:03:43|                        0|15/11/2020 17:06:12|                -1|                -1|\n",
            "|18/11/2020|2023-07-01 15:49:53|       2020|              0|Eleição Ordinária|      304|15/11/2020|       1|       426|Eleições Municipa...|   RJ|       60011|RIO DE JANEIRO|     17|     366|            1716|               11|         Prefeito|        10|REPUBLICANOS|        REPUBLICANOS|15/11/2020 20:04:01|     413|              229|          184|           1|     APURADA|              1|        Nominal|        10|            CRIVELLA|      16|          1033316|     715.755.062.632.2...|                  854.013|                   4F8FD6B9|    03/11/2020 10:35:00|               11 - 366|      #NULO#|15/11/2020 07:00:00|15/11/2020 17:03:43|                        0|15/11/2020 17:06:12|                -1|                -1|\n",
            "|18/11/2020|2023-07-01 15:49:53|       2020|              0|Eleição Ordinária|      304|15/11/2020|       1|       426|Eleições Municipa...|   RJ|       60011|RIO DE JANEIRO|     17|     366|            1716|               11|         Prefeito|        -1|      #NULO#|              #NULO#|15/11/2020 20:04:01|     413|              229|          184|           1|     APURADA|              2|         Branco|        95|              Branco|       2|          1033316|     715.755.062.632.2...|                  854.013|                   4F8FD6B9|    03/11/2020 10:35:00|               11 - 366|      #NULO#|15/11/2020 07:00:00|15/11/2020 17:03:43|                        0|15/11/2020 17:06:12|                -1|                -1|\n",
            "|18/11/2020|2023-07-01 15:49:53|       2020|              0|Eleição Ordinária|      304|15/11/2020|       1|       426|Eleições Municipa...|   RJ|       60011|RIO DE JANEIRO|     17|     366|            1716|               11|         Prefeito|        15|         MDB|Movimento Democrá...|15/11/2020 20:04:01|     413|              229|          184|           1|     APURADA|              1|        Nominal|        15|       PAULO MESSINA|       3|          1033316|     715.755.062.632.2...|                  854.013|                   4F8FD6B9|    03/11/2020 10:35:00|               11 - 366|      #NULO#|15/11/2020 07:00:00|15/11/2020 17:03:43|                        0|15/11/2020 17:06:12|                -1|                -1|\n",
            "|18/11/2020|2023-07-01 15:49:53|       2020|              0|Eleição Ordinária|      304|15/11/2020|       1|       426|Eleições Municipa...|   RJ|       60011|RIO DE JANEIRO|     17|     366|            1716|               11|         Prefeito|        50|        PSOL|Partido Socialism...|15/11/2020 20:04:01|     413|              229|          184|           1|     APURADA|              1|        Nominal|        50|        RENATA SOUZA|       6|          1033316|     715.755.062.632.2...|                  854.013|                   4F8FD6B9|    03/11/2020 10:35:00|               11 - 366|      #NULO#|15/11/2020 07:00:00|15/11/2020 17:03:43|                        0|15/11/2020 17:06:12|                -1|                -1|\n",
            "|18/11/2020|2023-07-01 15:49:53|       2020|              0|Eleição Ordinária|      304|15/11/2020|       1|       426|Eleições Municipa...|   RJ|       60011|RIO DE JANEIRO|     17|     366|            1716|               11|         Prefeito|        18|        REDE|Rede Sustentabili...|15/11/2020 20:04:01|     413|              229|          184|           1|     APURADA|              1|        Nominal|        18|   BANDEIRA DE MELLO|       4|          1033316|     715.755.062.632.2...|                  854.013|                   4F8FD6B9|    03/11/2020 10:35:00|               11 - 366|      #NULO#|15/11/2020 07:00:00|15/11/2020 17:03:43|                        0|15/11/2020 17:06:12|                -1|                -1|\n",
            "|18/11/2020|2023-07-01 15:49:53|       2020|              0|Eleição Ordinária|      304|15/11/2020|       1|       426|Eleições Municipa...|   RJ|       60011|RIO DE JANEIRO|     17|     366|            1716|               11|         Prefeito|        25|         DEM|          Democratas|15/11/2020 20:04:01|     413|              229|          184|           1|     APURADA|              1|        Nominal|        25|        EDUARDO PAES|     115|          1033316|     715.755.062.632.2...|                  854.013|                   4F8FD6B9|    03/11/2020 10:35:00|               11 - 366|      #NULO#|15/11/2020 07:00:00|15/11/2020 17:03:43|                        0|15/11/2020 17:06:12|                -1|                -1|\n",
            "|18/11/2020|2023-07-01 15:49:53|       2020|              0|Eleição Ordinária|      304|15/11/2020|       1|       426|Eleições Municipa...|   RJ|       60011|RIO DE JANEIRO|     17|     366|            1716|               11|         Prefeito|        30|        NOVO|        Partido Novo|15/11/2020 20:04:01|     413|              229|          184|           1|     APURADA|              1|        Nominal|        30|            FRED LUZ|      12|          1033316|     715.755.062.632.2...|                  854.013|                   4F8FD6B9|    03/11/2020 10:35:00|               11 - 366|      #NULO#|15/11/2020 07:00:00|15/11/2020 17:03:43|                        0|15/11/2020 17:06:12|                -1|                -1|\n",
            "|18/11/2020|2023-07-01 15:49:53|       2020|              0|Eleição Ordinária|      304|15/11/2020|       1|       426|Eleições Municipa...|   RJ|       60011|RIO DE JANEIRO|     17|     366|            1716|               11|         Prefeito|        -1|      #NULO#|              #NULO#|15/11/2020 20:04:01|     413|              229|          184|           1|     APURADA|              3|           Nulo|        96|                Nulo|      18|          1033316|     715.755.062.632.2...|                  854.013|                   4F8FD6B9|    03/11/2020 10:35:00|               11 - 366|      #NULO#|15/11/2020 07:00:00|15/11/2020 17:03:43|                        0|15/11/2020 17:06:12|                -1|                -1|\n",
            "|18/11/2020|2023-07-01 15:49:53|       2020|              0|Eleição Ordinária|      304|15/11/2020|       1|       426|Eleições Municipa...|   RJ|       60011|RIO DE JANEIRO|     17|     366|            1716|               11|         Prefeito|        17|         PSL|Partido Social Li...|15/11/2020 20:04:01|     413|              229|          184|           1|     APURADA|              1|        Nominal|        17|           LUIZ LIMA|      15|          1033316|     715.755.062.632.2...|                  854.013|                   4F8FD6B9|    03/11/2020 10:35:00|               11 - 366|      #NULO#|15/11/2020 07:00:00|15/11/2020 17:03:43|                        0|15/11/2020 17:06:12|                -1|                -1|\n",
            "|18/11/2020|2023-07-01 15:49:53|       2020|              0|Eleição Ordinária|      304|15/11/2020|       1|       426|Eleições Municipa...|   RJ|       60011|RIO DE JANEIRO|     17|     367|            1716|               11|         Prefeito|        30|        NOVO|        Partido Novo|15/11/2020 20:29:34|     409|              213|          196|           1|     APURADA|              1|        Nominal|        30|            FRED LUZ|      11|          1037702|     594.543.053.120.8...|                  020.893|                   4F8FD6B9|    03/11/2020 11:30:00|               11 - 367|      #NULO#|15/11/2020 07:02:45|15/11/2020 17:08:41|                        0|15/11/2020 17:10:14|                -1|                -1|\n",
            "|18/11/2020|2023-07-01 15:49:53|       2020|              0|Eleição Ordinária|      304|15/11/2020|       1|       426|Eleições Municipa...|   RJ|       60011|RIO DE JANEIRO|     17|     367|            1716|               11|         Prefeito|        15|         MDB|Movimento Democrá...|15/11/2020 20:29:34|     409|              213|          196|           1|     APURADA|              1|        Nominal|        15|       PAULO MESSINA|       2|          1037702|     594.543.053.120.8...|                  020.893|                   4F8FD6B9|    03/11/2020 11:30:00|               11 - 367|      #NULO#|15/11/2020 07:02:45|15/11/2020 17:08:41|                        0|15/11/2020 17:10:14|                -1|                -1|\n",
            "|18/11/2020|2023-07-01 15:49:53|       2020|              0|Eleição Ordinária|      304|15/11/2020|       1|       426|Eleições Municipa...|   RJ|       60011|RIO DE JANEIRO|     17|     367|            1716|               11|         Prefeito|        18|        REDE|Rede Sustentabili...|15/11/2020 20:29:34|     409|              213|          196|           1|     APURADA|              1|        Nominal|        18|   BANDEIRA DE MELLO|       2|          1037702|     594.543.053.120.8...|                  020.893|                   4F8FD6B9|    03/11/2020 11:30:00|               11 - 367|      #NULO#|15/11/2020 07:02:45|15/11/2020 17:08:41|                        0|15/11/2020 17:10:14|                -1|                -1|\n",
            "|18/11/2020|2023-07-01 15:49:53|       2020|              0|Eleição Ordinária|      304|15/11/2020|       1|       426|Eleições Municipa...|   RJ|       60011|RIO DE JANEIRO|     17|     367|            1716|               11|         Prefeito|        13|          PT|Partido dos Traba...|15/11/2020 20:29:34|     409|              213|          196|           1|     APURADA|              1|        Nominal|        13|   BENEDITA DA SILVA|      24|          1037702|     594.543.053.120.8...|                  020.893|                   4F8FD6B9|    03/11/2020 11:30:00|               11 - 367|      #NULO#|15/11/2020 07:02:45|15/11/2020 17:08:41|                        0|15/11/2020 17:10:14|                -1|                -1|\n",
            "|18/11/2020|2023-07-01 15:49:53|       2020|              0|Eleição Ordinária|      304|15/11/2020|       1|       426|Eleições Municipa...|   RJ|       60011|RIO DE JANEIRO|     17|     367|            1716|               11|         Prefeito|        25|         DEM|          Democratas|15/11/2020 20:29:34|     409|              213|          196|           1|     APURADA|              1|        Nominal|        25|        EDUARDO PAES|      95|          1037702|     594.543.053.120.8...|                  020.893|                   4F8FD6B9|    03/11/2020 11:30:00|               11 - 367|      #NULO#|15/11/2020 07:02:45|15/11/2020 17:08:41|                        0|15/11/2020 17:10:14|                -1|                -1|\n",
            "|18/11/2020|2023-07-01 15:49:53|       2020|              0|Eleição Ordinária|      304|15/11/2020|       1|       426|Eleições Municipa...|   RJ|       60011|RIO DE JANEIRO|     17|     367|            1716|               11|         Prefeito|        -1|      #NULO#|              #NULO#|15/11/2020 20:29:34|     409|              213|          196|           1|     APURADA|              2|         Branco|        95|              Branco|       2|          1037702|     594.543.053.120.8...|                  020.893|                   4F8FD6B9|    03/11/2020 11:30:00|               11 - 367|      #NULO#|15/11/2020 07:02:45|15/11/2020 17:08:41|                        0|15/11/2020 17:10:14|                -1|                -1|\n",
            "|18/11/2020|2023-07-01 15:49:53|       2020|              0|Eleição Ordinária|      304|15/11/2020|       1|       426|Eleições Municipa...|   RJ|       60011|RIO DE JANEIRO|     17|     367|            1716|               11|         Prefeito|        12|         PDT|Partido Democráti...|15/11/2020 20:29:34|     409|              213|          196|           1|     APURADA|              1|        Nominal|        12|DELEGADA MARTHA R...|      27|          1037702|     594.543.053.120.8...|                  020.893|                   4F8FD6B9|    03/11/2020 11:30:00|               11 - 367|      #NULO#|15/11/2020 07:02:45|15/11/2020 17:08:41|                        0|15/11/2020 17:10:14|                -1|                -1|\n",
            "|18/11/2020|2023-07-01 15:49:53|       2020|              0|Eleição Ordinária|      304|15/11/2020|       1|       426|Eleições Municipa...|   RJ|       60011|RIO DE JANEIRO|     17|     367|            1716|               11|         Prefeito|        10|REPUBLICANOS|        REPUBLICANOS|15/11/2020 20:29:34|     409|              213|          196|           1|     APURADA|              1|        Nominal|        10|            CRIVELLA|      21|          1037702|     594.543.053.120.8...|                  020.893|                   4F8FD6B9|    03/11/2020 11:30:00|               11 - 367|      #NULO#|15/11/2020 07:02:45|15/11/2020 17:08:41|                        0|15/11/2020 17:10:14|                -1|                -1|\n",
            "|18/11/2020|2023-07-01 15:49:53|       2020|              0|Eleição Ordinária|      304|15/11/2020|       1|       426|Eleições Municipa...|   RJ|       60011|RIO DE JANEIRO|     17|     367|            1716|               11|         Prefeito|        17|         PSL|Partido Social Li...|15/11/2020 20:29:34|     409|              213|          196|           1|     APURADA|              1|        Nominal|        17|           LUIZ LIMA|      11|          1037702|     594.543.053.120.8...|                  020.893|                   4F8FD6B9|    03/11/2020 11:30:00|               11 - 367|      #NULO#|15/11/2020 07:02:45|15/11/2020 17:08:41|                        0|15/11/2020 17:10:14|                -1|                -1|\n",
            "+----------+-------------------+-----------+---------------+-----------------+---------+----------+--------+----------+--------------------+-----+------------+--------------+-------+--------+----------------+-----------------+-----------------+----------+------------+--------------------+-------------------+--------+-----------------+-------------+------------+------------+---------------+---------------+----------+--------------------+--------+-----------------+-------------------------+-------------------------+---------------------------+-----------------------+-----------------------+------------+-------------------+-------------------+-------------------------+-------------------+------------------+------------------+\n",
            "only showing top 20 rows\n",
            "\n"
          ]
        }
      ]
    },
    {
      "cell_type": "code",
      "source": [
        "dados.show(10)"
      ],
      "metadata": {
        "colab": {
          "base_uri": "https://localhost:8080/"
        },
        "id": "iIApncKt4STb",
        "outputId": "d56d0c50-adba-4b24-8ea1-41b3f504504f"
      },
      "execution_count": null,
      "outputs": [
        {
          "output_type": "stream",
          "name": "stdout",
          "text": [
            "+----------+-------------------+-----------+---------------+-----------------+---------+----------+--------+----------+--------------------+-----+------------+--------------+-------+--------+----------------+-----------------+-----------------+----------+------------+--------------------+-------------------+--------+-----------------+-------------+------------+------------+---------------+---------------+----------+--------------------+--------+-----------------+-------------------------+-------------------------+---------------------------+-----------------------+-----------------------+------------+-------------------+-------------------+-------------------------+-------------------+------------------+------------------+\n",
            "|DT_GERACAO|         HH_GERACAO|ANO_ELEICAO|CD_TIPO_ELEICAO|  NM_TIPO_ELEICAO|CD_PLEITO| DT_PLEITO|NR_TURNO|CD_ELEICAO|          DS_ELEICAO|SG_UF|CD_MUNICIPIO|  NM_MUNICIPIO|NR_ZONA|NR_SECAO|NR_LOCAL_VOTACAO|CD_CARGO_PERGUNTA|DS_CARGO_PERGUNTA|NR_PARTIDO|  SG_PARTIDO|          NM_PARTIDO|     DT_BU_RECEBIDO|QT_APTOS|QT_COMPARECIMENTO|QT_ABSTENCOES|CD_TIPO_URNA|DS_TIPO_URNA|CD_TIPO_VOTAVEL|DS_TIPO_VOTAVEL|NR_VOTAVEL|          NM_VOTAVEL|QT_VOTOS|NR_URNA_EFETIVADA|CD_CARGA_1_URNA_EFETIVADA|CD_CARGA_2_URNA_EFETIVADA|CD_FLASHCARD_URNA_EFETIVADA|DT_CARGA_URNA_EFETIVADA|DS_CARGO_PERGUNTA_SECAO|DS_AGREGADAS|        DT_ABERTURA|    DT_ENCERRAMENTO|QT_ELEITORES_BIOMETRIA_NH|      DT_EMISSAO_BU|NR_JUNTA_APURADORA|NR_TURMA_APURADORA|\n",
            "+----------+-------------------+-----------+---------------+-----------------+---------+----------+--------+----------+--------------------+-----+------------+--------------+-------+--------+----------------+-----------------+-----------------+----------+------------+--------------------+-------------------+--------+-----------------+-------------+------------+------------+---------------+---------------+----------+--------------------+--------+-----------------+-------------------------+-------------------------+---------------------------+-----------------------+-----------------------+------------+-------------------+-------------------+-------------------------+-------------------+------------------+------------------+\n",
            "|18/11/2020|2023-07-01 15:49:53|       2020|              0|Eleição Ordinária|      304|15/11/2020|       1|       426|Eleições Municipa...|   RJ|       60011|RIO DE JANEIRO|     17|     366|            1716|               11|         Prefeito|        13|          PT|Partido dos Traba...|15/11/2020 20:04:01|     413|              229|          184|           1|     APURADA|              1|        Nominal|        13|   BENEDITA DA SILVA|      17|          1033316|     715.755.062.632.2...|                  854.013|                   4F8FD6B9|    03/11/2020 10:35:00|               11 - 366|      #NULO#|15/11/2020 07:00:00|15/11/2020 17:03:43|                        0|15/11/2020 17:06:12|                -1|                -1|\n",
            "|18/11/2020|2023-07-01 15:49:53|       2020|              0|Eleição Ordinária|      304|15/11/2020|       1|       426|Eleições Municipa...|   RJ|       60011|RIO DE JANEIRO|     17|     366|            1716|               11|         Prefeito|        12|         PDT|Partido Democráti...|15/11/2020 20:04:01|     413|              229|          184|           1|     APURADA|              1|        Nominal|        12|DELEGADA MARTHA R...|      21|          1033316|     715.755.062.632.2...|                  854.013|                   4F8FD6B9|    03/11/2020 10:35:00|               11 - 366|      #NULO#|15/11/2020 07:00:00|15/11/2020 17:03:43|                        0|15/11/2020 17:06:12|                -1|                -1|\n",
            "|18/11/2020|2023-07-01 15:49:53|       2020|              0|Eleição Ordinária|      304|15/11/2020|       1|       426|Eleições Municipa...|   RJ|       60011|RIO DE JANEIRO|     17|     366|            1716|               11|         Prefeito|        10|REPUBLICANOS|        REPUBLICANOS|15/11/2020 20:04:01|     413|              229|          184|           1|     APURADA|              1|        Nominal|        10|            CRIVELLA|      16|          1033316|     715.755.062.632.2...|                  854.013|                   4F8FD6B9|    03/11/2020 10:35:00|               11 - 366|      #NULO#|15/11/2020 07:00:00|15/11/2020 17:03:43|                        0|15/11/2020 17:06:12|                -1|                -1|\n",
            "|18/11/2020|2023-07-01 15:49:53|       2020|              0|Eleição Ordinária|      304|15/11/2020|       1|       426|Eleições Municipa...|   RJ|       60011|RIO DE JANEIRO|     17|     366|            1716|               11|         Prefeito|        -1|      #NULO#|              #NULO#|15/11/2020 20:04:01|     413|              229|          184|           1|     APURADA|              2|         Branco|        95|              Branco|       2|          1033316|     715.755.062.632.2...|                  854.013|                   4F8FD6B9|    03/11/2020 10:35:00|               11 - 366|      #NULO#|15/11/2020 07:00:00|15/11/2020 17:03:43|                        0|15/11/2020 17:06:12|                -1|                -1|\n",
            "|18/11/2020|2023-07-01 15:49:53|       2020|              0|Eleição Ordinária|      304|15/11/2020|       1|       426|Eleições Municipa...|   RJ|       60011|RIO DE JANEIRO|     17|     366|            1716|               11|         Prefeito|        15|         MDB|Movimento Democrá...|15/11/2020 20:04:01|     413|              229|          184|           1|     APURADA|              1|        Nominal|        15|       PAULO MESSINA|       3|          1033316|     715.755.062.632.2...|                  854.013|                   4F8FD6B9|    03/11/2020 10:35:00|               11 - 366|      #NULO#|15/11/2020 07:00:00|15/11/2020 17:03:43|                        0|15/11/2020 17:06:12|                -1|                -1|\n",
            "|18/11/2020|2023-07-01 15:49:53|       2020|              0|Eleição Ordinária|      304|15/11/2020|       1|       426|Eleições Municipa...|   RJ|       60011|RIO DE JANEIRO|     17|     366|            1716|               11|         Prefeito|        50|        PSOL|Partido Socialism...|15/11/2020 20:04:01|     413|              229|          184|           1|     APURADA|              1|        Nominal|        50|        RENATA SOUZA|       6|          1033316|     715.755.062.632.2...|                  854.013|                   4F8FD6B9|    03/11/2020 10:35:00|               11 - 366|      #NULO#|15/11/2020 07:00:00|15/11/2020 17:03:43|                        0|15/11/2020 17:06:12|                -1|                -1|\n",
            "|18/11/2020|2023-07-01 15:49:53|       2020|              0|Eleição Ordinária|      304|15/11/2020|       1|       426|Eleições Municipa...|   RJ|       60011|RIO DE JANEIRO|     17|     366|            1716|               11|         Prefeito|        18|        REDE|Rede Sustentabili...|15/11/2020 20:04:01|     413|              229|          184|           1|     APURADA|              1|        Nominal|        18|   BANDEIRA DE MELLO|       4|          1033316|     715.755.062.632.2...|                  854.013|                   4F8FD6B9|    03/11/2020 10:35:00|               11 - 366|      #NULO#|15/11/2020 07:00:00|15/11/2020 17:03:43|                        0|15/11/2020 17:06:12|                -1|                -1|\n",
            "|18/11/2020|2023-07-01 15:49:53|       2020|              0|Eleição Ordinária|      304|15/11/2020|       1|       426|Eleições Municipa...|   RJ|       60011|RIO DE JANEIRO|     17|     366|            1716|               11|         Prefeito|        25|         DEM|          Democratas|15/11/2020 20:04:01|     413|              229|          184|           1|     APURADA|              1|        Nominal|        25|        EDUARDO PAES|     115|          1033316|     715.755.062.632.2...|                  854.013|                   4F8FD6B9|    03/11/2020 10:35:00|               11 - 366|      #NULO#|15/11/2020 07:00:00|15/11/2020 17:03:43|                        0|15/11/2020 17:06:12|                -1|                -1|\n",
            "|18/11/2020|2023-07-01 15:49:53|       2020|              0|Eleição Ordinária|      304|15/11/2020|       1|       426|Eleições Municipa...|   RJ|       60011|RIO DE JANEIRO|     17|     366|            1716|               11|         Prefeito|        30|        NOVO|        Partido Novo|15/11/2020 20:04:01|     413|              229|          184|           1|     APURADA|              1|        Nominal|        30|            FRED LUZ|      12|          1033316|     715.755.062.632.2...|                  854.013|                   4F8FD6B9|    03/11/2020 10:35:00|               11 - 366|      #NULO#|15/11/2020 07:00:00|15/11/2020 17:03:43|                        0|15/11/2020 17:06:12|                -1|                -1|\n",
            "|18/11/2020|2023-07-01 15:49:53|       2020|              0|Eleição Ordinária|      304|15/11/2020|       1|       426|Eleições Municipa...|   RJ|       60011|RIO DE JANEIRO|     17|     366|            1716|               11|         Prefeito|        -1|      #NULO#|              #NULO#|15/11/2020 20:04:01|     413|              229|          184|           1|     APURADA|              3|           Nulo|        96|                Nulo|      18|          1033316|     715.755.062.632.2...|                  854.013|                   4F8FD6B9|    03/11/2020 10:35:00|               11 - 366|      #NULO#|15/11/2020 07:00:00|15/11/2020 17:03:43|                        0|15/11/2020 17:06:12|                -1|                -1|\n",
            "+----------+-------------------+-----------+---------------+-----------------+---------+----------+--------+----------+--------------------+-----+------------+--------------+-------+--------+----------------+-----------------+-----------------+----------+------------+--------------------+-------------------+--------+-----------------+-------------+------------+------------+---------------+---------------+----------+--------------------+--------+-----------------+-------------------------+-------------------------+---------------------------+-----------------------+-----------------------+------------+-------------------+-------------------+-------------------------+-------------------+------------------+------------------+\n",
            "only showing top 10 rows\n",
            "\n"
          ]
        }
      ]
    },
    {
      "cell_type": "markdown",
      "source": [
        "Contagem do número de linhas."
      ],
      "metadata": {
        "id": "rikHb2RSniXl"
      }
    },
    {
      "cell_type": "code",
      "source": [
        "dados.count()"
      ],
      "metadata": {
        "colab": {
          "base_uri": "https://localhost:8080/"
        },
        "id": "myEncDaU0xXf",
        "outputId": "f91aa731-2606-4dff-94e8-8e626285b5f2"
      },
      "execution_count": null,
      "outputs": [
        {
          "output_type": "execute_result",
          "data": {
            "text/plain": [
              "3172300"
            ]
          },
          "metadata": {},
          "execution_count": 11
        }
      ]
    },
    {
      "cell_type": "markdown",
      "source": [
        "Esquema dos dados que foram inferidos a partir das amostras. O PySpark, quando lemos uma fonte externa, aplica regras para detectar os tipos de dados. Nem sempre eles são os mesmos, por isso é importante revisarmos."
      ],
      "metadata": {
        "id": "4dj94GQMoCm8"
      }
    },
    {
      "cell_type": "code",
      "source": [
        "dados.printSchema()"
      ],
      "metadata": {
        "colab": {
          "base_uri": "https://localhost:8080/"
        },
        "id": "_A_PgsaU3vl4",
        "outputId": "d7681097-e512-4b07-ee7f-fd6e13a88c8f"
      },
      "execution_count": null,
      "outputs": [
        {
          "output_type": "stream",
          "name": "stdout",
          "text": [
            "root\n",
            " |-- DT_GERACAO: string (nullable = true)\n",
            " |-- HH_GERACAO: timestamp (nullable = true)\n",
            " |-- ANO_ELEICAO: integer (nullable = true)\n",
            " |-- CD_TIPO_ELEICAO: integer (nullable = true)\n",
            " |-- NM_TIPO_ELEICAO: string (nullable = true)\n",
            " |-- CD_PLEITO: integer (nullable = true)\n",
            " |-- DT_PLEITO: string (nullable = true)\n",
            " |-- NR_TURNO: integer (nullable = true)\n",
            " |-- CD_ELEICAO: integer (nullable = true)\n",
            " |-- DS_ELEICAO: string (nullable = true)\n",
            " |-- SG_UF: string (nullable = true)\n",
            " |-- CD_MUNICIPIO: integer (nullable = true)\n",
            " |-- NM_MUNICIPIO: string (nullable = true)\n",
            " |-- NR_ZONA: integer (nullable = true)\n",
            " |-- NR_SECAO: integer (nullable = true)\n",
            " |-- NR_LOCAL_VOTACAO: integer (nullable = true)\n",
            " |-- CD_CARGO_PERGUNTA: integer (nullable = true)\n",
            " |-- DS_CARGO_PERGUNTA: string (nullable = true)\n",
            " |-- NR_PARTIDO: integer (nullable = true)\n",
            " |-- SG_PARTIDO: string (nullable = true)\n",
            " |-- NM_PARTIDO: string (nullable = true)\n",
            " |-- DT_BU_RECEBIDO: string (nullable = true)\n",
            " |-- QT_APTOS: integer (nullable = true)\n",
            " |-- QT_COMPARECIMENTO: integer (nullable = true)\n",
            " |-- QT_ABSTENCOES: integer (nullable = true)\n",
            " |-- CD_TIPO_URNA: integer (nullable = true)\n",
            " |-- DS_TIPO_URNA: string (nullable = true)\n",
            " |-- CD_TIPO_VOTAVEL: integer (nullable = true)\n",
            " |-- DS_TIPO_VOTAVEL: string (nullable = true)\n",
            " |-- NR_VOTAVEL: integer (nullable = true)\n",
            " |-- NM_VOTAVEL: string (nullable = true)\n",
            " |-- QT_VOTOS: integer (nullable = true)\n",
            " |-- NR_URNA_EFETIVADA: integer (nullable = true)\n",
            " |-- CD_CARGA_1_URNA_EFETIVADA: string (nullable = true)\n",
            " |-- CD_CARGA_2_URNA_EFETIVADA: string (nullable = true)\n",
            " |-- CD_FLASHCARD_URNA_EFETIVADA: string (nullable = true)\n",
            " |-- DT_CARGA_URNA_EFETIVADA: string (nullable = true)\n",
            " |-- DS_CARGO_PERGUNTA_SECAO: string (nullable = true)\n",
            " |-- DS_AGREGADAS: string (nullable = true)\n",
            " |-- DT_ABERTURA: string (nullable = true)\n",
            " |-- DT_ENCERRAMENTO: string (nullable = true)\n",
            " |-- QT_ELEITORES_BIOMETRIA_NH: integer (nullable = true)\n",
            " |-- DT_EMISSAO_BU: string (nullable = true)\n",
            " |-- NR_JUNTA_APURADORA: integer (nullable = true)\n",
            " |-- NR_TURMA_APURADORA: integer (nullable = true)\n",
            "\n"
          ]
        }
      ]
    },
    {
      "cell_type": "markdown",
      "source": [
        "Neste caso, notamos algumas inconsistências:\n",
        "\n",
        "* DT_GERACAO deveria ser Date e não String\n",
        "* DT_PLEITO deveria ser Date e não String\n",
        "* DT_CARGA_URNA_EFETIVADA deveria ser Timestamp (Data e Hora) e não String\n",
        "* DT_ABERTURA deveria ser Timestamp (Data e Hora) e não String\n",
        "* DT_ENCERRAMENTO deveria ser Timestamp (Data e Hora) e não String\n",
        "* DT_EMISSAO_BU deveria ser Timestamp (Data e Hora) e não String\n",
        "* DT_BU_RECEBIDO deveria ser Timestamp (Data e Hora) e não String\n",
        "\n",
        "Para as conversões, precisamos utilizar outras funções da biblioteca do PySpart. Functions e Stringtype.\n",
        "\n",
        "Converteremos um valor de String para Data utilizando uma máscara padrão.\n",
        "\n",
        "Os padrões podem ser conferidos na [documentação](https://spark.apache.org/docs/3.1.2/sql-ref-datetime-pattern.html) do PySpark.\n",
        "\n",
        "Neste caso, como temos uma data no formato brasileiro dia/mês/ano hora:minuto:segundo, utilizaremos os seguinte padrão: \"dd/MM/yyyy HH:mm:ss\"."
      ],
      "metadata": {
        "id": "3lZGq0gFoPUi"
      }
    },
    {
      "cell_type": "code",
      "source": [
        "from pyspark.sql import functions as f\n",
        "from pyspark.sql.types import StringType"
      ],
      "metadata": {
        "id": "g4DwcFew4vLQ"
      },
      "execution_count": 5,
      "outputs": []
    },
    {
      "cell_type": "markdown",
      "source": [
        "O comando ```.withColumn``` irá retornar a coluna transformada, e assim podemos substituir no dataframe principal."
      ],
      "metadata": {
        "id": "mBKLIA-QpT55"
      }
    },
    {
      "cell_type": "code",
      "source": [
        "#05/10/2022\n",
        "dados = dados.withColumn(\"DT_GERACAO\", f.to_date(dados.DT_GERACAO.cast(StringType()), 'dd/MM/yyyy'))\n",
        "\n",
        "#02/10/2022 18:45:30\n",
        "dados = dados.withColumn(\"DT_PLEITO\", f.to_date(dados.DT_PLEITO.cast(StringType()), 'dd/MM/yyyy'))\n",
        "dados = dados.withColumn(\"DT_CARGA_URNA_EFETIVADA\", f.to_timestamp(dados.DT_CARGA_URNA_EFETIVADA.cast(StringType()), 'dd/MM/yyyy HH:mm:ss'))\n",
        "dados = dados.withColumn(\"DT_ABERTURA\", f.to_timestamp(dados.DT_ABERTURA.cast(StringType()), 'dd/MM/yyyy HH:mm:ss'))\n",
        "dados = dados.withColumn(\"DT_ENCERRAMENTO\", f.to_timestamp(dados.DT_ENCERRAMENTO.cast(StringType()), 'dd/MM/yyyy HH:mm:ss'))\n",
        "dados = dados.withColumn(\"DT_EMISSAO_BU\", f.to_timestamp(dados.DT_EMISSAO_BU.cast(StringType()), 'dd/MM/yyyy HH:mm:ss'))\n",
        "dados = dados.withColumn(\"DT_BU_RECEBIDO\", f.to_timestamp(dados.DT_BU_RECEBIDO.cast(StringType()), 'dd/MM/yyyy HH:mm:ss'))"
      ],
      "metadata": {
        "id": "zVoC2uo23zSI"
      },
      "execution_count": 6,
      "outputs": []
    },
    {
      "cell_type": "markdown",
      "source": [
        "Confirmando se as operações foram realizadas."
      ],
      "metadata": {
        "id": "BGwe60Z6pl1C"
      }
    },
    {
      "cell_type": "code",
      "source": [
        "dados.printSchema()"
      ],
      "metadata": {
        "colab": {
          "base_uri": "https://localhost:8080/"
        },
        "id": "go_a3Ujkpk9y",
        "outputId": "2c5d1f16-a067-4dab-bff1-22087e7b01f6"
      },
      "execution_count": null,
      "outputs": [
        {
          "output_type": "stream",
          "name": "stdout",
          "text": [
            "root\n",
            " |-- DT_GERACAO: date (nullable = true)\n",
            " |-- HH_GERACAO: timestamp (nullable = true)\n",
            " |-- ANO_ELEICAO: integer (nullable = true)\n",
            " |-- CD_TIPO_ELEICAO: integer (nullable = true)\n",
            " |-- NM_TIPO_ELEICAO: string (nullable = true)\n",
            " |-- CD_PLEITO: integer (nullable = true)\n",
            " |-- DT_PLEITO: date (nullable = true)\n",
            " |-- NR_TURNO: integer (nullable = true)\n",
            " |-- CD_ELEICAO: integer (nullable = true)\n",
            " |-- DS_ELEICAO: string (nullable = true)\n",
            " |-- SG_UF: string (nullable = true)\n",
            " |-- CD_MUNICIPIO: integer (nullable = true)\n",
            " |-- NM_MUNICIPIO: string (nullable = true)\n",
            " |-- NR_ZONA: integer (nullable = true)\n",
            " |-- NR_SECAO: integer (nullable = true)\n",
            " |-- NR_LOCAL_VOTACAO: integer (nullable = true)\n",
            " |-- CD_CARGO_PERGUNTA: integer (nullable = true)\n",
            " |-- DS_CARGO_PERGUNTA: string (nullable = true)\n",
            " |-- NR_PARTIDO: integer (nullable = true)\n",
            " |-- SG_PARTIDO: string (nullable = true)\n",
            " |-- NM_PARTIDO: string (nullable = true)\n",
            " |-- DT_BU_RECEBIDO: timestamp (nullable = true)\n",
            " |-- QT_APTOS: integer (nullable = true)\n",
            " |-- QT_COMPARECIMENTO: integer (nullable = true)\n",
            " |-- QT_ABSTENCOES: integer (nullable = true)\n",
            " |-- CD_TIPO_URNA: integer (nullable = true)\n",
            " |-- DS_TIPO_URNA: string (nullable = true)\n",
            " |-- CD_TIPO_VOTAVEL: integer (nullable = true)\n",
            " |-- DS_TIPO_VOTAVEL: string (nullable = true)\n",
            " |-- NR_VOTAVEL: integer (nullable = true)\n",
            " |-- NM_VOTAVEL: string (nullable = true)\n",
            " |-- QT_VOTOS: integer (nullable = true)\n",
            " |-- NR_URNA_EFETIVADA: integer (nullable = true)\n",
            " |-- CD_CARGA_1_URNA_EFETIVADA: string (nullable = true)\n",
            " |-- CD_CARGA_2_URNA_EFETIVADA: string (nullable = true)\n",
            " |-- CD_FLASHCARD_URNA_EFETIVADA: string (nullable = true)\n",
            " |-- DT_CARGA_URNA_EFETIVADA: timestamp (nullable = true)\n",
            " |-- DS_CARGO_PERGUNTA_SECAO: string (nullable = true)\n",
            " |-- DS_AGREGADAS: string (nullable = true)\n",
            " |-- DT_ABERTURA: timestamp (nullable = true)\n",
            " |-- DT_ENCERRAMENTO: timestamp (nullable = true)\n",
            " |-- QT_ELEITORES_BIOMETRIA_NH: integer (nullable = true)\n",
            " |-- DT_EMISSAO_BU: timestamp (nullable = true)\n",
            " |-- NR_JUNTA_APURADORA: integer (nullable = true)\n",
            " |-- NR_TURMA_APURADORA: integer (nullable = true)\n",
            "\n"
          ]
        }
      ]
    },
    {
      "cell_type": "markdown",
      "source": [
        "Inspecionando os dados."
      ],
      "metadata": {
        "id": "bhAGRrk3pqwT"
      }
    },
    {
      "cell_type": "code",
      "source": [
        "dados.show()"
      ],
      "metadata": {
        "colab": {
          "base_uri": "https://localhost:8080/"
        },
        "id": "wIDI8B_o5Lxg",
        "outputId": "6efbf503-f756-4aeb-e7e2-2d6d282d64e2"
      },
      "execution_count": null,
      "outputs": [
        {
          "output_type": "stream",
          "name": "stdout",
          "text": [
            "+----------+-------------------+-----------+---------------+-----------------+---------+----------+--------+----------+--------------------+-----+------------+--------------+-------+--------+----------------+-----------------+-----------------+----------+------------+--------------------+-------------------+--------+-----------------+-------------+------------+------------+---------------+---------------+----------+--------------------+--------+-----------------+-------------------------+-------------------------+---------------------------+-----------------------+-----------------------+------------+-------------------+-------------------+-------------------------+-------------------+------------------+------------------+\n",
            "|DT_GERACAO|         HH_GERACAO|ANO_ELEICAO|CD_TIPO_ELEICAO|  NM_TIPO_ELEICAO|CD_PLEITO| DT_PLEITO|NR_TURNO|CD_ELEICAO|          DS_ELEICAO|SG_UF|CD_MUNICIPIO|  NM_MUNICIPIO|NR_ZONA|NR_SECAO|NR_LOCAL_VOTACAO|CD_CARGO_PERGUNTA|DS_CARGO_PERGUNTA|NR_PARTIDO|  SG_PARTIDO|          NM_PARTIDO|     DT_BU_RECEBIDO|QT_APTOS|QT_COMPARECIMENTO|QT_ABSTENCOES|CD_TIPO_URNA|DS_TIPO_URNA|CD_TIPO_VOTAVEL|DS_TIPO_VOTAVEL|NR_VOTAVEL|          NM_VOTAVEL|QT_VOTOS|NR_URNA_EFETIVADA|CD_CARGA_1_URNA_EFETIVADA|CD_CARGA_2_URNA_EFETIVADA|CD_FLASHCARD_URNA_EFETIVADA|DT_CARGA_URNA_EFETIVADA|DS_CARGO_PERGUNTA_SECAO|DS_AGREGADAS|        DT_ABERTURA|    DT_ENCERRAMENTO|QT_ELEITORES_BIOMETRIA_NH|      DT_EMISSAO_BU|NR_JUNTA_APURADORA|NR_TURMA_APURADORA|\n",
            "+----------+-------------------+-----------+---------------+-----------------+---------+----------+--------+----------+--------------------+-----+------------+--------------+-------+--------+----------------+-----------------+-----------------+----------+------------+--------------------+-------------------+--------+-----------------+-------------+------------+------------+---------------+---------------+----------+--------------------+--------+-----------------+-------------------------+-------------------------+---------------------------+-----------------------+-----------------------+------------+-------------------+-------------------+-------------------------+-------------------+------------------+------------------+\n",
            "|2020-11-18|2023-07-01 15:49:53|       2020|              0|Eleição Ordinária|      304|2020-11-15|       1|       426|Eleições Municipa...|   RJ|       60011|RIO DE JANEIRO|     17|     366|            1716|               11|         Prefeito|        13|          PT|Partido dos Traba...|2020-11-15 20:04:01|     413|              229|          184|           1|     APURADA|              1|        Nominal|        13|   BENEDITA DA SILVA|      17|          1033316|     715.755.062.632.2...|                  854.013|                   4F8FD6B9|    2020-11-03 10:35:00|               11 - 366|      #NULO#|2020-11-15 07:00:00|2020-11-15 17:03:43|                        0|2020-11-15 17:06:12|                -1|                -1|\n",
            "|2020-11-18|2023-07-01 15:49:53|       2020|              0|Eleição Ordinária|      304|2020-11-15|       1|       426|Eleições Municipa...|   RJ|       60011|RIO DE JANEIRO|     17|     366|            1716|               11|         Prefeito|        12|         PDT|Partido Democráti...|2020-11-15 20:04:01|     413|              229|          184|           1|     APURADA|              1|        Nominal|        12|DELEGADA MARTHA R...|      21|          1033316|     715.755.062.632.2...|                  854.013|                   4F8FD6B9|    2020-11-03 10:35:00|               11 - 366|      #NULO#|2020-11-15 07:00:00|2020-11-15 17:03:43|                        0|2020-11-15 17:06:12|                -1|                -1|\n",
            "|2020-11-18|2023-07-01 15:49:53|       2020|              0|Eleição Ordinária|      304|2020-11-15|       1|       426|Eleições Municipa...|   RJ|       60011|RIO DE JANEIRO|     17|     366|            1716|               11|         Prefeito|        10|REPUBLICANOS|        REPUBLICANOS|2020-11-15 20:04:01|     413|              229|          184|           1|     APURADA|              1|        Nominal|        10|            CRIVELLA|      16|          1033316|     715.755.062.632.2...|                  854.013|                   4F8FD6B9|    2020-11-03 10:35:00|               11 - 366|      #NULO#|2020-11-15 07:00:00|2020-11-15 17:03:43|                        0|2020-11-15 17:06:12|                -1|                -1|\n",
            "|2020-11-18|2023-07-01 15:49:53|       2020|              0|Eleição Ordinária|      304|2020-11-15|       1|       426|Eleições Municipa...|   RJ|       60011|RIO DE JANEIRO|     17|     366|            1716|               11|         Prefeito|        -1|      #NULO#|              #NULO#|2020-11-15 20:04:01|     413|              229|          184|           1|     APURADA|              2|         Branco|        95|              Branco|       2|          1033316|     715.755.062.632.2...|                  854.013|                   4F8FD6B9|    2020-11-03 10:35:00|               11 - 366|      #NULO#|2020-11-15 07:00:00|2020-11-15 17:03:43|                        0|2020-11-15 17:06:12|                -1|                -1|\n",
            "|2020-11-18|2023-07-01 15:49:53|       2020|              0|Eleição Ordinária|      304|2020-11-15|       1|       426|Eleições Municipa...|   RJ|       60011|RIO DE JANEIRO|     17|     366|            1716|               11|         Prefeito|        15|         MDB|Movimento Democrá...|2020-11-15 20:04:01|     413|              229|          184|           1|     APURADA|              1|        Nominal|        15|       PAULO MESSINA|       3|          1033316|     715.755.062.632.2...|                  854.013|                   4F8FD6B9|    2020-11-03 10:35:00|               11 - 366|      #NULO#|2020-11-15 07:00:00|2020-11-15 17:03:43|                        0|2020-11-15 17:06:12|                -1|                -1|\n",
            "|2020-11-18|2023-07-01 15:49:53|       2020|              0|Eleição Ordinária|      304|2020-11-15|       1|       426|Eleições Municipa...|   RJ|       60011|RIO DE JANEIRO|     17|     366|            1716|               11|         Prefeito|        50|        PSOL|Partido Socialism...|2020-11-15 20:04:01|     413|              229|          184|           1|     APURADA|              1|        Nominal|        50|        RENATA SOUZA|       6|          1033316|     715.755.062.632.2...|                  854.013|                   4F8FD6B9|    2020-11-03 10:35:00|               11 - 366|      #NULO#|2020-11-15 07:00:00|2020-11-15 17:03:43|                        0|2020-11-15 17:06:12|                -1|                -1|\n",
            "|2020-11-18|2023-07-01 15:49:53|       2020|              0|Eleição Ordinária|      304|2020-11-15|       1|       426|Eleições Municipa...|   RJ|       60011|RIO DE JANEIRO|     17|     366|            1716|               11|         Prefeito|        18|        REDE|Rede Sustentabili...|2020-11-15 20:04:01|     413|              229|          184|           1|     APURADA|              1|        Nominal|        18|   BANDEIRA DE MELLO|       4|          1033316|     715.755.062.632.2...|                  854.013|                   4F8FD6B9|    2020-11-03 10:35:00|               11 - 366|      #NULO#|2020-11-15 07:00:00|2020-11-15 17:03:43|                        0|2020-11-15 17:06:12|                -1|                -1|\n",
            "|2020-11-18|2023-07-01 15:49:53|       2020|              0|Eleição Ordinária|      304|2020-11-15|       1|       426|Eleições Municipa...|   RJ|       60011|RIO DE JANEIRO|     17|     366|            1716|               11|         Prefeito|        25|         DEM|          Democratas|2020-11-15 20:04:01|     413|              229|          184|           1|     APURADA|              1|        Nominal|        25|        EDUARDO PAES|     115|          1033316|     715.755.062.632.2...|                  854.013|                   4F8FD6B9|    2020-11-03 10:35:00|               11 - 366|      #NULO#|2020-11-15 07:00:00|2020-11-15 17:03:43|                        0|2020-11-15 17:06:12|                -1|                -1|\n",
            "|2020-11-18|2023-07-01 15:49:53|       2020|              0|Eleição Ordinária|      304|2020-11-15|       1|       426|Eleições Municipa...|   RJ|       60011|RIO DE JANEIRO|     17|     366|            1716|               11|         Prefeito|        30|        NOVO|        Partido Novo|2020-11-15 20:04:01|     413|              229|          184|           1|     APURADA|              1|        Nominal|        30|            FRED LUZ|      12|          1033316|     715.755.062.632.2...|                  854.013|                   4F8FD6B9|    2020-11-03 10:35:00|               11 - 366|      #NULO#|2020-11-15 07:00:00|2020-11-15 17:03:43|                        0|2020-11-15 17:06:12|                -1|                -1|\n",
            "|2020-11-18|2023-07-01 15:49:53|       2020|              0|Eleição Ordinária|      304|2020-11-15|       1|       426|Eleições Municipa...|   RJ|       60011|RIO DE JANEIRO|     17|     366|            1716|               11|         Prefeito|        -1|      #NULO#|              #NULO#|2020-11-15 20:04:01|     413|              229|          184|           1|     APURADA|              3|           Nulo|        96|                Nulo|      18|          1033316|     715.755.062.632.2...|                  854.013|                   4F8FD6B9|    2020-11-03 10:35:00|               11 - 366|      #NULO#|2020-11-15 07:00:00|2020-11-15 17:03:43|                        0|2020-11-15 17:06:12|                -1|                -1|\n",
            "|2020-11-18|2023-07-01 15:49:53|       2020|              0|Eleição Ordinária|      304|2020-11-15|       1|       426|Eleições Municipa...|   RJ|       60011|RIO DE JANEIRO|     17|     366|            1716|               11|         Prefeito|        17|         PSL|Partido Social Li...|2020-11-15 20:04:01|     413|              229|          184|           1|     APURADA|              1|        Nominal|        17|           LUIZ LIMA|      15|          1033316|     715.755.062.632.2...|                  854.013|                   4F8FD6B9|    2020-11-03 10:35:00|               11 - 366|      #NULO#|2020-11-15 07:00:00|2020-11-15 17:03:43|                        0|2020-11-15 17:06:12|                -1|                -1|\n",
            "|2020-11-18|2023-07-01 15:49:53|       2020|              0|Eleição Ordinária|      304|2020-11-15|       1|       426|Eleições Municipa...|   RJ|       60011|RIO DE JANEIRO|     17|     367|            1716|               11|         Prefeito|        30|        NOVO|        Partido Novo|2020-11-15 20:29:34|     409|              213|          196|           1|     APURADA|              1|        Nominal|        30|            FRED LUZ|      11|          1037702|     594.543.053.120.8...|                  020.893|                   4F8FD6B9|    2020-11-03 11:30:00|               11 - 367|      #NULO#|2020-11-15 07:02:45|2020-11-15 17:08:41|                        0|2020-11-15 17:10:14|                -1|                -1|\n",
            "|2020-11-18|2023-07-01 15:49:53|       2020|              0|Eleição Ordinária|      304|2020-11-15|       1|       426|Eleições Municipa...|   RJ|       60011|RIO DE JANEIRO|     17|     367|            1716|               11|         Prefeito|        15|         MDB|Movimento Democrá...|2020-11-15 20:29:34|     409|              213|          196|           1|     APURADA|              1|        Nominal|        15|       PAULO MESSINA|       2|          1037702|     594.543.053.120.8...|                  020.893|                   4F8FD6B9|    2020-11-03 11:30:00|               11 - 367|      #NULO#|2020-11-15 07:02:45|2020-11-15 17:08:41|                        0|2020-11-15 17:10:14|                -1|                -1|\n",
            "|2020-11-18|2023-07-01 15:49:53|       2020|              0|Eleição Ordinária|      304|2020-11-15|       1|       426|Eleições Municipa...|   RJ|       60011|RIO DE JANEIRO|     17|     367|            1716|               11|         Prefeito|        18|        REDE|Rede Sustentabili...|2020-11-15 20:29:34|     409|              213|          196|           1|     APURADA|              1|        Nominal|        18|   BANDEIRA DE MELLO|       2|          1037702|     594.543.053.120.8...|                  020.893|                   4F8FD6B9|    2020-11-03 11:30:00|               11 - 367|      #NULO#|2020-11-15 07:02:45|2020-11-15 17:08:41|                        0|2020-11-15 17:10:14|                -1|                -1|\n",
            "|2020-11-18|2023-07-01 15:49:53|       2020|              0|Eleição Ordinária|      304|2020-11-15|       1|       426|Eleições Municipa...|   RJ|       60011|RIO DE JANEIRO|     17|     367|            1716|               11|         Prefeito|        13|          PT|Partido dos Traba...|2020-11-15 20:29:34|     409|              213|          196|           1|     APURADA|              1|        Nominal|        13|   BENEDITA DA SILVA|      24|          1037702|     594.543.053.120.8...|                  020.893|                   4F8FD6B9|    2020-11-03 11:30:00|               11 - 367|      #NULO#|2020-11-15 07:02:45|2020-11-15 17:08:41|                        0|2020-11-15 17:10:14|                -1|                -1|\n",
            "|2020-11-18|2023-07-01 15:49:53|       2020|              0|Eleição Ordinária|      304|2020-11-15|       1|       426|Eleições Municipa...|   RJ|       60011|RIO DE JANEIRO|     17|     367|            1716|               11|         Prefeito|        25|         DEM|          Democratas|2020-11-15 20:29:34|     409|              213|          196|           1|     APURADA|              1|        Nominal|        25|        EDUARDO PAES|      95|          1037702|     594.543.053.120.8...|                  020.893|                   4F8FD6B9|    2020-11-03 11:30:00|               11 - 367|      #NULO#|2020-11-15 07:02:45|2020-11-15 17:08:41|                        0|2020-11-15 17:10:14|                -1|                -1|\n",
            "|2020-11-18|2023-07-01 15:49:53|       2020|              0|Eleição Ordinária|      304|2020-11-15|       1|       426|Eleições Municipa...|   RJ|       60011|RIO DE JANEIRO|     17|     367|            1716|               11|         Prefeito|        -1|      #NULO#|              #NULO#|2020-11-15 20:29:34|     409|              213|          196|           1|     APURADA|              2|         Branco|        95|              Branco|       2|          1037702|     594.543.053.120.8...|                  020.893|                   4F8FD6B9|    2020-11-03 11:30:00|               11 - 367|      #NULO#|2020-11-15 07:02:45|2020-11-15 17:08:41|                        0|2020-11-15 17:10:14|                -1|                -1|\n",
            "|2020-11-18|2023-07-01 15:49:53|       2020|              0|Eleição Ordinária|      304|2020-11-15|       1|       426|Eleições Municipa...|   RJ|       60011|RIO DE JANEIRO|     17|     367|            1716|               11|         Prefeito|        12|         PDT|Partido Democráti...|2020-11-15 20:29:34|     409|              213|          196|           1|     APURADA|              1|        Nominal|        12|DELEGADA MARTHA R...|      27|          1037702|     594.543.053.120.8...|                  020.893|                   4F8FD6B9|    2020-11-03 11:30:00|               11 - 367|      #NULO#|2020-11-15 07:02:45|2020-11-15 17:08:41|                        0|2020-11-15 17:10:14|                -1|                -1|\n",
            "|2020-11-18|2023-07-01 15:49:53|       2020|              0|Eleição Ordinária|      304|2020-11-15|       1|       426|Eleições Municipa...|   RJ|       60011|RIO DE JANEIRO|     17|     367|            1716|               11|         Prefeito|        10|REPUBLICANOS|        REPUBLICANOS|2020-11-15 20:29:34|     409|              213|          196|           1|     APURADA|              1|        Nominal|        10|            CRIVELLA|      21|          1037702|     594.543.053.120.8...|                  020.893|                   4F8FD6B9|    2020-11-03 11:30:00|               11 - 367|      #NULO#|2020-11-15 07:02:45|2020-11-15 17:08:41|                        0|2020-11-15 17:10:14|                -1|                -1|\n",
            "|2020-11-18|2023-07-01 15:49:53|       2020|              0|Eleição Ordinária|      304|2020-11-15|       1|       426|Eleições Municipa...|   RJ|       60011|RIO DE JANEIRO|     17|     367|            1716|               11|         Prefeito|        17|         PSL|Partido Social Li...|2020-11-15 20:29:34|     409|              213|          196|           1|     APURADA|              1|        Nominal|        17|           LUIZ LIMA|      11|          1037702|     594.543.053.120.8...|                  020.893|                   4F8FD6B9|    2020-11-03 11:30:00|               11 - 367|      #NULO#|2020-11-15 07:02:45|2020-11-15 17:08:41|                        0|2020-11-15 17:10:14|                -1|                -1|\n",
            "+----------+-------------------+-----------+---------------+-----------------+---------+----------+--------+----------+--------------------+-----+------------+--------------+-------+--------+----------------+-----------------+-----------------+----------+------------+--------------------+-------------------+--------+-----------------+-------------+------------+------------+---------------+---------------+----------+--------------------+--------+-----------------+-------------------------+-------------------------+---------------------------+-----------------------+-----------------------+------------+-------------------+-------------------+-------------------------+-------------------+------------------+------------------+\n",
            "only showing top 20 rows\n",
            "\n"
          ]
        }
      ]
    },
    {
      "cell_type": "code",
      "source": [
        "dados.limit(20).toPandas()"
      ],
      "metadata": {
        "colab": {
          "base_uri": "https://localhost:8080/",
          "height": 1000
        },
        "id": "NjJo5zjHQz69",
        "outputId": "58de947c-5015-4b27-da30-a598950892fe"
      },
      "execution_count": null,
      "outputs": [
        {
          "output_type": "stream",
          "name": "stderr",
          "text": [
            "/usr/local/lib/python3.10/dist-packages/pyspark/sql/pandas/conversion.py:251: FutureWarning: Passing unit-less datetime64 dtype to .astype is deprecated and will raise in a future version. Pass 'datetime64[ns]' instead\n",
            "  series = series.astype(t, copy=False)\n",
            "/usr/local/lib/python3.10/dist-packages/pyspark/sql/pandas/conversion.py:251: FutureWarning: Passing unit-less datetime64 dtype to .astype is deprecated and will raise in a future version. Pass 'datetime64[ns]' instead\n",
            "  series = series.astype(t, copy=False)\n",
            "/usr/local/lib/python3.10/dist-packages/pyspark/sql/pandas/conversion.py:251: FutureWarning: Passing unit-less datetime64 dtype to .astype is deprecated and will raise in a future version. Pass 'datetime64[ns]' instead\n",
            "  series = series.astype(t, copy=False)\n",
            "/usr/local/lib/python3.10/dist-packages/pyspark/sql/pandas/conversion.py:251: FutureWarning: Passing unit-less datetime64 dtype to .astype is deprecated and will raise in a future version. Pass 'datetime64[ns]' instead\n",
            "  series = series.astype(t, copy=False)\n",
            "/usr/local/lib/python3.10/dist-packages/pyspark/sql/pandas/conversion.py:251: FutureWarning: Passing unit-less datetime64 dtype to .astype is deprecated and will raise in a future version. Pass 'datetime64[ns]' instead\n",
            "  series = series.astype(t, copy=False)\n",
            "/usr/local/lib/python3.10/dist-packages/pyspark/sql/pandas/conversion.py:251: FutureWarning: Passing unit-less datetime64 dtype to .astype is deprecated and will raise in a future version. Pass 'datetime64[ns]' instead\n",
            "  series = series.astype(t, copy=False)\n"
          ]
        },
        {
          "output_type": "execute_result",
          "data": {
            "text/plain": [
              "    DT_GERACAO          HH_GERACAO  ANO_ELEICAO  CD_TIPO_ELEICAO  \\\n",
              "0   2020-11-18 2023-07-01 15:49:53         2020                0   \n",
              "1   2020-11-18 2023-07-01 15:49:53         2020                0   \n",
              "2   2020-11-18 2023-07-01 15:49:53         2020                0   \n",
              "3   2020-11-18 2023-07-01 15:49:53         2020                0   \n",
              "4   2020-11-18 2023-07-01 15:49:53         2020                0   \n",
              "5   2020-11-18 2023-07-01 15:49:53         2020                0   \n",
              "6   2020-11-18 2023-07-01 15:49:53         2020                0   \n",
              "7   2020-11-18 2023-07-01 15:49:53         2020                0   \n",
              "8   2020-11-18 2023-07-01 15:49:53         2020                0   \n",
              "9   2020-11-18 2023-07-01 15:49:53         2020                0   \n",
              "10  2020-11-18 2023-07-01 15:49:53         2020                0   \n",
              "11  2020-11-18 2023-07-01 15:49:53         2020                0   \n",
              "12  2020-11-18 2023-07-01 15:49:53         2020                0   \n",
              "13  2020-11-18 2023-07-01 15:49:53         2020                0   \n",
              "14  2020-11-18 2023-07-01 15:49:53         2020                0   \n",
              "15  2020-11-18 2023-07-01 15:49:53         2020                0   \n",
              "16  2020-11-18 2023-07-01 15:49:53         2020                0   \n",
              "17  2020-11-18 2023-07-01 15:49:53         2020                0   \n",
              "18  2020-11-18 2023-07-01 15:49:53         2020                0   \n",
              "19  2020-11-18 2023-07-01 15:49:53         2020                0   \n",
              "\n",
              "      NM_TIPO_ELEICAO  CD_PLEITO   DT_PLEITO  NR_TURNO  CD_ELEICAO  \\\n",
              "0   Eleição Ordinária        304  2020-11-15         1         426   \n",
              "1   Eleição Ordinária        304  2020-11-15         1         426   \n",
              "2   Eleição Ordinária        304  2020-11-15         1         426   \n",
              "3   Eleição Ordinária        304  2020-11-15         1         426   \n",
              "4   Eleição Ordinária        304  2020-11-15         1         426   \n",
              "5   Eleição Ordinária        304  2020-11-15         1         426   \n",
              "6   Eleição Ordinária        304  2020-11-15         1         426   \n",
              "7   Eleição Ordinária        304  2020-11-15         1         426   \n",
              "8   Eleição Ordinária        304  2020-11-15         1         426   \n",
              "9   Eleição Ordinária        304  2020-11-15         1         426   \n",
              "10  Eleição Ordinária        304  2020-11-15         1         426   \n",
              "11  Eleição Ordinária        304  2020-11-15         1         426   \n",
              "12  Eleição Ordinária        304  2020-11-15         1         426   \n",
              "13  Eleição Ordinária        304  2020-11-15         1         426   \n",
              "14  Eleição Ordinária        304  2020-11-15         1         426   \n",
              "15  Eleição Ordinária        304  2020-11-15         1         426   \n",
              "16  Eleição Ordinária        304  2020-11-15         1         426   \n",
              "17  Eleição Ordinária        304  2020-11-15         1         426   \n",
              "18  Eleição Ordinária        304  2020-11-15         1         426   \n",
              "19  Eleição Ordinária        304  2020-11-15         1         426   \n",
              "\n",
              "                  DS_ELEICAO  ... CD_FLASHCARD_URNA_EFETIVADA  \\\n",
              "0   Eleições Municipais 2020  ...                    4F8FD6B9   \n",
              "1   Eleições Municipais 2020  ...                    4F8FD6B9   \n",
              "2   Eleições Municipais 2020  ...                    4F8FD6B9   \n",
              "3   Eleições Municipais 2020  ...                    4F8FD6B9   \n",
              "4   Eleições Municipais 2020  ...                    4F8FD6B9   \n",
              "5   Eleições Municipais 2020  ...                    4F8FD6B9   \n",
              "6   Eleições Municipais 2020  ...                    4F8FD6B9   \n",
              "7   Eleições Municipais 2020  ...                    4F8FD6B9   \n",
              "8   Eleições Municipais 2020  ...                    4F8FD6B9   \n",
              "9   Eleições Municipais 2020  ...                    4F8FD6B9   \n",
              "10  Eleições Municipais 2020  ...                    4F8FD6B9   \n",
              "11  Eleições Municipais 2020  ...                    4F8FD6B9   \n",
              "12  Eleições Municipais 2020  ...                    4F8FD6B9   \n",
              "13  Eleições Municipais 2020  ...                    4F8FD6B9   \n",
              "14  Eleições Municipais 2020  ...                    4F8FD6B9   \n",
              "15  Eleições Municipais 2020  ...                    4F8FD6B9   \n",
              "16  Eleições Municipais 2020  ...                    4F8FD6B9   \n",
              "17  Eleições Municipais 2020  ...                    4F8FD6B9   \n",
              "18  Eleições Municipais 2020  ...                    4F8FD6B9   \n",
              "19  Eleições Municipais 2020  ...                    4F8FD6B9   \n",
              "\n",
              "    DT_CARGA_URNA_EFETIVADA DS_CARGO_PERGUNTA_SECAO  DS_AGREGADAS  \\\n",
              "0       2020-11-03 10:35:00                11 - 366        #NULO#   \n",
              "1       2020-11-03 10:35:00                11 - 366        #NULO#   \n",
              "2       2020-11-03 10:35:00                11 - 366        #NULO#   \n",
              "3       2020-11-03 10:35:00                11 - 366        #NULO#   \n",
              "4       2020-11-03 10:35:00                11 - 366        #NULO#   \n",
              "5       2020-11-03 10:35:00                11 - 366        #NULO#   \n",
              "6       2020-11-03 10:35:00                11 - 366        #NULO#   \n",
              "7       2020-11-03 10:35:00                11 - 366        #NULO#   \n",
              "8       2020-11-03 10:35:00                11 - 366        #NULO#   \n",
              "9       2020-11-03 10:35:00                11 - 366        #NULO#   \n",
              "10      2020-11-03 10:35:00                11 - 366        #NULO#   \n",
              "11      2020-11-03 11:30:00                11 - 367        #NULO#   \n",
              "12      2020-11-03 11:30:00                11 - 367        #NULO#   \n",
              "13      2020-11-03 11:30:00                11 - 367        #NULO#   \n",
              "14      2020-11-03 11:30:00                11 - 367        #NULO#   \n",
              "15      2020-11-03 11:30:00                11 - 367        #NULO#   \n",
              "16      2020-11-03 11:30:00                11 - 367        #NULO#   \n",
              "17      2020-11-03 11:30:00                11 - 367        #NULO#   \n",
              "18      2020-11-03 11:30:00                11 - 367        #NULO#   \n",
              "19      2020-11-03 11:30:00                11 - 367        #NULO#   \n",
              "\n",
              "           DT_ABERTURA     DT_ENCERRAMENTO  QT_ELEITORES_BIOMETRIA_NH  \\\n",
              "0  2020-11-15 07:00:00 2020-11-15 17:03:43                          0   \n",
              "1  2020-11-15 07:00:00 2020-11-15 17:03:43                          0   \n",
              "2  2020-11-15 07:00:00 2020-11-15 17:03:43                          0   \n",
              "3  2020-11-15 07:00:00 2020-11-15 17:03:43                          0   \n",
              "4  2020-11-15 07:00:00 2020-11-15 17:03:43                          0   \n",
              "5  2020-11-15 07:00:00 2020-11-15 17:03:43                          0   \n",
              "6  2020-11-15 07:00:00 2020-11-15 17:03:43                          0   \n",
              "7  2020-11-15 07:00:00 2020-11-15 17:03:43                          0   \n",
              "8  2020-11-15 07:00:00 2020-11-15 17:03:43                          0   \n",
              "9  2020-11-15 07:00:00 2020-11-15 17:03:43                          0   \n",
              "10 2020-11-15 07:00:00 2020-11-15 17:03:43                          0   \n",
              "11 2020-11-15 07:02:45 2020-11-15 17:08:41                          0   \n",
              "12 2020-11-15 07:02:45 2020-11-15 17:08:41                          0   \n",
              "13 2020-11-15 07:02:45 2020-11-15 17:08:41                          0   \n",
              "14 2020-11-15 07:02:45 2020-11-15 17:08:41                          0   \n",
              "15 2020-11-15 07:02:45 2020-11-15 17:08:41                          0   \n",
              "16 2020-11-15 07:02:45 2020-11-15 17:08:41                          0   \n",
              "17 2020-11-15 07:02:45 2020-11-15 17:08:41                          0   \n",
              "18 2020-11-15 07:02:45 2020-11-15 17:08:41                          0   \n",
              "19 2020-11-15 07:02:45 2020-11-15 17:08:41                          0   \n",
              "\n",
              "         DT_EMISSAO_BU  NR_JUNTA_APURADORA NR_TURMA_APURADORA  \n",
              "0  2020-11-15 17:06:12                  -1                 -1  \n",
              "1  2020-11-15 17:06:12                  -1                 -1  \n",
              "2  2020-11-15 17:06:12                  -1                 -1  \n",
              "3  2020-11-15 17:06:12                  -1                 -1  \n",
              "4  2020-11-15 17:06:12                  -1                 -1  \n",
              "5  2020-11-15 17:06:12                  -1                 -1  \n",
              "6  2020-11-15 17:06:12                  -1                 -1  \n",
              "7  2020-11-15 17:06:12                  -1                 -1  \n",
              "8  2020-11-15 17:06:12                  -1                 -1  \n",
              "9  2020-11-15 17:06:12                  -1                 -1  \n",
              "10 2020-11-15 17:06:12                  -1                 -1  \n",
              "11 2020-11-15 17:10:14                  -1                 -1  \n",
              "12 2020-11-15 17:10:14                  -1                 -1  \n",
              "13 2020-11-15 17:10:14                  -1                 -1  \n",
              "14 2020-11-15 17:10:14                  -1                 -1  \n",
              "15 2020-11-15 17:10:14                  -1                 -1  \n",
              "16 2020-11-15 17:10:14                  -1                 -1  \n",
              "17 2020-11-15 17:10:14                  -1                 -1  \n",
              "18 2020-11-15 17:10:14                  -1                 -1  \n",
              "19 2020-11-15 17:10:14                  -1                 -1  \n",
              "\n",
              "[20 rows x 45 columns]"
            ],
            "text/html": [
              "\n",
              "  <div id=\"df-71f9300b-6172-4265-acd0-6df45e1ed0a8\">\n",
              "    <div class=\"colab-df-container\">\n",
              "      <div>\n",
              "<style scoped>\n",
              "    .dataframe tbody tr th:only-of-type {\n",
              "        vertical-align: middle;\n",
              "    }\n",
              "\n",
              "    .dataframe tbody tr th {\n",
              "        vertical-align: top;\n",
              "    }\n",
              "\n",
              "    .dataframe thead th {\n",
              "        text-align: right;\n",
              "    }\n",
              "</style>\n",
              "<table border=\"1\" class=\"dataframe\">\n",
              "  <thead>\n",
              "    <tr style=\"text-align: right;\">\n",
              "      <th></th>\n",
              "      <th>DT_GERACAO</th>\n",
              "      <th>HH_GERACAO</th>\n",
              "      <th>ANO_ELEICAO</th>\n",
              "      <th>CD_TIPO_ELEICAO</th>\n",
              "      <th>NM_TIPO_ELEICAO</th>\n",
              "      <th>CD_PLEITO</th>\n",
              "      <th>DT_PLEITO</th>\n",
              "      <th>NR_TURNO</th>\n",
              "      <th>CD_ELEICAO</th>\n",
              "      <th>DS_ELEICAO</th>\n",
              "      <th>...</th>\n",
              "      <th>CD_FLASHCARD_URNA_EFETIVADA</th>\n",
              "      <th>DT_CARGA_URNA_EFETIVADA</th>\n",
              "      <th>DS_CARGO_PERGUNTA_SECAO</th>\n",
              "      <th>DS_AGREGADAS</th>\n",
              "      <th>DT_ABERTURA</th>\n",
              "      <th>DT_ENCERRAMENTO</th>\n",
              "      <th>QT_ELEITORES_BIOMETRIA_NH</th>\n",
              "      <th>DT_EMISSAO_BU</th>\n",
              "      <th>NR_JUNTA_APURADORA</th>\n",
              "      <th>NR_TURMA_APURADORA</th>\n",
              "    </tr>\n",
              "  </thead>\n",
              "  <tbody>\n",
              "    <tr>\n",
              "      <th>0</th>\n",
              "      <td>2020-11-18</td>\n",
              "      <td>2023-07-01 15:49:53</td>\n",
              "      <td>2020</td>\n",
              "      <td>0</td>\n",
              "      <td>Eleição Ordinária</td>\n",
              "      <td>304</td>\n",
              "      <td>2020-11-15</td>\n",
              "      <td>1</td>\n",
              "      <td>426</td>\n",
              "      <td>Eleições Municipais 2020</td>\n",
              "      <td>...</td>\n",
              "      <td>4F8FD6B9</td>\n",
              "      <td>2020-11-03 10:35:00</td>\n",
              "      <td>11 - 366</td>\n",
              "      <td>#NULO#</td>\n",
              "      <td>2020-11-15 07:00:00</td>\n",
              "      <td>2020-11-15 17:03:43</td>\n",
              "      <td>0</td>\n",
              "      <td>2020-11-15 17:06:12</td>\n",
              "      <td>-1</td>\n",
              "      <td>-1</td>\n",
              "    </tr>\n",
              "    <tr>\n",
              "      <th>1</th>\n",
              "      <td>2020-11-18</td>\n",
              "      <td>2023-07-01 15:49:53</td>\n",
              "      <td>2020</td>\n",
              "      <td>0</td>\n",
              "      <td>Eleição Ordinária</td>\n",
              "      <td>304</td>\n",
              "      <td>2020-11-15</td>\n",
              "      <td>1</td>\n",
              "      <td>426</td>\n",
              "      <td>Eleições Municipais 2020</td>\n",
              "      <td>...</td>\n",
              "      <td>4F8FD6B9</td>\n",
              "      <td>2020-11-03 10:35:00</td>\n",
              "      <td>11 - 366</td>\n",
              "      <td>#NULO#</td>\n",
              "      <td>2020-11-15 07:00:00</td>\n",
              "      <td>2020-11-15 17:03:43</td>\n",
              "      <td>0</td>\n",
              "      <td>2020-11-15 17:06:12</td>\n",
              "      <td>-1</td>\n",
              "      <td>-1</td>\n",
              "    </tr>\n",
              "    <tr>\n",
              "      <th>2</th>\n",
              "      <td>2020-11-18</td>\n",
              "      <td>2023-07-01 15:49:53</td>\n",
              "      <td>2020</td>\n",
              "      <td>0</td>\n",
              "      <td>Eleição Ordinária</td>\n",
              "      <td>304</td>\n",
              "      <td>2020-11-15</td>\n",
              "      <td>1</td>\n",
              "      <td>426</td>\n",
              "      <td>Eleições Municipais 2020</td>\n",
              "      <td>...</td>\n",
              "      <td>4F8FD6B9</td>\n",
              "      <td>2020-11-03 10:35:00</td>\n",
              "      <td>11 - 366</td>\n",
              "      <td>#NULO#</td>\n",
              "      <td>2020-11-15 07:00:00</td>\n",
              "      <td>2020-11-15 17:03:43</td>\n",
              "      <td>0</td>\n",
              "      <td>2020-11-15 17:06:12</td>\n",
              "      <td>-1</td>\n",
              "      <td>-1</td>\n",
              "    </tr>\n",
              "    <tr>\n",
              "      <th>3</th>\n",
              "      <td>2020-11-18</td>\n",
              "      <td>2023-07-01 15:49:53</td>\n",
              "      <td>2020</td>\n",
              "      <td>0</td>\n",
              "      <td>Eleição Ordinária</td>\n",
              "      <td>304</td>\n",
              "      <td>2020-11-15</td>\n",
              "      <td>1</td>\n",
              "      <td>426</td>\n",
              "      <td>Eleições Municipais 2020</td>\n",
              "      <td>...</td>\n",
              "      <td>4F8FD6B9</td>\n",
              "      <td>2020-11-03 10:35:00</td>\n",
              "      <td>11 - 366</td>\n",
              "      <td>#NULO#</td>\n",
              "      <td>2020-11-15 07:00:00</td>\n",
              "      <td>2020-11-15 17:03:43</td>\n",
              "      <td>0</td>\n",
              "      <td>2020-11-15 17:06:12</td>\n",
              "      <td>-1</td>\n",
              "      <td>-1</td>\n",
              "    </tr>\n",
              "    <tr>\n",
              "      <th>4</th>\n",
              "      <td>2020-11-18</td>\n",
              "      <td>2023-07-01 15:49:53</td>\n",
              "      <td>2020</td>\n",
              "      <td>0</td>\n",
              "      <td>Eleição Ordinária</td>\n",
              "      <td>304</td>\n",
              "      <td>2020-11-15</td>\n",
              "      <td>1</td>\n",
              "      <td>426</td>\n",
              "      <td>Eleições Municipais 2020</td>\n",
              "      <td>...</td>\n",
              "      <td>4F8FD6B9</td>\n",
              "      <td>2020-11-03 10:35:00</td>\n",
              "      <td>11 - 366</td>\n",
              "      <td>#NULO#</td>\n",
              "      <td>2020-11-15 07:00:00</td>\n",
              "      <td>2020-11-15 17:03:43</td>\n",
              "      <td>0</td>\n",
              "      <td>2020-11-15 17:06:12</td>\n",
              "      <td>-1</td>\n",
              "      <td>-1</td>\n",
              "    </tr>\n",
              "    <tr>\n",
              "      <th>5</th>\n",
              "      <td>2020-11-18</td>\n",
              "      <td>2023-07-01 15:49:53</td>\n",
              "      <td>2020</td>\n",
              "      <td>0</td>\n",
              "      <td>Eleição Ordinária</td>\n",
              "      <td>304</td>\n",
              "      <td>2020-11-15</td>\n",
              "      <td>1</td>\n",
              "      <td>426</td>\n",
              "      <td>Eleições Municipais 2020</td>\n",
              "      <td>...</td>\n",
              "      <td>4F8FD6B9</td>\n",
              "      <td>2020-11-03 10:35:00</td>\n",
              "      <td>11 - 366</td>\n",
              "      <td>#NULO#</td>\n",
              "      <td>2020-11-15 07:00:00</td>\n",
              "      <td>2020-11-15 17:03:43</td>\n",
              "      <td>0</td>\n",
              "      <td>2020-11-15 17:06:12</td>\n",
              "      <td>-1</td>\n",
              "      <td>-1</td>\n",
              "    </tr>\n",
              "    <tr>\n",
              "      <th>6</th>\n",
              "      <td>2020-11-18</td>\n",
              "      <td>2023-07-01 15:49:53</td>\n",
              "      <td>2020</td>\n",
              "      <td>0</td>\n",
              "      <td>Eleição Ordinária</td>\n",
              "      <td>304</td>\n",
              "      <td>2020-11-15</td>\n",
              "      <td>1</td>\n",
              "      <td>426</td>\n",
              "      <td>Eleições Municipais 2020</td>\n",
              "      <td>...</td>\n",
              "      <td>4F8FD6B9</td>\n",
              "      <td>2020-11-03 10:35:00</td>\n",
              "      <td>11 - 366</td>\n",
              "      <td>#NULO#</td>\n",
              "      <td>2020-11-15 07:00:00</td>\n",
              "      <td>2020-11-15 17:03:43</td>\n",
              "      <td>0</td>\n",
              "      <td>2020-11-15 17:06:12</td>\n",
              "      <td>-1</td>\n",
              "      <td>-1</td>\n",
              "    </tr>\n",
              "    <tr>\n",
              "      <th>7</th>\n",
              "      <td>2020-11-18</td>\n",
              "      <td>2023-07-01 15:49:53</td>\n",
              "      <td>2020</td>\n",
              "      <td>0</td>\n",
              "      <td>Eleição Ordinária</td>\n",
              "      <td>304</td>\n",
              "      <td>2020-11-15</td>\n",
              "      <td>1</td>\n",
              "      <td>426</td>\n",
              "      <td>Eleições Municipais 2020</td>\n",
              "      <td>...</td>\n",
              "      <td>4F8FD6B9</td>\n",
              "      <td>2020-11-03 10:35:00</td>\n",
              "      <td>11 - 366</td>\n",
              "      <td>#NULO#</td>\n",
              "      <td>2020-11-15 07:00:00</td>\n",
              "      <td>2020-11-15 17:03:43</td>\n",
              "      <td>0</td>\n",
              "      <td>2020-11-15 17:06:12</td>\n",
              "      <td>-1</td>\n",
              "      <td>-1</td>\n",
              "    </tr>\n",
              "    <tr>\n",
              "      <th>8</th>\n",
              "      <td>2020-11-18</td>\n",
              "      <td>2023-07-01 15:49:53</td>\n",
              "      <td>2020</td>\n",
              "      <td>0</td>\n",
              "      <td>Eleição Ordinária</td>\n",
              "      <td>304</td>\n",
              "      <td>2020-11-15</td>\n",
              "      <td>1</td>\n",
              "      <td>426</td>\n",
              "      <td>Eleições Municipais 2020</td>\n",
              "      <td>...</td>\n",
              "      <td>4F8FD6B9</td>\n",
              "      <td>2020-11-03 10:35:00</td>\n",
              "      <td>11 - 366</td>\n",
              "      <td>#NULO#</td>\n",
              "      <td>2020-11-15 07:00:00</td>\n",
              "      <td>2020-11-15 17:03:43</td>\n",
              "      <td>0</td>\n",
              "      <td>2020-11-15 17:06:12</td>\n",
              "      <td>-1</td>\n",
              "      <td>-1</td>\n",
              "    </tr>\n",
              "    <tr>\n",
              "      <th>9</th>\n",
              "      <td>2020-11-18</td>\n",
              "      <td>2023-07-01 15:49:53</td>\n",
              "      <td>2020</td>\n",
              "      <td>0</td>\n",
              "      <td>Eleição Ordinária</td>\n",
              "      <td>304</td>\n",
              "      <td>2020-11-15</td>\n",
              "      <td>1</td>\n",
              "      <td>426</td>\n",
              "      <td>Eleições Municipais 2020</td>\n",
              "      <td>...</td>\n",
              "      <td>4F8FD6B9</td>\n",
              "      <td>2020-11-03 10:35:00</td>\n",
              "      <td>11 - 366</td>\n",
              "      <td>#NULO#</td>\n",
              "      <td>2020-11-15 07:00:00</td>\n",
              "      <td>2020-11-15 17:03:43</td>\n",
              "      <td>0</td>\n",
              "      <td>2020-11-15 17:06:12</td>\n",
              "      <td>-1</td>\n",
              "      <td>-1</td>\n",
              "    </tr>\n",
              "    <tr>\n",
              "      <th>10</th>\n",
              "      <td>2020-11-18</td>\n",
              "      <td>2023-07-01 15:49:53</td>\n",
              "      <td>2020</td>\n",
              "      <td>0</td>\n",
              "      <td>Eleição Ordinária</td>\n",
              "      <td>304</td>\n",
              "      <td>2020-11-15</td>\n",
              "      <td>1</td>\n",
              "      <td>426</td>\n",
              "      <td>Eleições Municipais 2020</td>\n",
              "      <td>...</td>\n",
              "      <td>4F8FD6B9</td>\n",
              "      <td>2020-11-03 10:35:00</td>\n",
              "      <td>11 - 366</td>\n",
              "      <td>#NULO#</td>\n",
              "      <td>2020-11-15 07:00:00</td>\n",
              "      <td>2020-11-15 17:03:43</td>\n",
              "      <td>0</td>\n",
              "      <td>2020-11-15 17:06:12</td>\n",
              "      <td>-1</td>\n",
              "      <td>-1</td>\n",
              "    </tr>\n",
              "    <tr>\n",
              "      <th>11</th>\n",
              "      <td>2020-11-18</td>\n",
              "      <td>2023-07-01 15:49:53</td>\n",
              "      <td>2020</td>\n",
              "      <td>0</td>\n",
              "      <td>Eleição Ordinária</td>\n",
              "      <td>304</td>\n",
              "      <td>2020-11-15</td>\n",
              "      <td>1</td>\n",
              "      <td>426</td>\n",
              "      <td>Eleições Municipais 2020</td>\n",
              "      <td>...</td>\n",
              "      <td>4F8FD6B9</td>\n",
              "      <td>2020-11-03 11:30:00</td>\n",
              "      <td>11 - 367</td>\n",
              "      <td>#NULO#</td>\n",
              "      <td>2020-11-15 07:02:45</td>\n",
              "      <td>2020-11-15 17:08:41</td>\n",
              "      <td>0</td>\n",
              "      <td>2020-11-15 17:10:14</td>\n",
              "      <td>-1</td>\n",
              "      <td>-1</td>\n",
              "    </tr>\n",
              "    <tr>\n",
              "      <th>12</th>\n",
              "      <td>2020-11-18</td>\n",
              "      <td>2023-07-01 15:49:53</td>\n",
              "      <td>2020</td>\n",
              "      <td>0</td>\n",
              "      <td>Eleição Ordinária</td>\n",
              "      <td>304</td>\n",
              "      <td>2020-11-15</td>\n",
              "      <td>1</td>\n",
              "      <td>426</td>\n",
              "      <td>Eleições Municipais 2020</td>\n",
              "      <td>...</td>\n",
              "      <td>4F8FD6B9</td>\n",
              "      <td>2020-11-03 11:30:00</td>\n",
              "      <td>11 - 367</td>\n",
              "      <td>#NULO#</td>\n",
              "      <td>2020-11-15 07:02:45</td>\n",
              "      <td>2020-11-15 17:08:41</td>\n",
              "      <td>0</td>\n",
              "      <td>2020-11-15 17:10:14</td>\n",
              "      <td>-1</td>\n",
              "      <td>-1</td>\n",
              "    </tr>\n",
              "    <tr>\n",
              "      <th>13</th>\n",
              "      <td>2020-11-18</td>\n",
              "      <td>2023-07-01 15:49:53</td>\n",
              "      <td>2020</td>\n",
              "      <td>0</td>\n",
              "      <td>Eleição Ordinária</td>\n",
              "      <td>304</td>\n",
              "      <td>2020-11-15</td>\n",
              "      <td>1</td>\n",
              "      <td>426</td>\n",
              "      <td>Eleições Municipais 2020</td>\n",
              "      <td>...</td>\n",
              "      <td>4F8FD6B9</td>\n",
              "      <td>2020-11-03 11:30:00</td>\n",
              "      <td>11 - 367</td>\n",
              "      <td>#NULO#</td>\n",
              "      <td>2020-11-15 07:02:45</td>\n",
              "      <td>2020-11-15 17:08:41</td>\n",
              "      <td>0</td>\n",
              "      <td>2020-11-15 17:10:14</td>\n",
              "      <td>-1</td>\n",
              "      <td>-1</td>\n",
              "    </tr>\n",
              "    <tr>\n",
              "      <th>14</th>\n",
              "      <td>2020-11-18</td>\n",
              "      <td>2023-07-01 15:49:53</td>\n",
              "      <td>2020</td>\n",
              "      <td>0</td>\n",
              "      <td>Eleição Ordinária</td>\n",
              "      <td>304</td>\n",
              "      <td>2020-11-15</td>\n",
              "      <td>1</td>\n",
              "      <td>426</td>\n",
              "      <td>Eleições Municipais 2020</td>\n",
              "      <td>...</td>\n",
              "      <td>4F8FD6B9</td>\n",
              "      <td>2020-11-03 11:30:00</td>\n",
              "      <td>11 - 367</td>\n",
              "      <td>#NULO#</td>\n",
              "      <td>2020-11-15 07:02:45</td>\n",
              "      <td>2020-11-15 17:08:41</td>\n",
              "      <td>0</td>\n",
              "      <td>2020-11-15 17:10:14</td>\n",
              "      <td>-1</td>\n",
              "      <td>-1</td>\n",
              "    </tr>\n",
              "    <tr>\n",
              "      <th>15</th>\n",
              "      <td>2020-11-18</td>\n",
              "      <td>2023-07-01 15:49:53</td>\n",
              "      <td>2020</td>\n",
              "      <td>0</td>\n",
              "      <td>Eleição Ordinária</td>\n",
              "      <td>304</td>\n",
              "      <td>2020-11-15</td>\n",
              "      <td>1</td>\n",
              "      <td>426</td>\n",
              "      <td>Eleições Municipais 2020</td>\n",
              "      <td>...</td>\n",
              "      <td>4F8FD6B9</td>\n",
              "      <td>2020-11-03 11:30:00</td>\n",
              "      <td>11 - 367</td>\n",
              "      <td>#NULO#</td>\n",
              "      <td>2020-11-15 07:02:45</td>\n",
              "      <td>2020-11-15 17:08:41</td>\n",
              "      <td>0</td>\n",
              "      <td>2020-11-15 17:10:14</td>\n",
              "      <td>-1</td>\n",
              "      <td>-1</td>\n",
              "    </tr>\n",
              "    <tr>\n",
              "      <th>16</th>\n",
              "      <td>2020-11-18</td>\n",
              "      <td>2023-07-01 15:49:53</td>\n",
              "      <td>2020</td>\n",
              "      <td>0</td>\n",
              "      <td>Eleição Ordinária</td>\n",
              "      <td>304</td>\n",
              "      <td>2020-11-15</td>\n",
              "      <td>1</td>\n",
              "      <td>426</td>\n",
              "      <td>Eleições Municipais 2020</td>\n",
              "      <td>...</td>\n",
              "      <td>4F8FD6B9</td>\n",
              "      <td>2020-11-03 11:30:00</td>\n",
              "      <td>11 - 367</td>\n",
              "      <td>#NULO#</td>\n",
              "      <td>2020-11-15 07:02:45</td>\n",
              "      <td>2020-11-15 17:08:41</td>\n",
              "      <td>0</td>\n",
              "      <td>2020-11-15 17:10:14</td>\n",
              "      <td>-1</td>\n",
              "      <td>-1</td>\n",
              "    </tr>\n",
              "    <tr>\n",
              "      <th>17</th>\n",
              "      <td>2020-11-18</td>\n",
              "      <td>2023-07-01 15:49:53</td>\n",
              "      <td>2020</td>\n",
              "      <td>0</td>\n",
              "      <td>Eleição Ordinária</td>\n",
              "      <td>304</td>\n",
              "      <td>2020-11-15</td>\n",
              "      <td>1</td>\n",
              "      <td>426</td>\n",
              "      <td>Eleições Municipais 2020</td>\n",
              "      <td>...</td>\n",
              "      <td>4F8FD6B9</td>\n",
              "      <td>2020-11-03 11:30:00</td>\n",
              "      <td>11 - 367</td>\n",
              "      <td>#NULO#</td>\n",
              "      <td>2020-11-15 07:02:45</td>\n",
              "      <td>2020-11-15 17:08:41</td>\n",
              "      <td>0</td>\n",
              "      <td>2020-11-15 17:10:14</td>\n",
              "      <td>-1</td>\n",
              "      <td>-1</td>\n",
              "    </tr>\n",
              "    <tr>\n",
              "      <th>18</th>\n",
              "      <td>2020-11-18</td>\n",
              "      <td>2023-07-01 15:49:53</td>\n",
              "      <td>2020</td>\n",
              "      <td>0</td>\n",
              "      <td>Eleição Ordinária</td>\n",
              "      <td>304</td>\n",
              "      <td>2020-11-15</td>\n",
              "      <td>1</td>\n",
              "      <td>426</td>\n",
              "      <td>Eleições Municipais 2020</td>\n",
              "      <td>...</td>\n",
              "      <td>4F8FD6B9</td>\n",
              "      <td>2020-11-03 11:30:00</td>\n",
              "      <td>11 - 367</td>\n",
              "      <td>#NULO#</td>\n",
              "      <td>2020-11-15 07:02:45</td>\n",
              "      <td>2020-11-15 17:08:41</td>\n",
              "      <td>0</td>\n",
              "      <td>2020-11-15 17:10:14</td>\n",
              "      <td>-1</td>\n",
              "      <td>-1</td>\n",
              "    </tr>\n",
              "    <tr>\n",
              "      <th>19</th>\n",
              "      <td>2020-11-18</td>\n",
              "      <td>2023-07-01 15:49:53</td>\n",
              "      <td>2020</td>\n",
              "      <td>0</td>\n",
              "      <td>Eleição Ordinária</td>\n",
              "      <td>304</td>\n",
              "      <td>2020-11-15</td>\n",
              "      <td>1</td>\n",
              "      <td>426</td>\n",
              "      <td>Eleições Municipais 2020</td>\n",
              "      <td>...</td>\n",
              "      <td>4F8FD6B9</td>\n",
              "      <td>2020-11-03 11:30:00</td>\n",
              "      <td>11 - 367</td>\n",
              "      <td>#NULO#</td>\n",
              "      <td>2020-11-15 07:02:45</td>\n",
              "      <td>2020-11-15 17:08:41</td>\n",
              "      <td>0</td>\n",
              "      <td>2020-11-15 17:10:14</td>\n",
              "      <td>-1</td>\n",
              "      <td>-1</td>\n",
              "    </tr>\n",
              "  </tbody>\n",
              "</table>\n",
              "<p>20 rows × 45 columns</p>\n",
              "</div>\n",
              "      <button class=\"colab-df-convert\" onclick=\"convertToInteractive('df-71f9300b-6172-4265-acd0-6df45e1ed0a8')\"\n",
              "              title=\"Convert this dataframe to an interactive table.\"\n",
              "              style=\"display:none;\">\n",
              "        \n",
              "  <svg xmlns=\"http://www.w3.org/2000/svg\" height=\"24px\"viewBox=\"0 0 24 24\"\n",
              "       width=\"24px\">\n",
              "    <path d=\"M0 0h24v24H0V0z\" fill=\"none\"/>\n",
              "    <path d=\"M18.56 5.44l.94 2.06.94-2.06 2.06-.94-2.06-.94-.94-2.06-.94 2.06-2.06.94zm-11 1L8.5 8.5l.94-2.06 2.06-.94-2.06-.94L8.5 2.5l-.94 2.06-2.06.94zm10 10l.94 2.06.94-2.06 2.06-.94-2.06-.94-.94-2.06-.94 2.06-2.06.94z\"/><path d=\"M17.41 7.96l-1.37-1.37c-.4-.4-.92-.59-1.43-.59-.52 0-1.04.2-1.43.59L10.3 9.45l-7.72 7.72c-.78.78-.78 2.05 0 2.83L4 21.41c.39.39.9.59 1.41.59.51 0 1.02-.2 1.41-.59l7.78-7.78 2.81-2.81c.8-.78.8-2.07 0-2.86zM5.41 20L4 18.59l7.72-7.72 1.47 1.35L5.41 20z\"/>\n",
              "  </svg>\n",
              "      </button>\n",
              "      \n",
              "  <style>\n",
              "    .colab-df-container {\n",
              "      display:flex;\n",
              "      flex-wrap:wrap;\n",
              "      gap: 12px;\n",
              "    }\n",
              "\n",
              "    .colab-df-convert {\n",
              "      background-color: #E8F0FE;\n",
              "      border: none;\n",
              "      border-radius: 50%;\n",
              "      cursor: pointer;\n",
              "      display: none;\n",
              "      fill: #1967D2;\n",
              "      height: 32px;\n",
              "      padding: 0 0 0 0;\n",
              "      width: 32px;\n",
              "    }\n",
              "\n",
              "    .colab-df-convert:hover {\n",
              "      background-color: #E2EBFA;\n",
              "      box-shadow: 0px 1px 2px rgba(60, 64, 67, 0.3), 0px 1px 3px 1px rgba(60, 64, 67, 0.15);\n",
              "      fill: #174EA6;\n",
              "    }\n",
              "\n",
              "    [theme=dark] .colab-df-convert {\n",
              "      background-color: #3B4455;\n",
              "      fill: #D2E3FC;\n",
              "    }\n",
              "\n",
              "    [theme=dark] .colab-df-convert:hover {\n",
              "      background-color: #434B5C;\n",
              "      box-shadow: 0px 1px 3px 1px rgba(0, 0, 0, 0.15);\n",
              "      filter: drop-shadow(0px 1px 2px rgba(0, 0, 0, 0.3));\n",
              "      fill: #FFFFFF;\n",
              "    }\n",
              "  </style>\n",
              "\n",
              "      <script>\n",
              "        const buttonEl =\n",
              "          document.querySelector('#df-71f9300b-6172-4265-acd0-6df45e1ed0a8 button.colab-df-convert');\n",
              "        buttonEl.style.display =\n",
              "          google.colab.kernel.accessAllowed ? 'block' : 'none';\n",
              "\n",
              "        async function convertToInteractive(key) {\n",
              "          const element = document.querySelector('#df-71f9300b-6172-4265-acd0-6df45e1ed0a8');\n",
              "          const dataTable =\n",
              "            await google.colab.kernel.invokeFunction('convertToInteractive',\n",
              "                                                     [key], {});\n",
              "          if (!dataTable) return;\n",
              "\n",
              "          const docLinkHtml = 'Like what you see? Visit the ' +\n",
              "            '<a target=\"_blank\" href=https://colab.research.google.com/notebooks/data_table.ipynb>data table notebook</a>'\n",
              "            + ' to learn more about interactive tables.';\n",
              "          element.innerHTML = '';\n",
              "          dataTable['output_type'] = 'display_data';\n",
              "          await google.colab.output.renderOutput(dataTable, element);\n",
              "          const docLink = document.createElement('div');\n",
              "          docLink.innerHTML = docLinkHtml;\n",
              "          element.appendChild(docLink);\n",
              "        }\n",
              "      </script>\n",
              "    </div>\n",
              "  </div>\n",
              "  "
            ]
          },
          "metadata": {},
          "execution_count": 10
        }
      ]
    },
    {
      "cell_type": "markdown",
      "source": [
        "## Análises com Dataframes\n",
        "\n",
        "Seleção de dados, similar ao ```SELECT``` do SQL, definindo quais colunas deverá ser exibido.\n",
        "\n",
        "Por exemplo, vamos exibar as colunas Estado, Município, Quantidade de Eleitores Aptos, e Quantidade de Comparecimento."
      ],
      "metadata": {
        "id": "EO3Io_d8q4Ai"
      }
    },
    {
      "cell_type": "code",
      "source": [
        "dados\\\n",
        "  .select(\"SG_UF\", \"NM_MUNICIPIO\", \"QT_APTOS\", \"QT_COMPARECIMENTO\")\\\n",
        "  .show(30)\n",
        "\n"
      ],
      "metadata": {
        "colab": {
          "base_uri": "https://localhost:8080/"
        },
        "id": "zM5x4Xx-rUzu",
        "outputId": "3e55189b-fbbb-47ac-99f4-d91a6570747f"
      },
      "execution_count": null,
      "outputs": [
        {
          "output_type": "stream",
          "name": "stdout",
          "text": [
            "+-----+--------------+--------+-----------------+\n",
            "|SG_UF|  NM_MUNICIPIO|QT_APTOS|QT_COMPARECIMENTO|\n",
            "+-----+--------------+--------+-----------------+\n",
            "|   RJ|RIO DE JANEIRO|     413|              229|\n",
            "|   RJ|RIO DE JANEIRO|     413|              229|\n",
            "|   RJ|RIO DE JANEIRO|     413|              229|\n",
            "|   RJ|RIO DE JANEIRO|     413|              229|\n",
            "|   RJ|RIO DE JANEIRO|     413|              229|\n",
            "|   RJ|RIO DE JANEIRO|     413|              229|\n",
            "|   RJ|RIO DE JANEIRO|     413|              229|\n",
            "|   RJ|RIO DE JANEIRO|     413|              229|\n",
            "|   RJ|RIO DE JANEIRO|     413|              229|\n",
            "|   RJ|RIO DE JANEIRO|     413|              229|\n",
            "|   RJ|RIO DE JANEIRO|     413|              229|\n",
            "|   RJ|RIO DE JANEIRO|     409|              213|\n",
            "|   RJ|RIO DE JANEIRO|     409|              213|\n",
            "|   RJ|RIO DE JANEIRO|     409|              213|\n",
            "|   RJ|RIO DE JANEIRO|     409|              213|\n",
            "|   RJ|RIO DE JANEIRO|     409|              213|\n",
            "|   RJ|RIO DE JANEIRO|     409|              213|\n",
            "|   RJ|RIO DE JANEIRO|     409|              213|\n",
            "|   RJ|RIO DE JANEIRO|     409|              213|\n",
            "|   RJ|RIO DE JANEIRO|     409|              213|\n",
            "|   RJ|RIO DE JANEIRO|     409|              213|\n",
            "|   RJ|RIO DE JANEIRO|     409|              213|\n",
            "|   RJ|RIO DE JANEIRO|     409|              213|\n",
            "|   RJ|RIO DE JANEIRO|     412|              214|\n",
            "|   RJ|RIO DE JANEIRO|     412|              214|\n",
            "|   RJ|RIO DE JANEIRO|     412|              214|\n",
            "|   RJ|RIO DE JANEIRO|     412|              214|\n",
            "|   RJ|RIO DE JANEIRO|     412|              214|\n",
            "|   RJ|RIO DE JANEIRO|     412|              214|\n",
            "|   RJ|RIO DE JANEIRO|     412|              214|\n",
            "+-----+--------------+--------+-----------------+\n",
            "only showing top 30 rows\n",
            "\n"
          ]
        }
      ]
    },
    {
      "cell_type": "markdown",
      "source": [
        "Ordenando dados, pelo Estado."
      ],
      "metadata": {
        "id": "ulwwa2qhr2M6"
      }
    },
    {
      "cell_type": "code",
      "source": [
        "dados\\\n",
        "  .select(\"SG_UF\", \"NM_MUNICIPIO\", \"QT_APTOS\", \"QT_COMPARECIMENTO\")\\\n",
        "  .orderBy(\"SG_UF\", ascending=True)\\\n",
        "  .show(20)"
      ],
      "metadata": {
        "colab": {
          "base_uri": "https://localhost:8080/"
        },
        "id": "B7U6NyZxr4bF",
        "outputId": "e4e4f12e-392e-4526-c9e6-85f16e638cec"
      },
      "execution_count": null,
      "outputs": [
        {
          "output_type": "stream",
          "name": "stdout",
          "text": [
            "+-----+------------+--------+-----------------+\n",
            "|SG_UF|NM_MUNICIPIO|QT_APTOS|QT_COMPARECIMENTO|\n",
            "+-----+------------+--------+-----------------+\n",
            "|   AC|  ACRELÂNDIA|     382|              277|\n",
            "|   AC|  ACRELÂNDIA|     383|              291|\n",
            "|   AC|  ACRELÂNDIA|     382|              277|\n",
            "|   AC|  ACRELÂNDIA|     382|              277|\n",
            "|   AC|  ACRELÂNDIA|     382|              277|\n",
            "|   AC|  ACRELÂNDIA|     382|              277|\n",
            "|   AC|  ACRELÂNDIA|     382|              277|\n",
            "|   AC|  ACRELÂNDIA|     430|              350|\n",
            "|   AC|  ACRELÂNDIA|     430|              350|\n",
            "|   AC|  ACRELÂNDIA|     430|              350|\n",
            "|   AC|  ACRELÂNDIA|     430|              350|\n",
            "|   AC|  ACRELÂNDIA|     430|              350|\n",
            "|   AC|  ACRELÂNDIA|     430|              350|\n",
            "|   AC|  ACRELÂNDIA|     427|              338|\n",
            "|   AC|  ACRELÂNDIA|     427|              338|\n",
            "|   AC|  ACRELÂNDIA|     427|              338|\n",
            "|   AC|  ACRELÂNDIA|     427|              338|\n",
            "|   AC|  ACRELÂNDIA|     427|              338|\n",
            "|   AC|  ACRELÂNDIA|     427|              338|\n",
            "|   AC|  ACRELÂNDIA|     383|              291|\n",
            "+-----+------------+--------+-----------------+\n",
            "only showing top 20 rows\n",
            "\n"
          ]
        }
      ]
    },
    {
      "cell_type": "markdown",
      "source": [
        "Ordenando dados, pelo Estado e por Muncípio, ordem decrescente."
      ],
      "metadata": {
        "id": "cY7HUsfAsgLO"
      }
    },
    {
      "cell_type": "code",
      "source": [
        "dados\\\n",
        "  .select(\"SG_UF\", \"NM_MUNICIPIO\", \"QT_APTOS\", \"QT_COMPARECIMENTO\")\\\n",
        "  .orderBy(\"SG_UF\",\"NM_MUNICIPIO\", ascending=False)\\\n",
        "  .show(20)"
      ],
      "metadata": {
        "colab": {
          "base_uri": "https://localhost:8080/"
        },
        "id": "cUgK3hEssVdB",
        "outputId": "2746e49f-1fdc-4254-e853-ef93554d529c"
      },
      "execution_count": null,
      "outputs": [
        {
          "output_type": "stream",
          "name": "stdout",
          "text": [
            "+-----+------------+--------+-----------------+\n",
            "|SG_UF|NM_MUNICIPIO|QT_APTOS|QT_COMPARECIMENTO|\n",
            "+-----+------------+--------+-----------------+\n",
            "|   TO|     XAMBIOÁ|     202|              178|\n",
            "|   TO|     XAMBIOÁ|     204|              174|\n",
            "|   TO|     XAMBIOÁ|     202|              178|\n",
            "|   TO|     XAMBIOÁ|     202|              178|\n",
            "|   TO|     XAMBIOÁ|     202|              178|\n",
            "|   TO|     XAMBIOÁ|     202|              178|\n",
            "|   TO|     XAMBIOÁ|     202|              178|\n",
            "|   TO|     XAMBIOÁ|     353|              297|\n",
            "|   TO|     XAMBIOÁ|     353|              297|\n",
            "|   TO|     XAMBIOÁ|     353|              297|\n",
            "|   TO|     XAMBIOÁ|     353|              297|\n",
            "|   TO|     XAMBIOÁ|     353|              297|\n",
            "|   TO|     XAMBIOÁ|     353|              297|\n",
            "|   TO|     XAMBIOÁ|     321|              274|\n",
            "|   TO|     XAMBIOÁ|     321|              274|\n",
            "|   TO|     XAMBIOÁ|     321|              274|\n",
            "|   TO|     XAMBIOÁ|     321|              274|\n",
            "|   TO|     XAMBIOÁ|     321|              274|\n",
            "|   TO|     XAMBIOÁ|     321|              274|\n",
            "|   TO|     XAMBIOÁ|     204|              174|\n",
            "+-----+------------+--------+-----------------+\n",
            "only showing top 20 rows\n",
            "\n"
          ]
        }
      ]
    },
    {
      "cell_type": "markdown",
      "source": [
        "Para termos ordenações distintas para cada coluna, vamos precisar utilizar dentro do pacote de funções do PySpark, os métodos ```col``` para referenciar uma coluna e os referente a ordenação ```desc()``` e ```asc()```"
      ],
      "metadata": {
        "id": "tOlkqlZyIkZS"
      }
    },
    {
      "cell_type": "code",
      "source": [
        "dados\\\n",
        "  .select(\"SG_UF\", \"NM_MUNICIPIO\", \"QT_APTOS\", \"QT_COMPARECIMENTO\")\\\n",
        "  .orderBy(f.col(\"SG_UF\").asc(), f.col(\"NM_MUNICIPIO\").desc())\\\n",
        "  .show(20)"
      ],
      "metadata": {
        "colab": {
          "base_uri": "https://localhost:8080/"
        },
        "id": "q63k-MlpH9oY",
        "outputId": "6d068ad1-d155-4af4-ab97-5e1cf3ed7628"
      },
      "execution_count": null,
      "outputs": [
        {
          "output_type": "stream",
          "name": "stdout",
          "text": [
            "+-----+------------+--------+-----------------+\n",
            "|SG_UF|NM_MUNICIPIO|QT_APTOS|QT_COMPARECIMENTO|\n",
            "+-----+------------+--------+-----------------+\n",
            "|   AC|      XAPURI|     210|              177|\n",
            "|   AC|      XAPURI|     209|              157|\n",
            "|   AC|      XAPURI|     210|              177|\n",
            "|   AC|      XAPURI|     210|              177|\n",
            "|   AC|      XAPURI|     210|              177|\n",
            "|   AC|      XAPURI|     210|              177|\n",
            "|   AC|      XAPURI|     207|              168|\n",
            "|   AC|      XAPURI|     207|              168|\n",
            "|   AC|      XAPURI|     207|              168|\n",
            "|   AC|      XAPURI|     207|              168|\n",
            "|   AC|      XAPURI|     207|              168|\n",
            "|   AC|      XAPURI|     207|              168|\n",
            "|   AC|      XAPURI|     213|              165|\n",
            "|   AC|      XAPURI|     213|              165|\n",
            "|   AC|      XAPURI|     213|              165|\n",
            "|   AC|      XAPURI|     213|              165|\n",
            "|   AC|      XAPURI|     213|              165|\n",
            "|   AC|      XAPURI|     213|              165|\n",
            "|   AC|      XAPURI|     209|              157|\n",
            "|   AC|      XAPURI|     209|              157|\n",
            "+-----+------------+--------+-----------------+\n",
            "only showing top 20 rows\n",
            "\n"
          ]
        }
      ]
    },
    {
      "cell_type": "markdown",
      "source": [
        "Filtrando dados considerando somente o Estado de São Paulo e o Município de São Paulo."
      ],
      "metadata": {
        "id": "fU4J3KX3spYD"
      }
    },
    {
      "cell_type": "code",
      "source": [
        "dados\\\n",
        "  .select(\"SG_UF\", \"NM_MUNICIPIO\", \"QT_APTOS\", \"QT_COMPARECIMENTO\")\\\n",
        "  .where(\"`SG_UF`=='SP' AND NM_MUNICIPIO=='SÃO PAULO'\")\\\n",
        "  .show(30)"
      ],
      "metadata": {
        "colab": {
          "base_uri": "https://localhost:8080/"
        },
        "id": "DW4pN1RQsxPg",
        "outputId": "e62c881b-ae36-4dd5-d2c8-24dc88a7fdac"
      },
      "execution_count": null,
      "outputs": [
        {
          "output_type": "stream",
          "name": "stdout",
          "text": [
            "+-----+------------+--------+-----------------+\n",
            "|SG_UF|NM_MUNICIPIO|QT_APTOS|QT_COMPARECIMENTO|\n",
            "+-----+------------+--------+-----------------+\n",
            "|   SP|   SÃO PAULO|     339|              253|\n",
            "|   SP|   SÃO PAULO|     339|              253|\n",
            "|   SP|   SÃO PAULO|     339|              253|\n",
            "|   SP|   SÃO PAULO|     339|              253|\n",
            "|   SP|   SÃO PAULO|     339|              253|\n",
            "|   SP|   SÃO PAULO|     339|              253|\n",
            "|   SP|   SÃO PAULO|     339|              253|\n",
            "|   SP|   SÃO PAULO|     339|              253|\n",
            "|   SP|   SÃO PAULO|     339|              253|\n",
            "|   SP|   SÃO PAULO|     339|              253|\n",
            "|   SP|   SÃO PAULO|     449|              350|\n",
            "|   SP|   SÃO PAULO|     449|              350|\n",
            "|   SP|   SÃO PAULO|     449|              350|\n",
            "|   SP|   SÃO PAULO|     449|              350|\n",
            "|   SP|   SÃO PAULO|     449|              350|\n",
            "|   SP|   SÃO PAULO|     449|              350|\n",
            "|   SP|   SÃO PAULO|     449|              350|\n",
            "|   SP|   SÃO PAULO|     449|              350|\n",
            "|   SP|   SÃO PAULO|     449|              350|\n",
            "|   SP|   SÃO PAULO|     449|              350|\n",
            "|   SP|   SÃO PAULO|     449|              350|\n",
            "|   SP|   SÃO PAULO|     449|              350|\n",
            "|   SP|   SÃO PAULO|     449|              363|\n",
            "|   SP|   SÃO PAULO|     449|              363|\n",
            "|   SP|   SÃO PAULO|     449|              363|\n",
            "|   SP|   SÃO PAULO|     449|              363|\n",
            "|   SP|   SÃO PAULO|     449|              363|\n",
            "|   SP|   SÃO PAULO|     449|              363|\n",
            "|   SP|   SÃO PAULO|     449|              363|\n",
            "|   SP|   SÃO PAULO|     449|              363|\n",
            "+-----+------------+--------+-----------------+\n",
            "only showing top 30 rows\n",
            "\n"
          ]
        }
      ]
    },
    {
      "cell_type": "code",
      "source": [
        "dados\\\n",
        "  .select(\"SG_UF\", \"NM_MUNICIPIO\", \"QT_APTOS\", \"QT_COMPARECIMENTO\")\\\n",
        "  .where(\"SG_UF!='SP' AND NM_MUNICIPIO LIKE 'SANTO%'\")\\\n",
        "  .show(30)"
      ],
      "metadata": {
        "colab": {
          "base_uri": "https://localhost:8080/"
        },
        "id": "yJRGaKKIOF4L",
        "outputId": "ab572bf3-681b-4e23-993d-2247b6fb1084"
      },
      "execution_count": null,
      "outputs": [
        {
          "output_type": "stream",
          "name": "stdout",
          "text": [
            "+-----+--------------------+--------+-----------------+\n",
            "|SG_UF|        NM_MUNICIPIO|QT_APTOS|QT_COMPARECIMENTO|\n",
            "+-----+--------------------+--------+-----------------+\n",
            "|   MG|SANTO ANTÔNIO DO ...|     508|              455|\n",
            "|   MG|SANTO ANTÔNIO DO ...|     508|              455|\n",
            "|   MG|SANTO ANTÔNIO DO ...|     508|              455|\n",
            "|   MG|SANTO ANTÔNIO DO ...|     508|              455|\n",
            "|   MG|SANTO ANTÔNIO DO ...|     508|              458|\n",
            "|   MG|SANTO ANTÔNIO DO ...|     508|              458|\n",
            "|   MG|SANTO ANTÔNIO DO ...|     508|              458|\n",
            "|   MG|SANTO ANTÔNIO DO ...|     508|              458|\n",
            "|   MG|SANTO ANTÔNIO DO ...|     303|              264|\n",
            "|   MG|SANTO ANTÔNIO DO ...|     303|              264|\n",
            "|   MG|SANTO ANTÔNIO DO ...|     303|              264|\n",
            "|   MG|SANTO ANTÔNIO DO ...|     303|              264|\n",
            "|   MG|SANTO ANTÔNIO DO ...|     455|              398|\n",
            "|   MG|SANTO ANTÔNIO DO ...|     455|              398|\n",
            "|   MG|SANTO ANTÔNIO DO ...|     455|              398|\n",
            "|   MG|SANTO ANTÔNIO DO ...|     455|              398|\n",
            "|   MG|SANTO ANTÔNIO DO ...|     372|              315|\n",
            "|   MG|SANTO ANTÔNIO DO ...|     372|              315|\n",
            "|   MG|SANTO ANTÔNIO DO ...|     372|              315|\n",
            "|   MG|SANTO ANTÔNIO DO ...|     372|              315|\n",
            "|   PB|         SANTO ANDRÉ|     317|              283|\n",
            "|   PB|         SANTO ANDRÉ|     317|              283|\n",
            "|   PB|         SANTO ANDRÉ|     317|              283|\n",
            "|   PB|         SANTO ANDRÉ|     317|              283|\n",
            "|   PB|         SANTO ANDRÉ|     317|              283|\n",
            "|   PB|         SANTO ANDRÉ|     318|              278|\n",
            "|   PB|         SANTO ANDRÉ|     318|              278|\n",
            "|   PB|         SANTO ANDRÉ|     318|              278|\n",
            "|   PB|         SANTO ANDRÉ|     318|              278|\n",
            "|   PB|         SANTO ANDRÉ|     318|              278|\n",
            "+-----+--------------------+--------+-----------------+\n",
            "only showing top 30 rows\n",
            "\n"
          ]
        }
      ]
    },
    {
      "cell_type": "markdown",
      "source": [
        "O comando ```filter``` também pode ser utilizado, na verdade ele é um apelido do comando ```where```. Com ele podemos especificar mais condições de filtro, como ```==``` (igual), ```startsWith``` (começa com) ou ```endsWith``` (termina com).\n",
        "\n",
        "Vmoa filtrar todas as cidades que terminam com \"ANDRÉ\".\n",
        "\n",
        "> Colunas que tenha espaço no nome, informe com aspas simples, exemplo ```'column name'```."
      ],
      "metadata": {
        "id": "ycUgw5TNtJWV"
      }
    },
    {
      "cell_type": "code",
      "source": [
        "dados\\\n",
        "  .select(\"SG_UF\", \"NM_MUNICIPIO\", \"QT_APTOS\", \"QT_COMPARECIMENTO\")\\\n",
        "  .filter(dados.NM_MUNICIPIO.endswith(\"ANDRÉ\"))\\\n",
        "  .filter(dados.SG_UF == \"SP\")\\\n",
        "  .show(30)"
      ],
      "metadata": {
        "colab": {
          "base_uri": "https://localhost:8080/"
        },
        "id": "hEYunfY8tcTY",
        "outputId": "42a46ee9-be15-4482-a337-eba20c1db20a"
      },
      "execution_count": null,
      "outputs": [
        {
          "output_type": "stream",
          "name": "stdout",
          "text": [
            "+-----+------------+--------+-----------------+\n",
            "|SG_UF|NM_MUNICIPIO|QT_APTOS|QT_COMPARECIMENTO|\n",
            "+-----+------------+--------+-----------------+\n",
            "|   SP| SANTO ANDRÉ|     333|              235|\n",
            "|   SP| SANTO ANDRÉ|     333|              235|\n",
            "|   SP| SANTO ANDRÉ|     333|              235|\n",
            "|   SP| SANTO ANDRÉ|     333|              235|\n",
            "|   SP| SANTO ANDRÉ|     333|              235|\n",
            "|   SP| SANTO ANDRÉ|     333|              235|\n",
            "|   SP| SANTO ANDRÉ|     333|              235|\n",
            "|   SP| SANTO ANDRÉ|     333|              235|\n",
            "|   SP| SANTO ANDRÉ|     336|              239|\n",
            "|   SP| SANTO ANDRÉ|     336|              239|\n",
            "|   SP| SANTO ANDRÉ|     336|              239|\n",
            "|   SP| SANTO ANDRÉ|     336|              239|\n",
            "|   SP| SANTO ANDRÉ|     336|              239|\n",
            "|   SP| SANTO ANDRÉ|     336|              239|\n",
            "|   SP| SANTO ANDRÉ|     336|              239|\n",
            "|   SP| SANTO ANDRÉ|     336|              239|\n",
            "|   SP| SANTO ANDRÉ|     336|              239|\n",
            "|   SP| SANTO ANDRÉ|     335|              250|\n",
            "|   SP| SANTO ANDRÉ|     335|              250|\n",
            "|   SP| SANTO ANDRÉ|     335|              250|\n",
            "|   SP| SANTO ANDRÉ|     335|              250|\n",
            "|   SP| SANTO ANDRÉ|     335|              250|\n",
            "|   SP| SANTO ANDRÉ|     335|              250|\n",
            "|   SP| SANTO ANDRÉ|     335|              250|\n",
            "|   SP| SANTO ANDRÉ|     335|              250|\n",
            "|   SP| SANTO ANDRÉ|     335|              250|\n",
            "|   SP| SANTO ANDRÉ|     333|              226|\n",
            "|   SP| SANTO ANDRÉ|     333|              226|\n",
            "|   SP| SANTO ANDRÉ|     333|              226|\n",
            "|   SP| SANTO ANDRÉ|     333|              226|\n",
            "+-----+------------+--------+-----------------+\n",
            "only showing top 30 rows\n",
            "\n"
          ]
        }
      ]
    },
    {
      "cell_type": "markdown",
      "source": [
        "Utilizando o operador de igualdade."
      ],
      "metadata": {
        "id": "wqO7vMMcvC1Q"
      }
    },
    {
      "cell_type": "code",
      "source": [
        "dados\\\n",
        "  .select(\"SG_UF\", \"NM_MUNICIPIO\", \"QT_APTOS\", \"QT_COMPARECIMENTO\")\\\n",
        "  .filter(dados.NM_MUNICIPIO == \"SÃO CAETANO DO SUL\")\\\n",
        "  .show(30)"
      ],
      "metadata": {
        "colab": {
          "base_uri": "https://localhost:8080/"
        },
        "id": "whmsfi0Gt4Gq",
        "outputId": "81571e46-b62f-4eda-ad8e-894e9b9b2006"
      },
      "execution_count": null,
      "outputs": [
        {
          "output_type": "stream",
          "name": "stdout",
          "text": [
            "+-----+------------------+--------+-----------------+\n",
            "|SG_UF|      NM_MUNICIPIO|QT_APTOS|QT_COMPARECIMENTO|\n",
            "+-----+------------------+--------+-----------------+\n",
            "|   SP|SÃO CAETANO DO SUL|     385|              292|\n",
            "|   SP|SÃO CAETANO DO SUL|     385|              292|\n",
            "|   SP|SÃO CAETANO DO SUL|     385|              292|\n",
            "|   SP|SÃO CAETANO DO SUL|     385|              292|\n",
            "|   SP|SÃO CAETANO DO SUL|     385|              292|\n",
            "|   SP|SÃO CAETANO DO SUL|     385|              292|\n",
            "|   SP|SÃO CAETANO DO SUL|     385|              292|\n",
            "|   SP|SÃO CAETANO DO SUL|     385|              292|\n",
            "|   SP|SÃO CAETANO DO SUL|     385|              292|\n",
            "|   SP|SÃO CAETANO DO SUL|     390|              271|\n",
            "|   SP|SÃO CAETANO DO SUL|     390|              271|\n",
            "|   SP|SÃO CAETANO DO SUL|     390|              271|\n",
            "|   SP|SÃO CAETANO DO SUL|     390|              271|\n",
            "|   SP|SÃO CAETANO DO SUL|     390|              271|\n",
            "|   SP|SÃO CAETANO DO SUL|     390|              271|\n",
            "|   SP|SÃO CAETANO DO SUL|     390|              271|\n",
            "|   SP|SÃO CAETANO DO SUL|     390|              271|\n",
            "|   SP|SÃO CAETANO DO SUL|     390|              271|\n",
            "|   SP|SÃO CAETANO DO SUL|     389|              296|\n",
            "|   SP|SÃO CAETANO DO SUL|     389|              296|\n",
            "|   SP|SÃO CAETANO DO SUL|     389|              296|\n",
            "|   SP|SÃO CAETANO DO SUL|     389|              296|\n",
            "|   SP|SÃO CAETANO DO SUL|     389|              296|\n",
            "|   SP|SÃO CAETANO DO SUL|     389|              296|\n",
            "|   SP|SÃO CAETANO DO SUL|     389|              296|\n",
            "|   SP|SÃO CAETANO DO SUL|     389|              296|\n",
            "|   SP|SÃO CAETANO DO SUL|     389|              296|\n",
            "|   SP|SÃO CAETANO DO SUL|     385|              282|\n",
            "|   SP|SÃO CAETANO DO SUL|     385|              282|\n",
            "|   SP|SÃO CAETANO DO SUL|     385|              282|\n",
            "+-----+------------------+--------+-----------------+\n",
            "only showing top 30 rows\n",
            "\n"
          ]
        }
      ]
    },
    {
      "cell_type": "markdown",
      "source": [
        "Aplicando consultas com o comando Like. Nessa operação, o caracter coringa é o \"%\".\n",
        "Vamos exibir as linhas que contém \"CAETANO\" no campo Município."
      ],
      "metadata": {
        "id": "YsA4yuHgvE3D"
      }
    },
    {
      "cell_type": "code",
      "source": [
        "dados\\\n",
        "  .select(\"SG_UF\", \"NM_MUNICIPIO\", \"QT_APTOS\", \"QT_COMPARECIMENTO\")\\\n",
        "  .filter(dados.NM_MUNICIPIO.like(\"%CAETANO%\"))\\\n",
        "  .show(30)"
      ],
      "metadata": {
        "colab": {
          "base_uri": "https://localhost:8080/"
        },
        "id": "luesej2QvPBd",
        "outputId": "07db29f3-4824-4db8-e4fc-853043f3ef48"
      },
      "execution_count": null,
      "outputs": [
        {
          "output_type": "stream",
          "name": "stdout",
          "text": [
            "+-----+------------------+--------+-----------------+\n",
            "|SG_UF|      NM_MUNICIPIO|QT_APTOS|QT_COMPARECIMENTO|\n",
            "+-----+------------------+--------+-----------------+\n",
            "|   SP|SÃO CAETANO DO SUL|     385|              292|\n",
            "|   SP|SÃO CAETANO DO SUL|     385|              292|\n",
            "|   SP|SÃO CAETANO DO SUL|     385|              292|\n",
            "|   SP|SÃO CAETANO DO SUL|     385|              292|\n",
            "|   SP|SÃO CAETANO DO SUL|     385|              292|\n",
            "|   SP|SÃO CAETANO DO SUL|     385|              292|\n",
            "|   SP|SÃO CAETANO DO SUL|     385|              292|\n",
            "|   SP|SÃO CAETANO DO SUL|     385|              292|\n",
            "|   SP|SÃO CAETANO DO SUL|     385|              292|\n",
            "|   SP|SÃO CAETANO DO SUL|     390|              271|\n",
            "|   SP|SÃO CAETANO DO SUL|     390|              271|\n",
            "|   SP|SÃO CAETANO DO SUL|     390|              271|\n",
            "|   SP|SÃO CAETANO DO SUL|     390|              271|\n",
            "|   SP|SÃO CAETANO DO SUL|     390|              271|\n",
            "|   SP|SÃO CAETANO DO SUL|     390|              271|\n",
            "|   SP|SÃO CAETANO DO SUL|     390|              271|\n",
            "|   SP|SÃO CAETANO DO SUL|     390|              271|\n",
            "|   SP|SÃO CAETANO DO SUL|     390|              271|\n",
            "|   SP|SÃO CAETANO DO SUL|     389|              296|\n",
            "|   SP|SÃO CAETANO DO SUL|     389|              296|\n",
            "|   SP|SÃO CAETANO DO SUL|     389|              296|\n",
            "|   SP|SÃO CAETANO DO SUL|     389|              296|\n",
            "|   SP|SÃO CAETANO DO SUL|     389|              296|\n",
            "|   SP|SÃO CAETANO DO SUL|     389|              296|\n",
            "|   SP|SÃO CAETANO DO SUL|     389|              296|\n",
            "|   SP|SÃO CAETANO DO SUL|     389|              296|\n",
            "|   SP|SÃO CAETANO DO SUL|     389|              296|\n",
            "|   SP|SÃO CAETANO DO SUL|     385|              282|\n",
            "|   SP|SÃO CAETANO DO SUL|     385|              282|\n",
            "|   SP|SÃO CAETANO DO SUL|     385|              282|\n",
            "+-----+------------------+--------+-----------------+\n",
            "only showing top 30 rows\n",
            "\n"
          ]
        }
      ]
    },
    {
      "cell_type": "markdown",
      "source": [
        "Operações com agrupamento.\n",
        "Vamos contar, quantos votos foram obtidos por município no Estado de São Paulo."
      ],
      "metadata": {
        "id": "5iC5v1iLvfO1"
      }
    },
    {
      "cell_type": "code",
      "source": [
        "dados\\\n",
        "  .select(\"SG_UF\", \"NM_MUNICIPIO\")\\\n",
        "  .where(\"SG_UF=='SP'\")\\\n",
        "  .groupBy(\"NM_MUNICIPIO\")\\\n",
        "  .count()\\\n",
        "  .show()"
      ],
      "metadata": {
        "colab": {
          "base_uri": "https://localhost:8080/"
        },
        "id": "0zaXbnCfvulK",
        "outputId": "0b6c398d-4417-4a36-a50c-b14c8d4745ca"
      },
      "execution_count": null,
      "outputs": [
        {
          "output_type": "stream",
          "name": "stdout",
          "text": [
            "+--------------------+------+\n",
            "|        NM_MUNICIPIO| count|\n",
            "+--------------------+------+\n",
            "|          PIRACICABA|  9658|\n",
            "|              OSASCO| 10480|\n",
            "|              SANTOS| 13233|\n",
            "|            SOROCABA| 12571|\n",
            "|  SÃO CAETANO DO SUL|  3332|\n",
            "|           SÃO PAULO|253743|\n",
            "|            CAMPINAS| 28295|\n",
            "|            SALTINHO|   102|\n",
            "|            BERTIOGA|  1083|\n",
            "| RIO GRANDE DA SERRA|   547|\n",
            "|      RIBEIRÃO PIRES|  1551|\n",
            "|     ITAQUAQUECETUBA|  4151|\n",
            "|         SANTO ANDRÉ| 12558|\n",
            "|SÃO JOAQUIM DA BARRA|   835|\n",
            "|SÃO JOSÉ DO RIO P...|   631|\n",
            "|           PIQUEROBI|    28|\n",
            "|            PRATÂNIA|    56|\n",
            "|             MARÍLIA|  4503|\n",
            "|         POTIRENDABA|   132|\n",
            "|  ÁGUAS DE SÃO PEDRO|    60|\n",
            "+--------------------+------+\n",
            "only showing top 20 rows\n",
            "\n"
          ]
        }
      ]
    },
    {
      "cell_type": "code",
      "source": [
        "dados\\\n",
        "  .select(\"SG_UF\", \"NM_MUNICIPIO\", \"QT_VOTOS\")\\\n",
        "  .where(\"SG_UF=='SP'\")\\\n",
        "  .groupBy(\"NM_MUNICIPIO\")\\\n",
        "  .sum(\"QT_VOTOS\")\\\n",
        "  .show()"
      ],
      "metadata": {
        "colab": {
          "base_uri": "https://localhost:8080/"
        },
        "id": "k2tmP1mgSUFj",
        "outputId": "b20faa7d-8cf5-45ba-dc03-44837fc5c932"
      },
      "execution_count": null,
      "outputs": [
        {
          "output_type": "stream",
          "name": "stdout",
          "text": [
            "+--------------------+-------------+\n",
            "|        NM_MUNICIPIO|sum(QT_VOTOS)|\n",
            "+--------------------+-------------+\n",
            "|          PIRACICABA|       202203|\n",
            "|              OSASCO|       407183|\n",
            "|              SANTOS|       229006|\n",
            "|            SOROCABA|       356477|\n",
            "|  SÃO CAETANO DO SUL|       107565|\n",
            "|           SÃO PAULO|      6354100|\n",
            "|            CAMPINAS|       583284|\n",
            "|            SALTINHO|         5419|\n",
            "|            BERTIOGA|        32404|\n",
            "| RIO GRANDE DA SERRA|        27481|\n",
            "|      RIBEIRÃO PIRES|        68018|\n",
            "|     ITAQUAQUECETUBA|       182221|\n",
            "|         SANTO ANDRÉ|       404505|\n",
            "|SÃO JOAQUIM DA BARRA|        27125|\n",
            "|SÃO JOSÉ DO RIO P...|        29645|\n",
            "|           PIQUEROBI|         2666|\n",
            "|            PRATÂNIA|         3805|\n",
            "|             MARÍLIA|       125732|\n",
            "|         POTIRENDABA|        10279|\n",
            "|  ÁGUAS DE SÃO PEDRO|         2939|\n",
            "+--------------------+-------------+\n",
            "only showing top 20 rows\n",
            "\n"
          ]
        }
      ]
    },
    {
      "cell_type": "markdown",
      "source": [
        "Removendo a truncagem dos dados."
      ],
      "metadata": {
        "id": "DGGf93ebwOyO"
      }
    },
    {
      "cell_type": "code",
      "source": [
        "dados\\\n",
        "  .select(\"SG_UF\", \"NM_MUNICIPIO\", \"QT_VOTOS\")\\\n",
        "  .where(\"SG_UF=='SP'\")\\\n",
        "  .groupBy(\"NM_MUNICIPIO\")\\\n",
        "  .sum(\"QT_VOTOS\")\\\n",
        "  .show(truncate=False)"
      ],
      "metadata": {
        "colab": {
          "base_uri": "https://localhost:8080/"
        },
        "id": "opHt-JTEwRm0",
        "outputId": "afebc657-52fc-4e39-8af9-92d49aefdbe0"
      },
      "execution_count": 9,
      "outputs": [
        {
          "output_type": "stream",
          "name": "stdout",
          "text": [
            "+---------------------+-------------+\n",
            "|NM_MUNICIPIO         |sum(QT_VOTOS)|\n",
            "+---------------------+-------------+\n",
            "|PIRACICABA           |202203       |\n",
            "|OSASCO               |407183       |\n",
            "|SANTOS               |229006       |\n",
            "|SOROCABA             |356477       |\n",
            "|SÃO CAETANO DO SUL   |107565       |\n",
            "|SÃO PAULO            |6354100      |\n",
            "|CAMPINAS             |583284       |\n",
            "|SALTINHO             |5419         |\n",
            "|BERTIOGA             |32404        |\n",
            "|RIO GRANDE DA SERRA  |27481        |\n",
            "|RIBEIRÃO PIRES       |68018        |\n",
            "|ITAQUAQUECETUBA      |182221       |\n",
            "|SANTO ANDRÉ          |404505       |\n",
            "|SÃO JOAQUIM DA BARRA |27125        |\n",
            "|SÃO JOSÉ DO RIO PARDO|29645        |\n",
            "|PIQUEROBI            |2666         |\n",
            "|PRATÂNIA             |3805         |\n",
            "|MARÍLIA              |125732       |\n",
            "|POTIRENDABA          |10279        |\n",
            "|ÁGUAS DE SÃO PEDRO   |2939         |\n",
            "+---------------------+-------------+\n",
            "only showing top 20 rows\n",
            "\n"
          ]
        }
      ]
    },
    {
      "cell_type": "markdown",
      "source": [
        "Obtendo a soma de votos por município em cada Estado, ordenando por Estado e Município."
      ],
      "metadata": {
        "id": "w8kd07glwcNY"
      }
    },
    {
      "cell_type": "code",
      "source": [
        "dados\\\n",
        "  .select(\"SG_UF\", \"NM_MUNICIPIO\", \"QT_VOTOS\")\\\n",
        "  .groupBy([\"SG_UF\", \"NM_MUNICIPIO\"])\\\n",
        "  .agg(\n",
        "      f.sum(\"QT_VOTOS\").alias(\"SUM_QT_VOTOS\")\n",
        "  )\\\n",
        "  .orderBy([\"SG_UF\", \"NM_MUNICIPIO\"], ascending=True)\\\n",
        "  .show(truncate=False)"
      ],
      "metadata": {
        "colab": {
          "base_uri": "https://localhost:8080/"
        },
        "id": "enIL5B3WwgBv",
        "outputId": "575e3dd1-1324-4a8b-b630-d06c63119581"
      },
      "execution_count": null,
      "outputs": [
        {
          "output_type": "stream",
          "name": "stdout",
          "text": [
            "+-----+--------------------+------------+\n",
            "|SG_UF|NM_MUNICIPIO        |SUM_QT_VOTOS|\n",
            "+-----+--------------------+------------+\n",
            "|AC   |ACRELÂNDIA          |7093        |\n",
            "|AC   |ASSIS BRASIL        |4918        |\n",
            "|AC   |BRASILÉIA           |13522       |\n",
            "|AC   |BUJARI              |7387        |\n",
            "|AC   |CAPIXABA            |6108        |\n",
            "|AC   |CRUZEIRO DO SUL     |44533       |\n",
            "|AC   |EPITACIOLÂNDIA      |9447        |\n",
            "|AC   |FEIJÓ               |16218       |\n",
            "|AC   |JORDÃO              |4308        |\n",
            "|AC   |MANOEL URBANO       |5716        |\n",
            "|AC   |MARECHAL THAUMATURGO|8616        |\n",
            "|AC   |MÂNCIO LIMA         |10964       |\n",
            "|AC   |PLÁCIDO DE CASTRO   |9823        |\n",
            "|AC   |PORTO ACRE          |10026       |\n",
            "|AC   |PORTO WALTER        |5658        |\n",
            "|AC   |RIO BRANCO          |186769      |\n",
            "|AC   |RODRIGUES ALVES     |9303        |\n",
            "|AC   |SANTA ROSA DO PURUS |2992        |\n",
            "|AC   |SENA MADUREIRA      |22382       |\n",
            "|AC   |SENADOR GUIOMARD    |14140       |\n",
            "+-----+--------------------+------------+\n",
            "only showing top 20 rows\n",
            "\n"
          ]
        }
      ]
    },
    {
      "cell_type": "markdown",
      "source": [
        "Podemos obter o sumário dos dados, que inclui média, desvio padrão, e distribuição por quartis.\n",
        "\n",
        "Vamos obter o sumário do dataset filtrado e agrupado utilizado anteriormente."
      ],
      "metadata": {
        "id": "tPDdjo2TzpBO"
      }
    },
    {
      "cell_type": "code",
      "source": [
        "dados_sumario = dados\\\n",
        "  .select(\"SG_UF\", \"NM_MUNICIPIO\", \"QT_VOTOS\")\\\n",
        "  .groupBy([\"SG_UF\", \"NM_MUNICIPIO\"])\\\n",
        "  .agg(\n",
        "      f.sum(\"QT_VOTOS\").alias(\"SUM_QT_VOTOS\")\n",
        "  )\\\n",
        "  .orderBy([\"SG_UF\", \"NM_MUNICIPIO\"], ascending=True)"
      ],
      "metadata": {
        "id": "lsTcVXt4zxv_"
      },
      "execution_count": null,
      "outputs": []
    },
    {
      "cell_type": "code",
      "source": [
        "dados_sumario\\\n",
        "  .select(\"SUM_QT_VOTOS\")\\\n",
        "  .summary()\\\n",
        "  .show()"
      ],
      "metadata": {
        "colab": {
          "base_uri": "https://localhost:8080/"
        },
        "id": "ESGUEM1nzz_Y",
        "outputId": "693914fe-ac37-428c-b448-d6c8b7ab9e11"
      },
      "execution_count": null,
      "outputs": [
        {
          "output_type": "stream",
          "name": "stdout",
          "text": [
            "+-------+------------------+\n",
            "|summary|      SUM_QT_VOTOS|\n",
            "+-------+------------------+\n",
            "|  count|              5568|\n",
            "|   mean|20415.827047413793|\n",
            "| stddev|111251.85240125858|\n",
            "|    min|               930|\n",
            "|    25%|              3939|\n",
            "|    50%|              7299|\n",
            "|    75%|             14799|\n",
            "|    max|           6354100|\n",
            "+-------+------------------+\n",
            "\n"
          ]
        }
      ]
    },
    {
      "cell_type": "markdown",
      "source": [
        "Uniões e junções.\n",
        "\n",
        "Vamos utilizar o seguinte dataframe abaixo para relacionarmos a ideologia de cada partido como complemento da contagem dos votos."
      ],
      "metadata": {
        "id": "yqqZUs0m3ZgN"
      }
    },
    {
      "cell_type": "code",
      "source": [
        "partido_ideologia = spark.createDataFrame(\n",
        "    [\n",
        "        (\"PROS\", \"CENTRO\"),\n",
        "        (\"REPUBLICANOS\", \"DIRETA\"),\n",
        "        (\"PSDB\", \"CENTRO\"),\n",
        "        (\"PSOL\", \"ESQUERDA\"),\n",
        "        (\"CIDADANIA\", \"CENTRO\"),\n",
        "        (\"PRTB\", \"DIRETA\"),\n",
        "        (\"PCO\", \"ESQUERDA\"),\n",
        "\n",
        "        (\"DC\", \"CENTRO\"),\n",
        "        (\"PMB\", \"CENTRO\"),\n",
        "        (\"PSB\", \"CENTRO\"),\n",
        "        (\"PSTU\", \"ESQUERDA\"),\n",
        "        (\"PT\", \"ESQUERDA\"),\n",
        "        (\"PMN\", \"CENTRO\"),\n",
        "        (\"SOLIDARIEDADE\", \"CENTRO\"),\n",
        "        (\"MDB\", \"CENTRO\"),\n",
        "        (\"PTC\", \"DIRETA\"),\n",
        "\n",
        "        (\"PDT\", \"CENTRO\"),\n",
        "        (\"PV\", \"CENTRO\"),\n",
        "        (\"PSC\", \"DIRETA\")\n",
        "\n",
        "    ],\n",
        "    ['PARTIDO', 'IDEOLOGIA']\n",
        ")\n",
        "\n",
        "partido_ideologia.show(truncate=False)"
      ],
      "metadata": {
        "colab": {
          "base_uri": "https://localhost:8080/"
        },
        "id": "MQo3NI6c1D9Y",
        "outputId": "9c206aaa-945d-42c8-d92a-0929daebf3a7"
      },
      "execution_count": 10,
      "outputs": [
        {
          "output_type": "stream",
          "name": "stdout",
          "text": [
            "+-------------+---------+\n",
            "|PARTIDO      |IDEOLOGIA|\n",
            "+-------------+---------+\n",
            "|PROS         |CENTRO   |\n",
            "|REPUBLICANOS |DIRETA   |\n",
            "|PSDB         |CENTRO   |\n",
            "|PSOL         |ESQUERDA |\n",
            "|CIDADANIA    |CENTRO   |\n",
            "|PRTB         |DIRETA   |\n",
            "|PCO          |ESQUERDA |\n",
            "|DC           |CENTRO   |\n",
            "|PMB          |CENTRO   |\n",
            "|PSB          |CENTRO   |\n",
            "|PSTU         |ESQUERDA |\n",
            "|PT           |ESQUERDA |\n",
            "|PMN          |CENTRO   |\n",
            "|SOLIDARIEDADE|CENTRO   |\n",
            "|MDB          |CENTRO   |\n",
            "|PTC          |DIRETA   |\n",
            "|PDT          |CENTRO   |\n",
            "|PV           |CENTRO   |\n",
            "|PSC          |DIRETA   |\n",
            "+-------------+---------+\n",
            "\n"
          ]
        }
      ]
    },
    {
      "cell_type": "code",
      "source": [
        "votacao_partido_estado = dados\\\n",
        "  .select(\"SG_UF\", \"SG_PARTIDO\", \"QT_VOTOS\")\\\n",
        "  .where(\"SG_PARTIDO != '#NULO#'\")\\\n",
        "  .groupBy([\"SG_UF\", \"SG_PARTIDO\"])\\\n",
        "  .agg(\n",
        "      f.sum(\"QT_VOTOS\").alias(\"SUM_QT_VOTOS\"),\n",
        "      f.count(\"QT_VOTOS\").alias(\"COUNT_QT_VOTOS\")\n",
        "  )\\\n",
        "  .orderBy([\"SG_UF\", \"SG_PARTIDO\"], ascending=True)\\\n",
        "\n",
        "votacao_partido_estado.show(truncate=False)"
      ],
      "metadata": {
        "colab": {
          "base_uri": "https://localhost:8080/"
        },
        "id": "VNMAuHr73jk6",
        "outputId": "6db8b7e4-02f1-4247-a240-f620bd69e9b9"
      },
      "execution_count": 12,
      "outputs": [
        {
          "output_type": "stream",
          "name": "stdout",
          "text": [
            "+-----+-------------+------------+--------------+\n",
            "|SG_UF|SG_PARTIDO   |SUM_QT_VOTOS|COUNT_QT_VOTOS|\n",
            "+-----+-------------+------------+--------------+\n",
            "|AC   |AVANTE       |2294        |653           |\n",
            "|AC   |DEM          |7277        |122           |\n",
            "|AC   |MDB          |79811       |1580          |\n",
            "|AC   |PC do B      |5997        |130           |\n",
            "|AC   |PDT          |11348       |167           |\n",
            "|AC   |PL           |186         |17            |\n",
            "|AC   |PP           |146612      |1376          |\n",
            "|AC   |PROS         |9201        |138           |\n",
            "|AC   |PSB          |41108       |767           |\n",
            "|AC   |PSC          |1509        |575           |\n",
            "|AC   |PSD          |12956       |174           |\n",
            "|AC   |PSDB         |36555       |941           |\n",
            "|AC   |PSL          |13477       |399           |\n",
            "|AC   |PSOL         |284         |90            |\n",
            "|AC   |PT           |33948       |1111          |\n",
            "|AC   |PTB          |1124        |106           |\n",
            "|AC   |REPUBLICANOS |1063        |47            |\n",
            "|AC   |SOLIDARIEDADE|4446        |108           |\n",
            "|AL   |AVANTE       |1371        |198           |\n",
            "|AL   |CIDADANIA    |24266       |692           |\n",
            "+-----+-------------+------------+--------------+\n",
            "only showing top 20 rows\n",
            "\n"
          ]
        }
      ]
    },
    {
      "cell_type": "code",
      "source": [
        "ideologia_partido_estado = votacao_partido_estado.join(partido_ideologia, partido_ideologia.PARTIDO == votacao_partido_estado.SG_PARTIDO, how=\"INNER\")\n",
        "ideologia_partido_estado.show(truncate=False)"
      ],
      "metadata": {
        "colab": {
          "base_uri": "https://localhost:8080/"
        },
        "id": "meVVSbOj5umf",
        "outputId": "b035985c-cfec-48a4-9bbf-4ab1f07095f9"
      },
      "execution_count": 13,
      "outputs": [
        {
          "output_type": "stream",
          "name": "stdout",
          "text": [
            "+-----+----------+------------+--------------+-------+---------+\n",
            "|SG_UF|SG_PARTIDO|SUM_QT_VOTOS|COUNT_QT_VOTOS|PARTIDO|IDEOLOGIA|\n",
            "+-----+----------+------------+--------------+-------+---------+\n",
            "|AP   |PROS      |8937        |132           |PROS   |CENTRO   |\n",
            "|AC   |PROS      |9201        |138           |PROS   |CENTRO   |\n",
            "|RR   |PROS      |5021        |101           |PROS   |CENTRO   |\n",
            "|MT   |PROS      |68700       |1604          |PROS   |CENTRO   |\n",
            "|AM   |PROS      |3309        |250           |PROS   |CENTRO   |\n",
            "|TO   |PROS      |39837       |779           |PROS   |CENTRO   |\n",
            "|BA   |PROS      |88047       |2874          |PROS   |CENTRO   |\n",
            "|PA   |PROS      |15848       |359           |PROS   |CENTRO   |\n",
            "|SE   |PROS      |102         |48            |PROS   |CENTRO   |\n",
            "|RO   |PROS      |6679        |268           |PROS   |CENTRO   |\n",
            "|AL   |PROS      |5199        |164           |PROS   |CENTRO   |\n",
            "|MA   |PROS      |31647       |2345          |PROS   |CENTRO   |\n",
            "|RS   |PROS      |4135        |2019          |PROS   |CENTRO   |\n",
            "|GO   |PROS      |38454       |3224          |PROS   |CENTRO   |\n",
            "|PE   |PROS      |10517       |661           |PROS   |CENTRO   |\n",
            "|PR   |PROS      |146543      |4036          |PROS   |CENTRO   |\n",
            "|SC   |PROS      |1405        |152           |PROS   |CENTRO   |\n",
            "|PI   |PROS      |2736        |956           |PROS   |CENTRO   |\n",
            "|RN   |PROS      |63517       |822           |PROS   |CENTRO   |\n",
            "|PB   |PROS      |30550       |402           |PROS   |CENTRO   |\n",
            "+-----+----------+------------+--------------+-------+---------+\n",
            "only showing top 20 rows\n",
            "\n"
          ]
        }
      ]
    },
    {
      "cell_type": "code",
      "source": [
        "ideologia_partido_estado.printSchema()"
      ],
      "metadata": {
        "colab": {
          "base_uri": "https://localhost:8080/"
        },
        "id": "LD5sPUze7iVp",
        "outputId": "b4f1457d-5350-41a3-a5d3-206521929d73"
      },
      "execution_count": null,
      "outputs": [
        {
          "output_type": "stream",
          "name": "stdout",
          "text": [
            "root\n",
            " |-- SG_UF: string (nullable = true)\n",
            " |-- SG_PARTIDO: string (nullable = true)\n",
            " |-- SUM_QT_VOTOS: long (nullable = true)\n",
            " |-- PARTIDO: string (nullable = true)\n",
            " |-- IDEOLOGIA: string (nullable = true)\n",
            "\n"
          ]
        }
      ]
    },
    {
      "cell_type": "code",
      "source": [
        "ideologia_partido_estado\\\n",
        "  .select(\"SG_UF\", \"IDEOLOGIA\", \"SUM_QT_VOTOS\")\\\n",
        "  .where(\"SG_UF == 'SP'\")\\\n",
        "  .groupBy([\"SG_UF\", \"IDEOLOGIA\"])\\\n",
        "  .agg(\n",
        "      f.sum(\"SUM_QT_VOTOS\").alias(\"QT_VOTOS\")\n",
        "  )\\\n",
        "  .orderBy([\"SG_UF\", \"IDEOLOGIA\"], ascending=True)\\\n",
        "  .show(truncate=False)"
      ],
      "metadata": {
        "colab": {
          "base_uri": "https://localhost:8080/"
        },
        "id": "0-sCo0Wa6nSd",
        "outputId": "4f1a118f-c94e-4308-a846-85123266e1c4"
      },
      "execution_count": null,
      "outputs": [
        {
          "output_type": "stream",
          "name": "stdout",
          "text": [
            "+-----+---------+--------+\n",
            "|SG_UF|IDEOLOGIA|QT_VOTOS|\n",
            "+-----+---------+--------+\n",
            "|SP   |CENTRO   |9110189 |\n",
            "|SP   |DIRETA   |1706364 |\n",
            "|SP   |ESQUERDA |2851290 |\n",
            "+-----+---------+--------+\n",
            "\n"
          ]
        }
      ]
    },
    {
      "cell_type": "markdown",
      "source": [
        "## Spark SQL\n",
        "\n",
        "Utilizar consultas SQL com o Spark.\n",
        "Maneira mais fácil para as pessoas que já tem experiência com SQL, podendo utilizar a mesma sintaxe, incluindo seleção, filtro e agrupamentos.\n",
        "\n",
        "Inicialmente precisamos criar uma View que será utilizada como o nome da tabela para as operações."
      ],
      "metadata": {
        "id": "SCeHPtkt0mGE"
      }
    },
    {
      "cell_type": "code",
      "source": [
        "dados.createOrReplaceTempView(\"votacaoView\")"
      ],
      "metadata": {
        "id": "dDkXXmpu8YH5"
      },
      "execution_count": 14,
      "outputs": []
    },
    {
      "cell_type": "markdown",
      "source": [
        "Agora podemos referenciá-la em todos os comandos, utilizando a mesma sintaxe do SQL."
      ],
      "metadata": {
        "id": "PYt3tLF-qxpw"
      }
    },
    {
      "cell_type": "code",
      "source": [
        "query = spark\\\n",
        "    .sql(\"\"\"\n",
        "        SELECT DT_GERACAO, ANO_ELEICAO, NM_TIPO_ELEICAO, CD_PLEITO\n",
        "            FROM votacaoView\n",
        "            WHERE SG_UF='SP'\n",
        "    \"\"\")\n",
        "\n",
        "query.show(truncate=False)"
      ],
      "metadata": {
        "colab": {
          "base_uri": "https://localhost:8080/"
        },
        "id": "qzZAbrI45hDI",
        "outputId": "e21891aa-3d92-4aa4-ec68-0f390b1c84d5"
      },
      "execution_count": 16,
      "outputs": [
        {
          "output_type": "stream",
          "name": "stdout",
          "text": [
            "+----------+-----------+-----------------+---------+\n",
            "|DT_GERACAO|ANO_ELEICAO|NM_TIPO_ELEICAO  |CD_PLEITO|\n",
            "+----------+-----------+-----------------+---------+\n",
            "|2020-11-18|2020       |Eleição Ordinária|304      |\n",
            "|2020-11-18|2020       |Eleição Ordinária|304      |\n",
            "|2020-11-18|2020       |Eleição Ordinária|304      |\n",
            "|2020-11-18|2020       |Eleição Ordinária|304      |\n",
            "|2020-11-18|2020       |Eleição Ordinária|304      |\n",
            "|2020-11-18|2020       |Eleição Ordinária|304      |\n",
            "|2020-11-18|2020       |Eleição Ordinária|304      |\n",
            "|2020-11-18|2020       |Eleição Ordinária|304      |\n",
            "|2020-11-18|2020       |Eleição Ordinária|304      |\n",
            "|2020-11-18|2020       |Eleição Ordinária|304      |\n",
            "|2020-11-18|2020       |Eleição Ordinária|304      |\n",
            "|2020-11-18|2020       |Eleição Ordinária|304      |\n",
            "|2020-11-18|2020       |Eleição Ordinária|304      |\n",
            "|2020-11-18|2020       |Eleição Ordinária|304      |\n",
            "|2020-11-18|2020       |Eleição Ordinária|304      |\n",
            "|2020-11-18|2020       |Eleição Ordinária|304      |\n",
            "|2020-11-18|2020       |Eleição Ordinária|304      |\n",
            "|2020-11-18|2020       |Eleição Ordinária|304      |\n",
            "|2020-11-18|2020       |Eleição Ordinária|304      |\n",
            "|2020-11-18|2020       |Eleição Ordinária|304      |\n",
            "+----------+-----------+-----------------+---------+\n",
            "only showing top 20 rows\n",
            "\n"
          ]
        }
      ]
    },
    {
      "cell_type": "markdown",
      "source": [
        "Buscar os top 10 municípios cuja abstenção foi maior que 25%."
      ],
      "metadata": {
        "id": "Z67ceN2RrfVw"
      }
    },
    {
      "cell_type": "code",
      "source": [
        "query = spark\\\n",
        "    .sql(\"\"\"\n",
        "        SELECT SG_UF, NM_MUNICIPIO, (SUM(QT_APTOS)-SUM(QT_COMPARECIMENTO))/SUM(QT_APTOS) AS PORC_ABST\n",
        "            FROM votacaoView\n",
        "            GROUP BY SG_UF, NM_MUNICIPIO\n",
        "            HAVING (SUM(QT_APTOS)-SUM(QT_COMPARECIMENTO))/SUM(QT_APTOS) > 0.25\n",
        "            ORDER BY PORC_ABST DESC\n",
        "            LIMIT 10\n",
        "    \"\"\")\n",
        "\n",
        "query.show(truncate=False)"
      ],
      "metadata": {
        "id": "MJSS0qqyZZIx",
        "colab": {
          "base_uri": "https://localhost:8080/"
        },
        "outputId": "dd034ae1-0c83-42b7-952f-752bd3fbc374"
      },
      "execution_count": 23,
      "outputs": [
        {
          "output_type": "stream",
          "name": "stdout",
          "text": [
            "+-----+---------------+-------------------+\n",
            "|SG_UF|NM_MUNICIPIO   |PORC_ABST          |\n",
            "+-----+---------------+-------------------+\n",
            "|AP   |OIAPOQUE       |0.3806900153409276 |\n",
            "|MG   |RIO VERMELHO   |0.36941430000769643|\n",
            "|MG   |MINAS NOVAS    |0.36925768786523794|\n",
            "|MG   |NOVO CRUZEIRO  |0.3502751045531992 |\n",
            "|RO   |BURITIS        |0.3455590738049762 |\n",
            "|SP   |MOCOCA         |0.335387323943662  |\n",
            "|SP   |BARRETOS       |0.334445628589518  |\n",
            "|MS   |CHAPADÃO DO SUL|0.3331181407359587 |\n",
            "|MG   |POÇOS DE CALDAS|0.33307975035014065|\n",
            "|MT   |ARIPUANÃ       |0.3330401282679375 |\n",
            "+-----+---------------+-------------------+\n",
            "\n"
          ]
        }
      ]
    },
    {
      "cell_type": "markdown",
      "source": [
        "Exibir a votação total por partido \"DEM\" em cada Estado do país."
      ],
      "metadata": {
        "id": "YeHeksiTt-vZ"
      }
    },
    {
      "cell_type": "code",
      "source": [
        "query_votos_municipio = spark\\\n",
        "    .sql(\"\"\"\n",
        "        SELECT SG_UF, SG_PARTIDO, NM_MUNICIPIO, SUM(QT_VOTOS) AS QT_VOTOS\n",
        "            FROM votacaoView\n",
        "            WHERE SG_PARTIDO IN ('DEM')\n",
        "            GROUP BY SG_UF, SG_PARTIDO, NM_MUNICIPIO\n",
        "            ORDER BY QT_VOTOS DESC\n",
        "    \"\"\")\n",
        "\n",
        "query_votos_municipio.show(100, truncate=False)"
      ],
      "metadata": {
        "colab": {
          "base_uri": "https://localhost:8080/"
        },
        "id": "Svv7_-shsfie",
        "outputId": "8d1e0cd2-9f34-448e-eded-e6aff29a6590"
      },
      "execution_count": 26,
      "outputs": [
        {
          "output_type": "stream",
          "name": "stdout",
          "text": [
            "+-----+----------+-----------------------+--------+\n",
            "|SG_UF|SG_PARTIDO|NM_MUNICIPIO           |QT_VOTOS|\n",
            "+-----+----------+-----------------------+--------+\n",
            "|RJ   |DEM       |RIO DE JANEIRO         |974804  |\n",
            "|BA   |DEM       |SALVADOR               |779408  |\n",
            "|PR   |DEM       |CURITIBA               |499821  |\n",
            "|PE   |DEM       |RECIFE                 |200551  |\n",
            "|SC   |DEM       |FLORIANÓPOLIS          |126144  |\n",
            "|RJ   |DEM       |VOLTA REDONDA          |85673   |\n",
            "|MA   |DEM       |SÃO LUÍS               |83138   |\n",
            "|MG   |DEM       |RIBEIRÃO DAS NEVES     |72679   |\n",
            "|RJ   |DEM       |SÃO JOÃO DE MERITI     |71730   |\n",
            "|PA   |DEM       |SANTARÉM               |71594   |\n",
            "|BA   |DEM       |CAMAÇARI               |68927   |\n",
            "|AP   |DEM       |MACAPÁ                 |59511   |\n",
            "|RJ   |DEM       |RESENDE                |54880   |\n",
            "|SP   |DEM       |BRAGANÇA PAULISTA      |53730   |\n",
            "|SP   |DEM       |BAURU                  |53299   |\n",
            "|MG   |DEM       |CONTAGEM               |52371   |\n",
            "|PI   |DEM       |PARNAÍBA               |52075   |\n",
            "|BA   |DEM       |BARREIRAS              |51107   |\n",
            "|MG   |DEM       |POUSO ALEGRE           |50377   |\n",
            "|GO   |DEM       |LUZIÂNIA               |48061   |\n",
            "|GO   |DEM       |RIO VERDE              |45580   |\n",
            "|BA   |DEM       |TEIXEIRA DE FREITAS    |45433   |\n",
            "|RJ   |DEM       |BARRA MANSA            |43323   |\n",
            "|RJ   |DEM       |SAQUAREMA              |34960   |\n",
            "|PR   |DEM       |COLOMBO                |34268   |\n",
            "|MA   |DEM       |IMPERATRIZ             |34253   |\n",
            "|BA   |DEM       |LAURO DE FREITAS       |34216   |\n",
            "|RS   |DEM       |SÃO LEOPOLDO           |33284   |\n",
            "|AM   |DEM       |PARINTINS              |32778   |\n",
            "|GO   |DEM       |ÁGUAS LINDAS DE GOIÁS  |32179   |\n",
            "|MS   |DEM       |DOURADOS               |31650   |\n",
            "|ES   |DEM       |CARIACICA              |30934   |\n",
            "|BA   |DEM       |LUÍS EDUARDO MAGALHÃES |29982   |\n",
            "|BA   |DEM       |EUNÁPOLIS              |29925   |\n",
            "|MG   |DEM       |PATROCÍNIO             |29493   |\n",
            "|BA   |DEM       |GUANAMBI               |29180   |\n",
            "|SP   |DEM       |BARRETOS               |27540   |\n",
            "|BA   |DEM       |ALAGOINHAS             |27015   |\n",
            "|MG   |DEM       |CONSELHEIRO LAFAIETE   |27000   |\n",
            "|SP   |DEM       |PIRACICABA             |25786   |\n",
            "|SC   |DEM       |BLUMENAU               |24957   |\n",
            "|SP   |DEM       |ITAPEVA                |23530   |\n",
            "|MG   |DEM       |UBÁ                    |23453   |\n",
            "|PR   |DEM       |GUARAPUAVA             |22879   |\n",
            "|BA   |DEM       |CAMPO FORMOSO          |22519   |\n",
            "|MG   |DEM       |ITAJUBÁ                |22337   |\n",
            "|PR   |DEM       |MARECHAL CÂNDIDO RONDON|22316   |\n",
            "|BA   |DEM       |CONCEIÇÃO DO COITÉ     |22281   |\n",
            "|CE   |DEM       |CANINDÉ                |22234   |\n",
            "|PE   |DEM       |BELO JARDIM            |22145   |\n",
            "|MG   |DEM       |FORMIGA                |22076   |\n",
            "|PR   |DEM       |CAMPO LARGO            |21566   |\n",
            "|PB   |DEM       |CABEDELO               |21397   |\n",
            "|MA   |DEM       |AÇAILÂNDIA             |21300   |\n",
            "|SP   |DEM       |LENÇÓIS PAULISTA       |21076   |\n",
            "|SP   |DEM       |RIO CLARO              |20753   |\n",
            "|SP   |DEM       |DIADEMA                |20524   |\n",
            "|BA   |DEM       |ILHÉUS                 |20265   |\n",
            "|SP   |DEM       |ITATIBA                |19901   |\n",
            "|MG   |DEM       |IPATINGA               |19437   |\n",
            "|BA   |DEM       |SENHOR DO BONFIM       |19363   |\n",
            "|MG   |DEM       |PATOS DE MINAS         |19362   |\n",
            "|PE   |DEM       |BEZERROS               |19261   |\n",
            "|MG   |DEM       |DIAMANTINA             |19139   |\n",
            "|BA   |DEM       |JACOBINA               |18405   |\n",
            "|RS   |DEM       |ALVORADA               |18370   |\n",
            "|GO   |DEM       |GOIANÉSIA              |17646   |\n",
            "|PR   |DEM       |PRUDENTÓPOLIS          |17505   |\n",
            "|MG   |DEM       |CAMPO BELO             |17319   |\n",
            "|ES   |DEM       |CACHOEIRO DE ITAPEMIRIM|17299   |\n",
            "|PA   |DEM       |SANTA ISABEL DO PARÁ   |17074   |\n",
            "|RJ   |DEM       |MACAÉ                  |16737   |\n",
            "|SP   |DEM       |LORENA                 |16690   |\n",
            "|GO   |DEM       |ITUMBIARA              |16640   |\n",
            "|GO   |DEM       |TRINDADE               |16607   |\n",
            "|SP   |DEM       |FERNANDÓPOLIS          |16457   |\n",
            "|BA   |DEM       |BRUMADO                |16308   |\n",
            "|SP   |DEM       |LEME                   |15646   |\n",
            "|PB   |DEM       |JOÃO PESSOA            |15582   |\n",
            "|PE   |DEM       |PESQUEIRA              |15562   |\n",
            "|BA   |DEM       |CANDEIAS               |14963   |\n",
            "|SP   |DEM       |BEBEDOURO              |14788   |\n",
            "|MG   |DEM       |PARACATU               |14614   |\n",
            "|RJ   |DEM       |ITAPERUNA              |14548   |\n",
            "|PR   |DEM       |CAMBÉ                  |14108   |\n",
            "|MT   |DEM       |JUARA                  |13957   |\n",
            "|MT   |DEM       |RONDONÓPOLIS           |13844   |\n",
            "|SP   |DEM       |SOROCABA               |13811   |\n",
            "|BA   |DEM       |IPIRÁ                  |13762   |\n",
            "|MG   |DEM       |NOVA LIMA              |13716   |\n",
            "|PI   |DEM       |UNIÃO                  |13460   |\n",
            "|AP   |DEM       |LARANJAL DO JARI       |13111   |\n",
            "|MG   |DEM       |EXTREMA                |12837   |\n",
            "|RJ   |DEM       |VASSOURAS              |12815   |\n",
            "|RO   |DEM       |CACOAL                 |12692   |\n",
            "|GO   |DEM       |MINEIROS               |12642   |\n",
            "|SE   |DEM       |ITABAIANINHA           |12481   |\n",
            "|SP   |DEM       |SÃO JOÃO DA BOA VISTA  |12430   |\n",
            "|RO   |DEM       |ARIQUEMES              |12414   |\n",
            "|MG   |DEM       |SANTA RITA DO SAPUCAÍ  |12253   |\n",
            "+-----+----------+-----------------------+--------+\n",
            "only showing top 100 rows\n",
            "\n"
          ]
        }
      ]
    },
    {
      "cell_type": "code",
      "source": [
        "query_votos_municipio.createOrReplaceTempView(\"votos_municipioView\")"
      ],
      "metadata": {
        "id": "rgY_3RCquZ5P"
      },
      "execution_count": 30,
      "outputs": []
    },
    {
      "cell_type": "code",
      "source": [
        "query_votos_municipio = spark\\\n",
        "    .sql(\"\"\"\n",
        "        SELECT SG_UF, SG_PARTIDO, SUM(QT_VOTOS) AS QT_VOTOS\n",
        "            FROM votos_municipioView\n",
        "            GROUP BY SG_UF, SG_PARTIDO\n",
        "            ORDER BY QT_VOTOS DESC\n",
        "    \"\"\")\n",
        "\n",
        "query_votos_municipio.show(10, truncate=False)"
      ],
      "metadata": {
        "colab": {
          "base_uri": "https://localhost:8080/"
        },
        "id": "WdtXErNBwAwe",
        "outputId": "88d3e30b-47b9-4733-90c8-e63802a78ff5"
      },
      "execution_count": 31,
      "outputs": [
        {
          "output_type": "stream",
          "name": "stdout",
          "text": [
            "+-----+----------+--------+\n",
            "|SG_UF|SG_PARTIDO|QT_VOTOS|\n",
            "+-----+----------+--------+\n",
            "|BA   |DEM       |1582139 |\n",
            "|RJ   |DEM       |1370214 |\n",
            "|MG   |DEM       |856913  |\n",
            "|SP   |DEM       |845659  |\n",
            "|PR   |DEM       |805878  |\n",
            "|GO   |DEM       |471704  |\n",
            "|PE   |DEM       |379586  |\n",
            "|MA   |DEM       |287778  |\n",
            "|SC   |DEM       |202139  |\n",
            "|PB   |DEM       |202089  |\n",
            "+-----+----------+--------+\n",
            "only showing top 10 rows\n",
            "\n"
          ]
        }
      ]
    },
    {
      "cell_type": "markdown",
      "source": [
        "Vamos correlacionar 2 tabelas. Uma com as regiões do Brasil para entendermos a média de votações nelas."
      ],
      "metadata": {
        "id": "KFVvWIJuxqNQ"
      }
    },
    {
      "cell_type": "code",
      "source": [
        "regiao_estado = spark.createDataFrame(\n",
        "    [\n",
        "        (\"Norte\", \"AM\"),\n",
        "        (\"Norte\", \"AC\"),\n",
        "        (\"Norte\", \"RO\"),\n",
        "        (\"Norte\", \"RR\"),\n",
        "        (\"Norte\", \"AM\"),\n",
        "        (\"Norte\", \"PA\"),\n",
        "        (\"Norte\", \"TO\"),\n",
        "\n",
        "        (\"Nordeste\", \"MA\"),\n",
        "        (\"Nordeste\", \"PI\"),\n",
        "        (\"Nordeste\", \"RN\"),\n",
        "        (\"Nordeste\", \"CE\"),\n",
        "        (\"Nordeste\", \"PA\"),\n",
        "        (\"Nordeste\", \"BA\"),\n",
        "        (\"Nordeste\", \"PE\"),\n",
        "        (\"Nordeste\", \"AL\"),\n",
        "        (\"Nordeste\", \"SE\"),\n",
        "\n",
        "        (\"Centro-Oeste\", \"GO\"),\n",
        "        (\"Centro-Oeste\", \"MT\"),\n",
        "        (\"Centro-Oeste\", \"MS\"),\n",
        "        (\"Centro-Oeste\", \"DF\"),\n",
        "\n",
        "        (\"Sudeste\", \"MG\"),\n",
        "        (\"Sudeste\", \"ES\"),\n",
        "        (\"Sudeste\", \"RJ\"),\n",
        "        (\"Sudeste\", \"SP\"),\n",
        "\n",
        "        (\"Sul\", \"SC\"),\n",
        "        (\"Sul\", \"PR\"),\n",
        "        (\"Sul\", \"RS\"),\n",
        "\n",
        "    ],\n",
        "    ['REGIAO', 'ESTADO']\n",
        ")"
      ],
      "metadata": {
        "id": "pGr-Z_x2wHdO"
      },
      "execution_count": 34,
      "outputs": []
    },
    {
      "cell_type": "code",
      "source": [
        "regiao_estado.show()"
      ],
      "metadata": {
        "colab": {
          "base_uri": "https://localhost:8080/"
        },
        "id": "Dces0Mmyy1r7",
        "outputId": "b4776cc2-e9ab-4dc5-d344-73c31500df02"
      },
      "execution_count": 35,
      "outputs": [
        {
          "output_type": "stream",
          "name": "stdout",
          "text": [
            "+------------+------+\n",
            "|      REGIAO|ESTADO|\n",
            "+------------+------+\n",
            "|       Norte|    AM|\n",
            "|       Norte|    AC|\n",
            "|       Norte|    RO|\n",
            "|       Norte|    RR|\n",
            "|       Norte|    AM|\n",
            "|       Norte|    PA|\n",
            "|       Norte|    TO|\n",
            "|    Nordeste|    MA|\n",
            "|    Nordeste|    PI|\n",
            "|    Nordeste|    RN|\n",
            "|    Nordeste|    CE|\n",
            "|    Nordeste|    PA|\n",
            "|    Nordeste|    BA|\n",
            "|    Nordeste|    PE|\n",
            "|    Nordeste|    AL|\n",
            "|    Nordeste|    SE|\n",
            "|Centro-Oeste|    GO|\n",
            "|Centro-Oeste|    MT|\n",
            "|Centro-Oeste|    MS|\n",
            "|Centro-Oeste|    DF|\n",
            "+------------+------+\n",
            "only showing top 20 rows\n",
            "\n"
          ]
        }
      ]
    },
    {
      "cell_type": "code",
      "source": [
        "regiao_estado.createOrReplaceTempView(\"regiao_estadoView\")"
      ],
      "metadata": {
        "id": "Koy8A1Lvyxwf"
      },
      "execution_count": 36,
      "outputs": []
    },
    {
      "cell_type": "code",
      "source": [
        "query_votos_municipio = spark\\\n",
        "    .sql(\"\"\"\n",
        "        SELECT r.REGIAO, v.SG_PARTIDO, SUM(v.QT_VOTOS) as QT_VOTOS\n",
        "            FROM votacaoView v\n",
        "            INNER JOIN regiao_estadoView r\n",
        "            ON v.SG_UF = r.ESTADO\n",
        "            GROUP BY v.SG_PARTIDO, r.REGIAO\n",
        "            HAVING SG_PARTIDO IN ('DEM')\n",
        "            ORDER BY QT_VOTOS DESC\n",
        "    \"\"\")\n",
        "\n",
        "query_votos_municipio.show(truncate=False)"
      ],
      "metadata": {
        "colab": {
          "base_uri": "https://localhost:8080/"
        },
        "id": "hLLwqe9oy_vf",
        "outputId": "b3810a78-d60e-4e18-c783-e466914d1dd3"
      },
      "execution_count": 37,
      "outputs": [
        {
          "output_type": "stream",
          "name": "stdout",
          "text": [
            "+------------+----------+--------+\n",
            "|REGIAO      |SG_PARTIDO|QT_VOTOS|\n",
            "+------------+----------+--------+\n",
            "|Sudeste     |DEM       |3160461 |\n",
            "|Nordeste    |DEM       |2747437 |\n",
            "|Sul         |DEM       |1167685 |\n",
            "|Centro-Oeste|DEM       |777660  |\n",
            "|Norte       |DEM       |446049  |\n",
            "+------------+----------+--------+\n",
            "\n"
          ]
        }
      ]
    },
    {
      "cell_type": "code",
      "source": [],
      "metadata": {
        "id": "QbzR4cJzzZ1H"
      },
      "execution_count": null,
      "outputs": []
    }
  ]
}