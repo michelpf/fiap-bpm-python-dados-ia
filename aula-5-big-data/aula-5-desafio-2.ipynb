{
  "cells": [
    {
      "cell_type": "markdown",
      "metadata": {
        "id": "epWkqCScelsl"
      },
      "source": [
        "# Aula 2\n",
        "## Desafio 1\n",
        "___"
      ]
    },
    {
      "cell_type": "markdown",
      "metadata": {
        "id": "HJScE-NAelsq"
      },
      "source": [
        "Dado o dataset de resultados das eleições de 2020, obtenha a lista das zonas eleitorais com maior taxa de votação, ou seja, uma zona eleitoral por município por Estado.\n",
        "\n",
        "A tabela resultante deve conter:\n",
        "\n",
        "* Estado\n",
        "* Município\n",
        "* Zona eleitoral\n",
        "* Número de votantes\n",
        "* Número de abstenções\n",
        "* Taxa de votação\n",
        "\n",
        "Utilize somente Spark SQL para construir esta consulta.\n"
      ]
    },
    {
      "cell_type": "code",
      "execution_count": 1,
      "metadata": {
        "id": "yDoHxqhrelsr",
        "colab": {
          "base_uri": "https://localhost:8080/"
        },
        "outputId": "9cc0fc77-bdf2-46e4-839f-f52caeeba5c8"
      },
      "outputs": [
        {
          "output_type": "stream",
          "name": "stdout",
          "text": [
            "Collecting pyspark\n",
            "  Downloading pyspark-3.4.1.tar.gz (310.8 MB)\n",
            "\u001b[2K     \u001b[90m━━━━━━━━━━━━━━━━━━━━━━━━━━━━━━━━━━━━━━━\u001b[0m \u001b[32m310.8/310.8 MB\u001b[0m \u001b[31m4.5 MB/s\u001b[0m eta \u001b[36m0:00:00\u001b[0m\n",
            "\u001b[?25h  Preparing metadata (setup.py) ... \u001b[?25l\u001b[?25hdone\n",
            "Requirement already satisfied: py4j==0.10.9.7 in /usr/local/lib/python3.10/dist-packages (from pyspark) (0.10.9.7)\n",
            "Building wheels for collected packages: pyspark\n",
            "  Building wheel for pyspark (setup.py) ... \u001b[?25l\u001b[?25hdone\n",
            "  Created wheel for pyspark: filename=pyspark-3.4.1-py2.py3-none-any.whl size=311285398 sha256=9ec3a5ae49ff001327916ddc1c5c10dd5d8187b5c051b5c2013c8d63cfeb8fac\n",
            "  Stored in directory: /root/.cache/pip/wheels/0d/77/a3/ff2f74cc9ab41f8f594dabf0579c2a7c6de920d584206e0834\n",
            "Successfully built pyspark\n",
            "Installing collected packages: pyspark\n",
            "Successfully installed pyspark-3.4.1\n"
          ]
        }
      ],
      "source": [
        "!pip install pyspark"
      ]
    },
    {
      "cell_type": "code",
      "execution_count": 2,
      "metadata": {
        "collapsed": true,
        "id": "pZyIr_m4elst"
      },
      "outputs": [],
      "source": [
        "from pyspark.sql import SparkSession\n",
        "\n",
        "spark = SparkSession.builder \\\n",
        "  .master('local[*]') \\\n",
        "  .appName(\"Analise de dados de eleições\") \\\n",
        "  .config('spark.ui.port', '4050') \\\n",
        "  .getOrCreate()"
      ]
    },
    {
      "cell_type": "code",
      "execution_count": 3,
      "metadata": {
        "id": "Ro0WZ_Agelsu",
        "outputId": "717ac54d-c6c6-481b-b747-d7a184c6a4c1",
        "colab": {
          "base_uri": "https://localhost:8080/"
        }
      },
      "outputs": [
        {
          "output_type": "stream",
          "name": "stdout",
          "text": [
            "Cloning into 'dataset-brazil-elections-2020-mayor-1st-round'...\n",
            "remote: Enumerating objects: 326, done.\u001b[K\n",
            "remote: Counting objects: 100% (3/3), done.\u001b[K\n",
            "remote: Compressing objects: 100% (3/3), done.\u001b[K\n",
            "remote: Total 326 (delta 0), reused 3 (delta 0), pack-reused 323\u001b[K\n",
            "Receiving objects: 100% (326/326), 127.02 MiB | 20.68 MiB/s, done.\n",
            "Resolving deltas: 100% (262/262), done.\n",
            "Updating files: 100% (151/151), done.\n"
          ]
        }
      ],
      "source": [
        "!git clone https://github.com/michelpf/dataset-brazil-elections-2020-mayor-1st-round"
      ]
    },
    {
      "cell_type": "code",
      "source": [
        "dados = spark.read.option(\"encoding\", \"iso-8859-1\").option(\"recursiveFileLookup\",\"true\").csv('dataset-brazil-elections-2020-mayor-1st-round/dataset', sep=';', header=True, inferSchema=True)"
      ],
      "metadata": {
        "id": "jr7R3P_ofIkc"
      },
      "execution_count": 4,
      "outputs": []
    },
    {
      "cell_type": "code",
      "source": [
        "from pyspark.sql import functions as f"
      ],
      "metadata": {
        "id": "WSMAU8UlgMrX"
      },
      "execution_count": 5,
      "outputs": []
    },
    {
      "cell_type": "code",
      "source": [
        "dados.createOrReplaceTempView(\"votacaoView\")"
      ],
      "metadata": {
        "id": "IbsYPCTXGYOr"
      },
      "execution_count": 6,
      "outputs": []
    },
    {
      "cell_type": "code",
      "source": [
        "query_consolidacao = spark\\\n",
        "    .sql(\"\"\"\n",
        "        SELECT SG_UF, NM_MUNICIPIO, NR_ZONA, SUM(QT_APTOS) AS QT_APTOS, SUM(QT_COMPARECIMENTO) AS QT_COMPARECIMENTO\n",
        "            FROM votacaoView\n",
        "            WHERE NM_VOTAVEL NOT IN ('NULO','BRANCO')\n",
        "            GROUP BY SG_UF, NM_MUNICIPIO, NR_ZONA\n",
        "            ORDER BY SG_UF, NM_MUNICIPIO, NR_ZONA\n",
        "    \"\"\")\n",
        "\n",
        "query_consolidacao.show(truncate=False)"
      ],
      "metadata": {
        "colab": {
          "base_uri": "https://localhost:8080/"
        },
        "id": "aPp049_UGZBQ",
        "outputId": "8b36542c-6e9c-4f39-d33b-eb7c33826c01"
      },
      "execution_count": 31,
      "outputs": [
        {
          "output_type": "stream",
          "name": "stdout",
          "text": [
            "+-----+--------------------+-------+--------+-----------------+\n",
            "|SG_UF|NM_MUNICIPIO        |NR_ZONA|QT_APTOS|QT_COMPARECIMENTO|\n",
            "+-----+--------------------+-------+--------+-----------------+\n",
            "|AC   |ACRELÂNDIA          |8      |53243   |41175            |\n",
            "|AC   |ASSIS BRASIL        |6      |38481   |32035            |\n",
            "|AC   |BRASILÉIA           |6      |81883   |65718            |\n",
            "|AC   |BUJARI              |9      |67086   |51564            |\n",
            "|AC   |CAPIXABA            |2      |43040   |34861            |\n",
            "|AC   |CRUZEIRO DO SUL     |4      |273415  |218363           |\n",
            "|AC   |EPITACIOLÂNDIA      |6      |70130   |56483            |\n",
            "|AC   |FEIJÓ               |7      |123470  |92895            |\n",
            "|AC   |JORDÃO              |5      |33313   |27559            |\n",
            "|AC   |MANOEL URBANO       |3      |28060   |22236            |\n",
            "|AC   |MARECHAL THAUMATURGO|4      |45231   |37163            |\n",
            "|AC   |MÂNCIO LIMA         |4      |62918   |52513            |\n",
            "|AC   |PLÁCIDO DE CASTRO   |8      |67025   |55036            |\n",
            "|AC   |PORTO ACRE          |1      |83625   |66282            |\n",
            "|AC   |PORTO WALTER        |4      |23499   |20231            |\n",
            "|AC   |RIO BRANCO          |1      |1136236 |821415           |\n",
            "|AC   |RIO BRANCO          |9      |1106811 |810973           |\n",
            "|AC   |RODRIGUES ALVES     |4      |64421   |52515            |\n",
            "|AC   |SANTA ROSA DO PURUS |3      |23079   |19371            |\n",
            "|AC   |SENA MADUREIRA      |3      |113127  |87329            |\n",
            "+-----+--------------------+-------+--------+-----------------+\n",
            "only showing top 20 rows\n",
            "\n"
          ]
        }
      ]
    },
    {
      "cell_type": "code",
      "execution_count": 32,
      "metadata": {
        "collapsed": true,
        "id": "HZmBPa5selsw"
      },
      "outputs": [],
      "source": [
        "query_consolidacao.createOrReplaceTempView(\"votacaoViewConsolidado\")"
      ]
    },
    {
      "cell_type": "code",
      "source": [
        "query_taxa = spark\\\n",
        "    .sql(\"\"\"\n",
        "        SELECT SG_UF, NM_MUNICIPIO, NR_ZONA, MAX(QT_COMPARECIMENTO/QT_APTOS) AS TAXA\n",
        "            FROM votacaoViewConsolidado\n",
        "            GROUP BY SG_UF, NM_MUNICIPIO, NR_ZONA\n",
        "            ORDER BY SG_UF, NM_MUNICIPIO, NR_ZONA\n",
        "    \"\"\")\n",
        "\n",
        "query_taxa.show(truncate=False)"
      ],
      "metadata": {
        "colab": {
          "base_uri": "https://localhost:8080/"
        },
        "id": "CMbq4AvwgV_V",
        "outputId": "bf5bcdcb-75bc-4255-d509-4d55a7c0df40"
      },
      "execution_count": 30,
      "outputs": [
        {
          "output_type": "stream",
          "name": "stdout",
          "text": [
            "+-----+--------------------+-------+------------------+\n",
            "|SG_UF|NM_MUNICIPIO        |NR_ZONA|TAXA              |\n",
            "+-----+--------------------+-------+------------------+\n",
            "|AC   |ACRELÂNDIA          |8      |0.7733410964821666|\n",
            "|AC   |ASSIS BRASIL        |6      |0.8324887606870923|\n",
            "|AC   |BRASILÉIA           |6      |0.8025841749813759|\n",
            "|AC   |BUJARI              |9      |0.7686253465700742|\n",
            "|AC   |CAPIXABA            |2      |0.8099674721189591|\n",
            "|AC   |CRUZEIRO DO SUL     |4      |0.7986504032331804|\n",
            "|AC   |EPITACIOLÂNDIA      |6      |0.8054042492513903|\n",
            "|AC   |FEIJÓ               |7      |0.7523689965173727|\n",
            "|AC   |JORDÃO              |5      |0.8272746375288926|\n",
            "|AC   |MANOEL URBANO       |3      |0.7924447612259444|\n",
            "|AC   |MARECHAL THAUMATURGO|4      |0.821626760407685 |\n",
            "|AC   |MÂNCIO LIMA         |4      |0.8346260211704123|\n",
            "|AC   |PLÁCIDO DE CASTRO   |8      |0.8211264453562104|\n",
            "|AC   |PORTO ACRE          |1      |0.792609865470852 |\n",
            "|AC   |PORTO WALTER        |4      |0.8609302523511638|\n",
            "|AC   |RIO BRANCO          |1      |0.7229263990931462|\n",
            "|AC   |RIO BRANCO          |9      |0.7327113662585573|\n",
            "|AC   |RODRIGUES ALVES     |4      |0.8151844895298117|\n",
            "|AC   |SANTA ROSA DO PURUS |3      |0.8393344598986091|\n",
            "|AC   |SENA MADUREIRA      |3      |0.7719554129429755|\n",
            "+-----+--------------------+-------+------------------+\n",
            "only showing top 20 rows\n",
            "\n"
          ]
        }
      ]
    },
    {
      "cell_type": "code",
      "source": [
        "query_taxa.createOrReplaceTempView(\"votacaoViewConsolidadoTaxa\")"
      ],
      "metadata": {
        "id": "lLFmePz_JAOs"
      },
      "execution_count": 34,
      "outputs": []
    },
    {
      "cell_type": "code",
      "source": [
        "query_taxa_votacao = spark\\\n",
        "    .sql(\"\"\"\n",
        "        SELECT v.SG_UF, v.NM_MUNICIPIO, v.NR_ZONA, v.TAXA, c.QT_APTOS, c.QT_COMPARECIMENTO\n",
        "            FROM votacaoViewConsolidadoTaxa v\n",
        "            INNER JOIN votacaoViewConsolidado c\n",
        "            ON v.SG_UF = c.SG_UF\n",
        "            AND v.NM_MUNICIPIO = c.NM_MUNICIPIO\n",
        "            AND v.NR_ZONA = c.NR_ZONA\n",
        "            ORDER BY v.SG_UF, v.NM_MUNICIPIO, v.NR_ZONA\n",
        "    \"\"\")\n",
        "\n",
        "query_taxa_votacao.show(truncate=False)"
      ],
      "metadata": {
        "colab": {
          "base_uri": "https://localhost:8080/"
        },
        "id": "CYIWggUGJEzf",
        "outputId": "910d00de-fc88-4fcc-8f4c-66cb11893203"
      },
      "execution_count": 36,
      "outputs": [
        {
          "output_type": "stream",
          "name": "stdout",
          "text": [
            "+-----+--------------------+-------+------------------+--------+-----------------+\n",
            "|SG_UF|NM_MUNICIPIO        |NR_ZONA|TAXA              |QT_APTOS|QT_COMPARECIMENTO|\n",
            "+-----+--------------------+-------+------------------+--------+-----------------+\n",
            "|AC   |ACRELÂNDIA          |8      |0.7733410964821666|53243   |41175            |\n",
            "|AC   |ASSIS BRASIL        |6      |0.8324887606870923|38481   |32035            |\n",
            "|AC   |BRASILÉIA           |6      |0.8025841749813759|81883   |65718            |\n",
            "|AC   |BUJARI              |9      |0.7686253465700742|67086   |51564            |\n",
            "|AC   |CAPIXABA            |2      |0.8099674721189591|43040   |34861            |\n",
            "|AC   |CRUZEIRO DO SUL     |4      |0.7986504032331804|273415  |218363           |\n",
            "|AC   |EPITACIOLÂNDIA      |6      |0.8054042492513903|70130   |56483            |\n",
            "|AC   |FEIJÓ               |7      |0.7523689965173727|123470  |92895            |\n",
            "|AC   |JORDÃO              |5      |0.8272746375288926|33313   |27559            |\n",
            "|AC   |MANOEL URBANO       |3      |0.7924447612259444|28060   |22236            |\n",
            "|AC   |MARECHAL THAUMATURGO|4      |0.821626760407685 |45231   |37163            |\n",
            "|AC   |MÂNCIO LIMA         |4      |0.8346260211704123|62918   |52513            |\n",
            "|AC   |PLÁCIDO DE CASTRO   |8      |0.8211264453562104|67025   |55036            |\n",
            "|AC   |PORTO ACRE          |1      |0.792609865470852 |83625   |66282            |\n",
            "|AC   |PORTO WALTER        |4      |0.8609302523511638|23499   |20231            |\n",
            "|AC   |RIO BRANCO          |1      |0.7229263990931462|1136236 |821415           |\n",
            "|AC   |RIO BRANCO          |9      |0.7327113662585573|1106811 |810973           |\n",
            "|AC   |RODRIGUES ALVES     |4      |0.8151844895298117|64421   |52515            |\n",
            "|AC   |SANTA ROSA DO PURUS |3      |0.8393344598986091|23079   |19371            |\n",
            "|AC   |SENA MADUREIRA      |3      |0.7719554129429755|113127  |87329            |\n",
            "+-----+--------------------+-------+------------------+--------+-----------------+\n",
            "only showing top 20 rows\n",
            "\n"
          ]
        }
      ]
    },
    {
      "cell_type": "code",
      "source": [
        "query_taxa_mun = spark\\\n",
        "    .sql(\"\"\"\n",
        "        SELECT SG_UF, NM_MUNICIPIO, MAX(QT_COMPARECIMENTO/QT_APTOS) AS TAXA\n",
        "            FROM votacaoViewConsolidado\n",
        "            GROUP BY SG_UF, NM_MUNICIPIO\n",
        "            ORDER BY SG_UF, NM_MUNICIPIO\n",
        "    \"\"\")\n",
        "\n",
        "query_taxa_mun.show(truncate=False)"
      ],
      "metadata": {
        "colab": {
          "base_uri": "https://localhost:8080/"
        },
        "id": "CB0V0QHCgYiO",
        "outputId": "cfd22aae-c295-49e2-b031-be6bf6df138d"
      },
      "execution_count": 22,
      "outputs": [
        {
          "output_type": "stream",
          "name": "stdout",
          "text": [
            "+-----+--------------------+------------------+\n",
            "|SG_UF|NM_MUNICIPIO        |TAXA              |\n",
            "+-----+--------------------+------------------+\n",
            "|AC   |ACRELÂNDIA          |0.7733410964821666|\n",
            "|AC   |ASSIS BRASIL        |0.8324887606870923|\n",
            "|AC   |BRASILÉIA           |0.8025841749813759|\n",
            "|AC   |BUJARI              |0.7686253465700742|\n",
            "|AC   |CAPIXABA            |0.8099674721189591|\n",
            "|AC   |CRUZEIRO DO SUL     |0.7986504032331804|\n",
            "|AC   |EPITACIOLÂNDIA      |0.8054042492513903|\n",
            "|AC   |FEIJÓ               |0.7523689965173727|\n",
            "|AC   |JORDÃO              |0.8272746375288926|\n",
            "|AC   |MANOEL URBANO       |0.7924447612259444|\n",
            "|AC   |MARECHAL THAUMATURGO|0.821626760407685 |\n",
            "|AC   |MÂNCIO LIMA         |0.8346260211704123|\n",
            "|AC   |PLÁCIDO DE CASTRO   |0.8211264453562104|\n",
            "|AC   |PORTO ACRE          |0.792609865470852 |\n",
            "|AC   |PORTO WALTER        |0.8609302523511638|\n",
            "|AC   |RIO BRANCO          |0.7327113662585573|\n",
            "|AC   |RODRIGUES ALVES     |0.8151844895298117|\n",
            "|AC   |SANTA ROSA DO PURUS |0.8393344598986091|\n",
            "|AC   |SENA MADUREIRA      |0.7719554129429755|\n",
            "|AC   |SENADOR GUIOMARD    |0.8046366525958191|\n",
            "+-----+--------------------+------------------+\n",
            "only showing top 20 rows\n",
            "\n"
          ]
        }
      ]
    },
    {
      "cell_type": "code",
      "source": [
        "query_taxa_uf = spark\\\n",
        "    .sql(\"\"\"\n",
        "        SELECT SG_UF, MAX(QT_COMPARECIMENTO/QT_APTOS) AS TAXA\n",
        "            FROM votacaoViewConsolidado\n",
        "            GROUP BY SG_UF\n",
        "            ORDER BY TAXA DESC\n",
        "    \"\"\")\n",
        "\n",
        "query_taxa_uf.show(truncate=False)"
      ],
      "metadata": {
        "colab": {
          "base_uri": "https://localhost:8080/"
        },
        "id": "GssZnwvaIjPf",
        "outputId": "9d642e64-dc41-4f9a-eaad-a7243b3ada64"
      },
      "execution_count": 25,
      "outputs": [
        {
          "output_type": "stream",
          "name": "stdout",
          "text": [
            "+-----+------------------+\n",
            "|SG_UF|TAXA              |\n",
            "+-----+------------------+\n",
            "|SC   |0.9704597996403802|\n",
            "|PI   |0.966334326039104 |\n",
            "|RS   |0.9660810399106327|\n",
            "|RN   |0.9569467945102463|\n",
            "|MG   |0.9514207149404217|\n",
            "|GO   |0.9476133492886584|\n",
            "|PB   |0.9444004226096143|\n",
            "|PR   |0.9435291308500477|\n",
            "|TO   |0.9409193270631871|\n",
            "|SE   |0.9322449605273243|\n",
            "|MT   |0.9319316688567674|\n",
            "|PE   |0.9275620120565273|\n",
            "|CE   |0.9264072971757703|\n",
            "|BA   |0.9241085515935626|\n",
            "|SP   |0.9206493359064593|\n",
            "|MA   |0.9198401351702625|\n",
            "|MS   |0.9039275976097929|\n",
            "|PA   |0.9000839630562553|\n",
            "|AP   |0.8997778037656414|\n",
            "|ES   |0.8967150112092236|\n",
            "+-----+------------------+\n",
            "only showing top 20 rows\n",
            "\n"
          ]
        }
      ]
    },
    {
      "cell_type": "code",
      "source": [],
      "metadata": {
        "id": "uCxfl2zYIsit"
      },
      "execution_count": null,
      "outputs": []
    }
  ],
  "metadata": {
    "kernelspec": {
      "display_name": "Python 3",
      "language": "python",
      "name": "python3"
    },
    "language_info": {
      "codemirror_mode": {
        "name": "ipython",
        "version": 3
      },
      "file_extension": ".py",
      "mimetype": "text/x-python",
      "name": "python",
      "nbconvert_exporter": "python",
      "pygments_lexer": "ipython3",
      "version": "3.6.2"
    },
    "colab": {
      "provenance": []
    }
  },
  "nbformat": 4,
  "nbformat_minor": 0
}