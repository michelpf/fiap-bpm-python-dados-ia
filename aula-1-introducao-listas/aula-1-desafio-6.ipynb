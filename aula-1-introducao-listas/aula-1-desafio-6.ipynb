{
 "cells": [
  {
   "cell_type": "markdown",
   "source": [
    "## Desafio 6\r\n",
    "___"
   ],
   "metadata": {}
  },
  {
   "cell_type": "markdown",
   "source": [
    "Crie uma função que retorne na forma de um dicionário as seguintes informações da frase abaixo: número de palavras, número de números e número de frases.\n",
    "\n",
    "_Hint_: use a função built-in isdigit() de string para verificar se determinado caractere é número e split(<separador>) para criar uma lista a partir do caracatere ou token de separação."
   ],
   "metadata": {}
  },
  {
   "cell_type": "code",
   "execution_count": 1,
   "source": [
    "texto = \"Brasil, oficialmente República Federativa do Brasil é o maior país da América do Sul e da região da América Latina, sendo o quinto maior do mundo em área territorial (equivalente a 47 porcento do território sul-americano) e sexto em população (com mais de 200 milhões de habitantes). É o único país na América onde se fala majoritariamente a língua portuguesa e o maior país lusófono do planeta, além de ser uma das nações mais multiculturais e etnicamente diversas, em decorrência da forte imigração oriunda de variados locais do mundo.\""
   ],
   "outputs": [],
   "metadata": {
    "collapsed": true
   }
  },
  {
   "cell_type": "code",
   "execution_count": 2,
   "source": [
    "texto"
   ],
   "outputs": [
    {
     "output_type": "execute_result",
     "data": {
      "text/plain": [
       "'Brasil, oficialmente República Federativa do Brasil é o maior país da América do Sul e da região da América Latina, sendo o quinto maior do mundo em área territorial (equivalente a 47 porcento do território sul-americano) e sexto em população (com mais de 200 milhões de habitantes). É o único país na América onde se fala majoritariamente a língua portuguesa e o maior país lusófono do planeta, além de ser uma das nações mais multiculturais e etnicamente diversas, em decorrência da forte imigração oriunda de variados locais do mundo.'"
      ]
     },
     "metadata": {},
     "execution_count": 2
    }
   ],
   "metadata": {}
  },
  {
   "cell_type": "code",
   "execution_count": 9,
   "source": [
    "def obter_info_texto(texto):\r\n",
    "    \r\n",
    "    palavras = [palavra for palavra in texto.split(\" \") if palavra.isalpha()]\r\n",
    "    numeros = [palavra for palavra in texto.split(\" \") if palavra.isdigit()]\r\n",
    "    frases = [palavra for palavra in texto.split(\".\") ]\r\n",
    "    \r\n",
    "    retorno = {\"palavras\": [len(palavras), palavras], \"numeros\": [len(numeros), numeros], \r\n",
    "               \"frases\" : [len(frases) -1, frases] }\r\n",
    "    \r\n",
    "    return retorno"
   ],
   "outputs": [],
   "metadata": {
    "collapsed": true
   }
  },
  {
   "cell_type": "code",
   "execution_count": 10,
   "source": [
    "obter_info_texto(texto)"
   ],
   "outputs": [
    {
     "output_type": "execute_result",
     "data": {
      "text/plain": [
       "{'frases': [2,\n",
       "  ['Brasil, oficialmente República Federativa do Brasil é o maior país da América do Sul e da região da América Latina, sendo o quinto maior do mundo em área territorial (equivalente a 47 porcento do território sul-americano) e sexto em população (com mais de 200 milhões de habitantes)',\n",
       "   ' É o único país na América onde se fala majoritariamente a língua portuguesa e o maior país lusófono do planeta, além de ser uma das nações mais multiculturais e etnicamente diversas, em decorrência da forte imigração oriunda de variados locais do mundo',\n",
       "   '']],\n",
       " 'numeros': [2, ['47', '200']],\n",
       " 'palavras': [78,\n",
       "  ['oficialmente',\n",
       "   'República',\n",
       "   'Federativa',\n",
       "   'do',\n",
       "   'Brasil',\n",
       "   'é',\n",
       "   'o',\n",
       "   'maior',\n",
       "   'país',\n",
       "   'da',\n",
       "   'América',\n",
       "   'do',\n",
       "   'Sul',\n",
       "   'e',\n",
       "   'da',\n",
       "   'região',\n",
       "   'da',\n",
       "   'América',\n",
       "   'sendo',\n",
       "   'o',\n",
       "   'quinto',\n",
       "   'maior',\n",
       "   'do',\n",
       "   'mundo',\n",
       "   'em',\n",
       "   'área',\n",
       "   'territorial',\n",
       "   'a',\n",
       "   'porcento',\n",
       "   'do',\n",
       "   'território',\n",
       "   'e',\n",
       "   'sexto',\n",
       "   'em',\n",
       "   'população',\n",
       "   'mais',\n",
       "   'de',\n",
       "   'milhões',\n",
       "   'de',\n",
       "   'É',\n",
       "   'o',\n",
       "   'único',\n",
       "   'país',\n",
       "   'na',\n",
       "   'América',\n",
       "   'onde',\n",
       "   'se',\n",
       "   'fala',\n",
       "   'majoritariamente',\n",
       "   'a',\n",
       "   'língua',\n",
       "   'portuguesa',\n",
       "   'e',\n",
       "   'o',\n",
       "   'maior',\n",
       "   'país',\n",
       "   'lusófono',\n",
       "   'do',\n",
       "   'além',\n",
       "   'de',\n",
       "   'ser',\n",
       "   'uma',\n",
       "   'das',\n",
       "   'nações',\n",
       "   'mais',\n",
       "   'multiculturais',\n",
       "   'e',\n",
       "   'etnicamente',\n",
       "   'em',\n",
       "   'decorrência',\n",
       "   'da',\n",
       "   'forte',\n",
       "   'imigração',\n",
       "   'oriunda',\n",
       "   'de',\n",
       "   'variados',\n",
       "   'locais',\n",
       "   'do']]}"
      ]
     },
     "metadata": {},
     "execution_count": 10
    }
   ],
   "metadata": {}
  },
  {
   "cell_type": "code",
   "execution_count": null,
   "source": [],
   "outputs": [],
   "metadata": {
    "collapsed": true
   }
  }
 ],
 "metadata": {
  "kernelspec": {
   "display_name": "Python 3",
   "language": "python",
   "name": "python3"
  },
  "language_info": {
   "codemirror_mode": {
    "name": "ipython",
    "version": 3
   },
   "file_extension": ".py",
   "mimetype": "text/x-python",
   "name": "python",
   "nbconvert_exporter": "python",
   "pygments_lexer": "ipython3",
   "version": "3.6.2"
  }
 },
 "nbformat": 4,
 "nbformat_minor": 2
}