{
 "cells": [
  {
   "cell_type": "markdown",
   "metadata": {},
   "source": [
    "# Aula 1\n",
    "## Challenge 6\n",
    "___"
   ]
  },
  {
   "cell_type": "markdown",
   "metadata": {},
   "source": [
    "Crie uma função que retorne na forma de um dicionário as seguintes informações da frase abaixo: número de palavras, número de números e número de frases.\n",
    "\n",
    "_Hint_: use a função built-in isdigit() de string para verificar se determinado caractere é número e split(<separador>) para criar uma lista a partir do caracatere ou token de separação."
   ]
  },
  {
   "cell_type": "code",
   "execution_count": 1,
   "metadata": {
    "collapsed": true
   },
   "outputs": [],
   "source": [
    "texto = \"Brasil, oficialmente República Federativa do Brasil é o maior país da América do Sul e da região da América Latina, sendo o quinto maior do mundo em área territorial (equivalente a 47 porcento do território sul-americano) e sexto em população (com mais de 200 milhões de habitantes). É o único país na América onde se fala majoritariamente a língua portuguesa e o maior país lusófono do planeta, além de ser uma das nações mais multiculturais e etnicamente diversas, em decorrência da forte imigração oriunda de variados locais do mundo.\""
   ]
  },
  {
   "cell_type": "code",
   "execution_count": 2,
   "metadata": {},
   "outputs": [
    {
     "data": {
      "text/plain": [
       "'Brasil, oficialmente República Federativa do Brasil é o maior país da América do Sul e da região da América Latina, sendo o quinto maior do mundo em área territorial (equivalente a 47 porcento do território sul-americano) e sexto em população (com mais de 200 milhões de habitantes). É o único país na América onde se fala majoritariamente a língua portuguesa e o maior país lusófono do planeta, além de ser uma das nações mais multiculturais e etnicamente diversas, em decorrência da forte imigração oriunda de variados locais do mundo.'"
      ]
     },
     "execution_count": 2,
     "metadata": {},
     "output_type": "execute_result"
    }
   ],
   "source": [
    "texto"
   ]
  },
  {
   "cell_type": "code",
   "execution_count": 9,
   "metadata": {
    "collapsed": true
   },
   "outputs": [],
   "source": [
    "def obter_info_texto(texto):\n",
    "    \n",
    "    palavras = [palavra for palavra in texto.split(\" \") if palavra.isalpha()]\n",
    "    numeros = [palavra for palavra in texto.split(\" \") if palavra.isdigit()]\n",
    "    frases = [palavra for palavra in texto.split(\".\") ]\n",
    "    \n",
    "    retorno = {\"palavras\": [len(palavras), palavras], \"numeros\": [len(numeros), numeros], \n",
    "               \"frases\" : [len(frases) -1, frases] }\n",
    "    \n",
    "    return retorno"
   ]
  },
  {
   "cell_type": "code",
   "execution_count": 10,
   "metadata": {},
   "outputs": [
    {
     "data": {
      "text/plain": [
       "{'frases': [2,\n",
       "  ['Brasil, oficialmente República Federativa do Brasil é o maior país da América do Sul e da região da América Latina, sendo o quinto maior do mundo em área territorial (equivalente a 47 porcento do território sul-americano) e sexto em população (com mais de 200 milhões de habitantes)',\n",
       "   ' É o único país na América onde se fala majoritariamente a língua portuguesa e o maior país lusófono do planeta, além de ser uma das nações mais multiculturais e etnicamente diversas, em decorrência da forte imigração oriunda de variados locais do mundo',\n",
       "   '']],\n",
       " 'numeros': [2, ['47', '200']],\n",
       " 'palavras': [78,\n",
       "  ['oficialmente',\n",
       "   'República',\n",
       "   'Federativa',\n",
       "   'do',\n",
       "   'Brasil',\n",
       "   'é',\n",
       "   'o',\n",
       "   'maior',\n",
       "   'país',\n",
       "   'da',\n",
       "   'América',\n",
       "   'do',\n",
       "   'Sul',\n",
       "   'e',\n",
       "   'da',\n",
       "   'região',\n",
       "   'da',\n",
       "   'América',\n",
       "   'sendo',\n",
       "   'o',\n",
       "   'quinto',\n",
       "   'maior',\n",
       "   'do',\n",
       "   'mundo',\n",
       "   'em',\n",
       "   'área',\n",
       "   'territorial',\n",
       "   'a',\n",
       "   'porcento',\n",
       "   'do',\n",
       "   'território',\n",
       "   'e',\n",
       "   'sexto',\n",
       "   'em',\n",
       "   'população',\n",
       "   'mais',\n",
       "   'de',\n",
       "   'milhões',\n",
       "   'de',\n",
       "   'É',\n",
       "   'o',\n",
       "   'único',\n",
       "   'país',\n",
       "   'na',\n",
       "   'América',\n",
       "   'onde',\n",
       "   'se',\n",
       "   'fala',\n",
       "   'majoritariamente',\n",
       "   'a',\n",
       "   'língua',\n",
       "   'portuguesa',\n",
       "   'e',\n",
       "   'o',\n",
       "   'maior',\n",
       "   'país',\n",
       "   'lusófono',\n",
       "   'do',\n",
       "   'além',\n",
       "   'de',\n",
       "   'ser',\n",
       "   'uma',\n",
       "   'das',\n",
       "   'nações',\n",
       "   'mais',\n",
       "   'multiculturais',\n",
       "   'e',\n",
       "   'etnicamente',\n",
       "   'em',\n",
       "   'decorrência',\n",
       "   'da',\n",
       "   'forte',\n",
       "   'imigração',\n",
       "   'oriunda',\n",
       "   'de',\n",
       "   'variados',\n",
       "   'locais',\n",
       "   'do']]}"
      ]
     },
     "execution_count": 10,
     "metadata": {},
     "output_type": "execute_result"
    }
   ],
   "source": [
    "obter_info_texto(texto)"
   ]
  },
  {
   "cell_type": "code",
   "execution_count": null,
   "metadata": {
    "collapsed": true
   },
   "outputs": [],
   "source": []
  }
 ],
 "metadata": {
  "kernelspec": {
   "display_name": "Python 3",
   "language": "python",
   "name": "python3"
  },
  "language_info": {
   "codemirror_mode": {
    "name": "ipython",
    "version": 3
   },
   "file_extension": ".py",
   "mimetype": "text/x-python",
   "name": "python",
   "nbconvert_exporter": "python",
   "pygments_lexer": "ipython3",
   "version": "3.6.2"
  }
 },
 "nbformat": 4,
 "nbformat_minor": 2
}
